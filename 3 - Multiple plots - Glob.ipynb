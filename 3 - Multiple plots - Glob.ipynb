{
 "cells": [
  {
   "cell_type": "markdown",
   "metadata": {},
   "source": [
    "## Python Glob\n",
    "\n",
    "See https://docs.python.org/2/library/glob.html\n"
   ]
  },
  {
   "cell_type": "code",
   "execution_count": 1,
   "metadata": {},
   "outputs": [
    {
     "name": "stdout",
     "output_type": "stream",
     "text": [
      "f1.txt\tf2.txt\tf3.txt\tf4.txt\tf5.txt\tf6.txt\tf7.txt\tf8.txt\tf9.txt\r\n"
     ]
    }
   ],
   "source": [
    "!ls Data/Glob"
   ]
  },
  {
   "cell_type": "code",
   "execution_count": 2,
   "metadata": {},
   "outputs": [
    {
     "data": {
      "text/plain": [
       "['Data/Glob/f7.txt',\n",
       " 'Data/Glob/f9.txt',\n",
       " 'Data/Glob/f8.txt',\n",
       " 'Data/Glob/f1.txt',\n",
       " 'Data/Glob/f6.txt',\n",
       " 'Data/Glob/f5.txt',\n",
       " 'Data/Glob/f2.txt',\n",
       " 'Data/Glob/f3.txt',\n",
       " 'Data/Glob/f4.txt']"
      ]
     },
     "execution_count": 2,
     "metadata": {},
     "output_type": "execute_result"
    }
   ],
   "source": [
    "import glob\n",
    "glob.glob('Data/Glob/*.txt')"
   ]
  },
  {
   "cell_type": "code",
   "execution_count": 3,
   "metadata": {},
   "outputs": [
    {
     "data": {
      "text/plain": [
       "['Data/Glob/f7.txt',\n",
       " 'Data/Glob/f9.txt',\n",
       " 'Data/Glob/f8.txt',\n",
       " 'Data/Glob/f1.txt',\n",
       " 'Data/Glob/f6.txt',\n",
       " 'Data/Glob/f5.txt',\n",
       " 'Data/Glob/f2.txt',\n",
       " 'Data/Glob/f3.txt',\n",
       " 'Data/Glob/f4.txt']"
      ]
     },
     "execution_count": 3,
     "metadata": {},
     "output_type": "execute_result"
    }
   ],
   "source": [
    "file_list = glob.glob('Data/Glob/*.txt')\n",
    "file_list"
   ]
  },
  {
   "cell_type": "code",
   "execution_count": 5,
   "metadata": {},
   "outputs": [
    {
     "data": {
      "text/plain": [
       "['Data/Glob/f1.txt',\n",
       " 'Data/Glob/f2.txt',\n",
       " 'Data/Glob/f3.txt',\n",
       " 'Data/Glob/f4.txt',\n",
       " 'Data/Glob/f5.txt',\n",
       " 'Data/Glob/f6.txt',\n",
       " 'Data/Glob/f7.txt',\n",
       " 'Data/Glob/f8.txt',\n",
       " 'Data/Glob/f9.txt']"
      ]
     },
     "execution_count": 5,
     "metadata": {},
     "output_type": "execute_result"
    }
   ],
   "source": [
    "# Sorting\n",
    "file_list = sorted(file_list)\n",
    "file_list"
   ]
  },
  {
   "cell_type": "code",
   "execution_count": 8,
   "metadata": {},
   "outputs": [
    {
     "data": {
      "text/plain": [
       "['Data/',\n",
       " 'Data/Glob',\n",
       " 'Data/Glob/f7.txt',\n",
       " 'Data/Glob/f9.txt',\n",
       " 'Data/Glob/f8.txt',\n",
       " 'Data/Glob/f1.txt',\n",
       " 'Data/Glob/f6.txt',\n",
       " 'Data/Glob/f5.txt',\n",
       " 'Data/Glob/f2.txt',\n",
       " 'Data/Glob/f3.txt',\n",
       " 'Data/Glob/f4.txt',\n",
       " 'Data/static',\n",
       " 'Data/static/jupyter_notebooks',\n",
       " 'Data/static/jupyter_notebooks/jupyter_dashboard.png',\n",
       " 'Data/static/jupyter_notebooks/command_mode.png',\n",
       " 'Data/static/jupyter_notebooks/presentation_of_notebook.png',\n",
       " 'Data/static/jupyter_notebooks/edit_mode.png',\n",
       " 'Data/static/jupyter_notebooks/help_user_interface.gif',\n",
       " 'Data/static/introduction',\n",
       " 'Data/static/introduction/python_growing_curve.png',\n",
       " 'Data/Fitting',\n",
       " 'Data/Fitting/HB1_exp0762_scan0072.dat']"
      ]
     },
     "execution_count": 8,
     "metadata": {},
     "output_type": "execute_result"
    }
   ],
   "source": [
    "# recursion\n",
    "file_list = glob.glob('Data/**', recursive=True)\n",
    "file_list"
   ]
  },
  {
   "cell_type": "markdown",
   "metadata": {},
   "source": [
    "## For Loop"
   ]
  },
  {
   "cell_type": "code",
   "execution_count": 10,
   "metadata": {},
   "outputs": [
    {
     "name": "stdout",
     "output_type": "stream",
     "text": [
      "Data/Glob/f7.txt\n",
      "Data/Glob/f9.txt\n",
      "Data/Glob/f8.txt\n",
      "Data/Glob/f1.txt\n",
      "Data/Glob/f6.txt\n",
      "Data/Glob/f5.txt\n",
      "Data/Glob/f2.txt\n",
      "Data/Glob/f3.txt\n",
      "Data/Glob/f4.txt\n"
     ]
    }
   ],
   "source": [
    "file_list = glob.glob('Data/Glob/*.txt')\n",
    "for file in file_list:\n",
    "    print(file)"
   ]
  },
  {
   "cell_type": "code",
   "execution_count": 12,
   "metadata": {},
   "outputs": [
    {
     "name": "stdout",
     "output_type": "stream",
     "text": [
      "0 Data/Glob/f7.txt\n",
      "1 Data/Glob/f9.txt\n",
      "2 Data/Glob/f8.txt\n",
      "3 Data/Glob/f1.txt\n",
      "4 Data/Glob/f6.txt\n",
      "5 Data/Glob/f5.txt\n",
      "6 Data/Glob/f2.txt\n",
      "7 Data/Glob/f3.txt\n",
      "8 Data/Glob/f4.txt\n"
     ]
    }
   ],
   "source": [
    "for i, file in enumerate(file_list):\n",
    "    print(i, file)"
   ]
  },
  {
   "cell_type": "code",
   "execution_count": 13,
   "metadata": {},
   "outputs": [
    {
     "name": "stdout",
     "output_type": "stream",
     "text": [
      "0 Data/Glob/f7.txt\n",
      "1 Data/Glob/f9.txt\n",
      "2 Data/Glob/f8.txt\n",
      "3 Data/Glob/f1.txt\n",
      "4 Data/Glob/f6.txt\n",
      "5 Data/Glob/f5.txt\n",
      "6 Data/Glob/f2.txt\n",
      "7 Data/Glob/f3.txt\n",
      "8 Data/Glob/f4.txt\n"
     ]
    }
   ],
   "source": [
    "N = len(file_list)\n",
    "for i in range(N):\n",
    "    print(i, file_list[i])"
   ]
  },
  {
   "cell_type": "code",
   "execution_count": 14,
   "metadata": {},
   "outputs": [
    {
     "name": "stdout",
     "output_type": "stream",
     "text": [
      "0 Data/Glob/f7.txt\n",
      "1 Data/Glob/f9.txt\n",
      "2 Data/Glob/f8.txt\n",
      "3 Data/Glob/f1.txt\n",
      "4 Data/Glob/f6.txt\n",
      "5 Data/Glob/f5.txt\n",
      "6 Data/Glob/f2.txt\n",
      "7 Data/Glob/f3.txt\n",
      "8 Data/Glob/f4.txt\n"
     ]
    }
   ],
   "source": [
    "N = len(file_list)\n",
    "for i, file in zip(range(N), file_list):\n",
    "    print(i, file)"
   ]
  },
  {
   "cell_type": "markdown",
   "metadata": {},
   "source": [
    "### while loop"
   ]
  },
  {
   "cell_type": "code",
   "execution_count": 16,
   "metadata": {},
   "outputs": [
    {
     "name": "stdout",
     "output_type": "stream",
     "text": [
      "0 Data/Glob/f7.txt\n",
      "1 Data/Glob/f9.txt\n",
      "2 Data/Glob/f8.txt\n",
      "3 Data/Glob/f1.txt\n",
      "4 Data/Glob/f6.txt\n",
      "5 Data/Glob/f5.txt\n",
      "6 Data/Glob/f2.txt\n",
      "7 Data/Glob/f3.txt\n",
      "8 Data/Glob/f4.txt\n"
     ]
    }
   ],
   "source": [
    "N = len(file_list)\n",
    "i = 0\n",
    "while i<N:\n",
    "    print(i, file_list[i])\n",
    "    i+=1"
   ]
  },
  {
   "cell_type": "markdown",
   "metadata": {},
   "source": [
    "### list comprehension"
   ]
  },
  {
   "cell_type": "code",
   "execution_count": 21,
   "metadata": {},
   "outputs": [
    {
     "name": "stdout",
     "output_type": "stream",
     "text": [
      "[0, 1, 2, 3, 4, 5, 6, 7, 8, 9]\n"
     ]
    }
   ],
   "source": [
    "l = list(range(10))\n",
    "print (l)"
   ]
  },
  {
   "cell_type": "code",
   "execution_count": 22,
   "metadata": {},
   "outputs": [
    {
     "data": {
      "text/plain": [
       "[0, 1, 8, 27, 64, 125, 216, 343, 512, 729]"
      ]
     },
     "execution_count": 22,
     "metadata": {},
     "output_type": "execute_result"
    }
   ],
   "source": [
    "[x**3 for x in l]"
   ]
  },
  {
   "cell_type": "code",
   "execution_count": 23,
   "metadata": {},
   "outputs": [
    {
     "data": {
      "text/plain": [
       "[0, 4, 16, 36, 64]"
      ]
     },
     "execution_count": 23,
     "metadata": {},
     "output_type": "execute_result"
    }
   ],
   "source": [
    "[x**2 for x in l if x%2==0]"
   ]
  },
  {
   "cell_type": "code",
   "execution_count": 25,
   "metadata": {},
   "outputs": [
    {
     "name": "stdout",
     "output_type": "stream",
     "text": [
      "[2, 3, 5, 7, 11, 13, 17, 19, 23, 29, 31, 37, 41, 43, 47]\n"
     ]
    }
   ],
   "source": [
    "noprimes = [j for i in range(2, 8) for j in range(i*2, 50, i)]\n",
    "primes = [x for x in range(2, 50) if x not in noprimes]\n",
    "print (primes)"
   ]
  },
  {
   "cell_type": "code",
   "execution_count": 27,
   "metadata": {},
   "outputs": [
    {
     "data": {
      "text/plain": [
       "[['THE', 'the', 3],\n",
       " ['QUICK', 'quick', 5],\n",
       " ['BROWN', 'brown', 5],\n",
       " ['FOX', 'fox', 3],\n",
       " ['JUMPS', 'jumps', 5],\n",
       " ['OVER', 'over', 4],\n",
       " ['THE', 'the', 3],\n",
       " ['LAZY', 'lazy', 4],\n",
       " ['DOG', 'dog', 3]]"
      ]
     },
     "execution_count": 27,
     "metadata": {},
     "output_type": "execute_result"
    }
   ],
   "source": [
    "words = 'The quick brown fox jumps over the lazy dog'.split()\n",
    "[[w.upper(), w.lower(), len(w)] for w in words]"
   ]
  },
  {
   "cell_type": "markdown",
   "metadata": {},
   "source": [
    "## Python path"
   ]
  },
  {
   "cell_type": "code",
   "execution_count": 7,
   "metadata": {},
   "outputs": [
    {
     "name": "stdout",
     "output_type": "stream",
     "text": [
      "Absolute Path: /home/rhf/git/IPythonNotebookTutorial/Data/Glob/f1.txt\n",
      "Base Name:     f1.txt\n",
      "Absolute Path: /home/rhf/git/IPythonNotebookTutorial/Data/Glob/f2.txt\n",
      "Base Name:     f2.txt\n",
      "Absolute Path: /home/rhf/git/IPythonNotebookTutorial/Data/Glob/f3.txt\n",
      "Base Name:     f3.txt\n",
      "Absolute Path: /home/rhf/git/IPythonNotebookTutorial/Data/Glob/f4.txt\n",
      "Base Name:     f4.txt\n",
      "Absolute Path: /home/rhf/git/IPythonNotebookTutorial/Data/Glob/f5.txt\n",
      "Base Name:     f5.txt\n",
      "Absolute Path: /home/rhf/git/IPythonNotebookTutorial/Data/Glob/f6.txt\n",
      "Base Name:     f6.txt\n",
      "Absolute Path: /home/rhf/git/IPythonNotebookTutorial/Data/Glob/f7.txt\n",
      "Base Name:     f7.txt\n",
      "Absolute Path: /home/rhf/git/IPythonNotebookTutorial/Data/Glob/f8.txt\n",
      "Base Name:     f8.txt\n",
      "Absolute Path: /home/rhf/git/IPythonNotebookTutorial/Data/Glob/f9.txt\n",
      "Base Name:     f9.txt\n"
     ]
    }
   ],
   "source": [
    "import os.path\n",
    "\n",
    "for file in file_list:\n",
    "    print(\"Absolute Path: {}\".format(os.path.abspath(file)))\n",
    "    print(\"Base Name:     {}\".format(os.path.basename(file)))\n",
    "    "
   ]
  },
  {
   "cell_type": "markdown",
   "metadata": {},
   "source": [
    "# Plotting"
   ]
  },
  {
   "cell_type": "code",
   "execution_count": 11,
   "metadata": {
    "collapsed": true
   },
   "outputs": [],
   "source": [
    "%matplotlib inline\n",
    "import matplotlib.pyplot as plt\n",
    "plt.rcParams[\"figure.figsize\"] = (12,8)"
   ]
  },
  {
   "cell_type": "markdown",
   "metadata": {},
   "source": [
    "# All together"
   ]
  },
  {
   "cell_type": "code",
   "execution_count": 12,
   "metadata": {},
   "outputs": [
    {
     "data": {
      "text/plain": [
       "<matplotlib.legend.Legend at 0x7fd41bca7048>"
      ]
     },
     "execution_count": 12,
     "metadata": {},
     "output_type": "execute_result"
    },
    {
     "data": {
      "image/png": "[encoded data removed]",
      "text/plain": [
       "<matplotlib.figure.Figure at 0x7fd41be65fd0>"
      ]
     },
     "metadata": {},
     "output_type": "display_data"
    }
   ],
   "source": [
    "import numpy as np\n",
    "\n",
    "file_list = glob.glob('Data/Glob/*.txt')\n",
    "for file in file_list:\n",
    "    data = np.genfromtxt(file, delimiter=\",\", skip_header=2, names='X,Y,E,DX')\n",
    "    plt.semilogy(data['X'], data['Y'], label=file)\n",
    "plt.legend()\n",
    "    "
   ]
  },
  {
   "cell_type": "code",
   "execution_count": null,
   "metadata": {
    "collapsed": true
   },
   "outputs": [],
   "source": []
  }
 ],
 "metadata": {
  "kernelspec": {
   "display_name": "Python 3",
   "language": "python",
   "name": "py3"
  },
  "language_info": {
   "codemirror_mode": {
    "name": "ipython",
    "version": 3
   },
   "file_extension": ".py",
   "mimetype": "text/x-python",
   "name": "python",
   "nbconvert_exporter": "python",
   "pygments_lexer": "ipython3",
   "version": "3.6.5"
  }
 },
 "nbformat": 4,
 "nbformat_minor": 2
}
