{
 "cells": [
  {
   "cell_type": "code",
   "execution_count": 1,
   "id": "fa43bc12",
   "metadata": {},
   "outputs": [],
   "source": [
    "import numpy as np"
   ]
  },
  {
   "cell_type": "code",
   "execution_count": 2,
   "id": "69fc5657",
   "metadata": {},
   "outputs": [],
   "source": [
    "import matplotlib.pyplot as plt"
   ]
  },
  {
   "cell_type": "markdown",
   "id": "48044e31",
   "metadata": {},
   "source": [
    "Create a vector of 200 random integers between 1 and 100 and call it v1\n"
   ]
  },
  {
   "cell_type": "code",
   "execution_count": null,
   "id": "587d0757",
   "metadata": {},
   "outputs": [],
   "source": []
  },
  {
   "cell_type": "markdown",
   "id": "2059e50f",
   "metadata": {},
   "source": [
    "Display the vector"
   ]
  },
  {
   "cell_type": "code",
   "execution_count": null,
   "id": "fccb5759",
   "metadata": {},
   "outputs": [],
   "source": []
  },
  {
   "cell_type": "markdown",
   "id": "1f0b02c8",
   "metadata": {},
   "source": [
    "Pick out the first 10 values"
   ]
  },
  {
   "cell_type": "code",
   "execution_count": null,
   "id": "b4c28e70",
   "metadata": {},
   "outputs": [],
   "source": []
  },
  {
   "cell_type": "markdown",
   "id": "f349116f",
   "metadata": {},
   "source": [
    "Pick out the last value"
   ]
  },
  {
   "cell_type": "code",
   "execution_count": null,
   "id": "badc0940",
   "metadata": {},
   "outputs": [],
   "source": []
  },
  {
   "cell_type": "markdown",
   "id": "dd9c61c0",
   "metadata": {},
   "source": [
    "Pickout the last 10 values"
   ]
  },
  {
   "cell_type": "code",
   "execution_count": null,
   "id": "0a503f77",
   "metadata": {},
   "outputs": [],
   "source": []
  },
  {
   "cell_type": "markdown",
   "id": "1f7619d8",
   "metadata": {},
   "source": [
    "Pickout every 3rd value"
   ]
  },
  {
   "cell_type": "code",
   "execution_count": null,
   "id": "868590e1",
   "metadata": {},
   "outputs": [],
   "source": []
  },
  {
   "cell_type": "markdown",
   "id": "7821a1b8",
   "metadata": {},
   "source": [
    "generate an array of the frist 10 fibronaaci sequecne numbers"
   ]
  },
  {
   "cell_type": "code",
   "execution_count": null,
   "id": "e0b8c260",
   "metadata": {},
   "outputs": [],
   "source": []
  },
  {
   "cell_type": "code",
   "execution_count": null,
   "id": "5c48136d",
   "metadata": {},
   "outputs": [],
   "source": []
  },
  {
   "cell_type": "code",
   "execution_count": null,
   "id": "0252cb72",
   "metadata": {},
   "outputs": [],
   "source": []
  },
  {
   "cell_type": "markdown",
   "id": "5b47a01a",
   "metadata": {},
   "source": [
    "Use that sequnece to index the array v1"
   ]
  },
  {
   "cell_type": "code",
   "execution_count": null,
   "id": "963fec01",
   "metadata": {},
   "outputs": [],
   "source": []
  },
  {
   "cell_type": "markdown",
   "id": "9a59e4fa",
   "metadata": {},
   "source": [
    "generate an array of values for v1 that is less than 20"
   ]
  },
  {
   "cell_type": "code",
   "execution_count": null,
   "id": "7c5f0da7",
   "metadata": {},
   "outputs": [],
   "source": []
  },
  {
   "cell_type": "markdown",
   "id": "a678b645",
   "metadata": {},
   "source": [
    "generate a boolean array the same length as v1 where each value in the array is true if v1<20 and false if it is not call it vb"
   ]
  },
  {
   "cell_type": "code",
   "execution_count": null,
   "id": "2311780f",
   "metadata": {},
   "outputs": [],
   "source": []
  },
  {
   "cell_type": "code",
   "execution_count": null,
   "id": "015b2730",
   "metadata": {},
   "outputs": [],
   "source": []
  },
  {
   "cell_type": "markdown",
   "id": "da3cda32",
   "metadata": {},
   "source": [
    "count how many values are true"
   ]
  },
  {
   "cell_type": "code",
   "execution_count": null,
   "id": "993255cf",
   "metadata": {},
   "outputs": [],
   "source": []
  },
  {
   "cell_type": "markdown",
   "id": "331ad683",
   "metadata": {},
   "source": [
    "generate a boolean array the same length as vq where each value is true if v1>10 call it vb2"
   ]
  },
  {
   "cell_type": "code",
   "execution_count": null,
   "id": "ceb06ae9",
   "metadata": {},
   "outputs": [],
   "source": []
  },
  {
   "cell_type": "code",
   "execution_count": null,
   "id": "f2e063ea",
   "metadata": {},
   "outputs": [],
   "source": []
  },
  {
   "cell_type": "markdown",
   "id": "f13e4349",
   "metadata": {},
   "source": [
    "generate an array that ands each array value by value"
   ]
  },
  {
   "cell_type": "code",
   "execution_count": null,
   "id": "ec582996",
   "metadata": {},
   "outputs": [],
   "source": []
  },
  {
   "cell_type": "markdown",
   "id": "593c44ba",
   "metadata": {},
   "source": [
    "generate an array that is the values of v1 acccording to that array"
   ]
  },
  {
   "cell_type": "code",
   "execution_count": null,
   "id": "b92a7a48",
   "metadata": {},
   "outputs": [],
   "source": []
  },
  {
   "cell_type": "markdown",
   "id": "e6a68c8b",
   "metadata": {},
   "source": [
    "generate an array the same length of v1 that would be its index"
   ]
  },
  {
   "cell_type": "code",
   "execution_count": null,
   "id": "36d28be7",
   "metadata": {},
   "outputs": [],
   "source": []
  },
  {
   "cell_type": "code",
   "execution_count": null,
   "id": "4929c051",
   "metadata": {},
   "outputs": [],
   "source": []
  },
  {
   "cell_type": "markdown",
   "id": "33f6b289",
   "metadata": {},
   "source": [
    "find the index where vb&vb2 are true in v1"
   ]
  },
  {
   "cell_type": "code",
   "execution_count": null,
   "id": "aca9b4dd",
   "metadata": {},
   "outputs": [],
   "source": []
  },
  {
   "cell_type": "code",
   "execution_count": null,
   "id": "3eff1498",
   "metadata": {},
   "outputs": [],
   "source": []
  }
 ],
 "metadata": {
  "kernelspec": {
   "display_name": "Python 3 (ipykernel)",
   "language": "python",
   "name": "python3"
  },
  "language_info": {
   "codemirror_mode": {
    "name": "ipython",
    "version": 3
   },
   "file_extension": ".py",
   "mimetype": "text/x-python",
   "name": "python",
   "nbconvert_exporter": "python",
   "pygments_lexer": "ipython3",
   "version": "3.8.5"
  }
 },
 "nbformat": 4,
 "nbformat_minor": 5
}
