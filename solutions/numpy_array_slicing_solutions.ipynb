{
 "cells": [
  {
   "cell_type": "code",
   "execution_count": 1,
   "id": "786a36b8",
   "metadata": {},
   "outputs": [],
   "source": [
    "import numpy as np"
   ]
  },
  {
   "cell_type": "code",
   "execution_count": 2,
   "id": "4b7d3482",
   "metadata": {},
   "outputs": [],
   "source": [
    "import matplotlib.pyplot as plt"
   ]
  },
  {
   "cell_type": "markdown",
   "id": "dfdedb90",
   "metadata": {},
   "source": [
    "Create a vector of 200 random integers between 1 and 100\n"
   ]
  },
  {
   "cell_type": "code",
   "execution_count": 3,
   "id": "846d9027",
   "metadata": {},
   "outputs": [],
   "source": [
    "v1=np.random.randint(1,100,200)"
   ]
  },
  {
   "cell_type": "markdown",
   "id": "8ce88b04",
   "metadata": {},
   "source": [
    "Display the vector"
   ]
  },
  {
   "cell_type": "code",
   "execution_count": 4,
   "id": "a8300090",
   "metadata": {},
   "outputs": [
    {
     "data": {
      "text/plain": [
       "array([22, 25, 61, 52, 35, 48, 70, 41, 69,  8, 75, 19, 59, 27, 67, 69, 99,\n",
       "       12, 52, 46, 22, 31, 43, 82, 22, 90, 97, 14, 56, 90, 13, 56, 65, 66,\n",
       "       96,  3,  5, 58, 70, 42, 51, 88, 75, 75, 75, 56, 55, 28, 73, 53, 47,\n",
       "       14, 16, 78, 70, 91, 12, 93, 82, 46, 46, 35,  5, 18, 93,  3, 37, 99,\n",
       "       58, 33, 56,  1, 78, 69, 82, 95, 21, 87, 86, 37, 20, 62, 84, 75, 24,\n",
       "       97, 54, 15,  1, 57,  1, 13, 45, 47, 70, 77, 50, 35,  3, 74, 86, 51,\n",
       "       91, 63, 92, 21, 82, 63, 54,  8, 96, 95, 94, 16, 37, 95, 17, 96, 85,\n",
       "       92, 45, 27, 94, 64, 62,  3, 10, 27, 84, 44, 52, 93, 70, 45, 53, 84,\n",
       "       40, 14, 32, 36, 81, 14, 44, 10, 97, 73, 89, 19, 66, 35, 34, 67, 10,\n",
       "       27,  5, 16, 44, 33,  7, 56, 48, 46,  3, 63, 79, 49, 40, 57,  9, 64,\n",
       "        5, 31, 16, 82, 67, 84, 13, 75, 34, 81, 55,  3, 68,  5, 27, 12, 54,\n",
       "       20, 85, 67, 28, 65, 48, 99, 53, 14, 42, 16, 98, 35])"
      ]
     },
     "execution_count": 4,
     "metadata": {},
     "output_type": "execute_result"
    }
   ],
   "source": [
    "v1"
   ]
  },
  {
   "cell_type": "markdown",
   "id": "daf90cd0",
   "metadata": {},
   "source": [
    "Pick out the first 10 values"
   ]
  },
  {
   "cell_type": "code",
   "execution_count": 5,
   "id": "bbaff52e",
   "metadata": {},
   "outputs": [
    {
     "data": {
      "text/plain": [
       "array([22, 25, 61, 52, 35, 48, 70, 41, 69,  8])"
      ]
     },
     "execution_count": 5,
     "metadata": {},
     "output_type": "execute_result"
    }
   ],
   "source": [
    "v1[:10]"
   ]
  },
  {
   "cell_type": "markdown",
   "id": "1f74f285",
   "metadata": {},
   "source": [
    "Pick out the last value"
   ]
  },
  {
   "cell_type": "code",
   "execution_count": 6,
   "id": "dcf31bef",
   "metadata": {},
   "outputs": [
    {
     "data": {
      "text/plain": [
       "35"
      ]
     },
     "execution_count": 6,
     "metadata": {},
     "output_type": "execute_result"
    }
   ],
   "source": [
    "v1[-1]"
   ]
  },
  {
   "cell_type": "markdown",
   "id": "a2ac297c",
   "metadata": {},
   "source": [
    "Pickout the last 10 values"
   ]
  },
  {
   "cell_type": "code",
   "execution_count": 7,
   "id": "e468ad0d",
   "metadata": {},
   "outputs": [
    {
     "data": {
      "text/plain": [
       "array([28, 65, 48, 99, 53, 14, 42, 16, 98, 35])"
      ]
     },
     "execution_count": 7,
     "metadata": {},
     "output_type": "execute_result"
    }
   ],
   "source": [
    "v1[-10:]"
   ]
  },
  {
   "cell_type": "markdown",
   "id": "43fe7506",
   "metadata": {},
   "source": [
    "Pickout every 3rd value"
   ]
  },
  {
   "cell_type": "code",
   "execution_count": 8,
   "id": "4eb2b540",
   "metadata": {},
   "outputs": [
    {
     "data": {
      "text/plain": [
       "array([22, 52, 70,  8, 59, 69, 52, 31, 22, 14, 13, 66,  5, 42, 75, 56, 73,\n",
       "       14, 70, 93, 46, 18, 37, 33, 78, 95, 86, 62, 24, 15,  1, 47, 50, 74,\n",
       "       91, 21, 54, 95, 37, 96, 45, 64, 10, 44, 70, 84, 32, 14, 97, 19, 34,\n",
       "       27, 44, 56,  3, 49,  9, 31, 67, 75, 55,  5, 54, 67, 48, 14, 98])"
      ]
     },
     "execution_count": 8,
     "metadata": {},
     "output_type": "execute_result"
    }
   ],
   "source": [
    "v1[::3]"
   ]
  },
  {
   "cell_type": "markdown",
   "id": "f30c0b72",
   "metadata": {},
   "source": [
    "generate an array of the frist 10 fibronaaci sequecne numbers"
   ]
  },
  {
   "cell_type": "code",
   "execution_count": 9,
   "id": "37eb5c74",
   "metadata": {},
   "outputs": [],
   "source": [
    "vf=np.zeros(10,dtype=np.int64)"
   ]
  },
  {
   "cell_type": "code",
   "execution_count": 10,
   "id": "42b5f25a",
   "metadata": {},
   "outputs": [],
   "source": [
    "vf[0:2]=[1,2]\n",
    "for idx in range(2,10):\n",
    "    vf[idx]=vf[idx-2]+vf[idx-1]"
   ]
  },
  {
   "cell_type": "code",
   "execution_count": 11,
   "id": "9e08aa52",
   "metadata": {},
   "outputs": [
    {
     "data": {
      "text/plain": [
       "array([ 1,  2,  3,  5,  8, 13, 21, 34, 55, 89])"
      ]
     },
     "execution_count": 11,
     "metadata": {},
     "output_type": "execute_result"
    }
   ],
   "source": [
    "vf"
   ]
  },
  {
   "cell_type": "markdown",
   "id": "b85467c5",
   "metadata": {},
   "source": [
    "Use that sequnece to index the array v1"
   ]
  },
  {
   "cell_type": "code",
   "execution_count": 12,
   "id": "d97e36c0",
   "metadata": {},
   "outputs": [
    {
     "data": {
      "text/plain": [
       "array([25, 61, 52, 48, 69, 27, 31, 96, 91, 57])"
      ]
     },
     "execution_count": 12,
     "metadata": {},
     "output_type": "execute_result"
    }
   ],
   "source": [
    "v1[vf]"
   ]
  },
  {
   "cell_type": "markdown",
   "id": "aa4cf95a",
   "metadata": {},
   "source": [
    "generate an array of values for v1 that is less than 20"
   ]
  },
  {
   "cell_type": "code",
   "execution_count": 13,
   "id": "8d131d79",
   "metadata": {},
   "outputs": [
    {
     "data": {
      "text/plain": [
       "array([ 8, 19, 12, 14, 13,  3,  5, 14, 16, 12,  5, 18,  3,  1, 15,  1,  1,\n",
       "       13,  3,  8, 16, 17,  3, 10, 14, 14, 10, 19, 10,  5, 16,  7,  3,  9,\n",
       "        5, 16, 13,  3,  5, 12, 14, 16])"
      ]
     },
     "execution_count": 13,
     "metadata": {},
     "output_type": "execute_result"
    }
   ],
   "source": [
    "v1[v1<20]"
   ]
  },
  {
   "cell_type": "markdown",
   "id": "5312d0e0",
   "metadata": {},
   "source": [
    "generate a boolean array the same length as v1 where each value in the array is true if v1<20 and false if it is not"
   ]
  },
  {
   "cell_type": "code",
   "execution_count": 14,
   "id": "2bbf0f46",
   "metadata": {},
   "outputs": [],
   "source": [
    "vb = v1<20"
   ]
  },
  {
   "cell_type": "code",
   "execution_count": 15,
   "id": "30bd4782",
   "metadata": {},
   "outputs": [
    {
     "data": {
      "text/plain": [
       "array([False, False, False, False, False, False, False, False, False,\n",
       "        True, False,  True, False, False, False, False, False,  True,\n",
       "       False, False, False, False, False, False, False, False, False,\n",
       "        True, False, False,  True, False, False, False, False,  True,\n",
       "        True, False, False, False, False, False, False, False, False,\n",
       "       False, False, False, False, False, False,  True,  True, False,\n",
       "       False, False,  True, False, False, False, False, False,  True,\n",
       "        True, False,  True, False, False, False, False, False,  True,\n",
       "       False, False, False, False, False, False, False, False, False,\n",
       "       False, False, False, False, False, False,  True,  True, False,\n",
       "        True,  True, False, False, False, False, False, False,  True,\n",
       "       False, False, False, False, False, False, False, False, False,\n",
       "       False,  True, False, False, False,  True, False, False,  True,\n",
       "       False, False, False, False, False, False, False, False,  True,\n",
       "        True, False, False, False, False, False, False, False, False,\n",
       "       False, False,  True, False, False, False,  True, False,  True,\n",
       "       False, False, False,  True, False, False, False, False,  True,\n",
       "       False,  True,  True, False, False,  True, False, False, False,\n",
       "        True, False, False, False, False, False,  True, False,  True,\n",
       "       False,  True, False, False, False,  True, False, False, False,\n",
       "       False,  True, False,  True, False,  True, False, False, False,\n",
       "       False, False, False, False, False, False,  True, False,  True,\n",
       "       False, False])"
      ]
     },
     "execution_count": 15,
     "metadata": {},
     "output_type": "execute_result"
    }
   ],
   "source": [
    "vb"
   ]
  },
  {
   "cell_type": "markdown",
   "id": "c1658603",
   "metadata": {},
   "source": [
    "count how many values are true"
   ]
  },
  {
   "cell_type": "code",
   "execution_count": 16,
   "id": "1510f8b5",
   "metadata": {},
   "outputs": [
    {
     "data": {
      "text/plain": [
       "42"
      ]
     },
     "execution_count": 16,
     "metadata": {},
     "output_type": "execute_result"
    }
   ],
   "source": [
    "vb.sum()"
   ]
  },
  {
   "cell_type": "markdown",
   "id": "6bb81d86",
   "metadata": {},
   "source": [
    "generate a boolean array the same length as vq where each value is true if v1>10"
   ]
  },
  {
   "cell_type": "code",
   "execution_count": 17,
   "id": "66021d3d",
   "metadata": {},
   "outputs": [],
   "source": [
    "vb2 = v1>10"
   ]
  },
  {
   "cell_type": "code",
   "execution_count": 18,
   "id": "31e3a448",
   "metadata": {},
   "outputs": [
    {
     "data": {
      "text/plain": [
       "array([ True,  True,  True,  True,  True,  True,  True,  True,  True,\n",
       "       False,  True,  True,  True,  True,  True,  True,  True,  True,\n",
       "        True,  True,  True,  True,  True,  True,  True,  True,  True,\n",
       "        True,  True,  True,  True,  True,  True,  True,  True, False,\n",
       "       False,  True,  True,  True,  True,  True,  True,  True,  True,\n",
       "        True,  True,  True,  True,  True,  True,  True,  True,  True,\n",
       "        True,  True,  True,  True,  True,  True,  True,  True, False,\n",
       "        True,  True, False,  True,  True,  True,  True,  True, False,\n",
       "        True,  True,  True,  True,  True,  True,  True,  True,  True,\n",
       "        True,  True,  True,  True,  True,  True,  True, False,  True,\n",
       "       False,  True,  True,  True,  True,  True,  True,  True, False,\n",
       "        True,  True,  True,  True,  True,  True,  True,  True,  True,\n",
       "        True, False,  True,  True,  True,  True,  True,  True,  True,\n",
       "        True,  True,  True,  True,  True,  True,  True,  True, False,\n",
       "       False,  True,  True,  True,  True,  True,  True,  True,  True,\n",
       "        True,  True,  True,  True,  True,  True,  True,  True, False,\n",
       "        True,  True,  True,  True,  True,  True,  True,  True, False,\n",
       "        True, False,  True,  True,  True, False,  True,  True,  True,\n",
       "       False,  True,  True,  True,  True,  True, False,  True, False,\n",
       "        True,  True,  True,  True,  True,  True,  True,  True,  True,\n",
       "        True, False,  True, False,  True,  True,  True,  True,  True,\n",
       "        True,  True,  True,  True,  True,  True,  True,  True,  True,\n",
       "        True,  True])"
      ]
     },
     "execution_count": 18,
     "metadata": {},
     "output_type": "execute_result"
    }
   ],
   "source": [
    "vb2"
   ]
  },
  {
   "cell_type": "markdown",
   "id": "4f35178b",
   "metadata": {},
   "source": [
    "generate an array that ands each array value by value"
   ]
  },
  {
   "cell_type": "code",
   "execution_count": 19,
   "id": "eea6783e",
   "metadata": {},
   "outputs": [
    {
     "data": {
      "text/plain": [
       "array([False, False, False, False, False, False, False, False, False,\n",
       "       False, False,  True, False, False, False, False, False,  True,\n",
       "       False, False, False, False, False, False, False, False, False,\n",
       "        True, False, False,  True, False, False, False, False, False,\n",
       "       False, False, False, False, False, False, False, False, False,\n",
       "       False, False, False, False, False, False,  True,  True, False,\n",
       "       False, False,  True, False, False, False, False, False, False,\n",
       "        True, False, False, False, False, False, False, False, False,\n",
       "       False, False, False, False, False, False, False, False, False,\n",
       "       False, False, False, False, False, False,  True, False, False,\n",
       "       False,  True, False, False, False, False, False, False, False,\n",
       "       False, False, False, False, False, False, False, False, False,\n",
       "       False, False, False, False, False,  True, False, False,  True,\n",
       "       False, False, False, False, False, False, False, False, False,\n",
       "       False, False, False, False, False, False, False, False, False,\n",
       "       False, False,  True, False, False, False,  True, False, False,\n",
       "       False, False, False,  True, False, False, False, False, False,\n",
       "       False, False,  True, False, False, False, False, False, False,\n",
       "       False, False, False, False, False, False, False, False, False,\n",
       "       False,  True, False, False, False,  True, False, False, False,\n",
       "       False, False, False, False, False,  True, False, False, False,\n",
       "       False, False, False, False, False, False,  True, False,  True,\n",
       "       False, False])"
      ]
     },
     "execution_count": 19,
     "metadata": {},
     "output_type": "execute_result"
    }
   ],
   "source": [
    "vb &vb2"
   ]
  },
  {
   "cell_type": "markdown",
   "id": "bbe3cc08",
   "metadata": {},
   "source": [
    "generate an array that is the values of v1 acccording to that array"
   ]
  },
  {
   "cell_type": "code",
   "execution_count": 20,
   "id": "758c6cc2",
   "metadata": {},
   "outputs": [
    {
     "data": {
      "text/plain": [
       "array([19, 12, 14, 13, 14, 16, 12, 18, 15, 13, 16, 17, 14, 14, 19, 16, 16,\n",
       "       13, 12, 14, 16])"
      ]
     },
     "execution_count": 20,
     "metadata": {},
     "output_type": "execute_result"
    }
   ],
   "source": [
    "v1[vb&vb2]"
   ]
  },
  {
   "cell_type": "markdown",
   "id": "85944b5b",
   "metadata": {},
   "source": [
    "generate an array the same length of v1 that would be its index"
   ]
  },
  {
   "cell_type": "code",
   "execution_count": 21,
   "id": "97099299",
   "metadata": {},
   "outputs": [],
   "source": [
    "vi = np.arange(len(v1))"
   ]
  },
  {
   "cell_type": "code",
   "execution_count": 22,
   "id": "a0c2beac",
   "metadata": {},
   "outputs": [
    {
     "data": {
      "text/plain": [
       "array([  0,   1,   2,   3,   4,   5,   6,   7,   8,   9,  10,  11,  12,\n",
       "        13,  14,  15,  16,  17,  18,  19,  20,  21,  22,  23,  24,  25,\n",
       "        26,  27,  28,  29,  30,  31,  32,  33,  34,  35,  36,  37,  38,\n",
       "        39,  40,  41,  42,  43,  44,  45,  46,  47,  48,  49,  50,  51,\n",
       "        52,  53,  54,  55,  56,  57,  58,  59,  60,  61,  62,  63,  64,\n",
       "        65,  66,  67,  68,  69,  70,  71,  72,  73,  74,  75,  76,  77,\n",
       "        78,  79,  80,  81,  82,  83,  84,  85,  86,  87,  88,  89,  90,\n",
       "        91,  92,  93,  94,  95,  96,  97,  98,  99, 100, 101, 102, 103,\n",
       "       104, 105, 106, 107, 108, 109, 110, 111, 112, 113, 114, 115, 116,\n",
       "       117, 118, 119, 120, 121, 122, 123, 124, 125, 126, 127, 128, 129,\n",
       "       130, 131, 132, 133, 134, 135, 136, 137, 138, 139, 140, 141, 142,\n",
       "       143, 144, 145, 146, 147, 148, 149, 150, 151, 152, 153, 154, 155,\n",
       "       156, 157, 158, 159, 160, 161, 162, 163, 164, 165, 166, 167, 168,\n",
       "       169, 170, 171, 172, 173, 174, 175, 176, 177, 178, 179, 180, 181,\n",
       "       182, 183, 184, 185, 186, 187, 188, 189, 190, 191, 192, 193, 194,\n",
       "       195, 196, 197, 198, 199])"
      ]
     },
     "execution_count": 22,
     "metadata": {},
     "output_type": "execute_result"
    }
   ],
   "source": [
    "vi"
   ]
  },
  {
   "cell_type": "markdown",
   "id": "2b7b8b58",
   "metadata": {},
   "source": [
    "find the index where vb&v2 are true in v1"
   ]
  },
  {
   "cell_type": "code",
   "execution_count": 23,
   "id": "a9f9232a",
   "metadata": {},
   "outputs": [
    {
     "data": {
      "text/plain": [
       "array([ 11,  17,  27,  30,  51,  52,  56,  63,  87,  91, 113, 116, 137,\n",
       "       141, 147, 155, 172, 176, 185, 195, 197])"
      ]
     },
     "execution_count": 23,
     "metadata": {},
     "output_type": "execute_result"
    }
   ],
   "source": [
    "vi[vb&vb2]"
   ]
  },
  {
   "cell_type": "code",
   "execution_count": null,
   "id": "df0c44f6",
   "metadata": {},
   "outputs": [],
   "source": []
  }
 ],
 "metadata": {
  "kernelspec": {
   "display_name": "Python 3 (ipykernel)",
   "language": "python",
   "name": "python3"
  },
  "language_info": {
   "codemirror_mode": {
    "name": "ipython",
    "version": 3
   },
   "file_extension": ".py",
   "mimetype": "text/x-python",
   "name": "python",
   "nbconvert_exporter": "python",
   "pygments_lexer": "ipython3",
   "version": "3.8.5"
  }
 },
 "nbformat": 4,
 "nbformat_minor": 5
}
