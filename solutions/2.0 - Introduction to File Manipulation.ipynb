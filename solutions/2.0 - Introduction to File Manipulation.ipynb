{
 "cells": [
  {
   "cell_type": "markdown",
   "metadata": {},
   "source": [
    "# Introduction to OS and ASCII + XML File Manipulation\n",
    "\n",
    "- Operating system interaction: `os`\n",
    "- File manipulation: `os.path`\n",
    "- File Open / Close / Read"
   ]
  },
  {
   "cell_type": "markdown",
   "metadata": {},
   "source": [
    "## Linux shell commands"
   ]
  },
  {
   "cell_type": "markdown",
   "metadata": {},
   "source": [
    "- To call Linux shell commands from a Notebook one needs to prepend an exclamation point to the command\n",
    "- This is not python standard! Just Jupyter notebooks!\n",
    "- Note the scope of the operation is only cell wise!\n",
    "\n",
    "**NB**: This is only avaible in the notebooks, not in python scripts!"
   ]
  },
  {
   "cell_type": "code",
   "execution_count": 31,
   "metadata": {},
   "outputs": [
    {
     "name": "stdout",
     "output_type": "stream",
     "text": [
      "/SNS/users/rhf/git/IPythonNotebookTutorial/notebooks\r\n"
     ]
    }
   ],
   "source": [
    "# Current Directory\n",
    "!pwd"
   ]
  },
  {
   "cell_type": "code",
   "execution_count": 32,
   "metadata": {},
   "outputs": [],
   "source": [
    "# Let's change our directory\n",
    "!cd .."
   ]
  },
  {
   "cell_type": "code",
   "execution_count": 33,
   "metadata": {},
   "outputs": [
    {
     "name": "stdout",
     "output_type": "stream",
     "text": [
      "/SNS/users/rhf/git/IPythonNotebookTutorial/notebooks\r\n"
     ]
    }
   ],
   "source": [
    "# Current Directory\n",
    "!pwd"
   ]
  },
  {
   "cell_type": "markdown",
   "metadata": {},
   "source": [
    "Note that the scope of the Linux commands started by `!` is the **cell** and not the entire notebook!\n",
    "\n",
    "More about this in the `os` module,"
   ]
  },
  {
   "cell_type": "markdown",
   "metadata": {},
   "source": [
    "## Python `OS` module"
   ]
  },
  {
   "cell_type": "markdown",
   "metadata": {},
   "source": [
    "- In python files (scrpts) the `!` does not work.\n",
    "- Use the `os` module instead."
   ]
  },
  {
   "cell_type": "code",
   "execution_count": 34,
   "metadata": {},
   "outputs": [],
   "source": [
    "# import the module\n",
    "import os"
   ]
  },
  {
   "cell_type": "code",
   "execution_count": 35,
   "metadata": {},
   "outputs": [
    {
     "data": {
      "text/plain": [
       "'/SNS/users/rhf/git/IPythonNotebookTutorial/notebooks'"
      ]
     },
     "execution_count": 35,
     "metadata": {},
     "output_type": "execute_result"
    }
   ],
   "source": [
    "# Current Directory\n",
    "os.getcwd()"
   ]
  },
  {
   "cell_type": "code",
   "execution_count": 36,
   "metadata": {},
   "outputs": [],
   "source": [
    "# Let's change our directory\n",
    "os.chdir('..')"
   ]
  },
  {
   "cell_type": "markdown",
   "metadata": {},
   "source": [
    "- the scope of `os` it's not the cell but the notebook"
   ]
  },
  {
   "cell_type": "code",
   "execution_count": 37,
   "metadata": {},
   "outputs": [
    {
     "data": {
      "text/plain": [
       "'/SNS/users/rhf/git/IPythonNotebookTutorial'"
      ]
     },
     "execution_count": 37,
     "metadata": {},
     "output_type": "execute_result"
    }
   ],
   "source": [
    "# Current Directory\n",
    "os.getcwd()"
   ]
  },
  {
   "cell_type": "code",
   "execution_count": 38,
   "metadata": {},
   "outputs": [],
   "source": [
    "# Let's get back to our directory\n",
    "os.chdir('notebooks')"
   ]
  },
  {
   "cell_type": "code",
   "execution_count": 39,
   "metadata": {},
   "outputs": [
    {
     "data": {
      "text/plain": [
       "['1.4 - introduction to python - part2.ipynb',\n",
       " '5 - Gaussian Fitting.ipynb',\n",
       " 'Data',\n",
       " '.ipynb_checkpoints',\n",
       " '1.3 - introduction to python - part 1.ipynb',\n",
       " '6 - HDF files.ipynb',\n",
       " '4.1 - 2D Imaging - TIFF.ipynb',\n",
       " '0.0 - jupyter_notebooks_introduction.ipynb',\n",
       " 'hdfview.png',\n",
       " '1.2 - markdown syntax.ipynb',\n",
       " '1.0 - jupyter dashboard.ipynb',\n",
       " 'command-line',\n",
       " '7.0 - Introduction to widgets.ipynb',\n",
       " '3 - Multiple plots - Glob.ipynb',\n",
       " 'PyONCat.ipynb',\n",
       " '1.1 - jupyter not a book.ipynb',\n",
       " 'Mantid.ipynb',\n",
       " '4.0 - 2D Imaging - FITS.ipynb']"
      ]
     },
     "execution_count": 39,
     "metadata": {},
     "output_type": "execute_result"
    }
   ],
   "source": [
    "# Let's list the contents of `notebooks`\n",
    "os.listdir()"
   ]
  },
  {
   "cell_type": "markdown",
   "metadata": {},
   "source": [
    "## File Manipulation: `os.path` module"
   ]
  },
  {
   "cell_type": "code",
   "execution_count": 40,
   "metadata": {
    "scrolled": true
   },
   "outputs": [
    {
     "data": {
      "text/plain": [
       "['__all__',\n",
       " '__builtins__',\n",
       " '__cached__',\n",
       " '__doc__',\n",
       " '__file__',\n",
       " '__loader__',\n",
       " '__name__',\n",
       " '__package__',\n",
       " '__spec__',\n",
       " '_get_sep',\n",
       " '_joinrealpath',\n",
       " '_varprog',\n",
       " '_varprogb',\n",
       " 'abspath',\n",
       " 'altsep',\n",
       " 'basename',\n",
       " 'commonpath',\n",
       " 'commonprefix',\n",
       " 'curdir',\n",
       " 'defpath',\n",
       " 'devnull',\n",
       " 'dirname',\n",
       " 'exists',\n",
       " 'expanduser',\n",
       " 'expandvars',\n",
       " 'extsep',\n",
       " 'genericpath',\n",
       " 'getatime',\n",
       " 'getctime',\n",
       " 'getmtime',\n",
       " 'getsize',\n",
       " 'isabs',\n",
       " 'isdir',\n",
       " 'isfile',\n",
       " 'islink',\n",
       " 'ismount',\n",
       " 'join',\n",
       " 'lexists',\n",
       " 'normcase',\n",
       " 'normpath',\n",
       " 'os',\n",
       " 'pardir',\n",
       " 'pathsep',\n",
       " 'realpath',\n",
       " 'relpath',\n",
       " 'samefile',\n",
       " 'sameopenfile',\n",
       " 'samestat',\n",
       " 'sep',\n",
       " 'split',\n",
       " 'splitdrive',\n",
       " 'splitext',\n",
       " 'stat',\n",
       " 'supports_unicode_filenames',\n",
       " 'sys']"
      ]
     },
     "execution_count": 40,
     "metadata": {},
     "output_type": "execute_result"
    }
   ],
   "source": [
    "# show what is available in os.path: <tab> or dir(...)\n",
    "dir(os.path)"
   ]
  },
  {
   "cell_type": "markdown",
   "metadata": {},
   "source": [
    "There are plenty of methods available in the `os.path` module.\n",
    "\n",
    "**For this example, let's use only:**\n",
    "\n",
    "```\n",
    "'abspath',\n",
    "'basename',\n",
    "'dirname',\n",
    "'exists',\n",
    "'isdir',\n",
    "'isfile',\n",
    "'sep',\n",
    "'splitext',\n",
    "```\n"
   ]
  },
  {
   "cell_type": "code",
   "execution_count": 11,
   "metadata": {},
   "outputs": [
    {
     "data": {
      "text/plain": [
       "'Data/Glob/f1.txt'"
      ]
     },
     "execution_count": 11,
     "metadata": {},
     "output_type": "execute_result"
    }
   ],
   "source": [
    "# Let's pick one file\n",
    "file_path = \"Data/Glob/f1.txt\"\n",
    "file_path"
   ]
  },
  {
   "cell_type": "code",
   "execution_count": 13,
   "metadata": {},
   "outputs": [
    {
     "data": {
      "text/plain": [
       "'Data/Glob/f1.txt'"
      ]
     },
     "execution_count": 13,
     "metadata": {},
     "output_type": "execute_result"
    }
   ],
   "source": [
    "# Alternatively we can use `os.path.join`.\n",
    "file_path = os.path.join(\"Data\", \"Glob\", \"f1.txt\")\n",
    "file_path"
   ]
  },
  {
   "cell_type": "code",
   "execution_count": 14,
   "metadata": {},
   "outputs": [
    {
     "data": {
      "text/plain": [
       "'/'"
      ]
     },
     "execution_count": 14,
     "metadata": {},
     "output_type": "execute_result"
    }
   ],
   "source": [
    "# Path separator: It's different in Windows\n",
    "os.path.sep"
   ]
  },
  {
   "cell_type": "code",
   "execution_count": 15,
   "metadata": {},
   "outputs": [
    {
     "data": {
      "text/plain": [
       "True"
      ]
     },
     "execution_count": 15,
     "metadata": {},
     "output_type": "execute_result"
    }
   ],
   "source": [
    "# Check if the file exists\n",
    "os.path.exists(file_path)"
   ]
  },
  {
   "cell_type": "code",
   "execution_count": 12,
   "metadata": {},
   "outputs": [
    {
     "data": {
      "text/plain": [
       "False"
      ]
     },
     "execution_count": 12,
     "metadata": {},
     "output_type": "execute_result"
    }
   ],
   "source": [
    "# Let's buid a fake paths and see if the file exists\n",
    "os.path.exists(\"/tmp/this_does_not.exist\")"
   ]
  },
  {
   "cell_type": "code",
   "execution_count": 13,
   "metadata": {},
   "outputs": [
    {
     "data": {
      "text/plain": [
       "False"
      ]
     },
     "execution_count": 13,
     "metadata": {},
     "output_type": "execute_result"
    }
   ],
   "source": [
    "# Is it a directory?\n",
    "os.path.isdir(file_path)"
   ]
  },
  {
   "cell_type": "code",
   "execution_count": 40,
   "metadata": {},
   "outputs": [
    {
     "data": {
      "text/plain": [
       "True"
      ]
     },
     "execution_count": 40,
     "metadata": {},
     "output_type": "execute_result"
    }
   ],
   "source": [
    "# Is it a file?\n",
    "os.path.isfile(file_path)"
   ]
  },
  {
   "cell_type": "code",
   "execution_count": 14,
   "metadata": {},
   "outputs": [
    {
     "data": {
      "text/plain": [
       "'f1.txt'"
      ]
     },
     "execution_count": 14,
     "metadata": {},
     "output_type": "execute_result"
    }
   ],
   "source": [
    "# Get File name\n",
    "os.path.basename(file_path)"
   ]
  },
  {
   "cell_type": "code",
   "execution_count": 15,
   "metadata": {},
   "outputs": [
    {
     "data": {
      "text/plain": [
       "'/SNS/users/rhf/git/IPythonNotebookTutorial/notebooks/Data/Glob/f1.txt'"
      ]
     },
     "execution_count": 15,
     "metadata": {},
     "output_type": "execute_result"
    }
   ],
   "source": [
    "# Get Full path\n",
    "os.path.abspath(file_path)"
   ]
  },
  {
   "cell_type": "code",
   "execution_count": 16,
   "metadata": {},
   "outputs": [
    {
     "data": {
      "text/plain": [
       "'Data/Glob'"
      ]
     },
     "execution_count": 16,
     "metadata": {},
     "output_type": "execute_result"
    }
   ],
   "source": [
    "# Get the firectory where the file is\n",
    "os.path.dirname(file_path)"
   ]
  },
  {
   "cell_type": "code",
   "execution_count": 17,
   "metadata": {},
   "outputs": [
    {
     "data": {
      "text/plain": [
       "'/SNS/users/rhf/git/IPythonNotebookTutorial/notebooks/Data/Glob'"
      ]
     },
     "execution_count": 17,
     "metadata": {},
     "output_type": "execute_result"
    }
   ],
   "source": [
    "# We were expecting something different????\n",
    "# Absolute directory where the file is\n",
    "os.path.dirname(\n",
    "    os.path.abspath(file_path)\n",
    ")"
   ]
  },
  {
   "cell_type": "markdown",
   "metadata": {},
   "source": [
    "## Exercise\n",
    "\n",
    "```\n",
    "/SNS/lustre/EXAMPLES/IPythonNotebookTutorial/Data/Glob/f1.txt\n",
    "                                                       ------ 1\n",
    "------------------------------------------------------------- 2\n",
    "                                            -----------       3\n",
    "-------------------------------------------------------       4                                                    \n",
    "```\n",
    "\n",
    "1. Get only the file name of file_path\n",
    "2. Get the full path of file_path\n",
    "3. Get the directory where the file_path is\n",
    "4. Absolute directory where file_path is"
   ]
  },
  {
   "cell_type": "code",
   "execution_count": 18,
   "metadata": {},
   "outputs": [],
   "source": [
    "file_path = \"../Data/Glob/f1.txt\""
   ]
  },
  {
   "cell_type": "code",
   "execution_count": 19,
   "metadata": {
    "scrolled": true
   },
   "outputs": [
    {
     "data": {
      "text/plain": [
       "'f1.txt'"
      ]
     },
     "execution_count": 19,
     "metadata": {},
     "output_type": "execute_result"
    }
   ],
   "source": [
    "# 1. File name\n",
    "os.path.basename(file_path)"
   ]
  },
  {
   "cell_type": "code",
   "execution_count": 20,
   "metadata": {},
   "outputs": [
    {
     "data": {
      "text/plain": [
       "'/SNS/users/rhf/git/IPythonNotebookTutorial/Data/Glob/f1.txt'"
      ]
     },
     "execution_count": 20,
     "metadata": {},
     "output_type": "execute_result"
    }
   ],
   "source": [
    "# 2. Full path\n",
    "os.path.abspath(file_path)"
   ]
  },
  {
   "cell_type": "code",
   "execution_count": 21,
   "metadata": {},
   "outputs": [
    {
     "data": {
      "text/plain": [
       "'../Data/Glob'"
      ]
     },
     "execution_count": 21,
     "metadata": {},
     "output_type": "execute_result"
    }
   ],
   "source": [
    "# 3. Relative directory where the file is\n",
    "os.path.dirname(file_path)"
   ]
  },
  {
   "cell_type": "code",
   "execution_count": 22,
   "metadata": {},
   "outputs": [
    {
     "data": {
      "text/plain": [
       "'/SNS/users/rhf/git/IPythonNotebookTutorial/Data/Glob'"
      ]
     },
     "execution_count": 22,
     "metadata": {},
     "output_type": "execute_result"
    }
   ],
   "source": [
    "# 4. Absolute directory where the file is\n",
    "os.path.dirname(\n",
    "    os.path.abspath(file_path)\n",
    ")"
   ]
  },
  {
   "cell_type": "code",
   "execution_count": 23,
   "metadata": {},
   "outputs": [
    {
     "data": {
      "text/plain": [
       "True"
      ]
     },
     "execution_count": 23,
     "metadata": {},
     "output_type": "execute_result"
    }
   ],
   "source": [
    "# 5. Check if it is a file\n",
    "os.path.isfile(file_path)"
   ]
  },
  {
   "cell_type": "markdown",
   "metadata": {},
   "source": [
    "## How to get the **file extension**:"
   ]
  },
  {
   "cell_type": "code",
   "execution_count": 25,
   "metadata": {},
   "outputs": [],
   "source": [
    "file_path = \"../Data/Glob/f1.txt\""
   ]
  },
  {
   "cell_type": "code",
   "execution_count": 27,
   "metadata": {},
   "outputs": [],
   "source": [
    "# first let's get the file name\n",
    "file_name = os.path.basename(file_path)"
   ]
  },
  {
   "cell_type": "code",
   "execution_count": 28,
   "metadata": {},
   "outputs": [
    {
     "data": {
      "text/plain": [
       "str"
      ]
     },
     "execution_count": 28,
     "metadata": {},
     "output_type": "execute_result"
    }
   ],
   "source": [
    "# file_name is a string\n",
    "type(file_name)"
   ]
  },
  {
   "cell_type": "code",
   "execution_count": 42,
   "metadata": {},
   "outputs": [
    {
     "data": {
      "text/plain": [
       "['f1', 'txt']"
      ]
     },
     "execution_count": 42,
     "metadata": {},
     "output_type": "execute_result"
    }
   ],
   "source": [
    "# There a `split` function in string\n",
    "file_name.split(\".\")"
   ]
  },
  {
   "cell_type": "code",
   "execution_count": 47,
   "metadata": {},
   "outputs": [
    {
     "data": {
      "text/plain": [
       "'txt'"
      ]
     },
     "execution_count": 47,
     "metadata": {},
     "output_type": "execute_result"
    }
   ],
   "source": [
    "# Let's split it into variables\n",
    "prefix, suffix = file_name.split(\".\")\n",
    "suffix"
   ]
  },
  {
   "cell_type": "code",
   "execution_count": 48,
   "metadata": {},
   "outputs": [
    {
     "data": {
      "text/plain": [
       "'txt'"
      ]
     },
     "execution_count": 48,
     "metadata": {},
     "output_type": "execute_result"
    }
   ],
   "source": [
    "# Let's split it into an array\n",
    "file_name_split = file_name.split(\".\")\n",
    "file_name_split[-1]"
   ]
  },
  {
   "cell_type": "markdown",
   "metadata": {},
   "source": [
    "# ASCII File Management"
   ]
  },
  {
   "cell_type": "code",
   "execution_count": 51,
   "metadata": {},
   "outputs": [
    {
     "data": {
      "text/plain": [
       "'Data/Fitting/HB1_exp0762_scan0072.dat'"
      ]
     },
     "execution_count": 51,
     "metadata": {},
     "output_type": "execute_result"
    }
   ],
   "source": [
    "# Let's get a file\n",
    "file_path = os.path.join(\"Data\", \"Fitting\", \"HB1_exp0762_scan0072.dat\")\n",
    "file_path"
   ]
  },
  {
   "cell_type": "code",
   "execution_count": 54,
   "metadata": {},
   "outputs": [
    {
     "name": "stdout",
     "output_type": "stream",
     "text": [
      "# scan = 72\r",
      "\r\n",
      "# date = 9/19/2017\r",
      "\r\n",
      "# time = 10:30:01 PM\r",
      "\r\n",
      "# proposal = 19284\r",
      "\r\n",
      "# experiment = Polarized neutron study on the UPt2Si2\r",
      "\r\n",
      "# experiment_number = 762\r",
      "\r\n",
      "# command = scan h 0 k 0.97 1.02 0.0025 l 0 e 0 preset countfile offon_mcu15\r",
      "\r\n",
      "# builtin_command = scan h 0 k 0.97 1.02 0.0025 l 0 e 0 preset countfile offon_mcu15\r",
      "\r\n",
      "# users = Garrett Granroth, Karel Prokes, Masaaki Matsuda, Jooseop Lee, Sachith Dissanayake\r",
      "\r\n",
      "# local_contact = Masaaki Matsuda\r",
      "\r\n",
      "# scan_title = (0,1,0) off/on 4.5 K\r",
      "\r\n",
      "# monochromator = Heusler\r",
      "\r\n",
      "# analyzer = Heusler\r",
      "\r\n",
      "# sense = +-+\r",
      "\r\n",
      "# collimation = 48-80-60-240\r",
      "\r\n"
     ]
    }
   ],
   "source": [
    "# Let's see the contents of the file with a Linux command. Try to use the variable `file_path` defined above :)\n",
    "!head -15 $file_path"
   ]
  },
  {
   "cell_type": "markdown",
   "metadata": {},
   "source": [
    "<hr/>\n",
    "\n",
    "**Reading the file contents:**\n",
    "\n",
    "\n",
    "```\n",
    "file_object  = open(“filename”, “mode”)\n",
    "```\n",
    "\n",
    "Where:\n",
    "\n",
    "`file_object` is the variable to add the file object. \n",
    "\n",
    "`mode` is: \n",
    "\n",
    "* `r` – Read mode which is used when the file is only being read \n",
    "* `w` – Write mode which is used to edit and write new information to the file (any existing files with the same name will be erased when this mode is activated) \n",
    "* `a` – Appending mode, which is used to add new data to the end of the file; that is new information is automatically amended to the end \n"
   ]
  },
  {
   "cell_type": "code",
   "execution_count": 55,
   "metadata": {},
   "outputs": [],
   "source": [
    "# Open file, read file, close file\n",
    "fh = open(file_path, \"r\")\n",
    "lines = fh.readlines()\n",
    "fh.close()"
   ]
  },
  {
   "cell_type": "code",
   "execution_count": 59,
   "metadata": {},
   "outputs": [
    {
     "data": {
      "text/plain": [
       "['# scan = 72\\n',\n",
       " '# date = 9/19/2017\\n',\n",
       " '# time = 10:30:01 PM\\n',\n",
       " '# proposal = 19284\\n',\n",
       " '# experiment = Polarized neutron study on the UPt2Si2\\n',\n",
       " '# experiment_number = 762\\n',\n",
       " '# command = scan h 0 k 0.97 1.02 0.0025 l 0 e 0 preset countfile offon_mcu15\\n',\n",
       " '# builtin_command = scan h 0 k 0.97 1.02 0.0025 l 0 e 0 preset countfile offon_mcu15\\n',\n",
       " '# users = Garrett Granroth, Karel Prokes, Masaaki Matsuda, Jooseop Lee, Sachith Dissanayake\\n',\n",
       " '# local_contact = Masaaki Matsuda\\n',\n",
       " '# scan_title = (0,1,0) off/on 4.5 K\\n',\n",
       " '# monochromator = Heusler\\n',\n",
       " '# analyzer = Heusler\\n',\n",
       " '# sense = +-+\\n',\n",
       " '# collimation = 48-80-60-240\\n',\n",
       " '# samplename = UPt2Si2\\n',\n",
       " '# sampletype = crystal\\n',\n",
       " '# samplemosaic = 30.000000\\n',\n",
       " '# latticeconstants = 4.189588,4.189588,9.662000,90.000000,90.000000,90.000000\\n',\n",
       " '# ubmatrix = 0.066991,0.228983,0.003071,-0.229093,0.066946,0.001089,0.000423,-0.007503,0.103447\\n']"
      ]
     },
     "execution_count": 59,
     "metadata": {},
     "output_type": "execute_result"
    }
   ],
   "source": [
    "# What do we have in `lines`? Note '\\n'\n",
    "lines[:20]"
   ]
  },
  {
   "cell_type": "markdown",
   "metadata": {},
   "source": [
    "### Objective:\n",
    "\n",
    "Find the colimation and split it by '-'"
   ]
  },
  {
   "cell_type": "code",
   "execution_count": 58,
   "metadata": {},
   "outputs": [
    {
     "name": "stdout",
     "output_type": "stream",
     "text": [
      "Found: # collimation = 48-80-60-240\n",
      "\n"
     ]
    }
   ],
   "source": [
    "# let's find a line starting with \"# collimation\"\n",
    "for line in lines:\n",
    "    if line.startswith(\"# collimation\"):\n",
    "        collimation = line\n",
    "        print(\"Found:\", collimation)"
   ]
  },
  {
   "cell_type": "code",
   "execution_count": 60,
   "metadata": {},
   "outputs": [
    {
     "data": {
      "text/plain": [
       "' 48-80-60-240\\n'"
      ]
     },
     "execution_count": 60,
     "metadata": {},
     "output_type": "execute_result"
    }
   ],
   "source": [
    "# Let's get the collimation right side of =\n",
    "prefix, suffix = collimation.split(\"=\")\n",
    "suffix"
   ]
  },
  {
   "cell_type": "code",
   "execution_count": 61,
   "metadata": {},
   "outputs": [
    {
     "data": {
      "text/plain": [
       "'48-80-60-240'"
      ]
     },
     "execution_count": 61,
     "metadata": {},
     "output_type": "execute_result"
    }
   ],
   "source": [
    "# I bet there's a new line character, remove it\n",
    "suffix = suffix.strip()\n",
    "suffix"
   ]
  },
  {
   "cell_type": "code",
   "execution_count": 62,
   "metadata": {},
   "outputs": [
    {
     "data": {
      "text/plain": [
       "['48', '80', '60', '240']"
      ]
     },
     "execution_count": 62,
     "metadata": {},
     "output_type": "execute_result"
    }
   ],
   "source": [
    "# Let's get the collimation values\n",
    "collimation_values = suffix.split(\"-\")\n",
    "collimation_values"
   ]
  },
  {
   "cell_type": "code",
   "execution_count": 64,
   "metadata": {},
   "outputs": [
    {
     "data": {
      "text/plain": [
       "[48, 80, 60, 240]"
      ]
     },
     "execution_count": 64,
     "metadata": {},
     "output_type": "execute_result"
    }
   ],
   "source": [
    "# Aren't they strings? What about converting them to integers?\n",
    "# Let's introduce list comprehension here!\n",
    "[int(v) for v in collimation_values]"
   ]
  },
  {
   "cell_type": "markdown",
   "metadata": {},
   "source": [
    "### Exercise\n",
    "\n",
    "- In the same file, can you get the users of this expriment one by one?\n",
    "\n",
    "You need to split by `,` this time.\n",
    "\n",
    "```\n",
    "'# users = Garrett Granroth, Karel Prokes, Masaaki Matsuda, Jooseop Lee, Sachith Dissanayake\\n',\n",
    "```"
   ]
  },
  {
   "cell_type": "code",
   "execution_count": null,
   "metadata": {},
   "outputs": [],
   "source": []
  }
 ],
 "metadata": {
  "kernelspec": {
   "display_name": "Python 3",
   "language": "python",
   "name": "python3"
  },
  "language_info": {
   "codemirror_mode": {
    "name": "ipython",
    "version": 3
   },
   "file_extension": ".py",
   "mimetype": "text/x-python",
   "name": "python",
   "nbconvert_exporter": "python",
   "pygments_lexer": "ipython3",
   "version": "3.6.2"
  }
 },
 "nbformat": 4,
 "nbformat_minor": 2
}
