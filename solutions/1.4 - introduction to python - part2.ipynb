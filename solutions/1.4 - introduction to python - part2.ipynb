{
 "cells": [
  {
   "cell_type": "markdown",
   "metadata": {
    "run_control": {
     "frozen": false,
     "read_only": false
    }
   },
   "source": [
    "# Print "
   ]
  },
  {
   "cell_type": "markdown",
   "metadata": {},
   "source": [
    "To display, or print, your data on the screen, we use **print**"
   ]
  },
  {
   "cell_type": "markdown",
   "metadata": {
    "run_control": {
     "frozen": false,
     "read_only": false
    }
   },
   "source": [
    "## basic format "
   ]
  },
  {
   "cell_type": "markdown",
   "metadata": {
    "run_control": {
     "frozen": false,
     "read_only": false
    }
   },
   "source": [
    "### Exercise\n",
    "\n",
    "Print the variables **a** and **b**"
   ]
  },
  {
   "cell_type": "code",
   "execution_count": null,
   "metadata": {},
   "outputs": [],
   "source": [
    "a = \"This is a text\"\n",
    "b = 35\n",
    "\n",
    "# your answer here\n",
    "print(a)\n",
    "print(b)"
   ]
  },
  {
   "cell_type": "markdown",
   "metadata": {},
   "source": [
    "NB: Did you notice that you did not have to import anything to use **print**. Guess why?"
   ]
  },
  {
   "cell_type": "markdown",
   "metadata": {
    "run_control": {
     "frozen": false,
     "read_only": false
    }
   },
   "source": [
    "## configure format \n",
    "\n",
    "but the print function can do so much more. For example you can tell him not to return to the beginning of next line when done, or to format the variables the way you want it."
   ]
  },
  {
   "cell_type": "markdown",
   "metadata": {
    "run_control": {
     "frozen": false,
     "read_only": false
    }
   },
   "source": [
    "### Exercise"
   ]
  },
  {
   "cell_type": "markdown",
   "metadata": {
    "run_control": {
     "frozen": false,
     "read_only": false
    }
   },
   "source": [
    "If there is only one skill you need to take from this training is to learn to use **google search** to find how to use a python command. Use this skill to  display the following statement.\n",
    "\n",
    "<img src='../Data/static/python_introduction/format_exercise.png' />\n",
    "\n",
    "Tips: look at **format** (https://pyformat.info/)\n"
   ]
  },
  {
   "cell_type": "code",
   "execution_count": null,
   "metadata": {
    "run_control": {
     "frozen": false,
     "read_only": false
    }
   },
   "outputs": [],
   "source": [
    "# your turn\n",
    "var1 = 10\n",
    "var2 = 1.23356785\n",
    "\n",
    "# you code here\n",
    "print(\"var1: {:10}\".format(var1))\n",
    "print(\"var2: {:.4}\".format(var2))\n",
    "print(\"var1: {} and var2: {:.4}\".format(var1, var2))"
   ]
  },
  {
   "cell_type": "markdown",
   "metadata": {
    "run_control": {
     "frozen": false,
     "read_only": false
    }
   },
   "source": [
    "You want to learn more, check this tutorial about [print format](https://pyformat.info/)"
   ]
  },
  {
   "cell_type": "markdown",
   "metadata": {
    "run_control": {
     "frozen": false,
     "read_only": false
    }
   },
   "source": [
    "# Arrays  "
   ]
  },
  {
   "cell_type": "markdown",
   "metadata": {},
   "source": [
    "You can create a simple 1D array using **[ ] **"
   ]
  },
  {
   "cell_type": "code",
   "execution_count": null,
   "metadata": {},
   "outputs": [],
   "source": [
    "my_array = [1,2,3,4]"
   ]
  },
  {
   "cell_type": "markdown",
   "metadata": {},
   "source": [
    "What is it really ?"
   ]
  },
  {
   "cell_type": "code",
   "execution_count": null,
   "metadata": {
    "scrolled": true
   },
   "outputs": [],
   "source": [
    "type(my_array)"
   ]
  },
  {
   "cell_type": "markdown",
   "metadata": {},
   "source": [
    "If you look at google, you will find that **list** are great, but not ideal when working with numerical data we need to manipulate. For this, we are going to import our first major library called **numpy**"
   ]
  },
  {
   "cell_type": "markdown",
   "metadata": {},
   "source": [
    "### Exercise\n",
    "\n",
    "Let's import **numpy** into our notebook"
   ]
  },
  {
   "cell_type": "code",
   "execution_count": null,
   "metadata": {},
   "outputs": [],
   "source": [
    "import numpy"
   ]
  },
  {
   "cell_type": "markdown",
   "metadata": {
    "run_control": {
     "frozen": false,
     "read_only": false
    }
   },
   "source": [
    "## Our first numpy array"
   ]
  },
  {
   "cell_type": "code",
   "execution_count": null,
   "metadata": {
    "run_control": {
     "frozen": false,
     "read_only": false
    }
   },
   "outputs": [],
   "source": [
    "my_first_real_array = numpy.array([1,2,3,4])"
   ]
  },
  {
   "cell_type": "code",
   "execution_count": null,
   "metadata": {},
   "outputs": [],
   "source": [
    "type(my_first_real_array)"
   ]
  },
  {
   "cell_type": "markdown",
   "metadata": {},
   "source": [
    "The big difference is that numpy comes with a tons of features that will save your life. Array manipulation, min, max, std, .... have no secret for numpy.\n",
    "\n",
    "**Tip:** Whenever you can, use those librairies because:\n",
    " * they will run must faster than anything you can write yourself\n",
    " * they have been tested by millions of users\n",
    " * they are very well documented\n",
    " * they have 99% of what you will ever need"
   ]
  },
  {
   "cell_type": "markdown",
   "metadata": {
    "run_control": {
     "frozen": false,
     "read_only": false
    }
   },
   "source": [
    "### Exercise \n",
    "\n",
    "Display the maximum, minimum and mean value of the following array\n",
    "\n",
    "**Tip**: Google is your friend"
   ]
  },
  {
   "cell_type": "code",
   "execution_count": null,
   "metadata": {
    "run_control": {
     "frozen": false,
     "read_only": false
    }
   },
   "outputs": [],
   "source": [
    "my_array = numpy.array([1.23, 4.34, 10.0, -1, 30.3, 50.50, 100])\n",
    "\n",
    "# your code here\n",
    "print(\"method 1\")\n",
    "print(\"minimum is {}\".format(my_array.min()))\n",
    "print(\"maximum is {}\".format(my_array.max()))\n",
    "print(\"mean is {}\".format(my_array.mean()))\n",
    "\n",
    "#or\n",
    "\n",
    "print()\n",
    "print(\"method 2\")\n",
    "print(\"minimum is {}\".format(numpy.min(my_array)))\n",
    "print(\"maximum is {}\".format(numpy.max(my_array)))\n",
    "print(\"mean is {}\".format(numpy.mean(my_array)))"
   ]
  },
  {
   "cell_type": "markdown",
   "metadata": {},
   "source": [
    "## Programers are lazy !"
   ]
  },
  {
   "cell_type": "markdown",
   "metadata": {},
   "source": [
    "We don't want to have to type **numpy** everytime we want to create an array. Python provides a feature that allows you to rename a library you import"
   ]
  },
  {
   "cell_type": "code",
   "execution_count": null,
   "metadata": {},
   "outputs": [],
   "source": [
    "import numpy as np"
   ]
  },
  {
   "cell_type": "markdown",
   "metadata": {},
   "source": [
    "Remember the use of **TAB** to find all the methods provided by numpy?\n",
    "\n",
    "Try it here"
   ]
  },
  {
   "cell_type": "code",
   "execution_count": null,
   "metadata": {},
   "outputs": [],
   "source": [
    "np."
   ]
  },
  {
   "cell_type": "markdown",
   "metadata": {
    "run_control": {
     "frozen": false,
     "read_only": false
    }
   },
   "source": [
    "# Indexing"
   ]
  },
  {
   "cell_type": "markdown",
   "metadata": {
    "run_control": {
     "frozen": false,
     "read_only": false
    }
   },
   "source": [
    "You can reach data in your array using indexing (first value is at index 0) \n",
    "\n",
    "Please note that to use indexing, we use **brackets [ ] ** in python"
   ]
  },
  {
   "cell_type": "code",
   "execution_count": null,
   "metadata": {
    "run_control": {
     "frozen": false,
     "read_only": false
    }
   },
   "outputs": [],
   "source": [
    "my_array[0]"
   ]
  },
  {
   "cell_type": "markdown",
   "metadata": {
    "collapsed": true,
    "run_control": {
     "frozen": false,
     "read_only": false
    }
   },
   "source": [
    "### Exercise \n",
    "\n",
    "google search to the rescue\n",
    "\n",
    "Using what you have learned so far, and google search, do the following\n",
    "\n",
    " * create a numpy array of integer from 0 to 100 (tip, numpy as a method that does that)\n",
    " * extract the first 10\n",
    " * calculate the sum of those 10 elements"
   ]
  },
  {
   "cell_type": "code",
   "execution_count": null,
   "metadata": {
    "run_control": {
     "frozen": false,
     "read_only": false
    }
   },
   "outputs": [],
   "source": [
    "# create a numpy array of integer from 0 to 100 [0,1,2,3,...] (tip, numpy as a method that does that)\n",
    "int_array = np.arange(101)\n",
    "# print(int_array)\n",
    "\n",
    "# extract the first 10\n",
    "first_10_elements = int_array[:10]\n",
    "# print(first_10_elements)\n",
    "\n",
    "# calculate the sum of those 10 elements\n",
    "print(np.sum(first_10_elements))"
   ]
  },
  {
   "cell_type": "markdown",
   "metadata": {
    "run_control": {
     "frozen": false,
     "read_only": false
    }
   },
   "source": [
    "# function "
   ]
  },
  {
   "cell_type": "markdown",
   "metadata": {
    "run_control": {
     "frozen": false,
     "read_only": false
    }
   },
   "source": [
    "function are used to centralize the work that needs to be repeated many times.\n",
    "\n",
    "You can define a function this way\n",
    "\n",
    "```python\n",
    "def add(var1, var2, var3):\n",
    "    result = var1 + var2 + var3\n",
    "    return result\n",
    "\n",
    ">>>print(add(5, 6, 7))\n",
    "18\n",
    "```\n",
    "\n",
    "you can also provide default value to arguments if you do not want to pass those arguments all the time\n",
    "\n",
    "```python\n",
    "def magic_add(var1, var2, var3=10):\n",
    "    result = var1 + var2 + var3\n",
    "    return result\n",
    "\n",
    ">>> print(magic_add(5,6))\n",
    "21\n",
    ">>> print(magic_add(5,6,1))\n",
    "12\n",
    "```\n",
    "\n"
   ]
  },
  {
   "cell_type": "markdown",
   "metadata": {},
   "source": [
    "To learn more and play with functions, I recommend this [tutorial page](https://www.datacamp.com/community/tutorials/functions-python-tutorial?utm_source=adwords_ppc&utm_campaignid=1565261270&utm_adgroupid=67750485268&utm_device=c&utm_keyword=&utm_matchtype=b&utm_network=g&utm_adpostion=1t1&utm_creative=295208661514&utm_targetid=dsa-473406571355&utm_loc_interest_ms=&utm_loc_physical_ms=9013463&gclid=CjwKCAiA7vTiBRAqEiwA4NTO6-0B8XuolsNc9HWaXiLt4Ptw9s3AvyNM5USfR90QIeNhwKfLCLM4dhoChXcQAvD_BwE)"
   ]
  },
  {
   "cell_type": "markdown",
   "metadata": {
    "run_control": {
     "frozen": false,
     "read_only": false
    }
   },
   "source": [
    "## Exercise\n",
    "\n"
   ]
  },
  {
   "cell_type": "markdown",
   "metadata": {
    "run_control": {
     "frozen": false,
     "read_only": false
    }
   },
   "source": [
    "We are going to use function and numpy to print the sin of 2x, 3x, 4x and 5x with x going from 0 to 10\n",
    "\n",
    "* locate the **sin** function (thank you numpy) and how to use it\n",
    "TIP: remember the 3 ways to find help ?\n",
    "\n",
    "* define a function that takes as input\n",
    "    - an array\n",
    "    - a coefficient\n",
    "   and returns the sin(coefficient * array)\n",
    "   \n",
    "   \n",
    "* define your array and makes the calls\n"
   ]
  },
  {
   "cell_type": "code",
   "execution_count": null,
   "metadata": {
    "run_control": {
     "frozen": false,
     "read_only": false
    }
   },
   "outputs": [],
   "source": [
    "#locate the **sin** function (thank you numpy) and how to use it\n",
    "\n",
    "# ?np.sin\n",
    "# ??np.sin\n",
    "# google \n",
    "\n",
    "# define a function that takes as input\n",
    "#     - an array\n",
    "#     - a coefficient\n",
    "#    and returns the sin(coefficient * array)\n",
    "\n",
    "   \n",
    "#define your array and makes the calls\n",
    "def coeff_sin(my_array, coefficient=2):   \n",
    "    return np.sin(coefficient * my_array)\n",
    "    \n",
    "\n",
    "#define your array and makes the calls\n",
    "my_array = np.arange(11)\n",
    "print(coeff_sin(my_array))\n",
    "print(coeff_sin(my_array, coefficient=3))\n",
    "print(coeff_sin(my_array, coefficient=4))\n",
    "print(coeff_sin(my_array, coefficient=5))"
   ]
  },
  {
   "cell_type": "markdown",
   "metadata": {},
   "source": [
    "# Short break of shortcuts"
   ]
  },
  {
   "cell_type": "markdown",
   "metadata": {},
   "source": [
    "Aren't you tired of going back and forth between the mouse and the keyboard, this is one we have shortcuts. Those will save your life\n",
    "\n",
    "In command mode\n",
    "\n",
    " - **a** will add a cell above your current cell\n",
    " - **b** same thing but below\n",
    " \n",
    " \n",
    " - **m** to switch a cell in markdown mode\n",
    " - **y** to switch to python/code mode"
   ]
  },
  {
   "cell_type": "markdown",
   "metadata": {
    "run_control": {
     "frozen": false,
     "read_only": false
    }
   },
   "source": [
    "# Loops "
   ]
  },
  {
   "cell_type": "markdown",
   "metadata": {
    "run_control": {
     "frozen": false,
     "read_only": false
    }
   },
   "source": [
    "There are different types of loops \n",
    "\n",
    "**for** loops\n",
    "```fuction\n",
    "for i in np.arange(10):\n",
    "    print(i)\n",
    "```\n",
    "i will take the value of each of the list ([0,1,2,3,4,5,6,7,8,9] in this case). \n",
    "\n",
    "\n",
    "**while** loops\n",
    "\n",
    "```function\n",
    "i=0\n",
    "while i < 10:\n",
    "    i += 1\n",
    "```\n",
    "\n",
    "[interactive loops exercices](https://www.learnpython.org/en/Loops)\n",
    "\n",
    "... but 80% of the time you will use the **for loop**"
   ]
  },
  {
   "cell_type": "markdown",
   "metadata": {
    "run_control": {
     "frozen": false,
     "read_only": false
    }
   },
   "source": [
    "# if statement \n",
    "\n",
    "```python\n",
    "a = 10\n",
    "if a > 5:\n",
    "    print(\"I'm bigger than 5\")\n",
    "elif a < 5:\n",
    "    print(\"I'm smaller than 5\")\n",
    "else:\n",
    "    print(\"I'm 5\")\n",
    "```\n",
    "    "
   ]
  },
  {
   "cell_type": "markdown",
   "metadata": {
    "collapsed": true,
    "run_control": {
     "frozen": false,
     "read_only": false
    }
   },
   "source": [
    "# Error "
   ]
  },
  {
   "cell_type": "markdown",
   "metadata": {
    "run_control": {
     "frozen": false,
     "read_only": false
    }
   },
   "source": [
    "**Error** raise by python are here to help you, DO NOT BE AFRAID OF THEM"
   ]
  },
  {
   "cell_type": "markdown",
   "metadata": {},
   "source": [
    "### Exercise \n",
    "\n",
    "Use the error message raises by python to figure out what is wrong in the following code and fix it!"
   ]
  },
  {
   "cell_type": "code",
   "execution_count": null,
   "metadata": {
    "run_control": {
     "frozen": false,
     "read_only": false
    }
   },
   "outputs": [],
   "source": [
    "array1 = np.array([1,2,3,4,5])\n",
    "for value in array1:\n",
    "print(value)"
   ]
  },
  {
   "cell_type": "markdown",
   "metadata": {},
   "source": [
    "and what about this one"
   ]
  },
  {
   "cell_type": "code",
   "execution_count": null,
   "metadata": {},
   "outputs": [],
   "source": [
    "# display 5th value of the array\n",
    "print(array1[5])"
   ]
  },
  {
   "cell_type": "markdown",
   "metadata": {},
   "source": [
    "**Important:**\n",
    "\n",
    "When an error is raised, ALWAYS go to the end of the error message to figure out where and what is the error!"
   ]
  },
  {
   "cell_type": "code",
   "execution_count": null,
   "metadata": {},
   "outputs": [],
   "source": [
    "def format(result):\n",
    "    return \"{:.2}\".format(result)\n",
    "\n",
    "def add(arg1, arg2):\n",
    "    return format(arg1+arg2)\n",
    "\n",
    "print(add(2,3))"
   ]
  },
  {
   "cell_type": "code",
   "execution_count": null,
   "metadata": {},
   "outputs": [],
   "source": []
  },
  {
   "cell_type": "code",
   "execution_count": null,
   "metadata": {},
   "outputs": [],
   "source": []
  },
  {
   "cell_type": "code",
   "execution_count": null,
   "metadata": {},
   "outputs": [],
   "source": []
  }
 ],
 "metadata": {
  "kernelspec": {
   "display_name": "Python 3",
   "language": "python",
   "name": "python3"
  },
  "language_info": {
   "codemirror_mode": {
    "name": "ipython",
    "version": 3
   },
   "file_extension": ".py",
   "mimetype": "text/x-python",
   "name": "python",
   "nbconvert_exporter": "python",
   "pygments_lexer": "ipython3",
   "version": "3.6.7"
  },
  "toc": {
   "colors": {
    "hover_highlight": "#DAA520",
    "running_highlight": "#FF0000",
    "selected_highlight": "#FFD700"
   },
   "moveMenuLeft": true,
   "nav_menu": {
    "height": "12px",
    "width": "252px"
   },
   "navigate_menu": true,
   "number_sections": true,
   "sideBar": true,
   "threshold": 4,
   "toc_cell": false,
   "toc_section_display": "block",
   "toc_window_display": false
  }
 },
 "nbformat": 4,
 "nbformat_minor": 2
}
