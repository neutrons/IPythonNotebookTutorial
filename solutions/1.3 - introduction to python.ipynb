{
 "cells": [
  {
   "cell_type": "markdown",
   "metadata": {
    "run_control": {
     "frozen": false,
     "read_only": false
    }
   },
   "source": [
    "# import "
   ]
  },
  {
   "cell_type": "markdown",
   "metadata": {
    "run_control": {
     "frozen": false,
     "read_only": false
    }
   },
   "source": [
    "Python comes by itself with a lot of tool boxes, called the [python standard library](https://docs.python.org/3/library/), to work with math, files, network, etc. To use them, you simply need to **import** them in your notebook."
   ]
  },
  {
   "cell_type": "code",
   "execution_count": null,
   "metadata": {
    "run_control": {
     "frozen": false,
     "read_only": false
    }
   },
   "outputs": [],
   "source": [
    "# for example, to work with directories and files\n",
    "import os"
   ]
  },
  {
   "cell_type": "markdown",
   "metadata": {
    "run_control": {
     "frozen": false,
     "read_only": false
    }
   },
   "source": [
    "Want to know more about it, just google [\"python os\"](https://docs.python.org/3.6/library/os.html)"
   ]
  },
  {
   "cell_type": "markdown",
   "metadata": {
    "run_control": {
     "frozen": false,
     "read_only": false
    }
   },
   "source": [
    "We are scientists, we work with data. The best library to work with data is [numpy](http://www.numpy.org/)"
   ]
  },
  {
   "cell_type": "code",
   "execution_count": 4,
   "metadata": {
    "run_control": {
     "frozen": false,
     "read_only": false
    }
   },
   "outputs": [],
   "source": [
    "import numpy"
   ]
  },
  {
   "cell_type": "markdown",
   "metadata": {
    "run_control": {
     "frozen": false,
     "read_only": false
    }
   },
   "source": [
    "**numpy** gives you access to hundreds of methods to work with arrays, scientific constants, .etc."
   ]
  },
  {
   "cell_type": "code",
   "execution_count": null,
   "metadata": {
    "run_control": {
     "frozen": false,
     "read_only": false
    }
   },
   "outputs": [],
   "source": [
    "# Exercise\n",
    "# let's calculate the sin of a 45 degrees angle\n",
    "\n",
    "angle = 45\n",
    "# your code goes here\n"
   ]
  },
  {
   "cell_type": "markdown",
   "metadata": {
    "run_control": {
     "frozen": false,
     "read_only": false
    }
   },
   "source": [
    "**Remember** To check what a library can offer, SHIFT TAB"
   ]
  },
  {
   "cell_type": "markdown",
   "metadata": {
    "run_control": {
     "frozen": false,
     "read_only": false
    }
   },
   "source": [
    "<img src='Data/static/python_introduction/shift_tab.gif' />"
   ]
  },
  {
   "cell_type": "code",
   "execution_count": null,
   "metadata": {
    "run_control": {
     "frozen": false,
     "read_only": false
    }
   },
   "outputs": [],
   "source": [
    "## Solution\n",
    "angle = 45\n",
    "\n",
    "angle_rad = np.deg2rad(angle)\n",
    "np.sin(angle_rad)\n"
   ]
  },
  {
   "cell_type": "markdown",
   "metadata": {
    "run_control": {
     "frozen": false,
     "read_only": false
    }
   },
   "source": [
    "# Print "
   ]
  },
  {
   "cell_type": "markdown",
   "metadata": {
    "run_control": {
     "frozen": false,
     "read_only": false
    }
   },
   "source": [
    "Using python you can configure the way you print your data. "
   ]
  },
  {
   "cell_type": "markdown",
   "metadata": {
    "run_control": {
     "frozen": false,
     "read_only": false
    }
   },
   "source": [
    "## basic format "
   ]
  },
  {
   "cell_type": "code",
   "execution_count": null,
   "metadata": {
    "run_control": {
     "frozen": false,
     "read_only": false
    }
   },
   "outputs": [],
   "source": [
    "variable = 10\n",
    "print(\"variable is {}\".format(variable))"
   ]
  },
  {
   "cell_type": "markdown",
   "metadata": {
    "run_control": {
     "frozen": false,
     "read_only": false
    }
   },
   "source": [
    "## configure format "
   ]
  },
  {
   "cell_type": "code",
   "execution_count": null,
   "metadata": {
    "run_control": {
     "frozen": false,
     "read_only": false
    }
   },
   "outputs": [],
   "source": [
    "float_variable = 12.345678\n",
    "print(\"variable is {:2.3f}\".format(float_variable))"
   ]
  },
  {
   "cell_type": "markdown",
   "metadata": {
    "run_control": {
     "frozen": false,
     "read_only": false
    }
   },
   "source": [
    "You want to learn more, check this tutorial about [print format](https://pyformat.info/)"
   ]
  },
  {
   "cell_type": "markdown",
   "metadata": {
    "run_control": {
     "frozen": false,
     "read_only": false
    }
   },
   "source": [
    "## Exercise"
   ]
  },
  {
   "cell_type": "markdown",
   "metadata": {
    "run_control": {
     "frozen": false,
     "read_only": false
    }
   },
   "source": [
    "If there is only one skill you need to take from this training is learn to use google search to find how to use a python command. Use this skill to  display the following statement.\n",
    "\n",
    "<img src='Data/static/python_introduction/format_exercise.png' />\n",
    "\n",
    "\n"
   ]
  },
  {
   "cell_type": "code",
   "execution_count": null,
   "metadata": {
    "run_control": {
     "frozen": false,
     "read_only": false
    }
   },
   "outputs": [],
   "source": [
    "# your turn\n",
    "var1 = 10\n",
    "var2 = 1.23456785\n",
    "\n",
    "# you code here\n",
    "\n"
   ]
  },
  {
   "cell_type": "markdown",
   "metadata": {
    "run_control": {
     "frozen": false,
     "read_only": false
    }
   },
   "source": [
    "# Arrays  "
   ]
  },
  {
   "cell_type": "code",
   "execution_count": 2,
   "metadata": {
    "run_control": {
     "frozen": false,
     "read_only": false
    }
   },
   "outputs": [],
   "source": [
    "simple_list = [1,2,3,4,5,6]"
   ]
  },
  {
   "cell_type": "markdown",
   "metadata": {
    "run_control": {
     "frozen": false,
     "read_only": false
    }
   },
   "source": [
    "Python comes with its own array (called list). "
   ]
  },
  {
   "cell_type": "code",
   "execution_count": 1,
   "metadata": {
    "run_control": {
     "frozen": false,
     "read_only": false
    }
   },
   "outputs": [],
   "source": [
    "crazy_list = [1, 'two', 3+4]"
   ]
  },
  {
   "cell_type": "markdown",
   "metadata": {
    "run_control": {
     "frozen": false,
     "read_only": false
    }
   },
   "source": [
    "it's easy to create but not that powerful when writing with data. This is why we always use the array from numpy"
   ]
  },
  {
   "cell_type": "code",
   "execution_count": 6,
   "metadata": {
    "run_control": {
     "frozen": false,
     "read_only": false
    }
   },
   "outputs": [],
   "source": [
    "my_numpy_array = numpy.array([])"
   ]
  },
  {
   "cell_type": "markdown",
   "metadata": {
    "run_control": {
     "frozen": false,
     "read_only": false
    }
   },
   "source": [
    "Programers are lazy, we do not know to have **numpy** all the time, so we came to a convention"
   ]
  },
  {
   "cell_type": "markdown",
   "metadata": {
    "run_control": {
     "frozen": false,
     "read_only": false
    }
   },
   "source": [
    "We have now access as hundreds of methods (functions) from the library. But programer are lazy. We do not want to type **numpy** all the time when using those functions\n",
    "\n",
    "> np.do_this()\n",
    "> np.do_that()\n",
    "\n",
    "so python allows us to import and rename a library by using\n",
    "\n",
    "> import numpy as np"
   ]
  },
  {
   "cell_type": "code",
   "execution_count": null,
   "metadata": {
    "run_control": {
     "frozen": false,
     "read_only": false
    }
   },
   "outputs": [],
   "source": [
    "import numpy as np"
   ]
  },
  {
   "cell_type": "markdown",
   "metadata": {
    "run_control": {
     "frozen": false,
     "read_only": false
    }
   },
   "source": [
    "Remember how to check all the methods provided by a library (tips, using TAB), so let's do that no on this library."
   ]
  },
  {
   "cell_type": "markdown",
   "metadata": {
    "run_control": {
     "frozen": false,
     "read_only": false
    }
   },
   "source": [
    "## Our first numpy array"
   ]
  },
  {
   "cell_type": "markdown",
   "metadata": {
    "run_control": {
     "frozen": false,
     "read_only": false
    }
   },
   "source": [
    "To create an array using numpy"
   ]
  },
  {
   "cell_type": "code",
   "execution_count": 9,
   "metadata": {
    "run_control": {
     "frozen": false,
     "read_only": false
    }
   },
   "outputs": [],
   "source": [
    "my_array = np.array([0,1,2,3,4,5,6])"
   ]
  },
  {
   "cell_type": "markdown",
   "metadata": {
    "run_control": {
     "frozen": false,
     "read_only": false
    }
   },
   "source": [
    "numpy arrays can only be of 1 type."
   ]
  },
  {
   "cell_type": "code",
   "execution_count": 10,
   "metadata": {
    "run_control": {
     "frozen": false,
     "marked": true,
     "read_only": false
    }
   },
   "outputs": [
    {
     "data": {
      "text/plain": [
       "array([0, 1, 2, 3, 4, 5, 6])"
      ]
     },
     "execution_count": 10,
     "metadata": {},
     "output_type": "execute_result"
    }
   ],
   "source": [
    "my_array"
   ]
  },
  {
   "cell_type": "markdown",
   "metadata": {
    "run_control": {
     "frozen": false,
     "read_only": false
    }
   },
   "source": [
    "Everything in python is an object. No, don't run away. We won't talk about object oriented during this coure. "
   ]
  },
  {
   "cell_type": "code",
   "execution_count": 11,
   "metadata": {
    "run_control": {
     "frozen": false,
     "read_only": false
    }
   },
   "outputs": [
    {
     "data": {
      "text/plain": [
       "numpy.ndarray"
      ]
     },
     "execution_count": 11,
     "metadata": {},
     "output_type": "execute_result"
    }
   ],
   "source": [
    "type(my_array)"
   ]
  },
  {
   "cell_type": "markdown",
   "metadata": {
    "run_control": {
     "frozen": false,
     "read_only": false
    }
   },
   "source": [
    "But all you need to know is that **my_array** is now a numpy object. That means, **my_array** has now all the numpy methods automatically implemented. \n",
    "\n",
    "**Want to try ?**\n",
    "\n",
    " * Type my_array\n",
    " * then a dot \".\"\n",
    " * and then TAB to list all the methods"
   ]
  },
  {
   "cell_type": "markdown",
   "metadata": {
    "run_control": {
     "frozen": false,
     "read_only": false
    }
   },
   "source": [
    "### Exercise "
   ]
  },
  {
   "cell_type": "code",
   "execution_count": null,
   "metadata": {
    "run_control": {
     "frozen": false,
     "read_only": false
    }
   },
   "outputs": [],
   "source": [
    "# display the max, min and mean value of the array\n",
    "\n",
    "# your code here\n",
    "\n",
    "\n",
    "\n"
   ]
  },
  {
   "cell_type": "markdown",
   "metadata": {
    "run_control": {
     "frozen": false,
     "read_only": false
    }
   },
   "source": [
    "Other methods are attached to the class but work on your array"
   ]
  },
  {
   "cell_type": "code",
   "execution_count": null,
   "metadata": {
    "run_control": {
     "frozen": false,
     "read_only": false
    }
   },
   "outputs": [],
   "source": [
    "np.size(my_array)"
   ]
  },
  {
   "cell_type": "code",
   "execution_count": null,
   "metadata": {
    "run_control": {
     "frozen": false,
     "read_only": false
    }
   },
   "outputs": [],
   "source": [
    "np.shape(my_array)"
   ]
  },
  {
   "cell_type": "markdown",
   "metadata": {
    "run_control": {
     "frozen": false,
     "read_only": false
    }
   },
   "source": [
    "### Indexing"
   ]
  },
  {
   "cell_type": "markdown",
   "metadata": {
    "run_control": {
     "frozen": false,
     "read_only": false
    }
   },
   "source": [
    "You can reach data in your array using indexing (first value is at index 0) \n",
    "\n",
    "Please note that to use indexing, we use **brackets [** in python"
   ]
  },
  {
   "cell_type": "code",
   "execution_count": null,
   "metadata": {
    "run_control": {
     "frozen": false,
     "read_only": false
    }
   },
   "outputs": [],
   "source": [
    "my_array[0]"
   ]
  },
  {
   "cell_type": "markdown",
   "metadata": {
    "run_control": {
     "frozen": false,
     "read_only": false
    }
   },
   "source": [
    "For a range, use \":\" between first and last value to keep.\n",
    "\n",
    "**Attention**: last value selected will be at **last_index - 1**"
   ]
  },
  {
   "cell_type": "code",
   "execution_count": null,
   "metadata": {
    "run_control": {
     "frozen": false,
     "read_only": false
    }
   },
   "outputs": [],
   "source": [
    "my_array[0:3]"
   ]
  },
  {
   "cell_type": "markdown",
   "metadata": {
    "collapsed": true,
    "run_control": {
     "frozen": false,
     "read_only": false
    }
   },
   "source": [
    "### Exercise - google search to the rescue"
   ]
  },
  {
   "cell_type": "markdown",
   "metadata": {
    "run_control": {
     "frozen": false,
     "read_only": false
    }
   },
   "source": [
    "Using what you have learned so far, and google search, do the following\n",
    "\n",
    " * create a numpy array of integer from 0 to 100 (tip, numpy as a method that does that)\n",
    " * extract the first 10\n",
    " * display the length of this array"
   ]
  },
  {
   "cell_type": "code",
   "execution_count": null,
   "metadata": {
    "run_control": {
     "frozen": false,
     "read_only": false
    }
   },
   "outputs": [],
   "source": [
    "# create a numpy array of integer from 0 to 100 (tip, numpy as a method that does that)\n",
    "\n",
    "\n",
    "# extract the first 10\n",
    "\n",
    "\n",
    "# display the length of this array"
   ]
  },
  {
   "cell_type": "markdown",
   "metadata": {
    "run_control": {
     "frozen": false,
     "read_only": false
    }
   },
   "source": [
    "# function "
   ]
  },
  {
   "cell_type": "markdown",
   "metadata": {
    "run_control": {
     "frozen": false,
     "read_only": false
    }
   },
   "source": [
    "function are used to centralized the work that needs to be repeated many times"
   ]
  },
  {
   "cell_type": "code",
   "execution_count": null,
   "metadata": {
    "run_control": {
     "frozen": false,
     "read_only": false
    }
   },
   "outputs": [],
   "source": [
    "def this_is_a_function(argument1, argument2):\n",
    "    # do something here\n",
    "    result = arguement1 + argument2\n",
    "    return result"
   ]
  },
  {
   "cell_type": "markdown",
   "metadata": {
    "run_control": {
     "frozen": false,
     "read_only": false
    }
   },
   "source": [
    "## Live Exercise\n",
    "\n"
   ]
  },
  {
   "cell_type": "markdown",
   "metadata": {
    "run_control": {
     "frozen": false,
     "read_only": false
    }
   },
   "source": [
    "We are going to use function and numpy to display the sin of 2x, 3x, 4x and 5x with x going from 0 to 10"
   ]
  },
  {
   "cell_type": "code",
   "execution_count": 13,
   "metadata": {
    "run_control": {
     "frozen": false,
     "read_only": false
    }
   },
   "outputs": [],
   "source": [
    "import matplotlib.pyplot as plt\n",
    "%matplotlib notebook"
   ]
  },
  {
   "cell_type": "code",
   "execution_count": 17,
   "metadata": {
    "run_control": {
     "frozen": false,
     "read_only": false
    }
   },
   "outputs": [
    {
     "data": {
      "application/javascript": [
       "/* Put everything inside the global mpl namespace */\n",
       "window.mpl = {};\n",
       "\n",
       "\n",
       "mpl.get_websocket_type = function() {\n",
       "    if (typeof(WebSocket) !== 'undefined') {\n",
       "        return WebSocket;\n",
       "    } else if (typeof(MozWebSocket) !== 'undefined') {\n",
       "        return MozWebSocket;\n",
       "    } else {\n",
       "        alert('Your browser does not have WebSocket support.' +\n",
       "              'Please try Chrome, Safari or Firefox ≥ 6. ' +\n",
       "              'Firefox 4 and 5 are also supported but you ' +\n",
       "              'have to enable WebSockets in about:config.');\n",
       "    };\n",
       "}\n",
       "\n",
       "mpl.figure = function(figure_id, websocket, ondownload, parent_element) {\n",
       "    this.id = figure_id;\n",
       "\n",
       "    this.ws = websocket;\n",
       "\n",
       "    this.supports_binary = (this.ws.binaryType != undefined);\n",
       "\n",
       "    if (!this.supports_binary) {\n",
       "        var warnings = document.getElementById(\"mpl-warnings\");\n",
       "        if (warnings) {\n",
       "            warnings.style.display = 'block';\n",
       "            warnings.textContent = (\n",
       "                \"This browser does not support binary websocket messages. \" +\n",
       "                    \"Performance may be slow.\");\n",
       "        }\n",
       "    }\n",
       "\n",
       "    this.imageObj = new Image();\n",
       "\n",
       "    this.context = undefined;\n",
       "    this.message = undefined;\n",
       "    this.canvas = undefined;\n",
       "    this.rubberband_canvas = undefined;\n",
       "    this.rubberband_context = undefined;\n",
       "    this.format_dropdown = undefined;\n",
       "\n",
       "    this.image_mode = 'full';\n",
       "\n",
       "    this.root = $('<div/>');\n",
       "    this._root_extra_style(this.root)\n",
       "    this.root.attr('style', 'display: inline-block');\n",
       "\n",
       "    $(parent_element).append(this.root);\n",
       "\n",
       "    this._init_header(this);\n",
       "    this._init_canvas(this);\n",
       "    this._init_toolbar(this);\n",
       "\n",
       "    var fig = this;\n",
       "\n",
       "    this.waiting = false;\n",
       "\n",
       "    this.ws.onopen =  function () {\n",
       "            fig.send_message(\"supports_binary\", {value: fig.supports_binary});\n",
       "            fig.send_message(\"send_image_mode\", {});\n",
       "            if (mpl.ratio != 1) {\n",
       "                fig.send_message(\"set_dpi_ratio\", {'dpi_ratio': mpl.ratio});\n",
       "            }\n",
       "            fig.send_message(\"refresh\", {});\n",
       "        }\n",
       "\n",
       "    this.imageObj.onload = function() {\n",
       "            if (fig.image_mode == 'full') {\n",
       "                // Full images could contain transparency (where diff images\n",
       "                // almost always do), so we need to clear the canvas so that\n",
       "                // there is no ghosting.\n",
       "                fig.context.clearRect(0, 0, fig.canvas.width, fig.canvas.height);\n",
       "            }\n",
       "            fig.context.drawImage(fig.imageObj, 0, 0);\n",
       "        };\n",
       "\n",
       "    this.imageObj.onunload = function() {\n",
       "        this.ws.close();\n",
       "    }\n",
       "\n",
       "    this.ws.onmessage = this._make_on_message_function(this);\n",
       "\n",
       "    this.ondownload = ondownload;\n",
       "}\n",
       "\n",
       "mpl.figure.prototype._init_header = function() {\n",
       "    var titlebar = $(\n",
       "        '<div class=\"ui-dialog-titlebar ui-widget-header ui-corner-all ' +\n",
       "        'ui-helper-clearfix\"/>');\n",
       "    var titletext = $(\n",
       "        '<div class=\"ui-dialog-title\" style=\"width: 100%; ' +\n",
       "        'text-align: center; padding: 3px;\"/>');\n",
       "    titlebar.append(titletext)\n",
       "    this.root.append(titlebar);\n",
       "    this.header = titletext[0];\n",
       "}\n",
       "\n",
       "\n",
       "\n",
       "mpl.figure.prototype._canvas_extra_style = function(canvas_div) {\n",
       "\n",
       "}\n",
       "\n",
       "\n",
       "mpl.figure.prototype._root_extra_style = function(canvas_div) {\n",
       "\n",
       "}\n",
       "\n",
       "mpl.figure.prototype._init_canvas = function() {\n",
       "    var fig = this;\n",
       "\n",
       "    var canvas_div = $('<div/>');\n",
       "\n",
       "    canvas_div.attr('style', 'position: relative; clear: both; outline: 0');\n",
       "\n",
       "    function canvas_keyboard_event(event) {\n",
       "        return fig.key_event(event, event['data']);\n",
       "    }\n",
       "\n",
       "    canvas_div.keydown('key_press', canvas_keyboard_event);\n",
       "    canvas_div.keyup('key_release', canvas_keyboard_event);\n",
       "    this.canvas_div = canvas_div\n",
       "    this._canvas_extra_style(canvas_div)\n",
       "    this.root.append(canvas_div);\n",
       "\n",
       "    var canvas = $('<canvas/>');\n",
       "    canvas.addClass('mpl-canvas');\n",
       "    canvas.attr('style', \"left: 0; top: 0; z-index: 0; outline: 0\")\n",
       "\n",
       "    this.canvas = canvas[0];\n",
       "    this.context = canvas[0].getContext(\"2d\");\n",
       "\n",
       "    var backingStore = this.context.backingStorePixelRatio ||\n",
       "\tthis.context.webkitBackingStorePixelRatio ||\n",
       "\tthis.context.mozBackingStorePixelRatio ||\n",
       "\tthis.context.msBackingStorePixelRatio ||\n",
       "\tthis.context.oBackingStorePixelRatio ||\n",
       "\tthis.context.backingStorePixelRatio || 1;\n",
       "\n",
       "    mpl.ratio = (window.devicePixelRatio || 1) / backingStore;\n",
       "\n",
       "    var rubberband = $('<canvas/>');\n",
       "    rubberband.attr('style', \"position: absolute; left: 0; top: 0; z-index: 1;\")\n",
       "\n",
       "    var pass_mouse_events = true;\n",
       "\n",
       "    canvas_div.resizable({\n",
       "        start: function(event, ui) {\n",
       "            pass_mouse_events = false;\n",
       "        },\n",
       "        resize: function(event, ui) {\n",
       "            fig.request_resize(ui.size.width, ui.size.height);\n",
       "        },\n",
       "        stop: function(event, ui) {\n",
       "            pass_mouse_events = true;\n",
       "            fig.request_resize(ui.size.width, ui.size.height);\n",
       "        },\n",
       "    });\n",
       "\n",
       "    function mouse_event_fn(event) {\n",
       "        if (pass_mouse_events)\n",
       "            return fig.mouse_event(event, event['data']);\n",
       "    }\n",
       "\n",
       "    rubberband.mousedown('button_press', mouse_event_fn);\n",
       "    rubberband.mouseup('button_release', mouse_event_fn);\n",
       "    // Throttle sequential mouse events to 1 every 20ms.\n",
       "    rubberband.mousemove('motion_notify', mouse_event_fn);\n",
       "\n",
       "    rubberband.mouseenter('figure_enter', mouse_event_fn);\n",
       "    rubberband.mouseleave('figure_leave', mouse_event_fn);\n",
       "\n",
       "    canvas_div.on(\"wheel\", function (event) {\n",
       "        event = event.originalEvent;\n",
       "        event['data'] = 'scroll'\n",
       "        if (event.deltaY < 0) {\n",
       "            event.step = 1;\n",
       "        } else {\n",
       "            event.step = -1;\n",
       "        }\n",
       "        mouse_event_fn(event);\n",
       "    });\n",
       "\n",
       "    canvas_div.append(canvas);\n",
       "    canvas_div.append(rubberband);\n",
       "\n",
       "    this.rubberband = rubberband;\n",
       "    this.rubberband_canvas = rubberband[0];\n",
       "    this.rubberband_context = rubberband[0].getContext(\"2d\");\n",
       "    this.rubberband_context.strokeStyle = \"#000000\";\n",
       "\n",
       "    this._resize_canvas = function(width, height) {\n",
       "        // Keep the size of the canvas, canvas container, and rubber band\n",
       "        // canvas in synch.\n",
       "        canvas_div.css('width', width)\n",
       "        canvas_div.css('height', height)\n",
       "\n",
       "        canvas.attr('width', width * mpl.ratio);\n",
       "        canvas.attr('height', height * mpl.ratio);\n",
       "        canvas.attr('style', 'width: ' + width + 'px; height: ' + height + 'px;');\n",
       "\n",
       "        rubberband.attr('width', width);\n",
       "        rubberband.attr('height', height);\n",
       "    }\n",
       "\n",
       "    // Set the figure to an initial 600x600px, this will subsequently be updated\n",
       "    // upon first draw.\n",
       "    this._resize_canvas(600, 600);\n",
       "\n",
       "    // Disable right mouse context menu.\n",
       "    $(this.rubberband_canvas).bind(\"contextmenu\",function(e){\n",
       "        return false;\n",
       "    });\n",
       "\n",
       "    function set_focus () {\n",
       "        canvas.focus();\n",
       "        canvas_div.focus();\n",
       "    }\n",
       "\n",
       "    window.setTimeout(set_focus, 100);\n",
       "}\n",
       "\n",
       "mpl.figure.prototype._init_toolbar = function() {\n",
       "    var fig = this;\n",
       "\n",
       "    var nav_element = $('<div/>')\n",
       "    nav_element.attr('style', 'width: 100%');\n",
       "    this.root.append(nav_element);\n",
       "\n",
       "    // Define a callback function for later on.\n",
       "    function toolbar_event(event) {\n",
       "        return fig.toolbar_button_onclick(event['data']);\n",
       "    }\n",
       "    function toolbar_mouse_event(event) {\n",
       "        return fig.toolbar_button_onmouseover(event['data']);\n",
       "    }\n",
       "\n",
       "    for(var toolbar_ind in mpl.toolbar_items) {\n",
       "        var name = mpl.toolbar_items[toolbar_ind][0];\n",
       "        var tooltip = mpl.toolbar_items[toolbar_ind][1];\n",
       "        var image = mpl.toolbar_items[toolbar_ind][2];\n",
       "        var method_name = mpl.toolbar_items[toolbar_ind][3];\n",
       "\n",
       "        if (!name) {\n",
       "            // put a spacer in here.\n",
       "            continue;\n",
       "        }\n",
       "        var button = $('<button/>');\n",
       "        button.addClass('ui-button ui-widget ui-state-default ui-corner-all ' +\n",
       "                        'ui-button-icon-only');\n",
       "        button.attr('role', 'button');\n",
       "        button.attr('aria-disabled', 'false');\n",
       "        button.click(method_name, toolbar_event);\n",
       "        button.mouseover(tooltip, toolbar_mouse_event);\n",
       "\n",
       "        var icon_img = $('<span/>');\n",
       "        icon_img.addClass('ui-button-icon-primary ui-icon');\n",
       "        icon_img.addClass(image);\n",
       "        icon_img.addClass('ui-corner-all');\n",
       "\n",
       "        var tooltip_span = $('<span/>');\n",
       "        tooltip_span.addClass('ui-button-text');\n",
       "        tooltip_span.html(tooltip);\n",
       "\n",
       "        button.append(icon_img);\n",
       "        button.append(tooltip_span);\n",
       "\n",
       "        nav_element.append(button);\n",
       "    }\n",
       "\n",
       "    var fmt_picker_span = $('<span/>');\n",
       "\n",
       "    var fmt_picker = $('<select/>');\n",
       "    fmt_picker.addClass('mpl-toolbar-option ui-widget ui-widget-content');\n",
       "    fmt_picker_span.append(fmt_picker);\n",
       "    nav_element.append(fmt_picker_span);\n",
       "    this.format_dropdown = fmt_picker[0];\n",
       "\n",
       "    for (var ind in mpl.extensions) {\n",
       "        var fmt = mpl.extensions[ind];\n",
       "        var option = $(\n",
       "            '<option/>', {selected: fmt === mpl.default_extension}).html(fmt);\n",
       "        fmt_picker.append(option)\n",
       "    }\n",
       "\n",
       "    // Add hover states to the ui-buttons\n",
       "    $( \".ui-button\" ).hover(\n",
       "        function() { $(this).addClass(\"ui-state-hover\");},\n",
       "        function() { $(this).removeClass(\"ui-state-hover\");}\n",
       "    );\n",
       "\n",
       "    var status_bar = $('<span class=\"mpl-message\"/>');\n",
       "    nav_element.append(status_bar);\n",
       "    this.message = status_bar[0];\n",
       "}\n",
       "\n",
       "mpl.figure.prototype.request_resize = function(x_pixels, y_pixels) {\n",
       "    // Request matplotlib to resize the figure. Matplotlib will then trigger a resize in the client,\n",
       "    // which will in turn request a refresh of the image.\n",
       "    this.send_message('resize', {'width': x_pixels, 'height': y_pixels});\n",
       "}\n",
       "\n",
       "mpl.figure.prototype.send_message = function(type, properties) {\n",
       "    properties['type'] = type;\n",
       "    properties['figure_id'] = this.id;\n",
       "    this.ws.send(JSON.stringify(properties));\n",
       "}\n",
       "\n",
       "mpl.figure.prototype.send_draw_message = function() {\n",
       "    if (!this.waiting) {\n",
       "        this.waiting = true;\n",
       "        this.ws.send(JSON.stringify({type: \"draw\", figure_id: this.id}));\n",
       "    }\n",
       "}\n",
       "\n",
       "\n",
       "mpl.figure.prototype.handle_save = function(fig, msg) {\n",
       "    var format_dropdown = fig.format_dropdown;\n",
       "    var format = format_dropdown.options[format_dropdown.selectedIndex].value;\n",
       "    fig.ondownload(fig, format);\n",
       "}\n",
       "\n",
       "\n",
       "mpl.figure.prototype.handle_resize = function(fig, msg) {\n",
       "    var size = msg['size'];\n",
       "    if (size[0] != fig.canvas.width || size[1] != fig.canvas.height) {\n",
       "        fig._resize_canvas(size[0], size[1]);\n",
       "        fig.send_message(\"refresh\", {});\n",
       "    };\n",
       "}\n",
       "\n",
       "mpl.figure.prototype.handle_rubberband = function(fig, msg) {\n",
       "    var x0 = msg['x0'] / mpl.ratio;\n",
       "    var y0 = (fig.canvas.height - msg['y0']) / mpl.ratio;\n",
       "    var x1 = msg['x1'] / mpl.ratio;\n",
       "    var y1 = (fig.canvas.height - msg['y1']) / mpl.ratio;\n",
       "    x0 = Math.floor(x0) + 0.5;\n",
       "    y0 = Math.floor(y0) + 0.5;\n",
       "    x1 = Math.floor(x1) + 0.5;\n",
       "    y1 = Math.floor(y1) + 0.5;\n",
       "    var min_x = Math.min(x0, x1);\n",
       "    var min_y = Math.min(y0, y1);\n",
       "    var width = Math.abs(x1 - x0);\n",
       "    var height = Math.abs(y1 - y0);\n",
       "\n",
       "    fig.rubberband_context.clearRect(\n",
       "        0, 0, fig.canvas.width, fig.canvas.height);\n",
       "\n",
       "    fig.rubberband_context.strokeRect(min_x, min_y, width, height);\n",
       "}\n",
       "\n",
       "mpl.figure.prototype.handle_figure_label = function(fig, msg) {\n",
       "    // Updates the figure title.\n",
       "    fig.header.textContent = msg['label'];\n",
       "}\n",
       "\n",
       "mpl.figure.prototype.handle_cursor = function(fig, msg) {\n",
       "    var cursor = msg['cursor'];\n",
       "    switch(cursor)\n",
       "    {\n",
       "    case 0:\n",
       "        cursor = 'pointer';\n",
       "        break;\n",
       "    case 1:\n",
       "        cursor = 'default';\n",
       "        break;\n",
       "    case 2:\n",
       "        cursor = 'crosshair';\n",
       "        break;\n",
       "    case 3:\n",
       "        cursor = 'move';\n",
       "        break;\n",
       "    }\n",
       "    fig.rubberband_canvas.style.cursor = cursor;\n",
       "}\n",
       "\n",
       "mpl.figure.prototype.handle_message = function(fig, msg) {\n",
       "    fig.message.textContent = msg['message'];\n",
       "}\n",
       "\n",
       "mpl.figure.prototype.handle_draw = function(fig, msg) {\n",
       "    // Request the server to send over a new figure.\n",
       "    fig.send_draw_message();\n",
       "}\n",
       "\n",
       "mpl.figure.prototype.handle_image_mode = function(fig, msg) {\n",
       "    fig.image_mode = msg['mode'];\n",
       "}\n",
       "\n",
       "mpl.figure.prototype.updated_canvas_event = function() {\n",
       "    // Called whenever the canvas gets updated.\n",
       "    this.send_message(\"ack\", {});\n",
       "}\n",
       "\n",
       "// A function to construct a web socket function for onmessage handling.\n",
       "// Called in the figure constructor.\n",
       "mpl.figure.prototype._make_on_message_function = function(fig) {\n",
       "    return function socket_on_message(evt) {\n",
       "        if (evt.data instanceof Blob) {\n",
       "            /* FIXME: We get \"Resource interpreted as Image but\n",
       "             * transferred with MIME type text/plain:\" errors on\n",
       "             * Chrome.  But how to set the MIME type?  It doesn't seem\n",
       "             * to be part of the websocket stream */\n",
       "            evt.data.type = \"image/png\";\n",
       "\n",
       "            /* Free the memory for the previous frames */\n",
       "            if (fig.imageObj.src) {\n",
       "                (window.URL || window.webkitURL).revokeObjectURL(\n",
       "                    fig.imageObj.src);\n",
       "            }\n",
       "\n",
       "            fig.imageObj.src = (window.URL || window.webkitURL).createObjectURL(\n",
       "                evt.data);\n",
       "            fig.updated_canvas_event();\n",
       "            fig.waiting = false;\n",
       "            return;\n",
       "        }\n",
       "        else if (typeof evt.data === 'string' && evt.data.slice(0, 21) == \"data:image/png;base64\") {\n",
       "            fig.imageObj.src = evt.data;\n",
       "            fig.updated_canvas_event();\n",
       "            fig.waiting = false;\n",
       "            return;\n",
       "        }\n",
       "\n",
       "        var msg = JSON.parse(evt.data);\n",
       "        var msg_type = msg['type'];\n",
       "\n",
       "        // Call the  \"handle_{type}\" callback, which takes\n",
       "        // the figure and JSON message as its only arguments.\n",
       "        try {\n",
       "            var callback = fig[\"handle_\" + msg_type];\n",
       "        } catch (e) {\n",
       "            console.log(\"No handler for the '\" + msg_type + \"' message type: \", msg);\n",
       "            return;\n",
       "        }\n",
       "\n",
       "        if (callback) {\n",
       "            try {\n",
       "                // console.log(\"Handling '\" + msg_type + \"' message: \", msg);\n",
       "                callback(fig, msg);\n",
       "            } catch (e) {\n",
       "                console.log(\"Exception inside the 'handler_\" + msg_type + \"' callback:\", e, e.stack, msg);\n",
       "            }\n",
       "        }\n",
       "    };\n",
       "}\n",
       "\n",
       "// from http://stackoverflow.com/questions/1114465/getting-mouse-location-in-canvas\n",
       "mpl.findpos = function(e) {\n",
       "    //this section is from http://www.quirksmode.org/js/events_properties.html\n",
       "    var targ;\n",
       "    if (!e)\n",
       "        e = window.event;\n",
       "    if (e.target)\n",
       "        targ = e.target;\n",
       "    else if (e.srcElement)\n",
       "        targ = e.srcElement;\n",
       "    if (targ.nodeType == 3) // defeat Safari bug\n",
       "        targ = targ.parentNode;\n",
       "\n",
       "    // jQuery normalizes the pageX and pageY\n",
       "    // pageX,Y are the mouse positions relative to the document\n",
       "    // offset() returns the position of the element relative to the document\n",
       "    var x = e.pageX - $(targ).offset().left;\n",
       "    var y = e.pageY - $(targ).offset().top;\n",
       "\n",
       "    return {\"x\": x, \"y\": y};\n",
       "};\n",
       "\n",
       "/*\n",
       " * return a copy of an object with only non-object keys\n",
       " * we need this to avoid circular references\n",
       " * http://stackoverflow.com/a/24161582/3208463\n",
       " */\n",
       "function simpleKeys (original) {\n",
       "  return Object.keys(original).reduce(function (obj, key) {\n",
       "    if (typeof original[key] !== 'object')\n",
       "        obj[key] = original[key]\n",
       "    return obj;\n",
       "  }, {});\n",
       "}\n",
       "\n",
       "mpl.figure.prototype.mouse_event = function(event, name) {\n",
       "    var canvas_pos = mpl.findpos(event)\n",
       "\n",
       "    if (name === 'button_press')\n",
       "    {\n",
       "        this.canvas.focus();\n",
       "        this.canvas_div.focus();\n",
       "    }\n",
       "\n",
       "    var x = canvas_pos.x * mpl.ratio;\n",
       "    var y = canvas_pos.y * mpl.ratio;\n",
       "\n",
       "    this.send_message(name, {x: x, y: y, button: event.button,\n",
       "                             step: event.step,\n",
       "                             guiEvent: simpleKeys(event)});\n",
       "\n",
       "    /* This prevents the web browser from automatically changing to\n",
       "     * the text insertion cursor when the button is pressed.  We want\n",
       "     * to control all of the cursor setting manually through the\n",
       "     * 'cursor' event from matplotlib */\n",
       "    event.preventDefault();\n",
       "    return false;\n",
       "}\n",
       "\n",
       "mpl.figure.prototype._key_event_extra = function(event, name) {\n",
       "    // Handle any extra behaviour associated with a key event\n",
       "}\n",
       "\n",
       "mpl.figure.prototype.key_event = function(event, name) {\n",
       "\n",
       "    // Prevent repeat events\n",
       "    if (name == 'key_press')\n",
       "    {\n",
       "        if (event.which === this._key)\n",
       "            return;\n",
       "        else\n",
       "            this._key = event.which;\n",
       "    }\n",
       "    if (name == 'key_release')\n",
       "        this._key = null;\n",
       "\n",
       "    var value = '';\n",
       "    if (event.ctrlKey && event.which != 17)\n",
       "        value += \"ctrl+\";\n",
       "    if (event.altKey && event.which != 18)\n",
       "        value += \"alt+\";\n",
       "    if (event.shiftKey && event.which != 16)\n",
       "        value += \"shift+\";\n",
       "\n",
       "    value += 'k';\n",
       "    value += event.which.toString();\n",
       "\n",
       "    this._key_event_extra(event, name);\n",
       "\n",
       "    this.send_message(name, {key: value,\n",
       "                             guiEvent: simpleKeys(event)});\n",
       "    return false;\n",
       "}\n",
       "\n",
       "mpl.figure.prototype.toolbar_button_onclick = function(name) {\n",
       "    if (name == 'download') {\n",
       "        this.handle_save(this, null);\n",
       "    } else {\n",
       "        this.send_message(\"toolbar_button\", {name: name});\n",
       "    }\n",
       "};\n",
       "\n",
       "mpl.figure.prototype.toolbar_button_onmouseover = function(tooltip) {\n",
       "    this.message.textContent = tooltip;\n",
       "};\n",
       "mpl.toolbar_items = [[\"Home\", \"Reset original view\", \"fa fa-home icon-home\", \"home\"], [\"Back\", \"Back to  previous view\", \"fa fa-arrow-left icon-arrow-left\", \"back\"], [\"Forward\", \"Forward to next view\", \"fa fa-arrow-right icon-arrow-right\", \"forward\"], [\"\", \"\", \"\", \"\"], [\"Pan\", \"Pan axes with left mouse, zoom with right\", \"fa fa-arrows icon-move\", \"pan\"], [\"Zoom\", \"Zoom to rectangle\", \"fa fa-square-o icon-check-empty\", \"zoom\"], [\"\", \"\", \"\", \"\"], [\"Download\", \"Download plot\", \"fa fa-floppy-o icon-save\", \"download\"]];\n",
       "\n",
       "mpl.extensions = [\"eps\", \"jpeg\", \"pdf\", \"png\", \"ps\", \"raw\", \"svg\", \"tif\"];\n",
       "\n",
       "mpl.default_extension = \"png\";var comm_websocket_adapter = function(comm) {\n",
       "    // Create a \"websocket\"-like object which calls the given IPython comm\n",
       "    // object with the appropriate methods. Currently this is a non binary\n",
       "    // socket, so there is still some room for performance tuning.\n",
       "    var ws = {};\n",
       "\n",
       "    ws.close = function() {\n",
       "        comm.close()\n",
       "    };\n",
       "    ws.send = function(m) {\n",
       "        //console.log('sending', m);\n",
       "        comm.send(m);\n",
       "    };\n",
       "    // Register the callback with on_msg.\n",
       "    comm.on_msg(function(msg) {\n",
       "        //console.log('receiving', msg['content']['data'], msg);\n",
       "        // Pass the mpl event to the overriden (by mpl) onmessage function.\n",
       "        ws.onmessage(msg['content']['data'])\n",
       "    });\n",
       "    return ws;\n",
       "}\n",
       "\n",
       "mpl.mpl_figure_comm = function(comm, msg) {\n",
       "    // This is the function which gets called when the mpl process\n",
       "    // starts-up an IPython Comm through the \"matplotlib\" channel.\n",
       "\n",
       "    var id = msg.content.data.id;\n",
       "    // Get hold of the div created by the display call when the Comm\n",
       "    // socket was opened in Python.\n",
       "    var element = $(\"#\" + id);\n",
       "    var ws_proxy = comm_websocket_adapter(comm)\n",
       "\n",
       "    function ondownload(figure, format) {\n",
       "        window.open(figure.imageObj.src);\n",
       "    }\n",
       "\n",
       "    var fig = new mpl.figure(id, ws_proxy,\n",
       "                           ondownload,\n",
       "                           element.get(0));\n",
       "\n",
       "    // Call onopen now - mpl needs it, as it is assuming we've passed it a real\n",
       "    // web socket which is closed, not our websocket->open comm proxy.\n",
       "    ws_proxy.onopen();\n",
       "\n",
       "    fig.parent_element = element.get(0);\n",
       "    fig.cell_info = mpl.find_output_cell(\"<div id='\" + id + \"'></div>\");\n",
       "    if (!fig.cell_info) {\n",
       "        console.error(\"Failed to find cell for figure\", id, fig);\n",
       "        return;\n",
       "    }\n",
       "\n",
       "    var output_index = fig.cell_info[2]\n",
       "    var cell = fig.cell_info[0];\n",
       "\n",
       "};\n",
       "\n",
       "mpl.figure.prototype.handle_close = function(fig, msg) {\n",
       "    var width = fig.canvas.width/mpl.ratio\n",
       "    fig.root.unbind('remove')\n",
       "\n",
       "    // Update the output cell to use the data from the current canvas.\n",
       "    fig.push_to_output();\n",
       "    var dataURL = fig.canvas.toDataURL();\n",
       "    // Re-enable the keyboard manager in IPython - without this line, in FF,\n",
       "    // the notebook keyboard shortcuts fail.\n",
       "    IPython.keyboard_manager.enable()\n",
       "    $(fig.parent_element).html('<img src=\"' + dataURL + '\" width=\"' + width + '\">');\n",
       "    fig.close_ws(fig, msg);\n",
       "}\n",
       "\n",
       "mpl.figure.prototype.close_ws = function(fig, msg){\n",
       "    fig.send_message('closing', msg);\n",
       "    // fig.ws.close()\n",
       "}\n",
       "\n",
       "mpl.figure.prototype.push_to_output = function(remove_interactive) {\n",
       "    // Turn the data on the canvas into data in the output cell.\n",
       "    var width = this.canvas.width/mpl.ratio\n",
       "    var dataURL = this.canvas.toDataURL();\n",
       "    this.cell_info[1]['text/html'] = '<img src=\"' + dataURL + '\" width=\"' + width + '\">';\n",
       "}\n",
       "\n",
       "mpl.figure.prototype.updated_canvas_event = function() {\n",
       "    // Tell IPython that the notebook contents must change.\n",
       "    IPython.notebook.set_dirty(true);\n",
       "    this.send_message(\"ack\", {});\n",
       "    var fig = this;\n",
       "    // Wait a second, then push the new image to the DOM so\n",
       "    // that it is saved nicely (might be nice to debounce this).\n",
       "    setTimeout(function () { fig.push_to_output() }, 1000);\n",
       "}\n",
       "\n",
       "mpl.figure.prototype._init_toolbar = function() {\n",
       "    var fig = this;\n",
       "\n",
       "    var nav_element = $('<div/>')\n",
       "    nav_element.attr('style', 'width: 100%');\n",
       "    this.root.append(nav_element);\n",
       "\n",
       "    // Define a callback function for later on.\n",
       "    function toolbar_event(event) {\n",
       "        return fig.toolbar_button_onclick(event['data']);\n",
       "    }\n",
       "    function toolbar_mouse_event(event) {\n",
       "        return fig.toolbar_button_onmouseover(event['data']);\n",
       "    }\n",
       "\n",
       "    for(var toolbar_ind in mpl.toolbar_items){\n",
       "        var name = mpl.toolbar_items[toolbar_ind][0];\n",
       "        var tooltip = mpl.toolbar_items[toolbar_ind][1];\n",
       "        var image = mpl.toolbar_items[toolbar_ind][2];\n",
       "        var method_name = mpl.toolbar_items[toolbar_ind][3];\n",
       "\n",
       "        if (!name) { continue; };\n",
       "\n",
       "        var button = $('<button class=\"btn btn-default\" href=\"#\" title=\"' + name + '\"><i class=\"fa ' + image + ' fa-lg\"></i></button>');\n",
       "        button.click(method_name, toolbar_event);\n",
       "        button.mouseover(tooltip, toolbar_mouse_event);\n",
       "        nav_element.append(button);\n",
       "    }\n",
       "\n",
       "    // Add the status bar.\n",
       "    var status_bar = $('<span class=\"mpl-message\" style=\"text-align:right; float: right;\"/>');\n",
       "    nav_element.append(status_bar);\n",
       "    this.message = status_bar[0];\n",
       "\n",
       "    // Add the close button to the window.\n",
       "    var buttongrp = $('<div class=\"btn-group inline pull-right\"></div>');\n",
       "    var button = $('<button class=\"btn btn-mini btn-primary\" href=\"#\" title=\"Stop Interaction\"><i class=\"fa fa-power-off icon-remove icon-large\"></i></button>');\n",
       "    button.click(function (evt) { fig.handle_close(fig, {}); } );\n",
       "    button.mouseover('Stop Interaction', toolbar_mouse_event);\n",
       "    buttongrp.append(button);\n",
       "    var titlebar = this.root.find($('.ui-dialog-titlebar'));\n",
       "    titlebar.prepend(buttongrp);\n",
       "}\n",
       "\n",
       "mpl.figure.prototype._root_extra_style = function(el){\n",
       "    var fig = this\n",
       "    el.on(\"remove\", function(){\n",
       "\tfig.close_ws(fig, {});\n",
       "    });\n",
       "}\n",
       "\n",
       "mpl.figure.prototype._canvas_extra_style = function(el){\n",
       "    // this is important to make the div 'focusable\n",
       "    el.attr('tabindex', 0)\n",
       "    // reach out to IPython and tell the keyboard manager to turn it's self\n",
       "    // off when our div gets focus\n",
       "\n",
       "    // location in version 3\n",
       "    if (IPython.notebook.keyboard_manager) {\n",
       "        IPython.notebook.keyboard_manager.register_events(el);\n",
       "    }\n",
       "    else {\n",
       "        // location in version 2\n",
       "        IPython.keyboard_manager.register_events(el);\n",
       "    }\n",
       "\n",
       "}\n",
       "\n",
       "mpl.figure.prototype._key_event_extra = function(event, name) {\n",
       "    var manager = IPython.notebook.keyboard_manager;\n",
       "    if (!manager)\n",
       "        manager = IPython.keyboard_manager;\n",
       "\n",
       "    // Check for shift+enter\n",
       "    if (event.shiftKey && event.which == 13) {\n",
       "        this.canvas_div.blur();\n",
       "        // select the cell after this one\n",
       "        var index = IPython.notebook.find_cell_index(this.cell_info[0]);\n",
       "        IPython.notebook.select(index + 1);\n",
       "    }\n",
       "}\n",
       "\n",
       "mpl.figure.prototype.handle_save = function(fig, msg) {\n",
       "    fig.ondownload(fig, null);\n",
       "}\n",
       "\n",
       "\n",
       "mpl.find_output_cell = function(html_output) {\n",
       "    // Return the cell and output element which can be found *uniquely* in the notebook.\n",
       "    // Note - this is a bit hacky, but it is done because the \"notebook_saving.Notebook\"\n",
       "    // IPython event is triggered only after the cells have been serialised, which for\n",
       "    // our purposes (turning an active figure into a static one), is too late.\n",
       "    var cells = IPython.notebook.get_cells();\n",
       "    var ncells = cells.length;\n",
       "    for (var i=0; i<ncells; i++) {\n",
       "        var cell = cells[i];\n",
       "        if (cell.cell_type === 'code'){\n",
       "            for (var j=0; j<cell.output_area.outputs.length; j++) {\n",
       "                var data = cell.output_area.outputs[j];\n",
       "                if (data.data) {\n",
       "                    // IPython >= 3 moved mimebundle to data attribute of output\n",
       "                    data = data.data;\n",
       "                }\n",
       "                if (data['text/html'] == html_output) {\n",
       "                    return [cell, data, j];\n",
       "                }\n",
       "            }\n",
       "        }\n",
       "    }\n",
       "}\n",
       "\n",
       "// Register the function which deals with the matplotlib target/channel.\n",
       "// The kernel may be null if the page has been refreshed.\n",
       "if (IPython.notebook.kernel != null) {\n",
       "    IPython.notebook.kernel.comm_manager.register_target('matplotlib', mpl.mpl_figure_comm);\n",
       "}\n"
      ],
      "text/plain": [
       "<IPython.core.display.Javascript object>"
      ]
     },
     "metadata": {},
     "output_type": "display_data"
    },
    {
     "data": {
      "text/html": [
       "<img src=\"data:image/png;base64,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\" width=\"640\">"
      ],
      "text/plain": [
       "<IPython.core.display.HTML object>"
      ]
     },
     "metadata": {},
     "output_type": "display_data"
    }
   ],
   "source": [
    "def calculate_sin(x, index):\n",
    "    return np.sin(x * index)\n",
    "\n",
    "fig, ax = plt.subplots()\n",
    "x_axis = np.arange(0, 10)\n",
    "for index in np.arange(2, 6):\n",
    "    ax.plot(x_axis, calculate_sin(x_axis, index))"
   ]
  },
  {
   "cell_type": "markdown",
   "metadata": {
    "run_control": {
     "frozen": false,
     "read_only": false
    }
   },
   "source": [
    "# Loops "
   ]
  },
  {
   "cell_type": "markdown",
   "metadata": {
    "run_control": {
     "frozen": false,
     "read_only": false
    }
   },
   "source": [
    "There are different types of loop but 80% of the time you will use the **for loop**"
   ]
  },
  {
   "cell_type": "code",
   "execution_count": null,
   "metadata": {
    "run_control": {
     "frozen": false,
     "read_only": false
    }
   },
   "outputs": [],
   "source": [
    "for i in np.arange(10):\n",
    "    print(i)"
   ]
  },
  {
   "cell_type": "markdown",
   "metadata": {
    "run_control": {
     "frozen": false,
     "read_only": false
    }
   },
   "source": [
    "Don't know what is np.arange?\n",
    "\n",
    "Remember:\n",
    "\n",
    " * type \"np.arange\"\n",
    " * SHIFT + TAB\n",
    " \n"
   ]
  },
  {
   "cell_type": "markdown",
   "metadata": {
    "run_control": {
     "frozen": false,
     "read_only": false
    }
   },
   "source": [
    "# if statement "
   ]
  },
  {
   "cell_type": "code",
   "execution_count": null,
   "metadata": {
    "run_control": {
     "frozen": false,
     "read_only": false
    }
   },
   "outputs": [],
   "source": [
    "my_age = 40\n",
    "if my_age < 40:\n",
    "    print(\"I'm young\")\n",
    "elif my_age > 40:\n",
    "    print(\"I feel young\")\n",
    "else:\n",
    "    print(\"What can I say, I'm 40!\")"
   ]
  },
  {
   "cell_type": "markdown",
   "metadata": {
    "collapsed": true,
    "run_control": {
     "frozen": false,
     "read_only": false
    }
   },
   "source": [
    "# Error "
   ]
  },
  {
   "cell_type": "markdown",
   "metadata": {
    "run_control": {
     "frozen": false,
     "read_only": false
    }
   },
   "source": [
    "**Error** raise by python are here to help you, DO NOT BE AFRAID OF THEM"
   ]
  },
  {
   "cell_type": "markdown",
   "metadata": {
    "run_control": {
     "frozen": false,
     "read_only": false
    }
   },
   "source": [
    "Can you guess what is wrong here using the error message?"
   ]
  },
  {
   "cell_type": "code",
   "execution_count": null,
   "metadata": {
    "run_control": {
     "frozen": false,
     "read_only": false
    }
   },
   "outputs": [],
   "source": [
    "print \"this is a number\""
   ]
  },
  {
   "cell_type": "markdown",
   "metadata": {
    "run_control": {
     "frozen": false,
     "read_only": false
    }
   },
   "source": [
    "Remember that sometimes, the error message can be very long. **ALWAYS** starts from the bottom to figure out what is wrong."
   ]
  },
  {
   "cell_type": "code",
   "execution_count": null,
   "metadata": {
    "run_control": {
     "frozen": false,
     "read_only": false
    }
   },
   "outputs": [],
   "source": []
  }
 ],
 "metadata": {
  "kernelspec": {
   "display_name": "Python 3",
   "language": "python",
   "name": "python3"
  },
  "language_info": {
   "codemirror_mode": {
    "name": "ipython",
    "version": 3
   },
   "file_extension": ".py",
   "mimetype": "text/x-python",
   "name": "python",
   "nbconvert_exporter": "python",
   "pygments_lexer": "ipython3",
   "version": "3.6.2"
  },
  "toc": {
   "colors": {
    "hover_highlight": "#DAA520",
    "running_highlight": "#FF0000",
    "selected_highlight": "#FFD700"
   },
   "moveMenuLeft": true,
   "nav_menu": {
    "height": "12px",
    "width": "252px"
   },
   "navigate_menu": true,
   "number_sections": true,
   "sideBar": true,
   "threshold": 4,
   "toc_cell": false,
   "toc_section_display": "block",
   "toc_window_display": false
  }
 },
 "nbformat": 4,
 "nbformat_minor": 2
}
