{
 "cells": [
  {
   "cell_type": "markdown",
   "metadata": {},
   "source": [
    "# What is HDF?\n",
    "\n",
    "* it stands for Hierarchical Data Format\n",
    "* allows for organizing data\n",
    "* especially useful for large amounts of data (has a binary format)\n",
    "* NeXus files are hdf5 files\n",
    "* one can use hdfview or NeXpy to look at the content\n",
    "\n",
    "<img src='hdfview.png'>\n",
    "\n",
    "* the information is organized in groups and datasets\n",
    "* one can have attributes to describe each field\n",
    "\n",
    "For more information, go to https://portal.hdfgroup.org/display/HDF5/HDF5"
   ]
  },
  {
   "cell_type": "code",
   "execution_count": 1,
   "metadata": {},
   "outputs": [
    {
     "name": "stdout",
     "output_type": "stream",
     "text": [
      "HB2C_143233.nxs.h5  HYS_13656_event.nxs  HYS_181000.nxs.h5\r\n"
     ]
    }
   ],
   "source": [
    "\n",
    "!ls ../Data/HDF"
   ]
  },
  {
   "cell_type": "markdown",
   "metadata": {},
   "source": [
    "h5py is a library for working with hdf5 files\n",
    "open an instance to the hdf 5 file with the File command."
   ]
  },
  {
   "cell_type": "code",
   "execution_count": 2,
   "metadata": {},
   "outputs": [],
   "source": [
    "import h5py\n",
    "\n",
    "f=h5py.File('../Data/HDF/HB2C_143233.nxs.h5', 'r')"
   ]
  },
  {
   "cell_type": "markdown",
   "metadata": {},
   "source": [
    "use the keys method to access the file"
   ]
  },
  {
   "cell_type": "code",
   "execution_count": 3,
   "metadata": {},
   "outputs": [
    {
     "data": {
      "text/plain": [
       "['entry']"
      ]
     },
     "execution_count": 3,
     "metadata": {},
     "output_type": "execute_result"
    }
   ],
   "source": [
    "list(f.keys())"
   ]
  },
  {
   "cell_type": "markdown",
   "metadata": {},
   "source": [
    "entry is the base level.  let's use that to look at the keys below it."
   ]
  },
  {
   "cell_type": "code",
   "execution_count": 4,
   "metadata": {},
   "outputs": [
    {
     "data": {
      "text/plain": [
       "['DASlogs',\n",
       " 'Software',\n",
       " 'bank1_events',\n",
       " 'bank2_events',\n",
       " 'bank3_events',\n",
       " 'bank4_events',\n",
       " 'bank5_events',\n",
       " 'bank6_events',\n",
       " 'bank7_events',\n",
       " 'bank8_events',\n",
       " 'bank_error_events',\n",
       " 'bank_unmapped_events',\n",
       " 'definition',\n",
       " 'duration',\n",
       " 'end_time',\n",
       " 'entry_identifier',\n",
       " 'experiment_identifier',\n",
       " 'experiment_title',\n",
       " 'instrument',\n",
       " 'notes',\n",
       " 'proton_charge',\n",
       " 'raw_frames',\n",
       " 'run_number',\n",
       " 'sample',\n",
       " 'start_time',\n",
       " 'title',\n",
       " 'total_counts',\n",
       " 'total_other_counts',\n",
       " 'total_pulses',\n",
       " 'total_uncounted_counts',\n",
       " 'user1',\n",
       " 'user10',\n",
       " 'user11',\n",
       " 'user12',\n",
       " 'user13',\n",
       " 'user14',\n",
       " 'user2',\n",
       " 'user3',\n",
       " 'user4',\n",
       " 'user5',\n",
       " 'user6',\n",
       " 'user7',\n",
       " 'user8',\n",
       " 'user9']"
      ]
     },
     "execution_count": 4,
     "metadata": {},
     "output_type": "execute_result"
    }
   ],
   "source": [
    "list(f['entry'].keys())"
   ]
  },
  {
   "cell_type": "markdown",
   "metadata": {},
   "source": [
    "Let's look in the DASlogs"
   ]
  },
  {
   "cell_type": "code",
   "execution_count": 5,
   "metadata": {},
   "outputs": [
    {
     "data": {
      "text/plain": [
       "['Device11:Enum:enum_01',\n",
       " 'Device11:Enum:enum_02',\n",
       " 'HB2C:CS:CrystalAlign:UBMatrix',\n",
       " 'HB2C:CS:ITEMS',\n",
       " 'HB2C:CS:ITEMS:CanBarcode',\n",
       " 'HB2C:CS:ITEMS:CanIndicator',\n",
       " 'HB2C:CS:ITEMS:CanMaterials',\n",
       " 'HB2C:CS:ITEMS:CanName',\n",
       " 'HB2C:CS:ITEMS:Comments',\n",
       " 'HB2C:CS:ITEMS:Component',\n",
       " 'HB2C:CS:ITEMS:Container',\n",
       " 'HB2C:CS:ITEMS:ContainerId',\n",
       " 'HB2C:CS:ITEMS:Density',\n",
       " 'HB2C:CS:ITEMS:DensityUnits',\n",
       " 'HB2C:CS:ITEMS:Description',\n",
       " 'HB2C:CS:ITEMS:Formula',\n",
       " 'HB2C:CS:ITEMS:HeightInContainer',\n",
       " 'HB2C:CS:ITEMS:HeightInContainerUnits',\n",
       " 'HB2C:CS:ITEMS:InteriorDepth',\n",
       " 'HB2C:CS:ITEMS:InteriorDepthUnits',\n",
       " 'HB2C:CS:ITEMS:InteriorDiameter',\n",
       " 'HB2C:CS:ITEMS:InteriorDiameterUnits',\n",
       " 'HB2C:CS:ITEMS:InteriorHeight',\n",
       " 'HB2C:CS:ITEMS:InteriorHeightUnits',\n",
       " 'HB2C:CS:ITEMS:InteriorWidth',\n",
       " 'HB2C:CS:ITEMS:InteriorWidthUnits',\n",
       " 'HB2C:CS:ITEMS:LatticeA',\n",
       " 'HB2C:CS:ITEMS:LatticeAlpha',\n",
       " 'HB2C:CS:ITEMS:LatticeB',\n",
       " 'HB2C:CS:ITEMS:LatticeBeta',\n",
       " 'HB2C:CS:ITEMS:LatticeC',\n",
       " 'HB2C:CS:ITEMS:LatticeGamma',\n",
       " 'HB2C:CS:ITEMS:Mass',\n",
       " 'HB2C:CS:ITEMS:MassUnits',\n",
       " 'HB2C:CS:ITEMS:Name',\n",
       " 'HB2C:CS:ITEMS:Nature',\n",
       " 'HB2C:CS:ITEMS:OuterDepth',\n",
       " 'HB2C:CS:ITEMS:OuterDepthUnits',\n",
       " 'HB2C:CS:ITEMS:OuterDiameter',\n",
       " 'HB2C:CS:ITEMS:OuterDiameterUnits',\n",
       " 'HB2C:CS:ITEMS:OuterHeight',\n",
       " 'HB2C:CS:ITEMS:OuterHeightUnits',\n",
       " 'HB2C:CS:ITEMS:OuterWidth',\n",
       " 'HB2C:CS:ITEMS:OuterWidthUnits',\n",
       " 'HB2C:CS:ITEMS:VolumeCubic',\n",
       " 'HB2C:CS:ITEMS:VolumeCubicUnits',\n",
       " 'HB2C:CS:LS218:INPUT1',\n",
       " 'HB2C:CS:LS218:INPUT2',\n",
       " 'HB2C:CS:LS218:INPUT3',\n",
       " 'HB2C:CS:LS218:INPUT4',\n",
       " 'HB2C:CS:LS218:INPUT5',\n",
       " 'HB2C:CS:LS218:INPUT6',\n",
       " 'HB2C:CS:LS218:INPUT7',\n",
       " 'HB2C:CS:LS218:INPUT8',\n",
       " 'HB2C:Mot:S1:Bottom',\n",
       " 'HB2C:Mot:S1:Bottom.RBV',\n",
       " 'HB2C:Mot:S1:Left',\n",
       " 'HB2C:Mot:S1:Left.RBV',\n",
       " 'HB2C:Mot:S1:Right',\n",
       " 'HB2C:Mot:S1:Right.RBV',\n",
       " 'HB2C:Mot:S1:Top',\n",
       " 'HB2C:Mot:S1:Top.RBV',\n",
       " 'HB2C:Mot:S1:X:Center',\n",
       " 'HB2C:Mot:S1:X:Center.RBV',\n",
       " 'HB2C:Mot:S1:X:Gap',\n",
       " 'HB2C:Mot:S1:X:Gap.RBV',\n",
       " 'HB2C:Mot:S1:Y:Center',\n",
       " 'HB2C:Mot:S1:Y:Center.RBV',\n",
       " 'HB2C:Mot:S1:Y:Gap',\n",
       " 'HB2C:Mot:S1:Y:Gap.RBV',\n",
       " 'HB2C:Mot:detz',\n",
       " 'HB2C:Mot:detz.RBV',\n",
       " 'HB2C:Mot:m1',\n",
       " 'HB2C:Mot:m1.RBV',\n",
       " 'HB2C:Mot:marc',\n",
       " 'HB2C:Mot:marc.RBV',\n",
       " 'HB2C:Mot:mfocus',\n",
       " 'HB2C:Mot:mfocus.RBV',\n",
       " 'HB2C:Mot:mtrans1',\n",
       " 'HB2C:Mot:mtrans1.RBV',\n",
       " 'HB2C:Mot:s1',\n",
       " 'HB2C:Mot:s1.RBV',\n",
       " 'HB2C:Mot:s2',\n",
       " 'HB2C:Mot:s2.RBV',\n",
       " 'HB2C:Mot:sgl',\n",
       " 'HB2C:Mot:sgl.RBV',\n",
       " 'HB2C:Mot:sgu',\n",
       " 'HB2C:Mot:sgu.RBV',\n",
       " 'HB2C:Mot:stl',\n",
       " 'HB2C:Mot:stl.RBV',\n",
       " 'HB2C:Mot:stu',\n",
       " 'HB2C:Mot:stu.RBV',\n",
       " 'HB2C:SE:Cryo:Temp:SAMPLE_TEMP',\n",
       " 'HB2C:SE:Cryo:Temp:SETP1',\n",
       " 'HB2C:SE:Cryo:Temp:SETP2',\n",
       " 'HB2C:SE:Cryo:TempActual',\n",
       " 'HB2C:SE:DF:SAMPLE_TEMP',\n",
       " 'HB2C:SE:DF:SETP',\n",
       " 'HB2C:SE:DF:SETP_S',\n",
       " 'HB2C:SE:LS2:SAMPLE_TEMP',\n",
       " 'HB2C:SE:LS:KRDG0',\n",
       " 'HB2C:SE:LS:KRDG1',\n",
       " 'HB2C:SE:LS:SAMPLE_TEMP',\n",
       " 'HB2C:SE:LS:SETP1',\n",
       " 'HB2C:SE:LS:SETP2',\n",
       " 'HB2C:SE:MAGB:Field',\n",
       " 'HB2C:SE:MAGB:FieldSet',\n",
       " 'HB2C:SE:MKS660:Pressure1',\n",
       " 'HB2C:SE:MKS660:Pressure2',\n",
       " 'HB2C:SE:MKS660:Pressure3',\n",
       " 'HB2C:SE:MKS660:Pressure4',\n",
       " 'HB2C:SE:MagneticField',\n",
       " 'HB2C:SE:ND1:CH1:PV',\n",
       " 'HB2C:SE:ND1:CH2:PV',\n",
       " 'HB2C:SE:ND1:Loop1:SP',\n",
       " 'HB2C:SE:ND1:Loop1:SP:Rate',\n",
       " 'HB2C:SE:SampleTemp',\n",
       " 'HB2C:SE:SelectMagneticField',\n",
       " 'HB2C:SE:SelectSampleEnv',\n",
       " 'HB2C:SE:Switch:CryostatStr',\n",
       " 'HB2C:SE:Switch:FurnaceStr',\n",
       " 'SampleComments',\n",
       " 'SampleContainer',\n",
       " 'SampleDensity',\n",
       " 'SampleDescription',\n",
       " 'SampleFormula',\n",
       " 'SampleId',\n",
       " 'SampleMass',\n",
       " 'SampleName',\n",
       " 'SampleNature',\n",
       " 'Veto_pulse',\n",
       " 'comments',\n",
       " 'frequency',\n",
       " 'pause',\n",
       " 'proton_charge',\n",
       " 'pulse_flags',\n",
       " 'scan_index']"
      ]
     },
     "execution_count": 5,
     "metadata": {},
     "output_type": "execute_result"
    }
   ],
   "source": [
    "# one can use compound path\n",
    "list(f['entry/DASlogs'].keys())\n",
    "    "
   ]
  },
  {
   "cell_type": "markdown",
   "metadata": {},
   "source": [
    "let's extract the units and values of the s1 motor"
   ]
  },
  {
   "cell_type": "code",
   "execution_count": 6,
   "metadata": {},
   "outputs": [],
   "source": [
    "temp=f['entry/DASlogs/HB2C:SE:SampleTemp']"
   ]
  },
  {
   "cell_type": "markdown",
   "metadata": {},
   "source": [
    "what is available for SampleTemp?"
   ]
  },
  {
   "cell_type": "code",
   "execution_count": 7,
   "metadata": {},
   "outputs": [
    {
     "data": {
      "text/plain": [
       "['average_value',\n",
       " 'average_value_error',\n",
       " 'device_id',\n",
       " 'device_name',\n",
       " 'maximum_value',\n",
       " 'minimum_value',\n",
       " 'time',\n",
       " 'value']"
      ]
     },
     "execution_count": 7,
     "metadata": {},
     "output_type": "execute_result"
    }
   ],
   "source": [
    "list(temp.keys())"
   ]
  },
  {
   "cell_type": "markdown",
   "metadata": {},
   "source": [
    "let's look at the average value\n"
   ]
  },
  {
   "cell_type": "code",
   "execution_count": 8,
   "metadata": {},
   "outputs": [],
   "source": [
    "av=temp['average_value']"
   ]
  },
  {
   "cell_type": "code",
   "execution_count": 9,
   "metadata": {},
   "outputs": [
    {
     "name": "stdout",
     "output_type": "stream",
     "text": [
      "/entry/DASlogs/HB2C:SE:SampleTemp/average_value\n"
     ]
    },
    {
     "data": {
      "text/plain": [
       "array([ 292.42611429])"
      ]
     },
     "execution_count": 9,
     "metadata": {},
     "output_type": "execute_result"
    }
   ],
   "source": [
    "print(av.name)\n",
    "av.value"
   ]
  },
  {
   "cell_type": "markdown",
   "metadata": {},
   "source": [
    "Let's get the values of the array"
   ]
  },
  {
   "cell_type": "code",
   "execution_count": 10,
   "metadata": {},
   "outputs": [],
   "source": [
    "temp_value=temp['value'].value"
   ]
  },
  {
   "cell_type": "markdown",
   "metadata": {},
   "source": [
    "So we now have an array"
   ]
  },
  {
   "cell_type": "code",
   "execution_count": 11,
   "metadata": {},
   "outputs": [
    {
     "data": {
      "text/plain": [
       "array([ 292.854,  292.843,  292.831,  292.819,  292.808,  292.796,\n",
       "        292.784,  292.772,  292.761,  292.749,  292.738,  292.725,\n",
       "        292.713,  292.701,  292.688,  292.678,  292.666,  292.654,\n",
       "        292.641,  292.627,  292.615,  292.602,  292.589,  292.577,\n",
       "        292.563,  292.553,  292.541,  292.528,  292.517,  292.504,\n",
       "        292.492,  292.479,  292.466,  292.452,  292.437,  292.425,\n",
       "        292.412,  292.399,  292.386,  292.373,  292.36 ,  292.347,\n",
       "        292.335,  292.321,  292.305,  292.293,  292.28 ,  292.268,\n",
       "        292.256,  292.242,  292.23 ,  292.217,  292.202,  292.189,\n",
       "        292.174,  292.162,  292.15 ,  292.138,  292.125,  292.11 ,\n",
       "        292.098,  292.084,  292.07 ,  292.057,  292.042,  292.03 ,\n",
       "        292.017,  292.003,  291.99 ,  291.975])"
      ]
     },
     "execution_count": 11,
     "metadata": {},
     "output_type": "execute_result"
    }
   ],
   "source": [
    "temp_value"
   ]
  },
  {
   "cell_type": "code",
   "execution_count": 12,
   "metadata": {},
   "outputs": [
    {
     "data": {
      "text/plain": [
       "(70,)"
      ]
     },
     "execution_count": 12,
     "metadata": {},
     "output_type": "execute_result"
    }
   ],
   "source": [
    "temp_value.shape"
   ]
  },
  {
   "cell_type": "code",
   "execution_count": 13,
   "metadata": {},
   "outputs": [
    {
     "data": {
      "text/plain": [
       "['units']"
      ]
     },
     "execution_count": 13,
     "metadata": {},
     "output_type": "execute_result"
    }
   ],
   "source": [
    "list (temp['value'].attrs.keys())"
   ]
  },
  {
   "cell_type": "markdown",
   "metadata": {},
   "source": [
    "Let's look at the units"
   ]
  },
  {
   "cell_type": "code",
   "execution_count": 14,
   "metadata": {},
   "outputs": [
    {
     "data": {
      "text/plain": [
       "b'K'"
      ]
     },
     "execution_count": 14,
     "metadata": {},
     "output_type": "execute_result"
    }
   ],
   "source": [
    "temp['value'].attrs['units']"
   ]
  },
  {
   "cell_type": "markdown",
   "metadata": {},
   "source": [
    "what is the b?   It stands for byte.  The string from the nexus file needs to be converted into the python string format.  This is because python supports beyond ASCII character sets."
   ]
  },
  {
   "cell_type": "code",
   "execution_count": 15,
   "metadata": {},
   "outputs": [],
   "source": [
    "value_u=str(temp['value'].attrs['units'],'utf-8')"
   ]
  },
  {
   "cell_type": "markdown",
   "metadata": {},
   "source": [
    "No for the time to go with the values"
   ]
  },
  {
   "cell_type": "code",
   "execution_count": 16,
   "metadata": {},
   "outputs": [],
   "source": [
    "temp_time=temp['time'].value"
   ]
  },
  {
   "cell_type": "code",
   "execution_count": 17,
   "metadata": {},
   "outputs": [
    {
     "data": {
      "text/plain": [
       "(70,)"
      ]
     },
     "execution_count": 17,
     "metadata": {},
     "output_type": "execute_result"
    }
   ],
   "source": [
    "temp_time.shape"
   ]
  },
  {
   "cell_type": "code",
   "execution_count": 18,
   "metadata": {},
   "outputs": [
    {
     "data": {
      "text/plain": [
       "['units', 'start', 'offset_seconds', 'offset_nanoseconds']"
      ]
     },
     "execution_count": 18,
     "metadata": {},
     "output_type": "execute_result"
    }
   ],
   "source": [
    "list(temp['time'].attrs.keys())"
   ]
  },
  {
   "cell_type": "code",
   "execution_count": 19,
   "metadata": {},
   "outputs": [],
   "source": [
    "time_u=str(temp['time'].attrs['units'],'utf-8')"
   ]
  },
  {
   "cell_type": "code",
   "execution_count": 20,
   "metadata": {},
   "outputs": [
    {
     "data": {
      "text/plain": [
       "'second'"
      ]
     },
     "execution_count": 20,
     "metadata": {},
     "output_type": "execute_result"
    }
   ],
   "source": [
    "time_u"
   ]
  },
  {
   "cell_type": "markdown",
   "metadata": {},
   "source": [
    "Plot value vs. time"
   ]
  },
  {
   "cell_type": "code",
   "execution_count": 21,
   "metadata": {},
   "outputs": [
    {
     "data": {
      "application/javascript": [
       "/* Put everything inside the global mpl namespace */\n",
       "window.mpl = {};\n",
       "\n",
       "\n",
       "mpl.get_websocket_type = function() {\n",
       "    if (typeof(WebSocket) !== 'undefined') {\n",
       "        return WebSocket;\n",
       "    } else if (typeof(MozWebSocket) !== 'undefined') {\n",
       "        return MozWebSocket;\n",
       "    } else {\n",
       "        alert('Your browser does not have WebSocket support.' +\n",
       "              'Please try Chrome, Safari or Firefox ≥ 6. ' +\n",
       "              'Firefox 4 and 5 are also supported but you ' +\n",
       "              'have to enable WebSockets in about:config.');\n",
       "    };\n",
       "}\n",
       "\n",
       "mpl.figure = function(figure_id, websocket, ondownload, parent_element) {\n",
       "    this.id = figure_id;\n",
       "\n",
       "    this.ws = websocket;\n",
       "\n",
       "    this.supports_binary = (this.ws.binaryType != undefined);\n",
       "\n",
       "    if (!this.supports_binary) {\n",
       "        var warnings = document.getElementById(\"mpl-warnings\");\n",
       "        if (warnings) {\n",
       "            warnings.style.display = 'block';\n",
       "            warnings.textContent = (\n",
       "                \"This browser does not support binary websocket messages. \" +\n",
       "                    \"Performance may be slow.\");\n",
       "        }\n",
       "    }\n",
       "\n",
       "    this.imageObj = new Image();\n",
       "\n",
       "    this.context = undefined;\n",
       "    this.message = undefined;\n",
       "    this.canvas = undefined;\n",
       "    this.rubberband_canvas = undefined;\n",
       "    this.rubberband_context = undefined;\n",
       "    this.format_dropdown = undefined;\n",
       "\n",
       "    this.image_mode = 'full';\n",
       "\n",
       "    this.root = $('<div/>');\n",
       "    this._root_extra_style(this.root)\n",
       "    this.root.attr('style', 'display: inline-block');\n",
       "\n",
       "    $(parent_element).append(this.root);\n",
       "\n",
       "    this._init_header(this);\n",
       "    this._init_canvas(this);\n",
       "    this._init_toolbar(this);\n",
       "\n",
       "    var fig = this;\n",
       "\n",
       "    this.waiting = false;\n",
       "\n",
       "    this.ws.onopen =  function () {\n",
       "            fig.send_message(\"supports_binary\", {value: fig.supports_binary});\n",
       "            fig.send_message(\"send_image_mode\", {});\n",
       "            if (mpl.ratio != 1) {\n",
       "                fig.send_message(\"set_dpi_ratio\", {'dpi_ratio': mpl.ratio});\n",
       "            }\n",
       "            fig.send_message(\"refresh\", {});\n",
       "        }\n",
       "\n",
       "    this.imageObj.onload = function() {\n",
       "            if (fig.image_mode == 'full') {\n",
       "                // Full images could contain transparency (where diff images\n",
       "                // almost always do), so we need to clear the canvas so that\n",
       "                // there is no ghosting.\n",
       "                fig.context.clearRect(0, 0, fig.canvas.width, fig.canvas.height);\n",
       "            }\n",
       "            fig.context.drawImage(fig.imageObj, 0, 0);\n",
       "        };\n",
       "\n",
       "    this.imageObj.onunload = function() {\n",
       "        fig.ws.close();\n",
       "    }\n",
       "\n",
       "    this.ws.onmessage = this._make_on_message_function(this);\n",
       "\n",
       "    this.ondownload = ondownload;\n",
       "}\n",
       "\n",
       "mpl.figure.prototype._init_header = function() {\n",
       "    var titlebar = $(\n",
       "        '<div class=\"ui-dialog-titlebar ui-widget-header ui-corner-all ' +\n",
       "        'ui-helper-clearfix\"/>');\n",
       "    var titletext = $(\n",
       "        '<div class=\"ui-dialog-title\" style=\"width: 100%; ' +\n",
       "        'text-align: center; padding: 3px;\"/>');\n",
       "    titlebar.append(titletext)\n",
       "    this.root.append(titlebar);\n",
       "    this.header = titletext[0];\n",
       "}\n",
       "\n",
       "\n",
       "\n",
       "mpl.figure.prototype._canvas_extra_style = function(canvas_div) {\n",
       "\n",
       "}\n",
       "\n",
       "\n",
       "mpl.figure.prototype._root_extra_style = function(canvas_div) {\n",
       "\n",
       "}\n",
       "\n",
       "mpl.figure.prototype._init_canvas = function() {\n",
       "    var fig = this;\n",
       "\n",
       "    var canvas_div = $('<div/>');\n",
       "\n",
       "    canvas_div.attr('style', 'position: relative; clear: both; outline: 0');\n",
       "\n",
       "    function canvas_keyboard_event(event) {\n",
       "        return fig.key_event(event, event['data']);\n",
       "    }\n",
       "\n",
       "    canvas_div.keydown('key_press', canvas_keyboard_event);\n",
       "    canvas_div.keyup('key_release', canvas_keyboard_event);\n",
       "    this.canvas_div = canvas_div\n",
       "    this._canvas_extra_style(canvas_div)\n",
       "    this.root.append(canvas_div);\n",
       "\n",
       "    var canvas = $('<canvas/>');\n",
       "    canvas.addClass('mpl-canvas');\n",
       "    canvas.attr('style', \"left: 0; top: 0; z-index: 0; outline: 0\")\n",
       "\n",
       "    this.canvas = canvas[0];\n",
       "    this.context = canvas[0].getContext(\"2d\");\n",
       "\n",
       "    var backingStore = this.context.backingStorePixelRatio ||\n",
       "\tthis.context.webkitBackingStorePixelRatio ||\n",
       "\tthis.context.mozBackingStorePixelRatio ||\n",
       "\tthis.context.msBackingStorePixelRatio ||\n",
       "\tthis.context.oBackingStorePixelRatio ||\n",
       "\tthis.context.backingStorePixelRatio || 1;\n",
       "\n",
       "    mpl.ratio = (window.devicePixelRatio || 1) / backingStore;\n",
       "\n",
       "    var rubberband = $('<canvas/>');\n",
       "    rubberband.attr('style', \"position: absolute; left: 0; top: 0; z-index: 1;\")\n",
       "\n",
       "    var pass_mouse_events = true;\n",
       "\n",
       "    canvas_div.resizable({\n",
       "        start: function(event, ui) {\n",
       "            pass_mouse_events = false;\n",
       "        },\n",
       "        resize: function(event, ui) {\n",
       "            fig.request_resize(ui.size.width, ui.size.height);\n",
       "        },\n",
       "        stop: function(event, ui) {\n",
       "            pass_mouse_events = true;\n",
       "            fig.request_resize(ui.size.width, ui.size.height);\n",
       "        },\n",
       "    });\n",
       "\n",
       "    function mouse_event_fn(event) {\n",
       "        if (pass_mouse_events)\n",
       "            return fig.mouse_event(event, event['data']);\n",
       "    }\n",
       "\n",
       "    rubberband.mousedown('button_press', mouse_event_fn);\n",
       "    rubberband.mouseup('button_release', mouse_event_fn);\n",
       "    // Throttle sequential mouse events to 1 every 20ms.\n",
       "    rubberband.mousemove('motion_notify', mouse_event_fn);\n",
       "\n",
       "    rubberband.mouseenter('figure_enter', mouse_event_fn);\n",
       "    rubberband.mouseleave('figure_leave', mouse_event_fn);\n",
       "\n",
       "    canvas_div.on(\"wheel\", function (event) {\n",
       "        event = event.originalEvent;\n",
       "        event['data'] = 'scroll'\n",
       "        if (event.deltaY < 0) {\n",
       "            event.step = 1;\n",
       "        } else {\n",
       "            event.step = -1;\n",
       "        }\n",
       "        mouse_event_fn(event);\n",
       "    });\n",
       "\n",
       "    canvas_div.append(canvas);\n",
       "    canvas_div.append(rubberband);\n",
       "\n",
       "    this.rubberband = rubberband;\n",
       "    this.rubberband_canvas = rubberband[0];\n",
       "    this.rubberband_context = rubberband[0].getContext(\"2d\");\n",
       "    this.rubberband_context.strokeStyle = \"#000000\";\n",
       "\n",
       "    this._resize_canvas = function(width, height) {\n",
       "        // Keep the size of the canvas, canvas container, and rubber band\n",
       "        // canvas in synch.\n",
       "        canvas_div.css('width', width)\n",
       "        canvas_div.css('height', height)\n",
       "\n",
       "        canvas.attr('width', width * mpl.ratio);\n",
       "        canvas.attr('height', height * mpl.ratio);\n",
       "        canvas.attr('style', 'width: ' + width + 'px; height: ' + height + 'px;');\n",
       "\n",
       "        rubberband.attr('width', width);\n",
       "        rubberband.attr('height', height);\n",
       "    }\n",
       "\n",
       "    // Set the figure to an initial 600x600px, this will subsequently be updated\n",
       "    // upon first draw.\n",
       "    this._resize_canvas(600, 600);\n",
       "\n",
       "    // Disable right mouse context menu.\n",
       "    $(this.rubberband_canvas).bind(\"contextmenu\",function(e){\n",
       "        return false;\n",
       "    });\n",
       "\n",
       "    function set_focus () {\n",
       "        canvas.focus();\n",
       "        canvas_div.focus();\n",
       "    }\n",
       "\n",
       "    window.setTimeout(set_focus, 100);\n",
       "}\n",
       "\n",
       "mpl.figure.prototype._init_toolbar = function() {\n",
       "    var fig = this;\n",
       "\n",
       "    var nav_element = $('<div/>')\n",
       "    nav_element.attr('style', 'width: 100%');\n",
       "    this.root.append(nav_element);\n",
       "\n",
       "    // Define a callback function for later on.\n",
       "    function toolbar_event(event) {\n",
       "        return fig.toolbar_button_onclick(event['data']);\n",
       "    }\n",
       "    function toolbar_mouse_event(event) {\n",
       "        return fig.toolbar_button_onmouseover(event['data']);\n",
       "    }\n",
       "\n",
       "    for(var toolbar_ind in mpl.toolbar_items) {\n",
       "        var name = mpl.toolbar_items[toolbar_ind][0];\n",
       "        var tooltip = mpl.toolbar_items[toolbar_ind][1];\n",
       "        var image = mpl.toolbar_items[toolbar_ind][2];\n",
       "        var method_name = mpl.toolbar_items[toolbar_ind][3];\n",
       "\n",
       "        if (!name) {\n",
       "            // put a spacer in here.\n",
       "            continue;\n",
       "        }\n",
       "        var button = $('<button/>');\n",
       "        button.addClass('ui-button ui-widget ui-state-default ui-corner-all ' +\n",
       "                        'ui-button-icon-only');\n",
       "        button.attr('role', 'button');\n",
       "        button.attr('aria-disabled', 'false');\n",
       "        button.click(method_name, toolbar_event);\n",
       "        button.mouseover(tooltip, toolbar_mouse_event);\n",
       "\n",
       "        var icon_img = $('<span/>');\n",
       "        icon_img.addClass('ui-button-icon-primary ui-icon');\n",
       "        icon_img.addClass(image);\n",
       "        icon_img.addClass('ui-corner-all');\n",
       "\n",
       "        var tooltip_span = $('<span/>');\n",
       "        tooltip_span.addClass('ui-button-text');\n",
       "        tooltip_span.html(tooltip);\n",
       "\n",
       "        button.append(icon_img);\n",
       "        button.append(tooltip_span);\n",
       "\n",
       "        nav_element.append(button);\n",
       "    }\n",
       "\n",
       "    var fmt_picker_span = $('<span/>');\n",
       "\n",
       "    var fmt_picker = $('<select/>');\n",
       "    fmt_picker.addClass('mpl-toolbar-option ui-widget ui-widget-content');\n",
       "    fmt_picker_span.append(fmt_picker);\n",
       "    nav_element.append(fmt_picker_span);\n",
       "    this.format_dropdown = fmt_picker[0];\n",
       "\n",
       "    for (var ind in mpl.extensions) {\n",
       "        var fmt = mpl.extensions[ind];\n",
       "        var option = $(\n",
       "            '<option/>', {selected: fmt === mpl.default_extension}).html(fmt);\n",
       "        fmt_picker.append(option)\n",
       "    }\n",
       "\n",
       "    // Add hover states to the ui-buttons\n",
       "    $( \".ui-button\" ).hover(\n",
       "        function() { $(this).addClass(\"ui-state-hover\");},\n",
       "        function() { $(this).removeClass(\"ui-state-hover\");}\n",
       "    );\n",
       "\n",
       "    var status_bar = $('<span class=\"mpl-message\"/>');\n",
       "    nav_element.append(status_bar);\n",
       "    this.message = status_bar[0];\n",
       "}\n",
       "\n",
       "mpl.figure.prototype.request_resize = function(x_pixels, y_pixels) {\n",
       "    // Request matplotlib to resize the figure. Matplotlib will then trigger a resize in the client,\n",
       "    // which will in turn request a refresh of the image.\n",
       "    this.send_message('resize', {'width': x_pixels, 'height': y_pixels});\n",
       "}\n",
       "\n",
       "mpl.figure.prototype.send_message = function(type, properties) {\n",
       "    properties['type'] = type;\n",
       "    properties['figure_id'] = this.id;\n",
       "    this.ws.send(JSON.stringify(properties));\n",
       "}\n",
       "\n",
       "mpl.figure.prototype.send_draw_message = function() {\n",
       "    if (!this.waiting) {\n",
       "        this.waiting = true;\n",
       "        this.ws.send(JSON.stringify({type: \"draw\", figure_id: this.id}));\n",
       "    }\n",
       "}\n",
       "\n",
       "\n",
       "mpl.figure.prototype.handle_save = function(fig, msg) {\n",
       "    var format_dropdown = fig.format_dropdown;\n",
       "    var format = format_dropdown.options[format_dropdown.selectedIndex].value;\n",
       "    fig.ondownload(fig, format);\n",
       "}\n",
       "\n",
       "\n",
       "mpl.figure.prototype.handle_resize = function(fig, msg) {\n",
       "    var size = msg['size'];\n",
       "    if (size[0] != fig.canvas.width || size[1] != fig.canvas.height) {\n",
       "        fig._resize_canvas(size[0], size[1]);\n",
       "        fig.send_message(\"refresh\", {});\n",
       "    };\n",
       "}\n",
       "\n",
       "mpl.figure.prototype.handle_rubberband = function(fig, msg) {\n",
       "    var x0 = msg['x0'] / mpl.ratio;\n",
       "    var y0 = (fig.canvas.height - msg['y0']) / mpl.ratio;\n",
       "    var x1 = msg['x1'] / mpl.ratio;\n",
       "    var y1 = (fig.canvas.height - msg['y1']) / mpl.ratio;\n",
       "    x0 = Math.floor(x0) + 0.5;\n",
       "    y0 = Math.floor(y0) + 0.5;\n",
       "    x1 = Math.floor(x1) + 0.5;\n",
       "    y1 = Math.floor(y1) + 0.5;\n",
       "    var min_x = Math.min(x0, x1);\n",
       "    var min_y = Math.min(y0, y1);\n",
       "    var width = Math.abs(x1 - x0);\n",
       "    var height = Math.abs(y1 - y0);\n",
       "\n",
       "    fig.rubberband_context.clearRect(\n",
       "        0, 0, fig.canvas.width, fig.canvas.height);\n",
       "\n",
       "    fig.rubberband_context.strokeRect(min_x, min_y, width, height);\n",
       "}\n",
       "\n",
       "mpl.figure.prototype.handle_figure_label = function(fig, msg) {\n",
       "    // Updates the figure title.\n",
       "    fig.header.textContent = msg['label'];\n",
       "}\n",
       "\n",
       "mpl.figure.prototype.handle_cursor = function(fig, msg) {\n",
       "    var cursor = msg['cursor'];\n",
       "    switch(cursor)\n",
       "    {\n",
       "    case 0:\n",
       "        cursor = 'pointer';\n",
       "        break;\n",
       "    case 1:\n",
       "        cursor = 'default';\n",
       "        break;\n",
       "    case 2:\n",
       "        cursor = 'crosshair';\n",
       "        break;\n",
       "    case 3:\n",
       "        cursor = 'move';\n",
       "        break;\n",
       "    }\n",
       "    fig.rubberband_canvas.style.cursor = cursor;\n",
       "}\n",
       "\n",
       "mpl.figure.prototype.handle_message = function(fig, msg) {\n",
       "    fig.message.textContent = msg['message'];\n",
       "}\n",
       "\n",
       "mpl.figure.prototype.handle_draw = function(fig, msg) {\n",
       "    // Request the server to send over a new figure.\n",
       "    fig.send_draw_message();\n",
       "}\n",
       "\n",
       "mpl.figure.prototype.handle_image_mode = function(fig, msg) {\n",
       "    fig.image_mode = msg['mode'];\n",
       "}\n",
       "\n",
       "mpl.figure.prototype.updated_canvas_event = function() {\n",
       "    // Called whenever the canvas gets updated.\n",
       "    this.send_message(\"ack\", {});\n",
       "}\n",
       "\n",
       "// A function to construct a web socket function for onmessage handling.\n",
       "// Called in the figure constructor.\n",
       "mpl.figure.prototype._make_on_message_function = function(fig) {\n",
       "    return function socket_on_message(evt) {\n",
       "        if (evt.data instanceof Blob) {\n",
       "            /* FIXME: We get \"Resource interpreted as Image but\n",
       "             * transferred with MIME type text/plain:\" errors on\n",
       "             * Chrome.  But how to set the MIME type?  It doesn't seem\n",
       "             * to be part of the websocket stream */\n",
       "            evt.data.type = \"image/png\";\n",
       "\n",
       "            /* Free the memory for the previous frames */\n",
       "            if (fig.imageObj.src) {\n",
       "                (window.URL || window.webkitURL).revokeObjectURL(\n",
       "                    fig.imageObj.src);\n",
       "            }\n",
       "\n",
       "            fig.imageObj.src = (window.URL || window.webkitURL).createObjectURL(\n",
       "                evt.data);\n",
       "            fig.updated_canvas_event();\n",
       "            fig.waiting = false;\n",
       "            return;\n",
       "        }\n",
       "        else if (typeof evt.data === 'string' && evt.data.slice(0, 21) == \"data:image/png;base64\") {\n",
       "            fig.imageObj.src = evt.data;\n",
       "            fig.updated_canvas_event();\n",
       "            fig.waiting = false;\n",
       "            return;\n",
       "        }\n",
       "\n",
       "        var msg = JSON.parse(evt.data);\n",
       "        var msg_type = msg['type'];\n",
       "\n",
       "        // Call the  \"handle_{type}\" callback, which takes\n",
       "        // the figure and JSON message as its only arguments.\n",
       "        try {\n",
       "            var callback = fig[\"handle_\" + msg_type];\n",
       "        } catch (e) {\n",
       "            console.log(\"No handler for the '\" + msg_type + \"' message type: \", msg);\n",
       "            return;\n",
       "        }\n",
       "\n",
       "        if (callback) {\n",
       "            try {\n",
       "                // console.log(\"Handling '\" + msg_type + \"' message: \", msg);\n",
       "                callback(fig, msg);\n",
       "            } catch (e) {\n",
       "                console.log(\"Exception inside the 'handler_\" + msg_type + \"' callback:\", e, e.stack, msg);\n",
       "            }\n",
       "        }\n",
       "    };\n",
       "}\n",
       "\n",
       "// from http://stackoverflow.com/questions/1114465/getting-mouse-location-in-canvas\n",
       "mpl.findpos = function(e) {\n",
       "    //this section is from http://www.quirksmode.org/js/events_properties.html\n",
       "    var targ;\n",
       "    if (!e)\n",
       "        e = window.event;\n",
       "    if (e.target)\n",
       "        targ = e.target;\n",
       "    else if (e.srcElement)\n",
       "        targ = e.srcElement;\n",
       "    if (targ.nodeType == 3) // defeat Safari bug\n",
       "        targ = targ.parentNode;\n",
       "\n",
       "    // jQuery normalizes the pageX and pageY\n",
       "    // pageX,Y are the mouse positions relative to the document\n",
       "    // offset() returns the position of the element relative to the document\n",
       "    var x = e.pageX - $(targ).offset().left;\n",
       "    var y = e.pageY - $(targ).offset().top;\n",
       "\n",
       "    return {\"x\": x, \"y\": y};\n",
       "};\n",
       "\n",
       "/*\n",
       " * return a copy of an object with only non-object keys\n",
       " * we need this to avoid circular references\n",
       " * http://stackoverflow.com/a/24161582/3208463\n",
       " */\n",
       "function simpleKeys (original) {\n",
       "  return Object.keys(original).reduce(function (obj, key) {\n",
       "    if (typeof original[key] !== 'object')\n",
       "        obj[key] = original[key]\n",
       "    return obj;\n",
       "  }, {});\n",
       "}\n",
       "\n",
       "mpl.figure.prototype.mouse_event = function(event, name) {\n",
       "    var canvas_pos = mpl.findpos(event)\n",
       "\n",
       "    if (name === 'button_press')\n",
       "    {\n",
       "        this.canvas.focus();\n",
       "        this.canvas_div.focus();\n",
       "    }\n",
       "\n",
       "    var x = canvas_pos.x * mpl.ratio;\n",
       "    var y = canvas_pos.y * mpl.ratio;\n",
       "\n",
       "    this.send_message(name, {x: x, y: y, button: event.button,\n",
       "                             step: event.step,\n",
       "                             guiEvent: simpleKeys(event)});\n",
       "\n",
       "    /* This prevents the web browser from automatically changing to\n",
       "     * the text insertion cursor when the button is pressed.  We want\n",
       "     * to control all of the cursor setting manually through the\n",
       "     * 'cursor' event from matplotlib */\n",
       "    event.preventDefault();\n",
       "    return false;\n",
       "}\n",
       "\n",
       "mpl.figure.prototype._key_event_extra = function(event, name) {\n",
       "    // Handle any extra behaviour associated with a key event\n",
       "}\n",
       "\n",
       "mpl.figure.prototype.key_event = function(event, name) {\n",
       "\n",
       "    // Prevent repeat events\n",
       "    if (name == 'key_press')\n",
       "    {\n",
       "        if (event.which === this._key)\n",
       "            return;\n",
       "        else\n",
       "            this._key = event.which;\n",
       "    }\n",
       "    if (name == 'key_release')\n",
       "        this._key = null;\n",
       "\n",
       "    var value = '';\n",
       "    if (event.ctrlKey && event.which != 17)\n",
       "        value += \"ctrl+\";\n",
       "    if (event.altKey && event.which != 18)\n",
       "        value += \"alt+\";\n",
       "    if (event.shiftKey && event.which != 16)\n",
       "        value += \"shift+\";\n",
       "\n",
       "    value += 'k';\n",
       "    value += event.which.toString();\n",
       "\n",
       "    this._key_event_extra(event, name);\n",
       "\n",
       "    this.send_message(name, {key: value,\n",
       "                             guiEvent: simpleKeys(event)});\n",
       "    return false;\n",
       "}\n",
       "\n",
       "mpl.figure.prototype.toolbar_button_onclick = function(name) {\n",
       "    if (name == 'download') {\n",
       "        this.handle_save(this, null);\n",
       "    } else {\n",
       "        this.send_message(\"toolbar_button\", {name: name});\n",
       "    }\n",
       "};\n",
       "\n",
       "mpl.figure.prototype.toolbar_button_onmouseover = function(tooltip) {\n",
       "    this.message.textContent = tooltip;\n",
       "};\n",
       "mpl.toolbar_items = [[\"Home\", \"Reset original view\", \"fa fa-home icon-home\", \"home\"], [\"Back\", \"Back to  previous view\", \"fa fa-arrow-left icon-arrow-left\", \"back\"], [\"Forward\", \"Forward to next view\", \"fa fa-arrow-right icon-arrow-right\", \"forward\"], [\"\", \"\", \"\", \"\"], [\"Pan\", \"Pan axes with left mouse, zoom with right\", \"fa fa-arrows icon-move\", \"pan\"], [\"Zoom\", \"Zoom to rectangle\", \"fa fa-square-o icon-check-empty\", \"zoom\"], [\"\", \"\", \"\", \"\"], [\"Download\", \"Download plot\", \"fa fa-floppy-o icon-save\", \"download\"]];\n",
       "\n",
       "mpl.extensions = [\"eps\", \"jpeg\", \"pdf\", \"png\", \"ps\", \"raw\", \"svg\", \"tif\"];\n",
       "\n",
       "mpl.default_extension = \"png\";var comm_websocket_adapter = function(comm) {\n",
       "    // Create a \"websocket\"-like object which calls the given IPython comm\n",
       "    // object with the appropriate methods. Currently this is a non binary\n",
       "    // socket, so there is still some room for performance tuning.\n",
       "    var ws = {};\n",
       "\n",
       "    ws.close = function() {\n",
       "        comm.close()\n",
       "    };\n",
       "    ws.send = function(m) {\n",
       "        //console.log('sending', m);\n",
       "        comm.send(m);\n",
       "    };\n",
       "    // Register the callback with on_msg.\n",
       "    comm.on_msg(function(msg) {\n",
       "        //console.log('receiving', msg['content']['data'], msg);\n",
       "        // Pass the mpl event to the overriden (by mpl) onmessage function.\n",
       "        ws.onmessage(msg['content']['data'])\n",
       "    });\n",
       "    return ws;\n",
       "}\n",
       "\n",
       "mpl.mpl_figure_comm = function(comm, msg) {\n",
       "    // This is the function which gets called when the mpl process\n",
       "    // starts-up an IPython Comm through the \"matplotlib\" channel.\n",
       "\n",
       "    var id = msg.content.data.id;\n",
       "    // Get hold of the div created by the display call when the Comm\n",
       "    // socket was opened in Python.\n",
       "    var element = $(\"#\" + id);\n",
       "    var ws_proxy = comm_websocket_adapter(comm)\n",
       "\n",
       "    function ondownload(figure, format) {\n",
       "        window.open(figure.imageObj.src);\n",
       "    }\n",
       "\n",
       "    var fig = new mpl.figure(id, ws_proxy,\n",
       "                           ondownload,\n",
       "                           element.get(0));\n",
       "\n",
       "    // Call onopen now - mpl needs it, as it is assuming we've passed it a real\n",
       "    // web socket which is closed, not our websocket->open comm proxy.\n",
       "    ws_proxy.onopen();\n",
       "\n",
       "    fig.parent_element = element.get(0);\n",
       "    fig.cell_info = mpl.find_output_cell(\"<div id='\" + id + \"'></div>\");\n",
       "    if (!fig.cell_info) {\n",
       "        console.error(\"Failed to find cell for figure\", id, fig);\n",
       "        return;\n",
       "    }\n",
       "\n",
       "    var output_index = fig.cell_info[2]\n",
       "    var cell = fig.cell_info[0];\n",
       "\n",
       "};\n",
       "\n",
       "mpl.figure.prototype.handle_close = function(fig, msg) {\n",
       "    var width = fig.canvas.width/mpl.ratio\n",
       "    fig.root.unbind('remove')\n",
       "\n",
       "    // Update the output cell to use the data from the current canvas.\n",
       "    fig.push_to_output();\n",
       "    var dataURL = fig.canvas.toDataURL();\n",
       "    // Re-enable the keyboard manager in IPython - without this line, in FF,\n",
       "    // the notebook keyboard shortcuts fail.\n",
       "    IPython.keyboard_manager.enable()\n",
       "    $(fig.parent_element).html('<img src=\"' + dataURL + '\" width=\"' + width + '\">');\n",
       "    fig.close_ws(fig, msg);\n",
       "}\n",
       "\n",
       "mpl.figure.prototype.close_ws = function(fig, msg){\n",
       "    fig.send_message('closing', msg);\n",
       "    // fig.ws.close()\n",
       "}\n",
       "\n",
       "mpl.figure.prototype.push_to_output = function(remove_interactive) {\n",
       "    // Turn the data on the canvas into data in the output cell.\n",
       "    var width = this.canvas.width/mpl.ratio\n",
       "    var dataURL = this.canvas.toDataURL();\n",
       "    this.cell_info[1]['text/html'] = '<img src=\"' + dataURL + '\" width=\"' + width + '\">';\n",
       "}\n",
       "\n",
       "mpl.figure.prototype.updated_canvas_event = function() {\n",
       "    // Tell IPython that the notebook contents must change.\n",
       "    IPython.notebook.set_dirty(true);\n",
       "    this.send_message(\"ack\", {});\n",
       "    var fig = this;\n",
       "    // Wait a second, then push the new image to the DOM so\n",
       "    // that it is saved nicely (might be nice to debounce this).\n",
       "    setTimeout(function () { fig.push_to_output() }, 1000);\n",
       "}\n",
       "\n",
       "mpl.figure.prototype._init_toolbar = function() {\n",
       "    var fig = this;\n",
       "\n",
       "    var nav_element = $('<div/>')\n",
       "    nav_element.attr('style', 'width: 100%');\n",
       "    this.root.append(nav_element);\n",
       "\n",
       "    // Define a callback function for later on.\n",
       "    function toolbar_event(event) {\n",
       "        return fig.toolbar_button_onclick(event['data']);\n",
       "    }\n",
       "    function toolbar_mouse_event(event) {\n",
       "        return fig.toolbar_button_onmouseover(event['data']);\n",
       "    }\n",
       "\n",
       "    for(var toolbar_ind in mpl.toolbar_items){\n",
       "        var name = mpl.toolbar_items[toolbar_ind][0];\n",
       "        var tooltip = mpl.toolbar_items[toolbar_ind][1];\n",
       "        var image = mpl.toolbar_items[toolbar_ind][2];\n",
       "        var method_name = mpl.toolbar_items[toolbar_ind][3];\n",
       "\n",
       "        if (!name) { continue; };\n",
       "\n",
       "        var button = $('<button class=\"btn btn-default\" href=\"#\" title=\"' + name + '\"><i class=\"fa ' + image + ' fa-lg\"></i></button>');\n",
       "        button.click(method_name, toolbar_event);\n",
       "        button.mouseover(tooltip, toolbar_mouse_event);\n",
       "        nav_element.append(button);\n",
       "    }\n",
       "\n",
       "    // Add the status bar.\n",
       "    var status_bar = $('<span class=\"mpl-message\" style=\"text-align:right; float: right;\"/>');\n",
       "    nav_element.append(status_bar);\n",
       "    this.message = status_bar[0];\n",
       "\n",
       "    // Add the close button to the window.\n",
       "    var buttongrp = $('<div class=\"btn-group inline pull-right\"></div>');\n",
       "    var button = $('<button class=\"btn btn-mini btn-primary\" href=\"#\" title=\"Stop Interaction\"><i class=\"fa fa-power-off icon-remove icon-large\"></i></button>');\n",
       "    button.click(function (evt) { fig.handle_close(fig, {}); } );\n",
       "    button.mouseover('Stop Interaction', toolbar_mouse_event);\n",
       "    buttongrp.append(button);\n",
       "    var titlebar = this.root.find($('.ui-dialog-titlebar'));\n",
       "    titlebar.prepend(buttongrp);\n",
       "}\n",
       "\n",
       "mpl.figure.prototype._root_extra_style = function(el){\n",
       "    var fig = this\n",
       "    el.on(\"remove\", function(){\n",
       "\tfig.close_ws(fig, {});\n",
       "    });\n",
       "}\n",
       "\n",
       "mpl.figure.prototype._canvas_extra_style = function(el){\n",
       "    // this is important to make the div 'focusable\n",
       "    el.attr('tabindex', 0)\n",
       "    // reach out to IPython and tell the keyboard manager to turn it's self\n",
       "    // off when our div gets focus\n",
       "\n",
       "    // location in version 3\n",
       "    if (IPython.notebook.keyboard_manager) {\n",
       "        IPython.notebook.keyboard_manager.register_events(el);\n",
       "    }\n",
       "    else {\n",
       "        // location in version 2\n",
       "        IPython.keyboard_manager.register_events(el);\n",
       "    }\n",
       "\n",
       "}\n",
       "\n",
       "mpl.figure.prototype._key_event_extra = function(event, name) {\n",
       "    var manager = IPython.notebook.keyboard_manager;\n",
       "    if (!manager)\n",
       "        manager = IPython.keyboard_manager;\n",
       "\n",
       "    // Check for shift+enter\n",
       "    if (event.shiftKey && event.which == 13) {\n",
       "        this.canvas_div.blur();\n",
       "        event.shiftKey = false;\n",
       "        // Send a \"J\" for go to next cell\n",
       "        event.which = 74;\n",
       "        event.keyCode = 74;\n",
       "        manager.command_mode();\n",
       "        manager.handle_keydown(event);\n",
       "    }\n",
       "}\n",
       "\n",
       "mpl.figure.prototype.handle_save = function(fig, msg) {\n",
       "    fig.ondownload(fig, null);\n",
       "}\n",
       "\n",
       "\n",
       "mpl.find_output_cell = function(html_output) {\n",
       "    // Return the cell and output element which can be found *uniquely* in the notebook.\n",
       "    // Note - this is a bit hacky, but it is done because the \"notebook_saving.Notebook\"\n",
       "    // IPython event is triggered only after the cells have been serialised, which for\n",
       "    // our purposes (turning an active figure into a static one), is too late.\n",
       "    var cells = IPython.notebook.get_cells();\n",
       "    var ncells = cells.length;\n",
       "    for (var i=0; i<ncells; i++) {\n",
       "        var cell = cells[i];\n",
       "        if (cell.cell_type === 'code'){\n",
       "            for (var j=0; j<cell.output_area.outputs.length; j++) {\n",
       "                var data = cell.output_area.outputs[j];\n",
       "                if (data.data) {\n",
       "                    // IPython >= 3 moved mimebundle to data attribute of output\n",
       "                    data = data.data;\n",
       "                }\n",
       "                if (data['text/html'] == html_output) {\n",
       "                    return [cell, data, j];\n",
       "                }\n",
       "            }\n",
       "        }\n",
       "    }\n",
       "}\n",
       "\n",
       "// Register the function which deals with the matplotlib target/channel.\n",
       "// The kernel may be null if the page has been refreshed.\n",
       "if (IPython.notebook.kernel != null) {\n",
       "    IPython.notebook.kernel.comm_manager.register_target('matplotlib', mpl.mpl_figure_comm);\n",
       "}\n"
      ],
      "text/plain": [
       "<IPython.core.display.Javascript object>"
      ]
     },
     "metadata": {},
     "output_type": "display_data"
    },
    {
     "data": {
      "text/html": [
       "<img src=\"data:image/png;base64,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\" width=\"640\">"
      ],
      "text/plain": [
       "<IPython.core.display.HTML object>"
      ]
     },
     "metadata": {},
     "output_type": "display_data"
    },
    {
     "data": {
      "text/plain": [
       "Text(0,0.5,'SampleTemp (K)')"
      ]
     },
     "execution_count": 21,
     "metadata": {},
     "output_type": "execute_result"
    }
   ],
   "source": [
    "%matplotlib notebook\n",
    "import matplotlib.pyplot as plt\n",
    "\n",
    "fig,ax = plt.subplots()\n",
    "ax.plot(temp_time,temp_value)\n",
    "ax.set_title('Sample Temperature')\n",
    "ax.set_xlabel('Time ({})'.format(time_u))\n",
    "ax.set_ylabel('SampleTemp ({})'.format(value_u))"
   ]
  },
  {
   "cell_type": "markdown",
   "metadata": {},
   "source": [
    "to find the absolute start time"
   ]
  },
  {
   "cell_type": "code",
   "execution_count": 22,
   "metadata": {},
   "outputs": [
    {
     "data": {
      "text/plain": [
       "b'2019-01-08T15:27:53.933333333-05:00'"
      ]
     },
     "execution_count": 22,
     "metadata": {},
     "output_type": "execute_result"
    }
   ],
   "source": [
    "temp['time'].attrs['start']"
   ]
  },
  {
   "cell_type": "code",
   "execution_count": 23,
   "metadata": {},
   "outputs": [],
   "source": [
    "f.close()"
   ]
  },
  {
   "cell_type": "code",
   "execution_count": null,
   "metadata": {},
   "outputs": [],
   "source": []
  }
 ],
 "metadata": {
  "kernelspec": {
   "display_name": "Python 3",
   "language": "python",
   "name": "python3"
  },
  "language_info": {
   "codemirror_mode": {
    "name": "ipython",
    "version": 3
   },
   "file_extension": ".py",
   "mimetype": "text/x-python",
   "name": "python",
   "nbconvert_exporter": "python",
   "pygments_lexer": "ipython3",
   "version": "3.6.7"
  }
 },
 "nbformat": 4,
 "nbformat_minor": 2
}
