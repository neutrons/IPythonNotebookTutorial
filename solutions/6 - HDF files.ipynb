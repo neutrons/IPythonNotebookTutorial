{
 "cells": [
  {
   "cell_type": "markdown",
   "metadata": {},
   "source": [
    "# What is HDF?\n",
    "\n",
    "* it stands for Hierarchical Data Format\n",
    "* allows for organizing data\n",
    "* especially useful for large amounts of data (has a binary format)\n",
    "* NeXus files are hdf5 files\n",
    "* one can use hdfview or NeXpy to look at the content\n",
    "\n",
    "<img src='hdfview.png'>\n",
    "\n",
    "* the information is organized in groups and datasets\n",
    "* one can have attributes to describe each field\n",
    "\n",
    "For more information, go to https://portal.hdfgroup.org/display/HDF5/HDF5"
   ]
  },
  {
   "cell_type": "code",
   "execution_count": 1,
   "metadata": {},
   "outputs": [
    {
     "name": "stdout",
     "output_type": "stream",
     "text": [
      "HYS_13656_event.nxs HYS_181000.nxs.h5\r\n"
     ]
    }
   ],
   "source": [
    "\n",
    "!ls ../Data/HDF"
   ]
  },
  {
   "cell_type": "markdown",
   "metadata": {},
   "source": [
    "h5py is a library for working with hdf5 files\n",
    "open an instance to the hdf 5 file with the File command."
   ]
  },
  {
   "cell_type": "code",
   "execution_count": 2,
   "metadata": {},
   "outputs": [],
   "source": [
    "import h5py\n",
    "\n",
    "f=h5py.File('../Data/HDF/HYS_13656_event.nxs')"
   ]
  },
  {
   "cell_type": "markdown",
   "metadata": {},
   "source": [
    "use the keys method to access the file"
   ]
  },
  {
   "cell_type": "code",
   "execution_count": 3,
   "metadata": {},
   "outputs": [
    {
     "data": {
      "text/plain": [
       "['entry']"
      ]
     },
     "execution_count": 3,
     "metadata": {},
     "output_type": "execute_result"
    }
   ],
   "source": [
    "list(f.keys())"
   ]
  },
  {
   "cell_type": "markdown",
   "metadata": {},
   "source": [
    "entry is the base level.  let's use that to look at the keys below it."
   ]
  },
  {
   "cell_type": "code",
   "execution_count": 4,
   "metadata": {},
   "outputs": [
    {
     "data": {
      "text/plain": [
       "['DASlogs',\n",
       " 'SNSHistoTool',\n",
       " 'bank1',\n",
       " 'bank10',\n",
       " 'bank10_events',\n",
       " 'bank11',\n",
       " 'bank11_events',\n",
       " 'bank12',\n",
       " 'bank12_events',\n",
       " 'bank13',\n",
       " 'bank13_events',\n",
       " 'bank14',\n",
       " 'bank14_events',\n",
       " 'bank15',\n",
       " 'bank15_events',\n",
       " 'bank16',\n",
       " 'bank16_events',\n",
       " 'bank17',\n",
       " 'bank17_events',\n",
       " 'bank18',\n",
       " 'bank18_events',\n",
       " 'bank19',\n",
       " 'bank19_events',\n",
       " 'bank1_events',\n",
       " 'bank2',\n",
       " 'bank20',\n",
       " 'bank20_events',\n",
       " 'bank2_events',\n",
       " 'bank3',\n",
       " 'bank3_events',\n",
       " 'bank4',\n",
       " 'bank4_events',\n",
       " 'bank5',\n",
       " 'bank5_events',\n",
       " 'bank6',\n",
       " 'bank6_events',\n",
       " 'bank7',\n",
       " 'bank7_events',\n",
       " 'bank8',\n",
       " 'bank8_events',\n",
       " 'bank9',\n",
       " 'bank9_events',\n",
       " 'collection_identifier',\n",
       " 'collection_title',\n",
       " 'definition',\n",
       " 'duration',\n",
       " 'end_time',\n",
       " 'entry_identifier',\n",
       " 'experiment_identifier',\n",
       " 'instrument',\n",
       " 'monitor2',\n",
       " 'monitor3',\n",
       " 'notes',\n",
       " 'proton_charge',\n",
       " 'raw_frames',\n",
       " 'run_number',\n",
       " 'sample',\n",
       " 'start_time',\n",
       " 'title',\n",
       " 'total_counts',\n",
       " 'total_other_counts',\n",
       " 'total_uncounted_counts',\n",
       " 'user1',\n",
       " 'user2',\n",
       " 'user3']"
      ]
     },
     "execution_count": 4,
     "metadata": {},
     "output_type": "execute_result"
    }
   ],
   "source": [
    "list(f['entry'].keys())"
   ]
  },
  {
   "cell_type": "markdown",
   "metadata": {},
   "source": [
    "Let's look in the DASlogs"
   ]
  },
  {
   "cell_type": "code",
   "execution_count": 5,
   "metadata": {},
   "outputs": [
    {
     "data": {
      "text/plain": [
       "['A1HCenter',\n",
       " 'A1HCenterOffset',\n",
       " 'A1HWidth',\n",
       " 'A1VCenter',\n",
       " 'A1VCenterOffset',\n",
       " 'A1VHeight',\n",
       " 'A2HCenter',\n",
       " 'A2HCenterOffset',\n",
       " 'A2HWidth',\n",
       " 'A2VCenter',\n",
       " 'A2VCenterOffset',\n",
       " 'A2VHeight',\n",
       " 'ChopperStatus1',\n",
       " 'ChopperStatus2',\n",
       " 'ChopperStatus3',\n",
       " 'ChopperStatus4',\n",
       " 'EnergyRequest',\n",
       " 'LambdaRequest',\n",
       " 'Monitor131073',\n",
       " 'Monitor196609',\n",
       " 'Phase1',\n",
       " 'Phase2',\n",
       " 'Phase3',\n",
       " 'Phase4',\n",
       " 'PhaseRequest1',\n",
       " 'PhaseRequest2',\n",
       " 'PhaseRequest3',\n",
       " 'PhaseRequest4',\n",
       " 'SP1',\n",
       " 'SP2',\n",
       " 'SensorA',\n",
       " 'SensorB',\n",
       " 'SensorC',\n",
       " 'SensorD',\n",
       " 'SetpointLP1',\n",
       " 'SetpointLP2',\n",
       " 'Special3_131073',\n",
       " 'Special3_196609',\n",
       " 'Special3_262145',\n",
       " 'Special3_65537',\n",
       " 'Speed1',\n",
       " 'Speed2',\n",
       " 'Speed3',\n",
       " 'Speed4',\n",
       " 'SpeedRequest1',\n",
       " 'SpeedRequest2',\n",
       " 'SpeedRequest3',\n",
       " 'SpeedRequest4',\n",
       " 'TolLP1',\n",
       " 'TolLP2',\n",
       " 'Veto_pulse',\n",
       " 'a1b',\n",
       " 'a1l',\n",
       " 'a1r',\n",
       " 'a1sd',\n",
       " 'a1t',\n",
       " 'a2b',\n",
       " 'a2l',\n",
       " 'a2r',\n",
       " 'a2sd',\n",
       " 'a2t',\n",
       " 'fineRad',\n",
       " 'frequency',\n",
       " 'guideB',\n",
       " 'he3Filter',\n",
       " 'he3Flip',\n",
       " 'helmholtz',\n",
       " 'm1hu',\n",
       " 'm1huOffset',\n",
       " 'm1pg',\n",
       " 'm1pgOffset',\n",
       " 'm2',\n",
       " 'm2Offset',\n",
       " 'mel',\n",
       " 'mezeiIn',\n",
       " 'mfhu',\n",
       " 'mfhuOffset',\n",
       " 'mfpg',\n",
       " 'mfpgOffset',\n",
       " 'mghu',\n",
       " 'mgpg',\n",
       " 'mon3sd',\n",
       " 'msd',\n",
       " 'msdOffset',\n",
       " 'mthu',\n",
       " 'mtpg',\n",
       " 'polSupArr',\n",
       " 'polSupFlip',\n",
       " 'proton_charge',\n",
       " 's1',\n",
       " 's1Offset',\n",
       " 's1VelSel',\n",
       " 's2',\n",
       " 's2Offset',\n",
       " 'scol20',\n",
       " 'scol40',\n",
       " 'sgl',\n",
       " 'sglOffset',\n",
       " 'sgu',\n",
       " 'sguOffset',\n",
       " 'shutter',\n",
       " 'shutterPosition',\n",
       " 'stl',\n",
       " 'stu',\n",
       " 'tertiary',\n",
       " 'tertiaryPosition',\n",
       " 'vM2',\n",
       " 'vMel',\n",
       " 'vMsdFixed',\n",
       " 'vProtected',\n",
       " 'vS2']"
      ]
     },
     "execution_count": 5,
     "metadata": {},
     "output_type": "execute_result"
    }
   ],
   "source": [
    "# one can use compound path\n",
    "list(f['entry/DASlogs'].keys())\n",
    "    "
   ]
  },
  {
   "cell_type": "markdown",
   "metadata": {},
   "source": [
    "let's extract the units and values of the s1 motor"
   ]
  },
  {
   "cell_type": "code",
   "execution_count": 6,
   "metadata": {},
   "outputs": [],
   "source": [
    "s1=f['entry/DASlogs/s1']"
   ]
  },
  {
   "cell_type": "markdown",
   "metadata": {},
   "source": [
    "what is available for s1?"
   ]
  },
  {
   "cell_type": "code",
   "execution_count": 7,
   "metadata": {},
   "outputs": [
    {
     "data": {
      "text/plain": [
       "['average_value',\n",
       " 'average_value_error',\n",
       " 'duration',\n",
       " 'effective_value',\n",
       " 'maximum_value',\n",
       " 'minimum_value',\n",
       " 'requested_value',\n",
       " 'time',\n",
       " 'value']"
      ]
     },
     "execution_count": 7,
     "metadata": {},
     "output_type": "execute_result"
    }
   ],
   "source": [
    "list(s1.keys())"
   ]
  },
  {
   "cell_type": "markdown",
   "metadata": {},
   "source": [
    "let's look at the average value\n"
   ]
  },
  {
   "cell_type": "code",
   "execution_count": 8,
   "metadata": {},
   "outputs": [],
   "source": [
    "av=s1['average_value']"
   ]
  },
  {
   "cell_type": "code",
   "execution_count": 9,
   "metadata": {},
   "outputs": [
    {
     "name": "stdout",
     "output_type": "stream",
     "text": [
      "/entry/DASlogs/s1/average_value\n"
     ]
    },
    {
     "data": {
      "text/plain": [
       "array([ 45.08166885], dtype=float32)"
      ]
     },
     "execution_count": 9,
     "metadata": {},
     "output_type": "execute_result"
    }
   ],
   "source": [
    "print(av.name)\n",
    "av.value"
   ]
  },
  {
   "cell_type": "markdown",
   "metadata": {},
   "source": [
    "Let's get the values of the array"
   ]
  },
  {
   "cell_type": "code",
   "execution_count": 10,
   "metadata": {},
   "outputs": [],
   "source": [
    "s1_value=s1['value'].value"
   ]
  },
  {
   "cell_type": "markdown",
   "metadata": {},
   "source": [
    "So we now have an array"
   ]
  },
  {
   "cell_type": "code",
   "execution_count": 11,
   "metadata": {},
   "outputs": [
    {
     "data": {
      "text/plain": [
       "array([ -1.72199996e-03,   4.40100022e-03,   1.07159996e-02, ...,\n",
       "         8.99946442e+01,   9.00011444e+01,   9.00022964e+01], dtype=float32)"
      ]
     },
     "execution_count": 11,
     "metadata": {},
     "output_type": "execute_result"
    }
   ],
   "source": [
    "s1_value"
   ]
  },
  {
   "cell_type": "code",
   "execution_count": 12,
   "metadata": {},
   "outputs": [
    {
     "data": {
      "text/plain": [
       "(68718,)"
      ]
     },
     "execution_count": 12,
     "metadata": {},
     "output_type": "execute_result"
    }
   ],
   "source": [
    "s1_value.shape"
   ]
  },
  {
   "cell_type": "code",
   "execution_count": 13,
   "metadata": {},
   "outputs": [
    {
     "data": {
      "text/plain": [
       "['units']"
      ]
     },
     "execution_count": 13,
     "metadata": {},
     "output_type": "execute_result"
    }
   ],
   "source": [
    "list (s1['value'].attrs.keys())"
   ]
  },
  {
   "cell_type": "markdown",
   "metadata": {},
   "source": [
    "Let's look at the units"
   ]
  },
  {
   "cell_type": "code",
   "execution_count": 14,
   "metadata": {},
   "outputs": [
    {
     "data": {
      "text/plain": [
       "b'degree'"
      ]
     },
     "execution_count": 14,
     "metadata": {},
     "output_type": "execute_result"
    }
   ],
   "source": [
    "s1['value'].attrs['units']"
   ]
  },
  {
   "cell_type": "markdown",
   "metadata": {},
   "source": [
    "what is the b?   It stands for byte.  The string from the nexus file needs to be converted into the python string format.  This is because python supports beyond ASCII character sets."
   ]
  },
  {
   "cell_type": "code",
   "execution_count": 15,
   "metadata": {},
   "outputs": [],
   "source": [
    "value_u=str(s1['value'].attrs['units'],'utf-8')"
   ]
  },
  {
   "cell_type": "markdown",
   "metadata": {},
   "source": [
    "No for the time to go with the values"
   ]
  },
  {
   "cell_type": "code",
   "execution_count": 16,
   "metadata": {},
   "outputs": [],
   "source": [
    "s1_time=s1['time'].value"
   ]
  },
  {
   "cell_type": "code",
   "execution_count": 17,
   "metadata": {},
   "outputs": [
    {
     "data": {
      "text/plain": [
       "(68718,)"
      ]
     },
     "execution_count": 17,
     "metadata": {},
     "output_type": "execute_result"
    }
   ],
   "source": [
    "s1_time.shape"
   ]
  },
  {
   "cell_type": "code",
   "execution_count": 18,
   "metadata": {},
   "outputs": [
    {
     "data": {
      "text/plain": [
       "['start', 'units']"
      ]
     },
     "execution_count": 18,
     "metadata": {},
     "output_type": "execute_result"
    }
   ],
   "source": [
    "list(s1['time'].attrs.keys())"
   ]
  },
  {
   "cell_type": "code",
   "execution_count": 19,
   "metadata": {},
   "outputs": [],
   "source": [
    "time_u=str(s1['time'].attrs['units'],'utf-8')"
   ]
  },
  {
   "cell_type": "code",
   "execution_count": 20,
   "metadata": {},
   "outputs": [
    {
     "data": {
      "text/plain": [
       "'second'"
      ]
     },
     "execution_count": 20,
     "metadata": {},
     "output_type": "execute_result"
    }
   ],
   "source": [
    "time_u"
   ]
  },
  {
   "cell_type": "markdown",
   "metadata": {},
   "source": [
    "Plot value vs. time"
   ]
  },
  {
   "cell_type": "code",
   "execution_count": 21,
   "metadata": {},
   "outputs": [
    {
     "data": {
      "application/javascript": [
       "/* Put everything inside the global mpl namespace */\n",
       "window.mpl = {};\n",
       "\n",
       "\n",
       "mpl.get_websocket_type = function() {\n",
       "    if (typeof(WebSocket) !== 'undefined') {\n",
       "        return WebSocket;\n",
       "    } else if (typeof(MozWebSocket) !== 'undefined') {\n",
       "        return MozWebSocket;\n",
       "    } else {\n",
       "        alert('Your browser does not have WebSocket support.' +\n",
       "              'Please try Chrome, Safari or Firefox ≥ 6. ' +\n",
       "              'Firefox 4 and 5 are also supported but you ' +\n",
       "              'have to enable WebSockets in about:config.');\n",
       "    };\n",
       "}\n",
       "\n",
       "mpl.figure = function(figure_id, websocket, ondownload, parent_element) {\n",
       "    this.id = figure_id;\n",
       "\n",
       "    this.ws = websocket;\n",
       "\n",
       "    this.supports_binary = (this.ws.binaryType != undefined);\n",
       "\n",
       "    if (!this.supports_binary) {\n",
       "        var warnings = document.getElementById(\"mpl-warnings\");\n",
       "        if (warnings) {\n",
       "            warnings.style.display = 'block';\n",
       "            warnings.textContent = (\n",
       "                \"This browser does not support binary websocket messages. \" +\n",
       "                    \"Performance may be slow.\");\n",
       "        }\n",
       "    }\n",
       "\n",
       "    this.imageObj = new Image();\n",
       "\n",
       "    this.context = undefined;\n",
       "    this.message = undefined;\n",
       "    this.canvas = undefined;\n",
       "    this.rubberband_canvas = undefined;\n",
       "    this.rubberband_context = undefined;\n",
       "    this.format_dropdown = undefined;\n",
       "\n",
       "    this.image_mode = 'full';\n",
       "\n",
       "    this.root = $('<div/>');\n",
       "    this._root_extra_style(this.root)\n",
       "    this.root.attr('style', 'display: inline-block');\n",
       "\n",
       "    $(parent_element).append(this.root);\n",
       "\n",
       "    this._init_header(this);\n",
       "    this._init_canvas(this);\n",
       "    this._init_toolbar(this);\n",
       "\n",
       "    var fig = this;\n",
       "\n",
       "    this.waiting = false;\n",
       "\n",
       "    this.ws.onopen =  function () {\n",
       "            fig.send_message(\"supports_binary\", {value: fig.supports_binary});\n",
       "            fig.send_message(\"send_image_mode\", {});\n",
       "            if (mpl.ratio != 1) {\n",
       "                fig.send_message(\"set_dpi_ratio\", {'dpi_ratio': mpl.ratio});\n",
       "            }\n",
       "            fig.send_message(\"refresh\", {});\n",
       "        }\n",
       "\n",
       "    this.imageObj.onload = function() {\n",
       "            if (fig.image_mode == 'full') {\n",
       "                // Full images could contain transparency (where diff images\n",
       "                // almost always do), so we need to clear the canvas so that\n",
       "                // there is no ghosting.\n",
       "                fig.context.clearRect(0, 0, fig.canvas.width, fig.canvas.height);\n",
       "            }\n",
       "            fig.context.drawImage(fig.imageObj, 0, 0);\n",
       "        };\n",
       "\n",
       "    this.imageObj.onunload = function() {\n",
       "        fig.ws.close();\n",
       "    }\n",
       "\n",
       "    this.ws.onmessage = this._make_on_message_function(this);\n",
       "\n",
       "    this.ondownload = ondownload;\n",
       "}\n",
       "\n",
       "mpl.figure.prototype._init_header = function() {\n",
       "    var titlebar = $(\n",
       "        '<div class=\"ui-dialog-titlebar ui-widget-header ui-corner-all ' +\n",
       "        'ui-helper-clearfix\"/>');\n",
       "    var titletext = $(\n",
       "        '<div class=\"ui-dialog-title\" style=\"width: 100%; ' +\n",
       "        'text-align: center; padding: 3px;\"/>');\n",
       "    titlebar.append(titletext)\n",
       "    this.root.append(titlebar);\n",
       "    this.header = titletext[0];\n",
       "}\n",
       "\n",
       "\n",
       "\n",
       "mpl.figure.prototype._canvas_extra_style = function(canvas_div) {\n",
       "\n",
       "}\n",
       "\n",
       "\n",
       "mpl.figure.prototype._root_extra_style = function(canvas_div) {\n",
       "\n",
       "}\n",
       "\n",
       "mpl.figure.prototype._init_canvas = function() {\n",
       "    var fig = this;\n",
       "\n",
       "    var canvas_div = $('<div/>');\n",
       "\n",
       "    canvas_div.attr('style', 'position: relative; clear: both; outline: 0');\n",
       "\n",
       "    function canvas_keyboard_event(event) {\n",
       "        return fig.key_event(event, event['data']);\n",
       "    }\n",
       "\n",
       "    canvas_div.keydown('key_press', canvas_keyboard_event);\n",
       "    canvas_div.keyup('key_release', canvas_keyboard_event);\n",
       "    this.canvas_div = canvas_div\n",
       "    this._canvas_extra_style(canvas_div)\n",
       "    this.root.append(canvas_div);\n",
       "\n",
       "    var canvas = $('<canvas/>');\n",
       "    canvas.addClass('mpl-canvas');\n",
       "    canvas.attr('style', \"left: 0; top: 0; z-index: 0; outline: 0\")\n",
       "\n",
       "    this.canvas = canvas[0];\n",
       "    this.context = canvas[0].getContext(\"2d\");\n",
       "\n",
       "    var backingStore = this.context.backingStorePixelRatio ||\n",
       "\tthis.context.webkitBackingStorePixelRatio ||\n",
       "\tthis.context.mozBackingStorePixelRatio ||\n",
       "\tthis.context.msBackingStorePixelRatio ||\n",
       "\tthis.context.oBackingStorePixelRatio ||\n",
       "\tthis.context.backingStorePixelRatio || 1;\n",
       "\n",
       "    mpl.ratio = (window.devicePixelRatio || 1) / backingStore;\n",
       "\n",
       "    var rubberband = $('<canvas/>');\n",
       "    rubberband.attr('style', \"position: absolute; left: 0; top: 0; z-index: 1;\")\n",
       "\n",
       "    var pass_mouse_events = true;\n",
       "\n",
       "    canvas_div.resizable({\n",
       "        start: function(event, ui) {\n",
       "            pass_mouse_events = false;\n",
       "        },\n",
       "        resize: function(event, ui) {\n",
       "            fig.request_resize(ui.size.width, ui.size.height);\n",
       "        },\n",
       "        stop: function(event, ui) {\n",
       "            pass_mouse_events = true;\n",
       "            fig.request_resize(ui.size.width, ui.size.height);\n",
       "        },\n",
       "    });\n",
       "\n",
       "    function mouse_event_fn(event) {\n",
       "        if (pass_mouse_events)\n",
       "            return fig.mouse_event(event, event['data']);\n",
       "    }\n",
       "\n",
       "    rubberband.mousedown('button_press', mouse_event_fn);\n",
       "    rubberband.mouseup('button_release', mouse_event_fn);\n",
       "    // Throttle sequential mouse events to 1 every 20ms.\n",
       "    rubberband.mousemove('motion_notify', mouse_event_fn);\n",
       "\n",
       "    rubberband.mouseenter('figure_enter', mouse_event_fn);\n",
       "    rubberband.mouseleave('figure_leave', mouse_event_fn);\n",
       "\n",
       "    canvas_div.on(\"wheel\", function (event) {\n",
       "        event = event.originalEvent;\n",
       "        event['data'] = 'scroll'\n",
       "        if (event.deltaY < 0) {\n",
       "            event.step = 1;\n",
       "        } else {\n",
       "            event.step = -1;\n",
       "        }\n",
       "        mouse_event_fn(event);\n",
       "    });\n",
       "\n",
       "    canvas_div.append(canvas);\n",
       "    canvas_div.append(rubberband);\n",
       "\n",
       "    this.rubberband = rubberband;\n",
       "    this.rubberband_canvas = rubberband[0];\n",
       "    this.rubberband_context = rubberband[0].getContext(\"2d\");\n",
       "    this.rubberband_context.strokeStyle = \"#000000\";\n",
       "\n",
       "    this._resize_canvas = function(width, height) {\n",
       "        // Keep the size of the canvas, canvas container, and rubber band\n",
       "        // canvas in synch.\n",
       "        canvas_div.css('width', width)\n",
       "        canvas_div.css('height', height)\n",
       "\n",
       "        canvas.attr('width', width * mpl.ratio);\n",
       "        canvas.attr('height', height * mpl.ratio);\n",
       "        canvas.attr('style', 'width: ' + width + 'px; height: ' + height + 'px;');\n",
       "\n",
       "        rubberband.attr('width', width);\n",
       "        rubberband.attr('height', height);\n",
       "    }\n",
       "\n",
       "    // Set the figure to an initial 600x600px, this will subsequently be updated\n",
       "    // upon first draw.\n",
       "    this._resize_canvas(600, 600);\n",
       "\n",
       "    // Disable right mouse context menu.\n",
       "    $(this.rubberband_canvas).bind(\"contextmenu\",function(e){\n",
       "        return false;\n",
       "    });\n",
       "\n",
       "    function set_focus () {\n",
       "        canvas.focus();\n",
       "        canvas_div.focus();\n",
       "    }\n",
       "\n",
       "    window.setTimeout(set_focus, 100);\n",
       "}\n",
       "\n",
       "mpl.figure.prototype._init_toolbar = function() {\n",
       "    var fig = this;\n",
       "\n",
       "    var nav_element = $('<div/>')\n",
       "    nav_element.attr('style', 'width: 100%');\n",
       "    this.root.append(nav_element);\n",
       "\n",
       "    // Define a callback function for later on.\n",
       "    function toolbar_event(event) {\n",
       "        return fig.toolbar_button_onclick(event['data']);\n",
       "    }\n",
       "    function toolbar_mouse_event(event) {\n",
       "        return fig.toolbar_button_onmouseover(event['data']);\n",
       "    }\n",
       "\n",
       "    for(var toolbar_ind in mpl.toolbar_items) {\n",
       "        var name = mpl.toolbar_items[toolbar_ind][0];\n",
       "        var tooltip = mpl.toolbar_items[toolbar_ind][1];\n",
       "        var image = mpl.toolbar_items[toolbar_ind][2];\n",
       "        var method_name = mpl.toolbar_items[toolbar_ind][3];\n",
       "\n",
       "        if (!name) {\n",
       "            // put a spacer in here.\n",
       "            continue;\n",
       "        }\n",
       "        var button = $('<button/>');\n",
       "        button.addClass('ui-button ui-widget ui-state-default ui-corner-all ' +\n",
       "                        'ui-button-icon-only');\n",
       "        button.attr('role', 'button');\n",
       "        button.attr('aria-disabled', 'false');\n",
       "        button.click(method_name, toolbar_event);\n",
       "        button.mouseover(tooltip, toolbar_mouse_event);\n",
       "\n",
       "        var icon_img = $('<span/>');\n",
       "        icon_img.addClass('ui-button-icon-primary ui-icon');\n",
       "        icon_img.addClass(image);\n",
       "        icon_img.addClass('ui-corner-all');\n",
       "\n",
       "        var tooltip_span = $('<span/>');\n",
       "        tooltip_span.addClass('ui-button-text');\n",
       "        tooltip_span.html(tooltip);\n",
       "\n",
       "        button.append(icon_img);\n",
       "        button.append(tooltip_span);\n",
       "\n",
       "        nav_element.append(button);\n",
       "    }\n",
       "\n",
       "    var fmt_picker_span = $('<span/>');\n",
       "\n",
       "    var fmt_picker = $('<select/>');\n",
       "    fmt_picker.addClass('mpl-toolbar-option ui-widget ui-widget-content');\n",
       "    fmt_picker_span.append(fmt_picker);\n",
       "    nav_element.append(fmt_picker_span);\n",
       "    this.format_dropdown = fmt_picker[0];\n",
       "\n",
       "    for (var ind in mpl.extensions) {\n",
       "        var fmt = mpl.extensions[ind];\n",
       "        var option = $(\n",
       "            '<option/>', {selected: fmt === mpl.default_extension}).html(fmt);\n",
       "        fmt_picker.append(option)\n",
       "    }\n",
       "\n",
       "    // Add hover states to the ui-buttons\n",
       "    $( \".ui-button\" ).hover(\n",
       "        function() { $(this).addClass(\"ui-state-hover\");},\n",
       "        function() { $(this).removeClass(\"ui-state-hover\");}\n",
       "    );\n",
       "\n",
       "    var status_bar = $('<span class=\"mpl-message\"/>');\n",
       "    nav_element.append(status_bar);\n",
       "    this.message = status_bar[0];\n",
       "}\n",
       "\n",
       "mpl.figure.prototype.request_resize = function(x_pixels, y_pixels) {\n",
       "    // Request matplotlib to resize the figure. Matplotlib will then trigger a resize in the client,\n",
       "    // which will in turn request a refresh of the image.\n",
       "    this.send_message('resize', {'width': x_pixels, 'height': y_pixels});\n",
       "}\n",
       "\n",
       "mpl.figure.prototype.send_message = function(type, properties) {\n",
       "    properties['type'] = type;\n",
       "    properties['figure_id'] = this.id;\n",
       "    this.ws.send(JSON.stringify(properties));\n",
       "}\n",
       "\n",
       "mpl.figure.prototype.send_draw_message = function() {\n",
       "    if (!this.waiting) {\n",
       "        this.waiting = true;\n",
       "        this.ws.send(JSON.stringify({type: \"draw\", figure_id: this.id}));\n",
       "    }\n",
       "}\n",
       "\n",
       "\n",
       "mpl.figure.prototype.handle_save = function(fig, msg) {\n",
       "    var format_dropdown = fig.format_dropdown;\n",
       "    var format = format_dropdown.options[format_dropdown.selectedIndex].value;\n",
       "    fig.ondownload(fig, format);\n",
       "}\n",
       "\n",
       "\n",
       "mpl.figure.prototype.handle_resize = function(fig, msg) {\n",
       "    var size = msg['size'];\n",
       "    if (size[0] != fig.canvas.width || size[1] != fig.canvas.height) {\n",
       "        fig._resize_canvas(size[0], size[1]);\n",
       "        fig.send_message(\"refresh\", {});\n",
       "    };\n",
       "}\n",
       "\n",
       "mpl.figure.prototype.handle_rubberband = function(fig, msg) {\n",
       "    var x0 = msg['x0'] / mpl.ratio;\n",
       "    var y0 = (fig.canvas.height - msg['y0']) / mpl.ratio;\n",
       "    var x1 = msg['x1'] / mpl.ratio;\n",
       "    var y1 = (fig.canvas.height - msg['y1']) / mpl.ratio;\n",
       "    x0 = Math.floor(x0) + 0.5;\n",
       "    y0 = Math.floor(y0) + 0.5;\n",
       "    x1 = Math.floor(x1) + 0.5;\n",
       "    y1 = Math.floor(y1) + 0.5;\n",
       "    var min_x = Math.min(x0, x1);\n",
       "    var min_y = Math.min(y0, y1);\n",
       "    var width = Math.abs(x1 - x0);\n",
       "    var height = Math.abs(y1 - y0);\n",
       "\n",
       "    fig.rubberband_context.clearRect(\n",
       "        0, 0, fig.canvas.width, fig.canvas.height);\n",
       "\n",
       "    fig.rubberband_context.strokeRect(min_x, min_y, width, height);\n",
       "}\n",
       "\n",
       "mpl.figure.prototype.handle_figure_label = function(fig, msg) {\n",
       "    // Updates the figure title.\n",
       "    fig.header.textContent = msg['label'];\n",
       "}\n",
       "\n",
       "mpl.figure.prototype.handle_cursor = function(fig, msg) {\n",
       "    var cursor = msg['cursor'];\n",
       "    switch(cursor)\n",
       "    {\n",
       "    case 0:\n",
       "        cursor = 'pointer';\n",
       "        break;\n",
       "    case 1:\n",
       "        cursor = 'default';\n",
       "        break;\n",
       "    case 2:\n",
       "        cursor = 'crosshair';\n",
       "        break;\n",
       "    case 3:\n",
       "        cursor = 'move';\n",
       "        break;\n",
       "    }\n",
       "    fig.rubberband_canvas.style.cursor = cursor;\n",
       "}\n",
       "\n",
       "mpl.figure.prototype.handle_message = function(fig, msg) {\n",
       "    fig.message.textContent = msg['message'];\n",
       "}\n",
       "\n",
       "mpl.figure.prototype.handle_draw = function(fig, msg) {\n",
       "    // Request the server to send over a new figure.\n",
       "    fig.send_draw_message();\n",
       "}\n",
       "\n",
       "mpl.figure.prototype.handle_image_mode = function(fig, msg) {\n",
       "    fig.image_mode = msg['mode'];\n",
       "}\n",
       "\n",
       "mpl.figure.prototype.updated_canvas_event = function() {\n",
       "    // Called whenever the canvas gets updated.\n",
       "    this.send_message(\"ack\", {});\n",
       "}\n",
       "\n",
       "// A function to construct a web socket function for onmessage handling.\n",
       "// Called in the figure constructor.\n",
       "mpl.figure.prototype._make_on_message_function = function(fig) {\n",
       "    return function socket_on_message(evt) {\n",
       "        if (evt.data instanceof Blob) {\n",
       "            /* FIXME: We get \"Resource interpreted as Image but\n",
       "             * transferred with MIME type text/plain:\" errors on\n",
       "             * Chrome.  But how to set the MIME type?  It doesn't seem\n",
       "             * to be part of the websocket stream */\n",
       "            evt.data.type = \"image/png\";\n",
       "\n",
       "            /* Free the memory for the previous frames */\n",
       "            if (fig.imageObj.src) {\n",
       "                (window.URL || window.webkitURL).revokeObjectURL(\n",
       "                    fig.imageObj.src);\n",
       "            }\n",
       "\n",
       "            fig.imageObj.src = (window.URL || window.webkitURL).createObjectURL(\n",
       "                evt.data);\n",
       "            fig.updated_canvas_event();\n",
       "            fig.waiting = false;\n",
       "            return;\n",
       "        }\n",
       "        else if (typeof evt.data === 'string' && evt.data.slice(0, 21) == \"data:image/png;base64\") {\n",
       "            fig.imageObj.src = evt.data;\n",
       "            fig.updated_canvas_event();\n",
       "            fig.waiting = false;\n",
       "            return;\n",
       "        }\n",
       "\n",
       "        var msg = JSON.parse(evt.data);\n",
       "        var msg_type = msg['type'];\n",
       "\n",
       "        // Call the  \"handle_{type}\" callback, which takes\n",
       "        // the figure and JSON message as its only arguments.\n",
       "        try {\n",
       "            var callback = fig[\"handle_\" + msg_type];\n",
       "        } catch (e) {\n",
       "            console.log(\"No handler for the '\" + msg_type + \"' message type: \", msg);\n",
       "            return;\n",
       "        }\n",
       "\n",
       "        if (callback) {\n",
       "            try {\n",
       "                // console.log(\"Handling '\" + msg_type + \"' message: \", msg);\n",
       "                callback(fig, msg);\n",
       "            } catch (e) {\n",
       "                console.log(\"Exception inside the 'handler_\" + msg_type + \"' callback:\", e, e.stack, msg);\n",
       "            }\n",
       "        }\n",
       "    };\n",
       "}\n",
       "\n",
       "// from http://stackoverflow.com/questions/1114465/getting-mouse-location-in-canvas\n",
       "mpl.findpos = function(e) {\n",
       "    //this section is from http://www.quirksmode.org/js/events_properties.html\n",
       "    var targ;\n",
       "    if (!e)\n",
       "        e = window.event;\n",
       "    if (e.target)\n",
       "        targ = e.target;\n",
       "    else if (e.srcElement)\n",
       "        targ = e.srcElement;\n",
       "    if (targ.nodeType == 3) // defeat Safari bug\n",
       "        targ = targ.parentNode;\n",
       "\n",
       "    // jQuery normalizes the pageX and pageY\n",
       "    // pageX,Y are the mouse positions relative to the document\n",
       "    // offset() returns the position of the element relative to the document\n",
       "    var x = e.pageX - $(targ).offset().left;\n",
       "    var y = e.pageY - $(targ).offset().top;\n",
       "\n",
       "    return {\"x\": x, \"y\": y};\n",
       "};\n",
       "\n",
       "/*\n",
       " * return a copy of an object with only non-object keys\n",
       " * we need this to avoid circular references\n",
       " * http://stackoverflow.com/a/24161582/3208463\n",
       " */\n",
       "function simpleKeys (original) {\n",
       "  return Object.keys(original).reduce(function (obj, key) {\n",
       "    if (typeof original[key] !== 'object')\n",
       "        obj[key] = original[key]\n",
       "    return obj;\n",
       "  }, {});\n",
       "}\n",
       "\n",
       "mpl.figure.prototype.mouse_event = function(event, name) {\n",
       "    var canvas_pos = mpl.findpos(event)\n",
       "\n",
       "    if (name === 'button_press')\n",
       "    {\n",
       "        this.canvas.focus();\n",
       "        this.canvas_div.focus();\n",
       "    }\n",
       "\n",
       "    var x = canvas_pos.x * mpl.ratio;\n",
       "    var y = canvas_pos.y * mpl.ratio;\n",
       "\n",
       "    this.send_message(name, {x: x, y: y, button: event.button,\n",
       "                             step: event.step,\n",
       "                             guiEvent: simpleKeys(event)});\n",
       "\n",
       "    /* This prevents the web browser from automatically changing to\n",
       "     * the text insertion cursor when the button is pressed.  We want\n",
       "     * to control all of the cursor setting manually through the\n",
       "     * 'cursor' event from matplotlib */\n",
       "    event.preventDefault();\n",
       "    return false;\n",
       "}\n",
       "\n",
       "mpl.figure.prototype._key_event_extra = function(event, name) {\n",
       "    // Handle any extra behaviour associated with a key event\n",
       "}\n",
       "\n",
       "mpl.figure.prototype.key_event = function(event, name) {\n",
       "\n",
       "    // Prevent repeat events\n",
       "    if (name == 'key_press')\n",
       "    {\n",
       "        if (event.which === this._key)\n",
       "            return;\n",
       "        else\n",
       "            this._key = event.which;\n",
       "    }\n",
       "    if (name == 'key_release')\n",
       "        this._key = null;\n",
       "\n",
       "    var value = '';\n",
       "    if (event.ctrlKey && event.which != 17)\n",
       "        value += \"ctrl+\";\n",
       "    if (event.altKey && event.which != 18)\n",
       "        value += \"alt+\";\n",
       "    if (event.shiftKey && event.which != 16)\n",
       "        value += \"shift+\";\n",
       "\n",
       "    value += 'k';\n",
       "    value += event.which.toString();\n",
       "\n",
       "    this._key_event_extra(event, name);\n",
       "\n",
       "    this.send_message(name, {key: value,\n",
       "                             guiEvent: simpleKeys(event)});\n",
       "    return false;\n",
       "}\n",
       "\n",
       "mpl.figure.prototype.toolbar_button_onclick = function(name) {\n",
       "    if (name == 'download') {\n",
       "        this.handle_save(this, null);\n",
       "    } else {\n",
       "        this.send_message(\"toolbar_button\", {name: name});\n",
       "    }\n",
       "};\n",
       "\n",
       "mpl.figure.prototype.toolbar_button_onmouseover = function(tooltip) {\n",
       "    this.message.textContent = tooltip;\n",
       "};\n",
       "mpl.toolbar_items = [[\"Home\", \"Reset original view\", \"fa fa-home icon-home\", \"home\"], [\"Back\", \"Back to  previous view\", \"fa fa-arrow-left icon-arrow-left\", \"back\"], [\"Forward\", \"Forward to next view\", \"fa fa-arrow-right icon-arrow-right\", \"forward\"], [\"\", \"\", \"\", \"\"], [\"Pan\", \"Pan axes with left mouse, zoom with right\", \"fa fa-arrows icon-move\", \"pan\"], [\"Zoom\", \"Zoom to rectangle\", \"fa fa-square-o icon-check-empty\", \"zoom\"], [\"\", \"\", \"\", \"\"], [\"Download\", \"Download plot\", \"fa fa-floppy-o icon-save\", \"download\"]];\n",
       "\n",
       "mpl.extensions = [\"eps\", \"jpeg\", \"pdf\", \"png\", \"ps\", \"raw\", \"svg\", \"tif\"];\n",
       "\n",
       "mpl.default_extension = \"png\";var comm_websocket_adapter = function(comm) {\n",
       "    // Create a \"websocket\"-like object which calls the given IPython comm\n",
       "    // object with the appropriate methods. Currently this is a non binary\n",
       "    // socket, so there is still some room for performance tuning.\n",
       "    var ws = {};\n",
       "\n",
       "    ws.close = function() {\n",
       "        comm.close()\n",
       "    };\n",
       "    ws.send = function(m) {\n",
       "        //console.log('sending', m);\n",
       "        comm.send(m);\n",
       "    };\n",
       "    // Register the callback with on_msg.\n",
       "    comm.on_msg(function(msg) {\n",
       "        //console.log('receiving', msg['content']['data'], msg);\n",
       "        // Pass the mpl event to the overridden (by mpl) onmessage function.\n",
       "        ws.onmessage(msg['content']['data'])\n",
       "    });\n",
       "    return ws;\n",
       "}\n",
       "\n",
       "mpl.mpl_figure_comm = function(comm, msg) {\n",
       "    // This is the function which gets called when the mpl process\n",
       "    // starts-up an IPython Comm through the \"matplotlib\" channel.\n",
       "\n",
       "    var id = msg.content.data.id;\n",
       "    // Get hold of the div created by the display call when the Comm\n",
       "    // socket was opened in Python.\n",
       "    var element = $(\"#\" + id);\n",
       "    var ws_proxy = comm_websocket_adapter(comm)\n",
       "\n",
       "    function ondownload(figure, format) {\n",
       "        window.open(figure.imageObj.src);\n",
       "    }\n",
       "\n",
       "    var fig = new mpl.figure(id, ws_proxy,\n",
       "                           ondownload,\n",
       "                           element.get(0));\n",
       "\n",
       "    // Call onopen now - mpl needs it, as it is assuming we've passed it a real\n",
       "    // web socket which is closed, not our websocket->open comm proxy.\n",
       "    ws_proxy.onopen();\n",
       "\n",
       "    fig.parent_element = element.get(0);\n",
       "    fig.cell_info = mpl.find_output_cell(\"<div id='\" + id + \"'></div>\");\n",
       "    if (!fig.cell_info) {\n",
       "        console.error(\"Failed to find cell for figure\", id, fig);\n",
       "        return;\n",
       "    }\n",
       "\n",
       "    var output_index = fig.cell_info[2]\n",
       "    var cell = fig.cell_info[0];\n",
       "\n",
       "};\n",
       "\n",
       "mpl.figure.prototype.handle_close = function(fig, msg) {\n",
       "    var width = fig.canvas.width/mpl.ratio\n",
       "    fig.root.unbind('remove')\n",
       "\n",
       "    // Update the output cell to use the data from the current canvas.\n",
       "    fig.push_to_output();\n",
       "    var dataURL = fig.canvas.toDataURL();\n",
       "    // Re-enable the keyboard manager in IPython - without this line, in FF,\n",
       "    // the notebook keyboard shortcuts fail.\n",
       "    IPython.keyboard_manager.enable()\n",
       "    $(fig.parent_element).html('<img src=\"' + dataURL + '\" width=\"' + width + '\">');\n",
       "    fig.close_ws(fig, msg);\n",
       "}\n",
       "\n",
       "mpl.figure.prototype.close_ws = function(fig, msg){\n",
       "    fig.send_message('closing', msg);\n",
       "    // fig.ws.close()\n",
       "}\n",
       "\n",
       "mpl.figure.prototype.push_to_output = function(remove_interactive) {\n",
       "    // Turn the data on the canvas into data in the output cell.\n",
       "    var width = this.canvas.width/mpl.ratio\n",
       "    var dataURL = this.canvas.toDataURL();\n",
       "    this.cell_info[1]['text/html'] = '<img src=\"' + dataURL + '\" width=\"' + width + '\">';\n",
       "}\n",
       "\n",
       "mpl.figure.prototype.updated_canvas_event = function() {\n",
       "    // Tell IPython that the notebook contents must change.\n",
       "    IPython.notebook.set_dirty(true);\n",
       "    this.send_message(\"ack\", {});\n",
       "    var fig = this;\n",
       "    // Wait a second, then push the new image to the DOM so\n",
       "    // that it is saved nicely (might be nice to debounce this).\n",
       "    setTimeout(function () { fig.push_to_output() }, 1000);\n",
       "}\n",
       "\n",
       "mpl.figure.prototype._init_toolbar = function() {\n",
       "    var fig = this;\n",
       "\n",
       "    var nav_element = $('<div/>')\n",
       "    nav_element.attr('style', 'width: 100%');\n",
       "    this.root.append(nav_element);\n",
       "\n",
       "    // Define a callback function for later on.\n",
       "    function toolbar_event(event) {\n",
       "        return fig.toolbar_button_onclick(event['data']);\n",
       "    }\n",
       "    function toolbar_mouse_event(event) {\n",
       "        return fig.toolbar_button_onmouseover(event['data']);\n",
       "    }\n",
       "\n",
       "    for(var toolbar_ind in mpl.toolbar_items){\n",
       "        var name = mpl.toolbar_items[toolbar_ind][0];\n",
       "        var tooltip = mpl.toolbar_items[toolbar_ind][1];\n",
       "        var image = mpl.toolbar_items[toolbar_ind][2];\n",
       "        var method_name = mpl.toolbar_items[toolbar_ind][3];\n",
       "\n",
       "        if (!name) { continue; };\n",
       "\n",
       "        var button = $('<button class=\"btn btn-default\" href=\"#\" title=\"' + name + '\"><i class=\"fa ' + image + ' fa-lg\"></i></button>');\n",
       "        button.click(method_name, toolbar_event);\n",
       "        button.mouseover(tooltip, toolbar_mouse_event);\n",
       "        nav_element.append(button);\n",
       "    }\n",
       "\n",
       "    // Add the status bar.\n",
       "    var status_bar = $('<span class=\"mpl-message\" style=\"text-align:right; float: right;\"/>');\n",
       "    nav_element.append(status_bar);\n",
       "    this.message = status_bar[0];\n",
       "\n",
       "    // Add the close button to the window.\n",
       "    var buttongrp = $('<div class=\"btn-group inline pull-right\"></div>');\n",
       "    var button = $('<button class=\"btn btn-mini btn-primary\" href=\"#\" title=\"Stop Interaction\"><i class=\"fa fa-power-off icon-remove icon-large\"></i></button>');\n",
       "    button.click(function (evt) { fig.handle_close(fig, {}); } );\n",
       "    button.mouseover('Stop Interaction', toolbar_mouse_event);\n",
       "    buttongrp.append(button);\n",
       "    var titlebar = this.root.find($('.ui-dialog-titlebar'));\n",
       "    titlebar.prepend(buttongrp);\n",
       "}\n",
       "\n",
       "mpl.figure.prototype._root_extra_style = function(el){\n",
       "    var fig = this\n",
       "    el.on(\"remove\", function(){\n",
       "\tfig.close_ws(fig, {});\n",
       "    });\n",
       "}\n",
       "\n",
       "mpl.figure.prototype._canvas_extra_style = function(el){\n",
       "    // this is important to make the div 'focusable\n",
       "    el.attr('tabindex', 0)\n",
       "    // reach out to IPython and tell the keyboard manager to turn it's self\n",
       "    // off when our div gets focus\n",
       "\n",
       "    // location in version 3\n",
       "    if (IPython.notebook.keyboard_manager) {\n",
       "        IPython.notebook.keyboard_manager.register_events(el);\n",
       "    }\n",
       "    else {\n",
       "        // location in version 2\n",
       "        IPython.keyboard_manager.register_events(el);\n",
       "    }\n",
       "\n",
       "}\n",
       "\n",
       "mpl.figure.prototype._key_event_extra = function(event, name) {\n",
       "    var manager = IPython.notebook.keyboard_manager;\n",
       "    if (!manager)\n",
       "        manager = IPython.keyboard_manager;\n",
       "\n",
       "    // Check for shift+enter\n",
       "    if (event.shiftKey && event.which == 13) {\n",
       "        this.canvas_div.blur();\n",
       "        event.shiftKey = false;\n",
       "        // Send a \"J\" for go to next cell\n",
       "        event.which = 74;\n",
       "        event.keyCode = 74;\n",
       "        manager.command_mode();\n",
       "        manager.handle_keydown(event);\n",
       "    }\n",
       "}\n",
       "\n",
       "mpl.figure.prototype.handle_save = function(fig, msg) {\n",
       "    fig.ondownload(fig, null);\n",
       "}\n",
       "\n",
       "\n",
       "mpl.find_output_cell = function(html_output) {\n",
       "    // Return the cell and output element which can be found *uniquely* in the notebook.\n",
       "    // Note - this is a bit hacky, but it is done because the \"notebook_saving.Notebook\"\n",
       "    // IPython event is triggered only after the cells have been serialised, which for\n",
       "    // our purposes (turning an active figure into a static one), is too late.\n",
       "    var cells = IPython.notebook.get_cells();\n",
       "    var ncells = cells.length;\n",
       "    for (var i=0; i<ncells; i++) {\n",
       "        var cell = cells[i];\n",
       "        if (cell.cell_type === 'code'){\n",
       "            for (var j=0; j<cell.output_area.outputs.length; j++) {\n",
       "                var data = cell.output_area.outputs[j];\n",
       "                if (data.data) {\n",
       "                    // IPython >= 3 moved mimebundle to data attribute of output\n",
       "                    data = data.data;\n",
       "                }\n",
       "                if (data['text/html'] == html_output) {\n",
       "                    return [cell, data, j];\n",
       "                }\n",
       "            }\n",
       "        }\n",
       "    }\n",
       "}\n",
       "\n",
       "// Register the function which deals with the matplotlib target/channel.\n",
       "// The kernel may be null if the page has been refreshed.\n",
       "if (IPython.notebook.kernel != null) {\n",
       "    IPython.notebook.kernel.comm_manager.register_target('matplotlib', mpl.mpl_figure_comm);\n",
       "}\n"
      ],
      "text/plain": [
       "<IPython.core.display.Javascript object>"
      ]
     },
     "metadata": {},
     "output_type": "display_data"
    },
    {
     "data": {
      "text/html": [
       "<img src=\"data:image/png;base64,iVBORw0KGgoAAAANSUhEUgAAAoAAAAHgCAYAAAA10dzkAAAgAElEQVR4nOzdeXxU1f0//gFFoKJ+1da9ngiitVhEba11wV0/VqVata27FWwtahX708O+KbuAIgKKICiLiCziSUIIEJYASQhhCRAggUDCFiCQEEKWyczr98fNhMQkkMmdmXOX1/PxmD9Mwswb+u77vHPvPe/jARERERG5ikd3AEREREQUWWwAiYiIiFyGDSARERGRy7ABJCIiInIZNoBERERELsMGkIiIiMhl2AASERERuQwbQCIiIiKXYQNIRERE5DJsAImIiIhchg0gERERkcuwASQiIiJyGTaARERERC7DBpCIiIjIZdgAEhEREbkMG0AiIiIil2EDSEREROQybACJiIiIXIYNIBEREZHLsAEkIiIichk2gEREREQuwwaQiIiIyGXYABIRERG5DBtAIiIiIpdhA0hERETkMmwAiYiIiFyGDSARERGRy7ABJCIiInIZNoBERERELsMGkIiIiMhl2AASERERuQwbQCIiIiKXYQNIRERE5DJsAImIiIhchg0gERERkcuwASQiIiJyGTaARGQZSUlJePLJJ/HrX/8a55xzDi655BLcfvvteO+992r83MqVK9G5c2fccsstOOecc+DxeJCdna0n6NOIjo5Gv379dIdBRFQLG0AisgSlFJo2bYr7778fM2fOxLJlyzBz5kz873//w5VXXlnjZ/v37w8hBJ588knce++9lm0A33zzTXg8LLNEZD2sTERkCR07dkSbNm3g9Xprfc/n89X73yNGjHBdA3jy5MmQvycRuQsbQCKyhHbt2uGPf/xj0H+uMQ2gx+PBm2++icmTJ+O6665DixYtcOutt2LNmjXw+/0YPnw4oqKicO655+K+++5DZmZmrfeYNGkS2rdvj+bNm+PCCy/Ek08+ia1bt1Z9/5VXXoHH46n1CsRZUlKC7t27IyoqCs2aNcMVV1yBrl274tixYzU+RwiBxx57DHPmzEGHDh3QvHlzSCmD/nciIqqODSARWUKXLl3g8Xjw9ttvIykpCeXl5Q36c41tAIUQuOOOOzB37lzMmzcP1113HS666CJ069YNf/nLX6CUwvTp03HppZeiffv28Pv9VX9+8ODB8Hg8eO655xAdHY1vvvkGrVu3xgUXXIAdO3YAALKysvDMM8/A4/FgzZo1Va/S0lL4/X488sgjOPvss9GnTx8sWrQIH3/8Mc4991zcfPPNKC0trfosIQQuv/xytG7dGpMnT0ZCQgJSUlIa/HclIqoLG0AisoQjR47grrvuqrpS1qxZM9xxxx0YMmQIioqK6v1zjW0AL7vsMpw4caLqa/Pnz4fH40GHDh1qNHuffPIJPB4PNm3aBAA4duwYWrZsiT//+c813jMnJwfNmzfH888/X/W1+m4BL1y4EB6PB8OHD6/x9VmzZsHj8eDLL7+s+poQAmeddRa2b9/e4L8fEdGZsAEkIktZu3Ythg4dimeeeQa//OUv4fF4EBUVhcOHD9f5841tAJ977rkaX9u+fTs8Hg969OhR4+txcXHweDz46aefAAAxMTHweDz4/vvva73vo48+iksvvbTqv+trAD/44AN4PB4cOnSoxtf9fj/OPfdc/P3vf6/6mhACN998c4P/bkREDcEGkIgsq7y8HN26dYPH48H7779f58+YeQawuuzsbHg8HowYMaLG1xMSEuDxeDB79mwAwLfffguPx4OVK1fWet/OnTvj7LPPrvrv+hrAn/9cdW3atMGDDz5Y9d9CiFpXG4mIzGIDSESWVlBQAI/Hg0cffbTO70e6ATzTFcDLLrus6r8bewXwH//4R9XXAptAiIhCiQ0gEVnC/v376/z6mjVr4PF40Llz5zq/H+kGMPAMYKdOnWr8XG5uLpo3b44XXnih6mvvvfcePB5PrbEtgdvKo0aNqvH12bNnw+PxYOLEiVVfYwNIROHABpCILOF3v/sdHn30UYwbNw5Lly7F4sWL8fHHH+Pyyy9Hq1atqjZhAMChQ4cwe/ZszJ49Gy+//DI8Hg/GjRuH2bNnY9myZWf8LDMNIHBqF/BLL72EmJgYfPvtt7j22mtr7AIGgK+//hoejwf9+vVDUlIS1q5di7KysqpdwM2aNUP//v0RHx+PkSNHolWrVnXuAmYDSEShxgaQiCxh1qxZeP7559G2bVu0atUKzZo1w9VXX42XXnqpxnw94FRTVtfrnnvuOeNnmW0AAeCrr75C+/btcc455+CCCy7AX/7yF2zZsqXGz5SVlaFLly741a9+hSZNmtSaAyilhBACzZo1w+WXX47//Oc/9c4BJCIKJTaARERERC7DBpCIiIjIZdgAEhEREbkMG0AiIiIil2EDSEREROQybACJiIiIXIYNIBEREZHLsAEkIiIichk2gCb4fD7k5uaioKAAhYWFfPHFF1988cWXDV4FBQXIzc2Fz+fT3UpowwbQhNzc3HpPI+CLL7744osvvqz9ys3N1d1KaMMG0ISCgoKqBNL92wxffPHFF1988dWwV+ACTkFBge5WQhs2gCYUFhbC4/GgsLBQdyhERETUQFy/2QCawgQiIiKyH67fbABNYQIRERHZD9dvNoCmMIGIiIjsh+s3G0BTmEBERET2w/WbDaApTCAiIiL74frNBtAUJhAREZH9cP1mA2gKE4iIiMh+uH6zATSFCURERGQ/XL/ZAJrCBCIiIrIfrt9sAE1hAhEREdkP1282gKYwgYiIiOyH6zcbQFOYQERERPbD9ZsNoClMIPvKzCvCkJgMFJws1x0KkWkVPj/GLs1E0s4jukMhColFWw5i4oqd8Pv9YXl/rt9sAE1hAtnXw6OWQ0gFIRWyDhXpDofIlBnJe6ryOWbTft3hEJlS6q2oyucHRy7D+pxjIf8Mrt9sAE1hAtlTmddXVVyEVLhl4CLdIRGZ8taMtBo5nb63QHdIRI22OutIjXwe+NOWkH8G1282gKYwgexpzc6axUVIhbzjJbrDImoUv9+PPw1eXCOfxyVk6Q6LqNGGL8yokc8rdxwO+Wdw/WYDaAoTyJ4+jttWqwGcm5arOyyiRsk6VFQrn5+fuEZ3WESN1mlsYlUut+kRjZLyipB/BtdvNoCmMIHs6S+VxWXM4h14etwqCKnw3qwNusMiapSpq7MhpMLfJqzGl8t3QkiFtr1iwrJoEoVbQXE5ruluNH9LMg5iZ5ie0eb6zQbQFCaQ/RScPFVc9h07iZU7DkNIhT8OWhy23WZE4fT61LUQUmHs0kz4/X7cNigeQiokZob+thlRuMWmH4CQCvd/nBDWz+H6zQbQFCaQ/QSKy32VxaWkvAJte8VASIXMPO4GJnvxVvhwY7+FEFJV7ZTsNms9hFQYEpOhOTqi4PWelw4hFfrOTw/r53D9ZgNoChPIfnrN21SruDw/cQ2EVPg6cZfGyIiCl7bnKIRU+F2/hajwGVew56zLhZAKT3y2UnN0RMG7b0QChFSI23wgrJ/D9ZsNoClMIPu5t47iMi4hC0IqdJ6yVmNkRMEbs3gHhFT49zepVV87WFgCIRWiuiscKy7TGB1RcPYeOwkhFVr3iEZhSXiH9HP9ZgNoChPIXgLF5ZruqkZx2ZRbACEV2vVdCG+FT2OERMH524TVEFLh2zW7a3z9oVHLIKRCNIdCk43MSsmBkApPfZ4Y9s/i+s0G0BQmkL0EisuTPysuFT4/bhoQByEVUnfna4qOKDgnSr24tmc0hFTYfeREje/1X7AZQir0mLtJU3REwXu7cqD5yLhtYf8srt9sAE1hAtlLoLh8XEdx6TptHYRU+CR+h4bIiIK3dFsehFS4c+iSWjvYF289CCEV7h62VFN0RMHx+fy4ZeAiCKkicqY11282gKYwgezjTMVlepJxluqz41driI4oeB/+tAVCKsgfNtb6XlGpF216GFcH9xwp1hAdUXC27i+EkAq/6R2LMm/4H8Xh+s0G0BQmkH1s2Xf64rLnSHHV1PmiUq+GCImC88jo5RBS4aeN++r8/jPjjSHnM5L3RDgyouAFhpi/Mjk5Ip/H9ZsNoClMIPtoSHG5a9iSqunzRFaWd7yk6qis/BN17/QdHb8dQip0nbYuwtERBe/lSckQUmHiip0R+Tyu32wATWEC2UdDikv3OcaMwAELtkQwMqLgzV+/F0Iq/PnTFfX+TOrufAipcNOAOPh8POWGrKvUW4Hf9I6FkApb90dmPeX6zQbQFCaQPZR6K3B9b+O0j4wD9f9vpTbuh5AKD49aHsHoiIL3v+83QEiFwTFb6/2Z8gof2vU1TglJ31sQweiIgrNm5xEIqXDrh4si9ssK1282gKYwgexhdVaguMSf9rzfoyfKEFV5TnBeYUkEIyRqOL/fj9sHL4aQCit2HDrtz3aekgIhFcYlZEUoOqLgjVi4DUIqvD0jLWKfyfWbDaApTCB7CBSXd2aeubg8PmYlhFSYm5YbgciIgpd1qAhCKrTtFYOS8orT/uzXibsgpMILE5MiFB1R8P4yNhFCKsxamxOxz+T6zQbQFCaQPXSqLC7fN6C4DInJgJAK783aEIHIiII3dXU2hFR47ss1Z/zZzLzjDW4WiXQoLCnHNZV3XvYdOxm5z+X6zQbQDCaQ9RUUnyou+wvOXFxW7jgMIRVuG3T628VEurw+dS2EVBi7NPOMP+v3+3HboHgIqbByx+EIREcUnIWbD0BIhXtHJET0c7l+swE0hQlkfbHpRnG5/+OEBv18SXkF2vYyNoxk5h0Pb3BEQfJW+HBj5caODTnHGvRn3ptlbBgZEpMR5uiIgtdnfjqEVOg9Lz2in8v1mw2gKUwg6+s9zygufec3vLi8MDEJQip8nbgrjJERBS9tz1EIqdC+fxwqGrhbcm5aLoRUeGxM/SNjiHS5b0QChFRYuPlARD+X6zcbQFOYQNZ3b2VxiQuiuIxLyIKQCp2nrA1jZETBG7N4B4RU+Nc3Dc/NvEJjaHRU9/qHRhPpsPfYSQipcE13hYKT5RH9bK7fbABNYQJZW+5R43i31j2iUVjS8OKyKbcAQiq067sQ5RXhP5OSqKH+NmE1hFT4ds3uoP7cw6NOf2wckQ6zUnIgpMKTnydG/LO5frMBNIUJZG2B4vJUkMXF5/PjpgFxEFIhdXd+mKIjCk5xmRfX9oyGkAq7Dp8I6s8OWLAFQirIHzaGKTqi4L01Iw1CKnwcty3in831mw2gKUwgawsUl5GNKC5dp62DkAqfxO8IQ2REwUvYlgchFe4YsiToHepLMg5CSIU7hy4JU3REwfH5/Lhl4CIIqZC080jEP5/rNxtAU5hA1lW9uCTvCv4q3vSkPRBS4Znxq8IQHVHwPlKNv4p3otSLNj2Mq4d7jhSHITqi4GzeZzxqc0OfWJR5I/+oDddvNoCmMIGsa8u+QlPFJSffeH6wTY9oFJV6wxAhUXAeGW08x7dgQ+Oe43t2vPH84PSkPSGOjCh4E5YZm+1enZys5fO5frMBNIUJZF1fLDdfXO4ethRCKizJOBjCyIiCd+h4KYQ0BpofKSpt1Ht8Em/sIO46bV2IoyMK3otfGeO2vlqpZ9wW1282gKYwgazrpUnJpotL9zmbIKTCgAVbQhgZUfDmr98LIRUe/aTxs/xSd+dDSIUOA+Lga+AMQaJwKPVW4De9YyGkQsYBPesn1282gKYwgayp1FuB63sbp3lsO9D40zzUxv0QUuGhUctCGB1R8N6fbZzmMSh6a6Pfo7zCh3aVp4ik7y0IYXREwVmddQRCKtz64SJtR25y/WYDaAoTyJpWZRnn+f7+I3Pn+R49UYaoynOE8wpLQhghUcP5/X7cMWQJhFRYtv2QqffqPCUFQiqMX5YVouiIgjdi4TYIqfDfmWnaYuD6zQbQFCaQNQ1fmAEhFd79br3p93p8zEoIqTA3LTcEkREFb9fhExBSoW3PGJwsqzD1XpMTd0FIhRe/SgpRdETB+8vYRAip8P3aHG0xcP12cAPo9XrRq1cvREVFoUWLFrjmmmswYMAA+HyndoT6/X7069cPl19+OVq0aIF77rkHmzdvbvBnMIGsqVNlcZmdar5pGxJjNJPdZplvJoka45vV2RBS4R9frDH9Xpl5xyGkwnW9YlBSbq6ZJGqMguJyXFN5Z2XfsZPa4uD67eAG8KOPPsLFF18MpRSys7Mxe/ZstGrVCp988knVzwwdOhTnnXce5syZg/T0dPz973/H5ZdfjuPHG/bcGBPIeqoXlwMF5m/bJmYat5NvG2TudjJRY70+dS2EVPhsifmh5H6/H7cNioeQComZh0MQHVFwYtMPQEiF+z5O0BoH128HN4CPPfYYXnvttRpf++tf/4oXX3wRgFEIL7vsMgwdOrTq+6WlpbjgggswYcKEBn0GE8h6YtONjRsPjAzNxo2S8gpc18vYUJKZ1/gNJUSN4a3w4cZ+xsaNDTnHQvKe3Wath5AKQ2MzQvJ+RMHoPS8dQir0nZ+uNQ6u3w5uAIcMGQIhBLZv3w4A2LBhAy655BLMmDEDALBz5054PB6kpdV8CLVTp054+eWX63zP0tJSFBYWVr1yc3Ndn0BW02ueMbql348Nv5V/Ji9MNOZVfZ2oZ14Vude6PUchpEL7/nGoCNHolrlpuRBS4YnPVobk/YiCcd+IBAipELf5gNY42AA6uAH0+/3o3r07mjRpgrPPPhtNmjTB4MGDq76/atUqeDwe7NtXc6r+66+/jocffrjO9+zXrx88Hk+tl5sTyGruGW4Mb160JXTDm8clGEOlO09JCdl7EjXEmMXG8OY3vk0N2XvmFZZASIWo7gpHT5SF7H2JzmTvsZMQUqF1j2gUlpRrjYUNoIMbwJkzZ+Kqq67CzJkzsWnTJnzzzTe46KKLMGXKFACnGsD9+/fX+HNdunTBI488Uud78gqgtQWOb2vdIxrHQ1hc0vcaZ1a267sQ5RWRP7OS3OtvE4zj275dszuk7/vQqGUQUiF60/4z/zBRiMxKyYGQCk99nqg7FDaAcHADeNVVV2Hs2LE1vvbhhx/i+uuvB9C4W8A/xwSylu9S9kBIhb+OWxXS9/X5/LhpQByEVEjdnR/S9yaqz4lSL67tGQ0hFbIPnwjpe/dfsBlCKvSYuymk70t0Om/PSIOQCh/HbdMdCtdvOLgBvOiiizBu3LgaXxs8eDDatm0L4NQmkGHDhlV9v6ysjJtAbOytyuIyctH2kL9312nrIKTC6PjQvzdRXZZuy4OQCncOXRLyHehLMg5CSIW7hy0N6fsS1cfn8+OWgYsgpELSziO6w+H6DQc3gK+88gquvPLKqjEwc+fOxS9/+Ut88MEHVT8zdOhQXHDBBZg7dy7S09Px3HPPcQyMTfl8ftxcWVxSskN/lW5GsnF18Znxob26SFSfD3/aAiEV5A8bQ/7eRaVetOlhXF3cc6Q45O9P9HNb9hVCSIUb+sSizKv/URqu3w5uAI8fP4533nkHV199NVq0aIHWrVujV69eKCs79dBzYBD0ZZddhubNm6Njx45IT2/41nQmkHVs3mc8p/fbPrFheU4v8Hxhmx7RKCr1hvz9iX7ukdHLIaTCgg37zvzDjfDM+FUQUmFG8p6wvD9RdV8sNzbT/fNra2ym4/rt4AYwEphA1hGJ4nL3MGOH8ZKM0O0wJqpL3nFjp66QCvlh2qk7On47hFToOm1dWN6fqLqXJiVDSIWvVlpjnBbXbzaApjCBrOPFr4xZfZPCWFx6zDVmDPZfELoZg0R1mZe2F0Iq/PnTFWH7jNTd+RBS4aYBcfCFaMYgUV1KyitwfW9joP72g9YYqM/1mw2gKUwga4hUcYneZJwy8tCo0JwyQlSf/32/AUIqDI7eGrbPKK/woV1f45SR9L0FYfscolVZxpGav//IOkdqcv1mA2gKE8gaAsXlD2EuLkdPlCGq8pzhg4Xmzxkmqovf78ftgxdDSIUVOw6F9bM6T0mBkArjl2WF9XPI3YYvzICQCt2+W687lCpcv9kAmsIEsoZhsZErLk98thJCKsxOzQ37Z5E7ZeYVQUiFtr1iUFJeEdbPmpy4C0IqvDAxKayfQ+7WqbJu/mChusn1mw2gKUwga4hkcQk0m+9a6DdZcpYpq7IhpMLzE9eE/bMy845HrNkkdyooLq+6c3KgwDp3Trh+swE0hQmkX6SLy6pM6z3LQs7SecpaCKnweUJm2D/L7/fjtkHxEFIhMfNw2D+P3Cc23Xh2+sGR1np2mus3G0BTmED6xWyKbHGx4m42cg5vtY0ZG3OPReQzu81aDyEVhsRkROTzyF16Vk5P6PejtaYncP1mA2gKE0g/HcUlMHLGKvOsyDlSdx+tGs1SEaHRLHPTciGkwuNjVkbk88hd7hluzE+N32Kt+alcv9kAmsIE0k9HcZmwzFoT7ck5PonfASEV/jMtNWKfmVdoDJ2O6q5wNExDp8mdAicote4RjeMl5brDqYHrNxtAU5hAelUvLpE8ni1w7NwNYTp2jtzr2fGrIaTCtKTdEf3ch0Ytg5AK0Zv2R/RzydlmVp6h/vQ4652hzvWbDaApTCC9AsXlrxEuLj6fHzcPXAQhFVKy8yP62eRcJ0q9aNMjGkIq7DlSHNHP7r9gM4RU6D5nU0Q/l5ztzenrIKTCqEXbdYdSC9dvNoCmMIH0emtGGoRUGKmhuAQKm47PJmdampEHIRXuHLok4p+9JOMghFS4e9jSiH82OZPVf1Hm+s0G0BQmkD4+nx+3VBaXpJ1HIv7536XoufpIzjVgwRYIqSB/2Bjxzy7SePWRnCnwqMxvLfqoDNdvNoCmMIH0qf4cXpk38sUl96h1H24me3p41HIIqfDTxn1aPv+Z8asgpML0pD1aPp+c5cvlOy29WY7rNxtAU5hA+nyx3NiJ++rkZG0xBHYgL7LYeAOyn7zjp3bi5mvaiTs6fjuEVOg6bZ2WzydneWlSsqXHZXH9ZgNoChNIn0Bxmbhip7YYes2z5oBTsp/ALL7HxqzQFkPq7vyqGYS+CM0gJGcq9Z4amL/tgDUH5nP9ZgNoChNIj+rFJeOAvn/7wBFHD1jsiCOyn/dmbdB+Gkd5tVNI0vcWaIuD7G911hHLH5nJ9ZsNoClMID1WZVnjPN6C4nJcU3kO8f6Ck9riIHvz+/3446DFEFJh5Q695/F2npICIRXGJWRpjYPsbfjCDAip8O5363WHUi+u32wATWEC6REoLu/MTNMdCjqNTYSQCrNTc3WHQjaVmVcEIRXa9opBSXmF1lgmJ+6CkAovTEzSGgfZmx3qItdvNoCmMIH0sFJxscNvumRtU1ZlQ0iF5yeu0R0KMvOOW6YZJXuqfmfkQEGJ7nDqxfWbDaApTKDIs1pxscrtaLKvzlPWWua2q9/vx22D4i1xO5rsyS7PRnP9ZgNoChMo8qxWXEq9Fbiul7EhZftBa+52I+vyVtt4sSnXGhsvus1ar31DCtmXXaYjcP1mA2gKEyjyes61XnF58askCKkwOdGa867IulJ3H60avVJhkdErgZE0j49ZqTsUsqF7RyTYYj4q1282gKYwgSIvMHw53kLFZfwyYyj1axadeE/W9eniHRBS4T/TUnWHUiWv8NRQ6qOahlKTPdnphCSu32wATWECRVZOvjWLS/pea595Sdb17PjVEFJhWtJu3aHU8NCoZRBSQW3crzsUshE7nZHO9ZsNoClMoMialZJjyeLi8/nRYUAchFRYm52vOxyyiROlXrTpEQ0hFfYcKdYdTg39F2yGkArd52zSHQrZyFsz0iCkwshF23WHckZcv9kAmsIEiqyq4hK3TXcotXSdvg5CKoyyQeEja1iakQchFe4atkR3KLUsyTgIIRXuHrZUdyhkEz6fH7cMXAQhFVJs8Isw1282gKYwgSKnenFJ2nlEdzi1zEi2z60PsoaBP22pvMq2UXcotRRZ+OokWdPmffZ6FIbrNxtAU5hAkRMoLjf0iUWZ13rFxU4PP5M1PDJ6OYRUWLBhn+5Q6vTM+FUQUmF60h7doZANfLHc2Az3T5tshuP6zQbQFCZQ5ASKy6uTk3WHUi8r7lAma8o7fmqnbb5Fd9qOjt8OIRW6TlunOxSygZcmJUNIhUkr7TEOi+s3G0BTmECRE5i195WFi4sVZxSSNQVm7T02ZoXuUOqVujvfcjMKyZpKyitwfW97DcTn+s0G0BQmUGRULy7bDli3uFjtlBKyrv99vwFCKgyO2ao7lHqVW/CUErImOx6JyfWbDaApTKDIsEtxKSguR5SFzikma/L7/bh98GIIqbBixyHd4ZxW5ykpEFLh84RM3aGQhQ1fmAEhFd79br3uUBqM6zcbQFOYQJExLNY+xaXTZyshpMIPqbm6QyGLyjpUBCEV2vaMwcmyCt3hnNbXibsgpMJzX67RHQpZmB3rHtdvNoCmMIEiw07FJdCsdrNBs0p6TF2dbZumKjOvslntFYOScms3q6SHXe98cP1mA2gKEyj8jhWX2aq4rMo0blf/weK3q0mfLlPXQkiFsUutf1vVTrerSQ+7PvvM9ZsNoClMoPCL2WQUlwdtUlxKyitwXS9jw8oOm+yGo8jxVvhwY+XGig05x3SH0yB22LBC+th1+gHXbzaApjCBwq/XPPsVl8DIGrvMw6LISd19FEIqtO9vn9Eq89L2Wn5kDelj1/mnXL/ZAJrCBAq/e0ckQEiFuM0HdIfSYBOWGUOrX7PJRHyKnE8X74CQCv+Zlqo7lAbLK7T+0GrSIyffvicgcf1mA2gKEyi8qh+vVmij4pK+115nYlLkPDt+NYRUmJa0W3coQXl4lHFsndq4X3coZCHfpRhnoD9twzPQuX6zATSFCRRegeLy1OeJukMJis/nx80DF0FIhZTsfN3hkEWcKPWiTY9oCKmw+8gJ3eEEZcCCLRBSofucTbpDIQt5c/o6CKkwatF23aEEjes3G0BTmEDh9daMNAipMNKGxcXOhZHCY0nGQQipcNewJbpDCZqdY6fwsPsvuly/2QCawgQKn+rFJXmX/YrLzGT73hqh8Dh1FZR3UaAAACAASURBVG2j7lCCVmTjq5cUHpv32ftRF67fbABNYQKFj92Li50fjqbweGjUMgip8NPGfbpDaRS7Pr9I4WH3zW5cv9kAmsIECp8vlhvF5Z82LS6AfccjUOg5YSetHXcwU/jYfdwV1282gKYwgcInUFy+smlxAew7IJVCb25aru1n6aXuzoeQCjcNiIPPJjMMKTxKyitwfW9j4P12mw685/rNBtAUJlB4OKG4APY7xYTCp+o0jWj7nqZRXuFDu8pTTDblFugOhzRywpGXXL/ZAJrCBAoPJxQXoOY5xgcLrX+OMYVH9fN0l2+393m6nacY5xiPS8jSHQppNCw2A0IqdPtuve5QGo3rNxtAU5hA4eGE4hLQ6bOVEFLhh9Rc3aGQJlmHiiCkQtteMSgpr9AdjilfJ+6CkAovTEzSHQpp5IS6xvWbDaApTKDwCBSX2TYuLgFOamapcaasyoaQCs9PXKM7FNMy8447ppmlxql+Z+NAgX3vbHD9ZgNoChMo9AqKy6uKy/6Ck7rDMc0pt7Op8bpMNW6bfp6QqTsU0/x+P/44yLidvXLHYd3hkAZOebaZ6zcbQFOYQKEXm24UlwdsXlwCSsorcF0vY0PLDhtvaKHG8Vb4cKPDNk68N8vY0DIkJkN3KKSBU6YbcP1mA2gKEyj0es1zRnGpzu7zsqjxUncfrRqdUuGQ0SmBkTaPj1mpOxTSoKND5pty/WYDaAoTKPTuHZEAIRUW2by4VGf3ifnUeJ/EO294cvWh1kdtOtSaGqf6CUdFpV7d4ZjC9ZsNoClMoNDKPerM49PS99r7WDtqvMDxadOT9ugOJaQeHrUcQiqojft1h0IR5KQzzrl+swE0hQkUWt+lGMXlrw4oLtX5fH7cPHARhFRIyc7XHQ5FyIlSL9r0iIaQCnuOFOsOJ6QGLNgCIRW6z9mkOxSKoDenr4OQCqMWbdcdimlcv9kAmsIECq23ZqRBSIWRDiguP+ekwkkNsyTjIIRUuHvYUt2hhJyT/25Ut+q/yK51wC+yXL/ZAJrCBAodn8+PWyqLS/Iu+xeXn3PSrRNqmFNXyTbqDiXknHx1k+rmtEdZuH6zATSFCRQ6m/c5q7j8XPWHp530fCPVL/Cc3E8b9+kOJSyc+nwj1c1pm9m4frMBNIUJFDpfLDeKyz8dUlzqco9DxifQmeUdN3bKCqmQ79CdsoEdzl2nrdMdCkWA08ZZcf1mA2gKEyh0XpqUDCEVvnJIcamLUwao0pkFZuX9+dMVukMJGyfOOKS6OXGgPddvNoCmMIFCo9Rbget7G8Ul44Bz/y2dcoQSnVm3Wesdf1qGt8KHdg475YTq5sQjLbl+swE0hQkUGoHi8nsHFZe6VD9E/WChfQ9Rp9Pz+/24bVC8K87L7TzFOOd4XEKW7lAojIbGZkBIhW7frdcdSshw/XZ4A7h371688MILuOiii9CyZUvcdNNNSE09NZHf7/ejX79+uPzyy9GiRQvcc8892Ly54bfnmEChMXyhUVzedVBxqU+nz1ZCSIUfUnN1h0JhkplXBCEV2vaKQUl5he5wwurrxF0QUuH5iWt0h0Jh9ERl3Zqzzjl1i+u3gxvAo0ePQgiBV199FcnJycjOzsbixYuRlXXqN9WhQ4fivPPOw5w5c5Ceno6///3vuPzyy3H8eMOecWAChUansYkQUmG2C5qiYQ78TZpqmro6G0IqPPel85siNzW7buXUOxdcvx3cAEopcdddd9X7fb/fj8suuwxDhw6t+lppaSkuuOACTJgwoUGfwQQyr6C4HNdUFpf9BSd1hxN2TnyWhmrqMtW4LTp2aabuUMLO7/fjj4MWu+J2t1sFnl1+wGHPLnP9dnADeMMNN+Ddd9/FM888g1/96lfo0KEDvvzyy6rv79y5Ex6PB2lpaTX+XKdOnfDyyy/X+Z6lpaUoLCyseuXm5ro+gcyKTXdmcalP9d102x2ym45O8Vb4cGPlxogNOcd0hxMR783aACEVBsds1R0KhUGvec6cXsAG0MENYPPmzdG8eXP06NEDaWlpmDBhAlq0aIGpU6cCAFatWgWPx4N9+2oOaX399dfx8MMP1/me/fr1g8fjqfVycwKZ5cbRKE6bp0WnrNtjjEZp3989o1Hmpe2FkAqPjXHuyBs3C8wvXeSw+aVsAB3cADZr1gx/+tOfanzt7bffxu233w7gVAO4f//+Gj/TpUsXPPLII3W+J68Ahl5HFw5HdtpEfTrl08XGcOQ3vk098w87RGDodVR35w69dqvACUZtHHiCERtABzeAV199NTp37lzja+PGjcMVV1wBoHG3gH+OCWRO7lF3Ho/mtDM16ZRnJxjHo327ZrfuUCIqcOyd2rj/zD9MthE4w/yvDjzDnOu3gxvA5557rtYmkHfffbfqqmBgE8iwYcOqvl9WVsZNIBH0XYpzi8vp+Hx+3DxwEYRUSMnO1x0OhciJUi+u7RkNIRV2HzmhO5yIGrBgC4RU6D5no+5QKIS6Tl8HIRVGLtquO5SQ4/rt4AYwJSUFZ599NgYNGoTMzExMnz4dv/jFLzBt2rSqnxk6dCguuOACzJ07F+np6Xjuuec4BiaC3gwUl7htukOJuMDffZQDC6tbLd2WByEV7hy6xHU7vJdmGH/3u4Yt0R0KhYjTf1Hl+u3gBhAAfvrpJ9x4441o3rw5fvOb39TYBQycGgR92WWXoXnz5ujYsSPS09Mb/P5MoMarXlySdh7RHU7EBW6tPO2yq59ONvAn4yqY/MF9V8FOlHrRpodx9XPPkWLd4VAIOP1RFa7fDm8Aw40J1Hib9xnF5YY+sSjzOq+4nEng4Wq3Pf/oZI+MNp6DW7Bh35l/2IGeHW88/zgtyV3PPzrV+MrNap2nOHOzGtdvNoCmMIEa74vlRnF5dXKy7lC0uceFO6CdKrATVkj37oQN7ID+zzT37IB2ssC4qsmJzhxXxfWbDaApTKDGe2lSMoRU+MrFs/DcOAPRqQKz8P78qXtn4aXuNmYg3jTAPTMQnar6wPodDh1Yz/WbDaApTKDGKfVW4PreRnHZdsCZxaUhAkcsPeiSU1Cc7H/fV56GEe3e0zC8FT60qzwFZWOuO05BcarEyiMrbxvk3CMruX6zATSFCdQ4q7KM4nLrh84tLg3h1EPW3cbv9+P2wcZ5uCt2HNIdjladpxjnIH+e4PxzkJ1sWGwGhFR497v1ukMJG67fbABNYQI1zvCFRnF5Z2bamX/Y4Tp9thJCKvyQmqs7FGqkzLwiCKnQtlcMSsordIej1ZRV2RBS4fmJa3SHQiYE6tJsB9clrt9sAE1hAjVOp7GJji8uDRX4Tbubg3/TdrpA0/Pcl2x62AzbX/U7EwcKnHtngus3G0BTmEDBKyguxzWVxWV/wUnd4Wi3qvJZmz985O7b4XbWZapx23PsUt729Pv9+OMg3g63M7c8m8z1mw2gKUyg4MWmH4CQCvd/nKA7FEuovttuu0N32zmZt8KHG7nxoYaqDTEx7t0QY2dumU7A9ZsNoClMoOAFikvf+Q0/ccXpAvO2Jrl4JI5dBUaftO/P0ScBHIljb4H5pIscPp+U6zcbQFOYQMHryOHHtUyonLj/z6+dOXHfyQLDj9/4lsOPAzgU277cdEIR1282gKYwgYLjpuISjMCZmzc49MxNJ3t2Ao8/q8vDo4xj8X7a6M5j8exqhovOKOf6beEGsLS0VHcIZ8QECs7MyuLyVxcUl2D4fH7cMnARhFRI3pWvOxxqoBOlXlzbMxpCKuw+ckJ3OJYy8KctEFKh+5yNukOhIHSdvg5CKoyO3647lLDj+m2hBnDhwoV45ZVX0Lp1a5x99tlo2rQpWrVqhY4dO+Kjjz7Cvn3W+02SCRScNyuLy8hFzi8uwXprRprxbxO3TXco1EBLM/IgpMKdQ5dwB/fP8N/Gfnw+PzoMiIOQCmuznf+LKNdvCzSA8+bNw3XXXYdLL70U//znPzF+/HgsWLAA8fHxmDVrFvr06YN7770XzZs3x7///W8cOmSd0QJMoIbz+fy4ufIqV4oLikuweHXUfgJXueQPvMr1c7w6aj+BR1Ha9V3oikdRuH5boAH8wx/+gAULFsDnO33C7d27F++//z4+/vjjCEV2ZkyghgsUl9/yObc68flI+3lkNJ9zOx0+H2kv4ys3o3We4o7NaFy/LdAA2hkTqOECxeU17nStV2CH9OKt3CFtddzpembcIW0vL0w0xlFNTnTHOCqu3xZtAMvKyrBt2zZ4vV7doZwWE6jhOOvuzNwygNUJOOvuzDgj0T5KyivQtnIgfWaeOwbSc/22WANYXFyM1157DWeddRbOOuss7Ny5EwDw9ttvY8iQIZqjq40J1DCl3lOnXWw74I7i0hhuOYLJCapOu4jmaRf14Skp9pFYeSTlbYPccyQl12+LNYD//e9/ceutt2LlypU499xzqxrAH3/8ER06dNAcXW1MoIYJnHf7e553e1oFxeWuOITd7njebcPxnGR7GBKTASEVus1arzuUiOH6bbEG8Oqrr8aaNWsAAK1atapqADMzM3HeeefpDK1OTKCGGRZrFJd3v3NPcWmsTp+thJAKP6Tm6g6F6pGZVwQhFdr2ikFJeYXucCxtyqpsCKnwjy/W6A6FTuPxMUbdmZvmnrrD9dtiDWDLli2rmr7qDeCGDRtw/vnn6wytTkyghgk0NbPZ1JxRoFnuxmbZsgJNzXNfsqk5k6xDlc1yzxicLGOzbEXHisuq7jzkFbrnzgPXb4s1gB07dsSYMWMAGA3grl3GhoE333wTjzzyiM7Q6sQEOjPe1gzOqizjdvkfeLvcsjpPMW5rfp7A25pn4vf7cftg3i63sujKZ48fcNmzx1y/LdYArlq1Cueddx7eeOMNtGjRAu+88w4efPBBnHvuuUhNtd4oASbQmcW4tLg0Vkl5Ba7vbWyY2X6QG2asxlvhQztubAhK1YaZGG6YsSK3Th/g+m2xBhAANm3ahJdffhnt2rXDDTfcgBdeeAGbNm3SHVadmEBn5tbiYgZH5lgXR5sELzAy57ExHJljRYH5o/Fb3DV/lOu3BRtAO2ECndk9Li0uZnyx3Bia/U8OzbYcDjcOXmBodlR3Ds22msAJRG1ceAIR128LNoBZWVno1asXnnvuOeTl5QEAYmNjsXmz9a4gMYFOr/rxZkWl1h7qbSWb9xnH5t3AY/Ms59nxPN6sMR4eZRybt2ADj82zksAZ5E99nqg7lIjj+m2xBnDZsmVo2bIlHnzwQZxzzjlVu4CHDRuGp59+WnN0tTGBTi9QXJ4et0p3KLbi8/lxy8BFEFIheVe+7nCo0olSL9r0iIaQCruPnNAdjq0M/GkLhFT4YPZG3aFQNW9OXwchFUYu2q47lIjj+m2xBvD222/HyJEjAdQcA5OSkoIrrrhCZ2h1YgKdXtfK4jLKhcXFrLdmpLm2MFvV0ow8CKlw59Al3KEdpKXbjH+7O4bw384qfD4/bnbxL5pcvy3WAJ577rlVo1+qN4DZ2dlo3ry5ztDqxASqX/XikpLtvuJi1ncpxtXTv/LqqWUMWGBcxeo+h1exglVc5sW1PXn11ErS9xqPmvzWpY+acP22WAN45ZVXYtUqY8Gr3gDOnTsXrVu31hlanZhA9Qs8x+bW4mLW3mMnq56fLHTZw9lWFXiO7aeNfI6tMfj8pLVMWObuzWZcvy3WAL7//vu46667cODAAZx33nnIzMxEYmIiWrdujf79++sOrxYmUP24k9W8e0ckQEiFRdxBrV1gJ6uQ3MnaWIEd1P+Zxh3UVhAYN/WVS8dNcf22WANYXl6O559/Hk2bNkWTJk3QrFkzNG3aFC+++CIqKqx3jBATqH4vTUp2dXEJhV7zjBmKfeen6w7F9QKz7P78KWfZNRZnKFpHqZcD57l+W6wBDNi5cydmz56NWbNmYceOHbrDqRcTqG48zSI0YtMPQEiF+z9O0B2K6703i6dZmOWt8OHGfsYpKhtyeIqKTjxykus3YKEGsLy8HNdccw22bNmiO5QGYwLVLVBcfu/i4hIKBcXluKbyHOV9x07qDse1/H4//jiI59mGwutTjXOUxy7lOco6DYvNgJAK3b5brzsUbbh+W6gBBIArrrgCW7fa5zdsJlDdAsXlXRcXl1DpNDYRQirMTs3VHYprZeYVQUiFtr1iUFJuvUdR7OSb1dkQUuEfX6zRHYqrdfpsJYRU+MHFdYXrt8UawCFDhuCVV16B12uPUyOYQHVjcQmd4QvZTOv2deIuCKnw/EQ2LWZlHTrVTJ8sYzOtw7HiMkRV3lk4UFCiOxxtuH5brAF88skncd555+Hyyy/Hww8/jKeeeqrGy2qYQLUVFJezuIQQb6fr13mKcdvy8wTetjTL7/fj9sG8na5TzKb9EFLhwZHLdIeiFddvizWAr7766mlfVsMEqi1QXB5weXEJFW6o0ctb4UO7vsbGhY253LgQCv/7vnJDTbR9Hvdxkp5zjekC/X7crDsUrbh+W6wBtBsmUG0sLqHn9nldOnF0SejNX8+ROjp1HL4UQios3uru+aJcv9kAmsIEqu2eyuISz+HFIRMYqv3q5GTdobjOJ/EcXhxqh46XVg3VPlJUqjscV8nJL646Yaio1B7P2ocL12+LNYAdOnTAzTffXOt1yy234I477sDLL7+MpUuX6g6zChOopurF5TiPLwuZLfsKIaTCDX1iUeblsXqRxOPLwuOR0caxegs28Fi9SJqZbJwx/jTPGOf6DYs1gN27d8cFF1yAu+66C++99x66deuGu+++GxdccAHeeecdPPTQQ2jatCnmz5+vO1QATKCfY3EJD5/Pj1s/XAQhFdbsPKI7HNc4UepFmx7REFJh95ETusNxlA9/2gIhFT6YvVF3KK7Sdfo6CKkwOn677lC04/ptsQawS5cuGDhwYK2vf/jhh+jSpQsAoG/fvrj11lsjHVqdmEA1BYrLqEUsLqH29ow0CKkwMm6b7lBcY0nGQQipcNewJbpDcZyEbXkQUuGOIUu4uz1CfD4/OgyIg5AKa7PzdYejHddvizWA559/PjIza49ayMzMxPnnnw8AyMjIQKtWrSIdWp2YQKdULy4pLC4hNyslB0IqPPV5ou5QXGPAAuMqVfc5vEoVasVlXlzb07i6mn2YV1cjIX1vAYRUaNd3Icor+CgJ12+LNYCXXHIJpk6dWuvrU6dOxSWXXAIA2LJlCy6++OJIh1YnJtApgeLy2z6xLC5hsPfYyarnKwv5fGVEPDRqGYRU+Gkjn1MLh79NMJ6v/GYNn6+MhPHLjM1knaek6A7FErh+W6wB/PDDD9GyZUv897//xbfffotp06bhv//9L37xi1/go48+AgCMGjUKDz74oOZIDUygUwLF5bWvWVzC5d4RCRBSYRF3WIddXmEJhFSI6q5w9ESZ7nAcacxiY4f1v75ZqzsUVwiMk5qcyHFSANdvwGINIABMmzYNt99+Oy688EJceOGFuP322zF9+vSq7588eRIlJdY4YYIJdEqguEzirLqw6T0vnTMWI2RemjGr7rExnFUXLuv2cMZipJSUV+C6XsZA+R0cKA+A6zdgwQbQTphAhurFhadVhE9s+gEIqXD/xwm6Q3G892YZp1UMicnQHYpjeSt8uJGnrEREYqZxpORtg3ikZADXbws2gMeOHcPEiRPRo0cP5OcbmwnWrVuHvXv3ao6sNiaQgefVRkZBcTmuqTxneX/BSd3hOJbf78cfBxnn1a7ccVh3OI7WZapxzvLYpTxnOZyGxmZASIVus9brDsUyuH5brAHcuHEjfvWrX+Haa6/F2WefjZ07dwIAevfujZdeeklzdLUxgQzDKovLu9+xuIRbp7GJEFJhdmqu7lAcKzPvOIRUuK5XDErKK3SH42hTV2dDSIV/fLFGdyiO9sRnKyGkwtw01o0Art8WawAfeOABvP/++wCAVq1aVTWAq1atghBCY2R1YwIZAsXlBzYlYTdi4TYIqfDOzDTdoTjW14m7IKTCCxOTdIfieJl5RRBSoW3PGJwsY7MdDkdPlCGq8s5BXqE1np+3Aq7fFmsAzz//fGRlZQGo2QDu3r0bzZs31xlanZhAxm3JQHE5yOISdquzjkBIhVs/5O32cOk8JQVCKoxLyNIdiuNVv92+Ysch3eE4Usym/RBS4cGRy3SHYilcvy3WAF5yySVISzOubFRvAOPi4nDVVVfpDK1OTKBTxeUBFpeIKPVW4PrexoabbQe44SbUyit8aFe5MSF9b4HucFzhf98bG24Gx2zVHYoj9Zy7idMD6sD122IN4Ouvv44nn3wS5eXlaNWqFXbt2oU9e/bg5ptvxjvvvKM7vFqYQCwuOrw0KRlCKnzFkTshtzY7H0IqdBgQBx9Hk0REYOTOnz/lyJ1wuGf4Us4PrQPXb4s1gIWFhbjzzjvx//7f/8NZZ52FX//612jWrBk6duyIEyesd1wQE+hUcYlncYmYL5fvhJAKr05O1h2K44yO3w4hFbpOX6c7FNfIO24M3RZSIZ9Dt0MqJ7+46gSh4zxBqAau3xZrAAOWLFmCESNGYNiwYYiPj9cdTr3cnkAsLnps2VcIIRVu6BOLMi+P3QulZ8avgpAK05P26A7FVR4ZvZzH7oXBzOQ9EFLh6XGrdIdiOW5fvwGLNoB24fYEYnHRw+fz45aBiyCkQvKufN3hOEZRqRdtekRDSIU9R4p1h+MqA3/aAiEVus/ZqDsUR3lz+joIqTBq0XbdoViO29dvwAIN4Kefftrgl9W4PYFYXPR5a0YahFQYyX/7kFmScRBCKtw1bInuUFxnaUYehFS4c+gS7m4PEZ/Pj5srf1FMyeYvij/n9vUbsEADGBUVVeN17rnnokmTJlVnATdp0gTnnnsurrnmGt2h1uLmBGJx0WtWSg6EVHjq80TdoTjGgAW8CqXLiVIvru1pXH3dfcR6z3vbUfreAgip8Ns+sSiv4KMiP+fm9TtAewNY3fTp03HnnXdi27ZtVV/btm0b7r77bkybNk1jZHVzcwKxuOi199jJqucvC/n8ZUg8NGoZn0PT6NkJqyGkwrSk3bpDcYQJy7IgpMJrX6foDsWS3Lx+B1iqAWzdunXVHMDqUlNTERUVpSGi03NzArG46HfviASOdwiRwE7UqO7ciarLp4t3QEiF/0xL1R2KI7z4VRKEVJjEcVF1cvP6HWCpBrBly5ZITq492iI5ORktW7bUENHpuTmBWFz06z0vHUIq9J2frjsU25ublgshFR4bw1l0uqTuPgohFdr3j0MFZzCaUlJeget6GQPjdxzkwPi6uHn9DrBUA/j444+jffv2WLt2bdWDwGvXrkWHDh3wxBNPNPp9Bw8eDI/HU2OYdGlpKd566y1cfPHF+MUvfoEnnngCubnBnWXr1gRicbGG2PQDEFLh/o8TdIdie+/N4mkUunkrfLix8hSWjbnHdIdja6syD0NIhT98xCMj6+PW9bs6SzWAhw4dwqOPPoomTZrgnHPOwTnnnIOmTZvi0UcfRV5eXqPeMyUlBVFRUWjfvn2NBvCNN97AlVdeifj4eKSlpeG+++7DTTfdhIqKhh9I7tYEYnGxhoLiclxTeQ7z/oKTusOxrern0a7ccVh3OK7WZepaCKnweUKm7lBsbVhsBoRU6Pbdet2hWJZb1+/qLNUABuzYsQM//vgj5s+fj+3bGz/moqioCG3btkV8fDzuueeeqgawoKAAzZo1w3fffVf1s/v27UPTpk2xcOHCBr+/WxOIxcU6Oo1NhJAKs1ODu3pNp2TmHYeQCtf1ikFJecN/AaTQm7IqG0IqPD9xje5QbO2Jz1ZCSIU561gX6uPW9bs6SzaAofLyyy/j3XffBYAaDeCSJUvg8Xhw9OjRGj/fvn179O3bt8Hv79YE6lRZXH5g06HdiIXbIKTCOzNrb56ihvk6cReEVHhhYpLuUFwv61ARhFRoy2a80Y4VlyGq8s7AwcIS3eFYllvX7+q0N4BDhgxBcXHDpu4nJSVBKdWgn505cyZuvPFGlJQY/weo3gBOnz4d55xzTq0/89BDD+Ff//pXve9ZWlqKwsLCqldubq7rEojFxVpWZx2BkAq3fsjb8Y3VeYpx23FcQpbuUFzP7/fj9sHG7fgVOw7pDseWYjbth5AKD45cpjsUS2MDaIEG8KWXXsLFF1+MN954AzExMTh06NT/6b1eLzZu3IjPP/8cf/rTnxAVFYUVK868Sy8nJweXXHIJNmzYUPW1hjSADz74IP7973/X+779+vWDx+Op9XJTArG4WEuptwLX9zY25Gw7wA05wfJW+NCucuPBptwC3eEQgP99zw05ZvSYuwlCKvRfsFl3KJbGBtACDSAAbNy4Ef/6179w4YUXomnTpmjWrBlatWqFpk2bomnTprj11lvxxRdfoLS0tEHvN2/ePHg8Hpx11llVL4/HgyZNmuCss87C4sWLG3ULmFcAgZ6VxaXfjywuVvHSpGQIqTBxxU7dodhO6u58CKlw04A4+Dh6xBLmr98LIRX+/ClH8jRGx+FLIaTC4q2cD3o6bAAt0gAG+P1+bNiwAfPnz8fMmTMRHx+Pw4eD35V3/PhxpKen13j9/ve/x4svvoj09PSqTSCzZs2q+jP79+/nJpAGYHGxni+X74SQCq9Orj1Dk07vk3hj+HDXaet0h0KVDh0v5VDuRsrJL4aQCm16RKOo1Ks7HEtz4/r9c5ZqAMOp+i1gwBgDc9VVV2Hx4sVIS0vD/fffzzEwZxAoLq1ZXCxly75CCKlwQ59YlHl5LF8wnh1vHD82PWmP7lComkdGL+exfI0wI3kPhFR4Zvwq3aFYntvW77q4tgEsKSnBW2+9hYsuuggtW7bE448/jpycnKDe020JNLOyuDw9jsXFSnw+P24ZuAhCKiTvytcdjm0UlXrRpkc0hFTIyW/YRjSKjIE/bYGQCt3nbNQdiq28OX0dhFQYtajx49Pcwm3rd11c0wCGg9sSqCuLPmvT2gAAIABJREFUi2W9NSMNQiqMjNumOxTbWJJxEEIq3D1sqe5Q6GeWbsuDkAp3Dl3C3e0N5PP5cXPlL4Ip2fxF8Ezctn7XhQ2gCW5KIJ/Pjw4D4iCkwloWF8uZlZIDIRWe+jxRdyi2MWBB4CrTJt2h0M+cKPXi2p7G1dndR07oDscWNu8rgJAKv+0Ti/IKPgpyJm5av+vDBtAENyVQ+l4WFyvbe+xk1fOZhSXlusOxhYdHGc+ZqY37dYdCdXh2gvF85rSk3bpDsYUJy7IgpMI/v07RHYotuGn9rg8bQBPclECB4vIai4tl3TsiAUIqLNrCHdpnkldYUrXT9Ch3mlrSmMXGDu03vk3VHYotvPhVEoRUmLRyl+5QbMFN63d9bNEAZmVl4b777tMdRi1uSqBAcZmcyOJiVb3mGTMa+85P1x2K5c1Ny4WQCo+PWak7FKrHuj1HIaRC+/5xqOCMxtMqKa/Adb2MgfA7DnIgfEO4af2ujy0awA0bNqBp06a6w6jFLQnE4mIPsekHIKTC/R8n6A7F8t6bZZw2MSQmQ3coVA9vhQ839jNOadmQc0x3OJa2KvMwhFS4bRCPhGwot6zfp2OJBvDTTz897euDDz5gA6hRoLj84SMWFysrKC7HNZXnNO8vOKk7HMvy+/344yDjvNmVO4IfNE+R8/pU45zmsUszdYdiacMXZkBIhXe/W687FNtwy/p9OpZoAJs0aYIrrrgCUVFRdb6uuOIKNoAaDY01iks3FhfL6zQ2EUIqfL82uJmWbpKZdxxCKlzXKwYl5Q0f/E6RN3V1NoRU+McXa3SHYmmdPlsJIRVmp+bqDsU23LJ+n44lGsCoqKgax7L93Pr169kAavREZXGZs47FxeoCVwLemZmmOxTL+jpxF4RUeGFiku5Q6AyyDhVBSIW2PWNwsozNel0KissRVXnl/0BBie5wbMMt6/fpWKIBfPrpp/HBBx/U+/0NGzagSZMmEYyoYdyQQMeKy6qKy8FCFherW511BEIq3Pohb9fXp/MU47biuIQs3aHQGfj9fvxpsHG7ftn2Q7rDsaTY9P0QUuGBkct0h2Irbli/z8QSDeCWLVuwdu3aer9fXl6O3butNwvKDQkUs8koLg+yuNhCqbcC1/c2NuxsO8ANOz/nrfChXV9jY0H63gLd4VADvD/b2LDzkdqiOxRL6jnX2P3f78fNukOxFTes32diiQbQrtyQQD0qi0v/BSwudvHSpGQIqTBxxU7doVhO6u58CKlw04A4+DhaxBbmr98LIRX+75MVukOxpHuGL4WQCvGc/xkUN6zfZ2KpBvDkyZMoLj51KPvu3bsxevRoxMXFaYyqfm5IoI6VxWXxVhYXu/hy+U4IqfDq5GTdoVjOJ/HGcOGu09bpDoUa6HBRKYQ0HkM5UlSqOxxLyckvrjoB6DhPAAqKG9bvM7FUA/jQQw9h/PjxAIBjx47h0ksvxVVXXYUWLVpg3LhxmqOrzekJFCgubXpEo6jUqzscaqAt+wohpMINfWJR5uWxfdU9O944Xmx60h7doVAQHhltHNu3YMM+3aFYyszkPRBS4elxq3SHYjtOX78bwlIN4MUXX4zNm41bjRMnTkT79u3h8/nw/fff4ze/+Y3m6GpzegLNqCwuz4xncbETn8+PWwYugpAKybvydYdjGUWlXrTpEQ0hFXLyi8/8B8gyBv60BUIqyB826g7FUt6cvg5CKoxatF13KLbj9PW7ISzVALZs2RJ79hi/mT/77LPo378/ACAnJwctW7bUGVqdnJ5AXSuLy+h4Fhe7eWtGGoRUGBm3TXcolrEk4yCEVLh72FLdoVCQlmbkQUiFO4Ys4e72Sj6fHzdX/qK3Npu/6AXL6et3Q1iqAfzd736HTz/9FDk5OTj//POxevVqAEBqaiouvfRSzdHV5uQE8vn86DAgjsXFpmal5EBIhac+T9QdimUMWGBcReo+Z5PuUChIJ0q9uLancfU2+/AJ3eFYQvreAgip8Ns+sSiv4KMewXLy+t1QlmoAZ8+ejWbNmqFp06Z46KGHqr4+ePBg/N///Z/GyOrm5AQKFJd2fReyuNjQ3mMnqx4OL+TD4QCAh0cZz5FFb9qvOxRqhGcnGM9vfrvGeiPBdBi/LAtCKrz2dYruUGzJyet3Q1mqAQSAAwcOIC0tDT7fqaYjOTkZGRnWO7TdyQkUKC6dp7C42NW9IxIgpELc5gO6Q9Eur7AEQipEdVfIP1GmOxxqhDGLjR3cb3ybqjsUS3jxqyQIqTA5cZfuUGzJyet3Q1muAbQTJycQi4v99ZpnzHDsOz9ddyjazUszZsk9Noaz5Oxq3Z6jEFKhff84VLh8hmNJeQWu62UMfN9xkAPfG8PJ63dDsQE0wakJxOLiDLHpByCkwv0fJ+gORbv/fW+cJjE4ZqvuUKiRvBU+3NjPOMVlQ84x3eFolZh5GEIq3DaIRz42llPX72CwATTBqQnE4uIMBcXluKbyHOf9BSd1h6ON3+/H7ZXnya7YwfNk7ez1qcY5zmOXZuoORauhsRkQUqHbrPW6Q7Etp67fwWADaIJTE4jFxTk6jU2EkArfr83RHYo2mXlFEFKhba8YlJRX6A6HTJi6OhtCKvzjizW6Q9Hq8TErIaTCnHW5ukOxLaeu38FgA2iCUxPoic9YXJxi+EKjmX9nZpruULT5OnEXhFR4fqK7mwYnyDpU2cz3jMHJMnc280dPlCGq8sp+XmGJ7nBsy6nrdzDYAJrgxASqXlwOsrjY3uqsIxBS4dYP3Xs7v/OUFAipMC4hS3coZJLf78efKm/nL9/uztv50Zv2Q0iFh0Yt0x2KrTlx/Q4WG0ATnJhALC7OUuqtwPW9jQ09GQeck6cNVV7hQ7u+xsaB9L0FusOhEPj/Kjf0DIp254aeHnON3f39F2zWHYqtOXH9DhYbQBOcmEAsLs7z0qRkCKkwccVO3aFEXOrufAip0GFAHHwuHx3iFPPXGyN9Hv3EnSN97h62FEIqxG85qDsUW3Pi+h0sNoAmODGBOg43isvirSwuTvHFcmOo96uTk3WHEnGj47dDSIWu09fpDoVC5NDxUghpPKZypKhUdzgRlZNfDCEV2vSIRlGpV3c4tubE9TtYbABNcFoCsbg405Z9hRBS4YY+sSjzuutYv2fGr4KQCjOS9+gOhULokdHGsX4/btinO5SImpG8B0IqPD1ule5QbM9p63djsAE0wWkJFCguz4xncXESn8+PWwYugpAKSTuP6A4nYopKvWjTIxpCKuTkF+sOh0LoI7UFQip8MHuj7lAiquv0dRBSYdSi7bpDsT2nrd+NwQbQBKclUKC4jI5ncXGat2akQUiFkXHbdIcSMYu3HoSQCncPW6o7FAqxhG15EFLhjiFLXLO73efzo8OAOAipkJKdrzsc23Pa+t0YbABNcFICVS8ua1lcHGdWSg6EVHjq80TdoURM/wWbIaRCj7mbdIdCIVZc5sW1PY2ru9mHT+gOJyLS9xZASIXf9olFeYW7HuUIByet343FBtAEJyUQi4uz7T12EkIqtO4RjcKSct3hRMRDo5ZBSIXoTft1h0Jh8LcJqyGkwjdrdusOJSImLDM2c732dYruUBzBSet3Y7EBNMFJCTS+srj8k8XFse4dkQAhFeI2H9AdStjlFZZASIWo7gpHT5TpDofCYMziHRBS4d/fpOoOJSJe/CoJQipMWrlLdyiO4KT1u7HYAJrgpAQKFJevWFwcq9c8Y8Zj3/npukMJuznrciGkwuNjVuoOhcIkbc9RCKnwu34LUeHwGY8l5RW4rpcx0H3HweO6w3EEJ63fjcUG0ASnJFD14rKdxcWxYtMPQEiF+z9O0B1K2HWbtR5CKgyNzdAdCoWJt8KHG/sZp7xsyDmmO5ywWpV5GEIq/OEj9x7pGGpOWb/NYANoglMSiMXFHQqKy3FN5TnP+wtO6g4nbPx+P24bFA8hFRIzD+sOh8Lo9alrIaTC2KWZukMJq2GxGRBSodt363WH4hhOWb/NYANoglMSiMXFPTqNTYSQCt+vzdEdStjsOHgcQipc1ysGJeUVusOhMPpmdTaEVPjHF2t0hxJWT3y2EkIqzFmXqzsUx3DK+m0GG0ATnJJAnSqLyw+pLC5ON3yh0ey/MzNNdyhhMzlxF4RUePGrJN2hUJjtPFQEIRXa9ozByTJnNvvHissQVXnl/mBhie5wHMMp67cZbABNcEICFRSXs7i4yOqsIxBS4dYPnXu7v/OUFAipMH5Zlu5QKMz8fj/uGLIEQios235IdzhhEbNpP4RUeHDkMt2hOIoT1m+z2ACa4IQEChSXB1hcXKHUW4HrexsbfjIO2Ddv61Ne4UO7vsbGgPS9BbrDoQh4f/YGCKkwKHqr7lDCosdcY/d+/wWbdYfiKE5Yv81iA2iCExIoUFz6/cji4hYvTUqGkAoTV+zUHUrIrc3Oh5AKHQbEwefw0SBkmL9+L4RUePSTFbpDCYuOw5dCSIXFWw/qDsVRnLB+m8UG0AQnJBCLi/t8sdwY+v3q5GTdoYTc6PjtEFKh6/R1ukOhCDlcVAohjcdYDheV6g4npHLyiyGkQpse0Sgq9eoOx1GcsH6bxQbQBLsnUKC4tGZxcZUt+wohpMINfWJR5nXWsX/PjF8FIRVmJO/RHQpF0P99sgJCKvy4YZ/uUEJqRvIeCKnwzPhVukNxHLuv36HABtAEuydQoLg8PY7FxU18Pj9uGbgIQiok7TyiO5yQKSr1ok2PaAipkJNfrDsciqCP1BYIqfDB7I26QwmprtPXQUiF0fHbdYfiOHZfv0OBDaAJdk8gFhf3emtGGoRUGBm3TXcoIbN460EIqXD3sKW6Q6EIW7b9EIRUuGPIEsfsbvf5/OgwIA5CKqzNztcdjuPYff0OBTaAJtg5gVhc3G1WSg6EVHjy80TdoYRM/wWbIaRCj7mbdIdCEVZc5kXbnsbu9l2HT+gOJyTS9xZASIV2fReivMJZj2pYgZ3X71BhA2iCnROIxcXd9h47CSEVrumuUFhSrjuckHho1DIIqRC9ab/uUEiDv3+xGkIqfLNmt+5QQmL8MmOzVucpKbpDcSQ7r9+hwgbQBDsnEIsL3TsiAUIqLNx8QHcoph0sLIGQClHdFY6eKNMdDmkwdmkmhFT41zdrdYcSEi9+lQQhFSYn7tIdiiPZef0OFTaAJtg5gQLFZdJKFhe36j0vHUIq9JmfrjsU0+asy4WQCk98tlJ3KKTJ+pxjEFLhxn4LUWHzGZAl/397dx4fVXX3D3xUQgLIIhRUpJygslUEi5ZafipSBWoBqVvVitLWhUUE7PM8nLCDQAARBZSlRGQpCKgshUMIELYAWSCEkEASEkJIQhIIISQh+zKf3x8TRsYESHJn5t7JfN6v1/wzc+ee73AP53wyc++5peXoNMnyk3b8pTy9y6mXXHn+thcGQA1ctQPdPLic5eDitnZFZ0BIhb5fHNC7FM0+3XQSQirM3RWrdymkk/IKMx6fZrkLzMmUa3qXo8mRhCsQUqHX7Pp7y0a9uer8bU8MgBq4agc6Wjm4/G4WBxd3llNYig6V94FOu1aodzl1Zjab8btZeyGkwpGEK3qXQzr6cM1xCKnw9b54vUvRZO6uWAip8OnGk3qXUm+56vxtTwyAGrhqB5rHwYUqDfnmCIRU2HQ8Re9S6iz+Uh6EVOg0yR9FpeV6l0M6WhucBCEV3vp3iN6laDJo8WEIqbD5RKrepdRbrjp/2xMDoAau2oFe/toyuPwUzsHF3c0PiIOQCmM2ROhdSp19d+Q8hFQY+m2o3qWQzhIzr0NIhY4T/VFY4pp/DGTnl8C78pv5S7lFepdTb7nq/G1PDIAauGIHulbAwYV+FpKYBSEVnpy5x2VPB3h/9TEIqbDs4Dm9SyGdmc1m/ME3EEIqHDybqXc5daJOpUNIhRcXHNS7lHrNFedve2MA1MAVO9CNwaXflxxcCCgpq0DnyZYLguIyXO+CoNLyCjw21XLif/TFHL3LIQP4vx8jIaTC7J0xepdSJz6bT0FIhenbT+tdSr3mivO3vTEAauCKHchncxSEVJix/YzepZBBvLsyDEIqfOuCSwIdT7oKIRWemLEbFS6+9AfZx7aTFyGkwksLg/QupdbMZjP+39x9EFJhf+xlvcup11xx/rY3BkANXLEDPTPPMrjsi72kdylkECsOJUJIhb9/F6Z3KbX21d6zEFJh1PoTepdCBpGZVwwhLae5ZF0v1rucWrmQlQ8hFR6ZsBP5xWV6l1OvueL8bW8MgBq4WgdKzirg4EJVnEnLhZAKXafsQkmZa90W8LWlRyGkwvdhyXqXQgYy4KtDEFLhv5FpepdSK+tCL0BIhTeWBetdSr3navO3IzAAauBqHWh9aDIHF6qiosKMnp/tgZAKoYlZepdTY3lFpXh4wk4IqZBytUDvcshAZu44AyEVxv94Su9SamXkunAIqbAo0LXXMXQFrjZ/OwIDoAau1oFGrTsBIRUW7uXgQrY++T4CQios2B2ndyk1FhhzCUIqPPf5fr1LIYPZH3cZQir0nrPPZa5uL68wo/v03RBSIfxCtt7l1HuuNn87AgOgBq7UgcorzOgxg4MLVW/TsRQIqfDKkiN6l1Jj07efhpAKE7ZE6V0KGUxBSRkenWj5djjpSr7e5dTIqVTLvYwfmxqAsnLXOhXDFbnS/O0oDIAauFIHikrN4eBCt3TxWiGEVHh4wk7kFpXqXU6NvLjgIIRU2BmVrncpZEB/XR4MIRX+E3JB71JqZMmBBAip8P7q43qX4hZcaf52FAZADVypAy09cI6DC91W3/kHIKTC7tMZepdyR5dyiyCkgrePQnZ+id7lkAEtDoyHkAoj/hOudyk18je/EAipsOqI6y3H5Ipcaf52lHobAH19ffHUU0/h3nvvRevWrTFkyBDExdme31RcXIzRo0ejVatWaNy4MQYPHozU1JrfHs2VOhAHF7qTyVujIaTClG3RepdyR5tPpEJIhcFfH9a7FDKoE8nZEFKh+/TdKDf4GpFFpeXoOMmyIHvC5et6l+MWXGn+dpR6GwAHDBiAVatW4fTp04iMjMTAgQPRvn175Of/fD7IiBEj8NBDD2Hv3r2IiIhA37590aNHD5SX1+wekq7SgTi4UE0EnM6AkAp95x/Qu5Q7+nTjSQipMHdXrN6lkEGVlVegW+VdYiJTruldzm0FxWdCSIXfzw50mYtWXJ2rzN+OVG8D4C9lZmbCZDLh0KFDAICcnBx4eHhg48aN1m3S0tJw9913IyAgoEb7dJUOdDj+CoRU6DV7LwcXuqWcwlJ0qLxPdNq1Qr3LuSWz2YzfzdoLIRWOJFzRuxwysA/WHIeQCt/sT9C7lNvy9Y+BkAr/2hSpdyluw1Xmb0dymwCYkJAAk8mE6GjLz1v79u2DyWRCdrbtFbHdu3fH1KlTa7RPV+lAc3fFQkiFTzed1LsUMrgh3xyBkAqbjqfoXcotxV/Kg5AKnSb5o6i0Zt/Wk3taE5wEIRXeXhGidym3NWjxYQipsPlEzU9BIm1cZf52JLcIgGazGYMHD8YzzzxjfW79+vVo2LBhlW379euHjz76qNr9FBcXIzc31/pITU11iQ40+GsOLlQzX+yOg5AKYzZE6F3KLX135DyEVBj6bajepZDBncu8DiEVOk70R2GJMf9YyM4vgXflN++Xc4v0LsdtMAC6SQAcNWoUhBA2F3jcKgC++OKLGD58eLX7mTZtGkwmU5WHkTvQzYPLJQ4udAchiVkQUuHJmcY9XeCfq45BSIVlB8/pXQoZnNlsxtO+gRBS4dDZTL3LqZY6lQ4hFfp/eUjvUtwKA6AbBMDRo0ejXbt2OH/e9urXuvwE7IrfAO6MsgwuLy44qHcp5AKKy8rRZfIuCKlwJs14/bq0vAK/mWKpL/pijt7lkAv4nx8iIaSC784YvUupls/mKAipMGP7Gb1LcSsMgPU4AJrNZnz88cdo27Yt4uOr3vrsxkUgmzZtsj6Xnp5e7y4CuTG4TN9+Wu9SyEUM+y4MQir4BSXqXUoVx5OuQkiFJ2bsRoXBl/YgY9gacRFCKvx5UZDepVTrmXn7IKTCvthLepfiVlxh/na0ehsAR44ciebNm+PgwYPIyMiwPgoLf766ccSIEWjXrh0CAwMRERGBP/7xj/VuGZhn5+2HkAqBMRxcqGb8ghIhpMKw78L0LqWKL/echZAKo9af0LsUchGZecUQ0nIaTNb1Yr3LsZGcVQAhFR6ZsBP5xWV6l+NWXGH+drR6GwCrO1fPZDJh1apV1m2KioowevRotGzZEo0aNcKgQYOQklLzqx+N3oFuHlyuc3ChGorNyIWQCl0m70JxmbFOnH9t6VEIqfB9WLLepZALGfDVIQipsD0yTe9SbKwPTYaQCm8sC9a7FLdj9PnbGeptAHQGo3egG4PL68uO6l0KuRCz2YwnZ+6BkAohiVl6l2N1vbgMD0/YCSEVUq4W6F0OuZDPdpyBkAryp1N6l2Jj1LoTEFJh4d6qpymRYxl9/nYGBkANjN6BRq4L5+BCdTJmQwSEVPhid9ydN3aSwJhLEFLh2Xn79S6FXMz+uMsQUqH3nH2Gubq9vMKMHjN2Q0iF8AvZd34D2ZXR529nYADUwMgdyHZwuap3OeRiNh1PgZAKf1lyRO9SrKb99zSEVJiwJUrvUsjF5BeX4dGJlm+Pk67k3/kNThCVmgMhFR6bGoCy8gq9y3E7Rp6/nYUBUAMjd6BTqdc4uFCdpV0rhJAKHXwUcgpL9S4HAPDigoMQUmFnVLrepZALemN5MIRU+E/IBb1LAQAsPXAOQiq8v/q43qW4JSPP387CAKiBkTsQBxfSqu8XByCkQsDpDL1LwaXcIgip4O2jcK2gRO9yyAUtCoyHkAoj/hOudykAgL/5hUBIhVVHzt95Y7I7I8/fzsIAqIGRO9A7fqEQUmH10SS9SyEXNXlrNIRUmLw1Wu9S8FN4KoRUGPz1Yb1LIRd1IjkbQip0n74b5TqvIVlUWo6Ok/whpELC5eu61uKujDx/OwsDoAZG7UAcXMgeAk5nQEiF5+cf0LsUfLrxJIRUmLsrVu9SyEWVlVeg29QACKkQmXJN11oOx1+BkAq/nx1omItS3I1R529nYgDUwKgdiIML2UNuUSk6VN5H+uK1wju/wUHMZjN+N2svhFQ4mnBFtzrI9X2w5jiEVPhmf4Kudczxj4WQCv/aFKlrHe7MqPO3MzEAamDUDsTBhezlL0uOQEiFTcdrvkC6vZ29lAchFTpN8kdRqbEWpibXsiY4CUIqvL0iRNc6Bi4OgpAKWyMu6lqHOzPq/O1MDIAaGLUDDVp8mIML2cX8gDgIqTBmQ4RuNaw8fB5CKgz9NlS3Gqh+OJd5HUIqdJzoj8ISff6YuJpfAu/Kb9Yv5xXpUgMZd/52JgZADYzYgbI5uJAdBZ/LgpAKT87co9vpBP9cdQxCKiw/eE6X9qn+MJvNeNo3EEIqHDqbqUsN6lQ6hFTo/+UhXdonCyPO387GAKiBETsQBxeyp+KycnSebLmgKCbd+f28tLwCv5myC0IqRF/McXr7VP/87w+REFLBd2eMLu37bD4FIRVmbD+jS/tkYcT529kYADUwYgfy2RzFwYXs6t2VYRBSwS8o0eltH0u6CiEVfvvZHlTovHQH1Q/bTl6EkAovLQzSpf1n5u2DkAr7Yy/r0j5ZGHH+djYGQA2M2IGenbefgwvZ1YpDiRBSYdh3YU5ve8GesxBS4eP1J5zeNtVPmXnFENJymkzW9WKntp2cVQAhFR6ZsBP5xWVObZtsGXH+djYGQA2M1oE4uJAjxKTnQkiFLpN3oaTMubcVfHXpUQipsPFYslPbpfptwFeHIKTC9sg0p7a7PjQZQiq8sSzYqe1SVUabv/XAAKiB0ToQBxdyhIoKM3p+tgdCKoQmZjmt3byiUjw8YSeEVEjNLnBau1T/zdxxBkIqyJ9OObXdkevCIaTCosB4p7ZLVRlt/tYDA6AGRutAo9adgJAKC/dycCH7Gv19BIRUWLA7zmlt7jlzCUIq9Pl8v9PaJPewP+4yhFToPWef065uL68wo8eM3RBSIfxCtlPapFsz2vytBwZADYzUgSo4uJADbTqWAiEVXllyxGltTvvvaQipMGlrlNPaJPdQUFKGRydavl1OupLvlDajUnMgpEK3qQEoK3fuqRRUlZHmb70wAGpgpA50Y3B5jIMLOcDFa4UQUuHhCTuRW1TqlDZfWHAQQirsik53SnvkXv66PBhCKvwn5IJT2ltyIAFCKnyw5rhT2qPbM9L8rRcGQA2M1IGWHjgHIRXeX83BhRzj+fkHIKTC7tMZDm8rPccSODv4KOQUOCdwkntZHBgPIRWGrw13Snt/8wuBkAqrjyY5pT26PSPN33phANTASB3oHb9QCKmw6sh5vUuhemry1mgIqTB1W7TD2/oxPBVCKrz89WGHt0Xu6URyNoRUeHxaAModvMZkUWk5Ok6yLKiecPm6Q9uimjHS/K0XBkANjNKBbAeXPF1rofprV3QGhFTo+8UBh7c1buNJCKkwb1esw9si91RWXoFu0wIgpEJkyjWHthUUnwkhFX4/O1C3WyqSLaPM33piANTAKB3ocPwVDi7kcDmFpehQeZ/ptGuFDmvHbDbjqVl7IaTC0YQrDmuH6MM1xyGkwjf7Exzajq9/DIRU+J8fIh3aDtWcUeZvPTEAamCUDjTHPxZCKvxrEwcXcqwh3xyBkAo/HE9xWBtxGXkQUqHzZH8Ul5U7rB2iNcFJEFLhrX+HOLSdgYuDIKTC1oiLDm2Has4o87eeGAA1MEoHGrT4MIRU2BKRqmsdVP/ND4iDkApjNkQ4rI2Vh89DSIWh34Y6rA0iADiXeR1CKnSc6I/CEsf8sXE1vwTeld+cX84rckgbVHtGmb/1xACogRE6UPbNg0suBxdyrOBzWRBS4cmZe1DhoBPn/7HqGIRUWHbwnEP/BLo/AAAegElEQVT2T3SD2WzGH3wDIaTCobOZDmljx6k0CKkw4KtDDtk/1Y0R5m+9MQBqYIQOpE6lQ0iF/l9ycCHHKy4rR5fJuyCkQky6/ft9aXkFfjPFsv/oizl23z/RL/3vD5EQUmH2zhiH7N9n8ykIqfDZjjMO2T/VjRHmb70xAGpghA7kszkKQirM2M7BhZzjvZVhEFLBLyjR7vs+nnQVQio8MWO3w75hJLrZtpMXIaTCSwuDHLL/Z+btg5AK+2MvO2T/VDdGmL/1xgCogRE60LPz9kNIhX2xl3SrgdyLX1AihFR4b2WY3ff95Z6zEFJh1PoTdt83UXUy84ohpOU0mqzrxXbd94WsfAip8OjEncgvLrPrvkkbI8zfemMA1EDvDpScVQAhFR6ZsBPXObiQk8Sk50JIhS6Td6GkzL63HXxt6VEIqbAhLNmu+yW6nQFfHYKQCtsj0+y633WhFyCkwhvLg+26X9JO7/nbCBgANdC7A60PTbYMLss4uJDzVFSY8eTMPRBSISQxy277zSsqxcMTdkJIhZSrBXbbL9GdzNxxBkIqjP/xlF33O3JdOIRUWBQYb9f9knZ6z99GwACogd4daNS6ExBSYeFeDi7kXJ98HwEhFRbsjrPbPveeuQQhFfp8vt9u+ySqif1xlyGkQu85++y2mH55hRk9ZuyGkArhF7Ltsk+yH73nbyNgANRAzw5UUWHGE5WDy/Gkq05vn9zbpmMpEFLhlSVH7LbPaf89DSEVJm6Jsts+iWqioKQMj060fPucdCXfLvs8lXoNQip0mxqAsnL7nipB2jEAMgBqomcHir6YAyEVHpsagFIOLuRkF68VQkiFhyfsRG5RqV32+cKCgxBSwT8q3S77I6qNvy4PhpAKa0Mu2GV/Sw4kQEiFD9Yct8v+yL4YABkANdGzAy09cA5CKry/+pjT2yYCgL7zD0BIhd2nMzTvKyOnCEIqePso5BTYJ1AS1cbiwHgIqTB8bbhd9vc3vxAIqbD6aJJd9kf2xQDIAKiJnh3oHb9QCKnw3ZHzTm+bCAAmb42GkApTtkVr3tdP4akQUmHw14ftUBlR7Z1IzoaQCo9PC0C5xjUoi0rL0XGSP4RUSLh83U4Vkj0xADIAaqJXB7IdXPKc2jbRDQGnMyCkQt8vDmje16cbT0JIhbm7YrUXRlQHZeUV6DYtAEIqRKZc07SvoPhMCKnwtG+g3S4qIftiAGQA1ESvDnQ4/gqEVOg1ey8HF9JNTmEpOlTehzrtWmGd92M2m/G7WXshpMKRhCt2rJCodj5ccxxCKnyzP0HTfnz9YyCkwv/8EGmnysjeGAAZADXRqwPN8Y+FkAr/2sTBhfT1lyVHIKTCpuMpdd7H2Ut5EFKh0yR/FJWW27E6otpZE5wEIRXe+neIpv0MXBwEIRW2Rly0U2VkbwyADICa6NWBbgwuWyJSndou0S/ND4iDkApjNkTUeR/fHj4PIRWGfhtqx8qIai8x8zqEVOg40R+FJXX7Y+Rqfgm8K78Zz8yz763lyH4YABkANdGjA908uFzOK3Jau0TVCT6XBSEVnpxZ99MR/rHqGIRU+Pehc3aujqh2zGYz/uAbCCEVDp7NrNM+dpxKg5AKA746ZOfqyJ4YABkANdGjA90YXPp/ycGF9FdcVo4uk3dBSIXYjNr/Pygtr0DXKZb3n07LcUCFRLXzvz9EQkiF2Ttj6vR+n82nIKTCZzvO2LkysicGQAZATfToQBxcyGjeWxkGIRX8ghJr/d6w81chpELPz/agQuPSG0T2sO3kRQip8NLCoFq/12w24//N3QchFfbHXXZAdWQvDIAMgJro0YGemVc5uMRycCFj8AtKhJAK760Mq/V7F+w5CyEVRn9f93MIiewpM68YQlpOs8m6Xrtz+C5k5UNIhUcn7kR+cZmDKiR7YABkANTE2R0oOasAQio8MoGDCxlHTHouhFToPNkfxWW1O3H+lcqriDceS3ZQdUS1N+CrQxBSYdvJ2l3F+5+QCxBS4Y3lwQ6qjOyFAZABUBNnd6D1ocmWwWUZBxcyDrPZjCdnWtbxCz6XVeP35RaV4uEJOyGkQmp2gQMrJKqdWeoMhFQY/+OpWr1v+NpwCKmwODDeQZWRvTAAMgBq4uwONGrdCQip8NXes05pj6imxmyIgJAKX+yOq/F79py5BCEVnp9/wHGFEdXBgbjLEFKh95x9Nb66vbzCjMcr7yRyIjnbwRWSVgyADICaOLMDVVSY0WPGbgipEH7hqsPbI6qNH46nQEiFId8cqfF7pm6z3Et40tYoB1ZGVHsFJWV4dKLl2+mkK/k1es/JlGsQUqHbtACUlVc4uELSigGQAVATZ3ag6Is5EFLhsakBKOXgQgaTdq0QQip08FHIKSyt0Xv++MUBCKmwKzrdwdUR1d5flwdDSIX/hFyo0fZf74uHkAofrT3u4MrIHhgAGQA1cWYHWnrgHIRUeH81Bxcypr7WQJdxx23TcyyB0dtHIaegZoGRyJkWB1oC3fC14TXa/kZgXFvDwEj6YgBkANTEmR3oHb9QCKmw6sh5h7dFVBc3ftKdvDX6jtv+GJ4KIRVe/vqwEyojqr0Tydk1/kn35p+Mz9fwJ2PSFwMgA6AmzupARaXl6DjJH0IqJFy+7tC2iOpq9+kMCKnQtwYXdYzbeBJCKnweEOv4wojq4OaLOiLucFHH/jpcNEL6YgBkANTEWR3ocPwVCKnw+9mBHFzIsG5e1uXitcJbbmc2m/HULMuyMUfPXXFihUS1c2NZl6/33X5Zl892WJaNkT/VbtkY0g8DIAOgJs7qQHP8YyGkwr82RTq0HSKtbizsvOlYyi23icvIq/PC0UTOtLZyYec3/337tVf7f2lZOHp7ZJqTKiOtGAAZADVxVgcauDgIQipsjajdqvREzrZgd9wdb+327eHzEFLh3TrcOo7Imc5f+fnWbgUl1d996XJekfWCpqv5JU6ukOqKAZABUBNndKCr+SXw9rHcl/JyXpHD2iGyh9DELAip0POzPaioqP50hX+sOgYhFf596JyTqyOqHbPZjN5zLPdfPxBX/f3Xt0RYLmgauDjIydWRFgyADICaOKMDqVPpEFKh/5eHHNYGkb2UlFWg65RdEFLhTFrV/xel5T+/fjotR4cKiWpn/I+nIKTCLHWm2tc/3WS5oGmOPy9ociUMgAyAmjijA/lstgw+n+2ofvAhMpq/fxd2y2/4jiVdveM3hERG8t/INAipMOCrqn+Em81m/K7ygqbD8bygyZUwADIAauKMDvTMPMvPD/tjq//5gchobneO34I9Z+94jiCRkVy5XgwhLafhZOYV27wWf8lyQVOnSf4oKuUFTa6EAZABUBNHd6DkrALrCcj5xdWfgExkNDdf5fvLSfHVpUchpMLGY8k6VUdUey8ttFyIt+2k7YV4Kyv/2Bn6bahOlVFdMQAyAGri6A60LtSyBMEby2+/BAGRkdxqnb+8m9YJTM0u0LFCotqZvTMGQir87w+2S3HduKBp+UFe0ORqGAAZADVxdAcauc6yCOmiwNsvQkpkNNXd6WPvmUsQUuG5z/frWBlR7R2o5k4fN1/wFH2RFzS5GgZABkBNHNmByivM6DFjN4RUOHGH2xARGU119/qd9t/TEFJh4pYoHSsjqr2CkjJ0nGi5HWdS5b1+w87zgiZXxgDIAKiJIzvQqdRrlhuRT73zjciJjCYj5+fFcXMKSgEALy44CCEVdkWn61wdUe29+e9gCKmwNuQCgJotek7GxQDIAIglS5bA29sbnp6e6NmzJ4KCar6YpyM70JIDCRBS4YM1x+2+byJneKEy8PlHpeNSbtVASORKvt4XDyEVhq8NBwD8pfK2h7ygyTUxALp5ANy4cSM8PDzg5+eHmJgYjB07Fk2aNEFycs3+QzuyA/3NLwRCKqw+mmT3fRM5w80/+f5U+ZPw4Jt+EiZyJRHJ2RBS4fFpAcjOL0GHyjs0XbxWqHdpVAcMgG4eAHv16oURI0bYPNelSxf4+PjU6P2O6kBFpeXoOMlyvknC5et23TeRs+ypvOijz+f7rReFzNvFuyWQayqvMKPbtABrPxZSoe/8A3qXRXXEAOjGAbCkpAT33HMPtmzZYvP8mDFj8Nxzz1X7nuLiYuTm5lofqampDulAQfGZEFLh97MDrVecEbmam5d9ufE4msC7JZDr+mjtcZv+PGVbtN4lUR0xALpxAExLS4PJZMLRo0dtnp89ezY6depU7XumTZsGk8lU5WHvDjRlWzSEVPi/HyPvvDGRgd1Y+FlIha5TdqG4jHdLINe1NuSCTQAMOJ2hd0lURwyADIAIDrZdZHnWrFno3Llzte9x1jeAZy/lYX5AHEITs+y6XyJnu3HrNyEV3l99TO9yiDQ5fyXfJgDmFvGCJlfFAOjGAbAuPwH/EjsQ0e0dS7pqnSx5QRO5OrPZbBMAyXVx/nbjAAhYLgIZOXKkzXNdu3bV/SIQovqitLzCOlleyMrXuxwizXw2n4KQCr7+MXqXQhpw/nbzAHhjGZiVK1ciJiYG48aNQ5MmTXDhwoUavZ8diOjO4jLyEH7hqt5lENlFXlEptkemoZQL9Ls0zt9uHgABy0LQQgg0bNgQPXv2xKFDh2r8XnYgIiIi18P5mwFQE3YgIiIi18P5mwFQE3YgIiIi18P5mwFQE3YgIiIi18P5mwFQE3YgIiIi18P5mwFQE3YgIiIi18P5mwFQE3YgIiIi18P5mwFQE3YgIiIi18P5mwFQE3YgIiIi18P5mwFQE3YgIiIi18P5mwFQE3YgIiIi18P5mwFQE3YgIiIi18P5mwFQE3YgIiIi18P5mwFQE3YgIiIi18P5mwFQk5ycHJhMJqSmpiI3N5cPPvjggw8++HCBR2pqKkwmE3JycvSOErphANTgRgfigw8++OCDDz5c75Gamqp3lNANA6AGFRUVSE1NRU5OjsP+OuG3i8b4K5HHQf8Hj4UxHjwOxnnwWNT9kZOTg9TUVFRUVOgdJXTDAGhQubk8P8EIeByMg8fCGHgcjIPHgrRgADQo/sc2Bh4H4+CxMAYeB+PgsSAtGAANiv+xjYHHwTh4LIyBx8E4eCxICwZAgyouLsa0adNQXFysdylujcfBOHgsjIHHwTh4LEgLBkAiIiIiN8MASERERORmGACJiIiI3AwDIBEREZGbYQAkIiIicjMMgAa0ZMkSeHt7w9PTEz179kRQUJDeJbk0X19fPPXUU7j33nvRunVrDBkyBHFxcTbbFBcXY/To0WjVqhUaN26MwYMHV7lFUHJyMgYNGoTGjRujVatW+OSTT1BSUmKzzcGDB9GzZ094enqiQ4cOWLZsmcM/n6vy9fWFyWTC2LFjrc/xODjPxYsX8c4776Bly5Zo1KgRevTogfDwcOvrZrMZ06ZNw4MPPggvLy/06dMHp0+fttlHdnY2hg4dimbNmqFZs2YYOnQorl27ZrNNVFQUnnvuOXh5eaFt27aYMWMGzGazUz6j0ZWVlWHSpEnw9vaGl5cXOnTogBkzZtjcnYLHgRyFAdBgNm7cCA8PD/j5+SEmJgZjx45FkyZNkJycrHdpLmvAgAFYtWoVTp8+jcjISAwcOBDt27dHfn6+dZsRI0bgoYcewt69exEREYG+ffuiR48eKC8vBwCUl5ejW7du6Nu3LyIiIrB37160bdsWo0ePtu7j/PnzaNy4McaOHYuYmBj4+fnBw8MDP/30k9M/s9EdO3YM3t7e6N69u00A5HFwjuzsbAgh8Pe//x1hYWFISkpCYGAgzp07Z91m7ty5aNq0KTZv3ozo6Gi8+eabePDBB5GXl2fd5k9/+hO6deuG4OBgBAcHo1u3bhg0aJD19dzcXNx///146623EB0djc2bN6Np06b44osvnPp5jWrWrFlo1aoVlFJISkrCjz/+iHvvvRcLFy60bsPjQI7CAGgwvXr1wogRI2ye69KlC3x8fHSqqP7JzMyEyWTCoUOHAAA5OTnw8PDAxo0brdukpaXh7rvvRkBAAADA398fd999N9LS0qzbbNiwAZ6entZFWMePH48uXbrYtDV8+HA8/fTTjv5ILuX69evo2LEj9u7diz59+lgDII+D80gp8cwzz9zydbPZjAceeABz5861PldcXIzmzZtj+fLlAICYmBiYTCaEhoZatwkJCYHJZLJ+w7506VI0b97cZp26OXPmoG3btvz2CcDAgQPxz3/+0+a5V199FUOHDgXA40COxQBoICUlJbjnnnuwZcsWm+fHjBmD5557Tqeq6p+EhASYTCZER0cDAPbt2weTyYTs7Gyb7bp3746pU6cCAKZMmYLu3bvbvJ6dnQ2TyYT9+/cDAJ599lmMGTPGZpstW7agQYMGKC0tddTHcTnvvfcexo0bBwA2AZDHwXm6du2KcePG4fXXX0fr1q3xxBNPYMWKFdbXExMTYTKZEBERYfO+l19+Ge+99x4AYOXKlWjevHmVfTdv3hzfffcdAODdd9/Fyy+/bPN6REQETCYTzp8/b++P5XLmzJkDIQTOnj0LAIiMjESbNm3w/fffA+BxIMdiADSQtLQ0mEwmHD161Ob52bNno1OnTjpVVb+YzWYMHjzY5tuP9evXo2HDhlW27devHz766CMAwIcffoh+/fpV2aZhw4bWwbpjx46YPXu2zetHjx6FyWRCenq6PT+Gy9qwYQO6deuGoqIiALYBkMfBeTw9PeHp6YkJEyYgIiICy5cvh5eXF9asWQPg53+vm79pBSz//v379wdgGZc6duxYZd8dO3aEr68vAMux+/DDD21evzHOBQcHO+KjuRSz2QwfHx/cddddaNCgAe666y7rvx3A40COxQBoILf6Dzlr1ix07txZp6rql1GjRkEIYXNhwa2Cx4svvojhw4cDsB1wb+bh4YENGzYAsB1wbzhy5AhMJhMyMjLs+TFcUkpKCtq0aYPIyEjrczUJgDwO9ufh4YE//OEPNs998skn1p/JbxWYP/jgAwwYMADArf8wffTRRzFnzhwAtuH9hosXL8JkMiEkJMRun8dVbdiwAe3atcOGDRsQFRWFtWvXomXLlli9ejUAHgdyLAZAA+FPwI41evRotGvXrspPHvzp0Tm2bt0Kk8mEe+65x/owmUy46667cM899yAwMJDHwUnat2+P999/3+a5pUuXom3btgD406OztGvXDt98843NczNnzrT+wc/jQI7EAGgwvXr1wsiRI22e69q1Ky8C0cBsNuPjjz9G27ZtER8fX+X1GxcfbNq0yfpcenp6tRcf3PyX+MaNG6tcfNC1a1ebfY8YMYIXH1TKy8tDdHS0zeOpp57C0KFDER0dzePgRG+//XaVi0DGjRtn/VbwxsUH8+bNs75eUlJS7cUHYWFh1m1CQ0OrXHzQokULm2V65s6dy4sPKrVs2RJLly61ec7X19f6ky6PAzkSA6DB3FgGZuXKlYiJicG4cePQpEkTXLhwQe/SXNbIkSPRvHlzHDx4EBkZGdZHYWGhdZsRI0agXbt2CAwMREREBP74xz9Wu/zICy+8gIiICAQGBqJdu3bVLj/y6aefIiYmBitXruTyI3dw80/AAI+Dsxw7dgwNGjTA7NmzkZCQgPXr16Nx48ZYt26ddZu5c+eiefPm2LJlC6Kjo/H2229Xu/xI9+7dERISgpCQEDz++OM2y4/k5OTg/vvvx9tvv43o6Ghs2bIFzZo14/IjlYYNG4aHHnrIugzMli1b8Ktf/Qrjx4+3bsPjQI7CAGhAS5YsgRACDRs2RM+ePa3LlVDdmEymah+rVq2yblNUVITRo0dbF8UdNGgQUlJSbPaTnJyMgQMHolGjRmjZsiVGjx5ts6wCYFmA+Le//S0aNmwIb29vLkB8B78MgDwOzrNjxw5069YNnp6e6NKli81VwMDPCxA/8MAD8PT0xHPPPWe9cv6Gq1ev4p133kHTpk3RtGlTvPPOO9UuQPzss8/C09MTDzzwAKZPn85vnSrl5eVh7NixaN++Pby8vPDwww9j0qRJNt/U8TiQozAAEhEREbkZBkAiIiIiN8MASERERORmGACJiIiI3AwDIBEREZGbYQAkIiIicjMMgERERERuhgGQiIiIyM0wABIRERG5GQZAItJFUlISTCYTTp48qUv7cXFxuP/++21uqeWKhBD46quvAADFxcX49a9/jfDwcJ2rIiKjYwAkIru71e33bjyGDRuG8vJyZGRkoKysTJcaX3vtNXz22We6tG1PNwdAAFi0aBFeeOEFHSsiIlfAAEhEdpeRkWF9LFy4EM2aNbN5LicnR9f6UlNT4eHhgdTUVF3rsIdfBsCsrCw0bNgQMTExOlZFREbHAEhEDrVq1So0b968yvO//An4wIEDMJlMCAgIwBNPPAEvLy/07dsXly9fhr+/P7p06YKmTZvirbfeQkFBgXU/ZrMZ8+bNQ4cOHeDl5YXu3bvjxx9/vG1NCxYswFNPPWXz3IULFzBo0CC0aNECjRs3xm9+8xvs3LnT+vqZM2fw0ksvoUmTJmjTpg2GDh2KK1euWF+vqKjA3Llz8cgjj6Bhw4b49a9/jVmzZllfj4qKQt++feHl5YWWLVviww8/xPXr162vDxs2DEOGDMH8+fPxwAMPoGXLlhg1ahRKS0ut21y+fBmDBg2Cl5cXvL29sW7duioBEACef/55TJky5bb/BkTk3hgAicihahsAn376aRw5cgQRERF49NFH0adPH/Tv3x8REREICgpCq1atMHfuXOt+Jk6ciC5duiAgIACJiYlYtWoVPD09cfDgwVvWNGTIEIwYMcLmuYEDB6Jfv36IiopCYmIiduzYgUOHDgEA0tPT8atf/QoTJkxAbGwsIiIi0K9fP/Tt29f6/vHjx+O+++7D6tWrce7cORw+fBh+fn4AgIKCArRt2xavvvoqoqOjsW/fPnTo0AHDhg2zvn/YsGFo1qwZRowYgdjYWOzYsQONGzfGihUrrNu89NJL6NatG4KDgxEeHo7evXujUaNGVQLg+PHj8fzzz9/p0BCRG2MAJCKHqm0ADAwMtG4zZ84cmEwmJCYmWp8bPnw4BgwYAADIz8+Hl5cXgoODbfb9/vvv4+23375lTT169Khy/t/jjz+O6dOnV7v9lClT0L9/f5vnUlNTYTKZcPbsWeTl5cHT09Ma+H5pxYoVuO+++5Cfn299bufOnbj77rtx6dIlAJYAKIRAeXm5dZs33ngDb775JgDg7NmzMJlMCA0Ntb4eGxsLk8lUJQAuWrQI3t7et/z8REQMgETkULUNgJmZmdZtvvvuOzRu3NjmfVOnTsVvf/tbAMCxY8dgMpnQpEkTm4eHhwd69ep1y5o6deqEzz//3OY5Pz8/NGjQAL1798bUqVNx6tQp62t//vOf4eHhUaUdk8kEf39/hIWFwWQy4fz589W29+mnn1b5Ri4nJwcmk8n6LeOwYcPw5z//2WabMWPGWL9l3LZtGxo0aGATEAGgRYsWVQLgihUr0KZNm1t+fiIiBkAicqjaBsBr167d9r3Tpk1Djx49AAChoaEwmUw4ePAgEhISbB4pKSm3rKl3796YMGFCledTUlKwbNkyvPLKK/Dw8MDixYsBAH/605/w6quvVmkjISEB+fn5iIqKum0AHDdunM3PxcDPATAoKAjAz+cA3mzs2LHo06cPAGDr1q1o0KABKioqbLapLgDOnTsXjz322C0/PxERAyAROZQjA+CNn17Xrl1bq5o+/vjjKmHrl3x8fPD4448DsJxn2Llz51suWVNUVIRGjRpp/gn4dgEwLi4OJpMJYWFh1tdvPPfLADh06FAMHTr0tp+PiNwbAyAROZQjAyAATJo0Ca1atbJefBEREYFvvvkGq1evvmVN27dvR5s2bWx+Th07diwCAgJw/vx5nDhxAr169cJf//pXAEBaWhpat26N119/HWFhYUhMTMTu3bvxj3/8w7qP6dOn47777sOaNWtw7tw5hISE4NtvvwVguQjkwQcfxGuvvYbo6Gjs378fDz/8cJWLQG4XAAHLN5Hdu3dHaGgowsPD8cwzz1R7EYgQotahmIjcCwMgETmUowOg2WzGokWL0LlzZ3h4eKB169YYMGCA9dy66pSXl+Ohhx5CQECA9bnRo0fjkUcegaenJ1q3bo13330XWVlZ1tfj4+PxyiuvoEWLFmjUqBG6dOmCcePGwWw2A7AsAzNr1iwIIeDh4YH27dvD19fX+v6aLgNzs18GwIyMDAwcOBCenp5o37491q5dW2UZmODgYLRo0QKFhYW3/PxERAyAROSWlixZUuXK3vrg9ddfx+zZs/Uug4gMjgGQiNxSWVkZZs2a5fL3Ar5ZcXExZs6cyW//iOiOGACJiIiI3AwDIBEREZGbYQAkIiIicjMMgERERERuhgGQiIiIyM0wABIRERG5GQZAIiIiIjfDAEhERETkZhgAiYiIiNwMAyARERGRm/n/TnuATLF00T4AAAAASUVORK5CYII=\" width=\"640\">"
      ],
      "text/plain": [
       "<IPython.core.display.HTML object>"
      ]
     },
     "metadata": {},
     "output_type": "display_data"
    },
    {
     "data": {
      "text/plain": [
       "Text(0,0.5,'s1 (degree)')"
      ]
     },
     "execution_count": 21,
     "metadata": {},
     "output_type": "execute_result"
    }
   ],
   "source": [
    "%matplotlib notebook\n",
    "import matplotlib.pyplot as plt\n",
    "\n",
    "fig,ax = plt.subplots()\n",
    "ax.plot(s1_time,s1_value)\n",
    "ax.set_title('S1 motor')\n",
    "ax.set_xlabel('Time ({})'.format(time_u))\n",
    "ax.set_ylabel('s1 ({})'.format(value_u))"
   ]
  },
  {
   "cell_type": "markdown",
   "metadata": {},
   "source": [
    "to find the absolute start time"
   ]
  },
  {
   "cell_type": "code",
   "execution_count": 22,
   "metadata": {},
   "outputs": [
    {
     "data": {
      "text/plain": [
       "b'2013-01-13T14:36:16.837-05:00'"
      ]
     },
     "execution_count": 22,
     "metadata": {},
     "output_type": "execute_result"
    }
   ],
   "source": [
    "s1['time'].attrs['start']"
   ]
  },
  {
   "cell_type": "code",
   "execution_count": 23,
   "metadata": {},
   "outputs": [],
   "source": [
    "f.close()"
   ]
  },
  {
   "cell_type": "code",
   "execution_count": null,
   "metadata": {},
   "outputs": [],
   "source": []
  }
 ],
 "metadata": {
  "kernelspec": {
   "display_name": "Python 3",
   "language": "python",
   "name": "python3"
  },
  "language_info": {
   "codemirror_mode": {
    "name": "ipython",
    "version": 3
   },
   "file_extension": ".py",
   "mimetype": "text/x-python",
   "name": "python",
   "nbconvert_exporter": "python",
   "pygments_lexer": "ipython3",
   "version": "3.5.5"
  }
 },
 "nbformat": 4,
 "nbformat_minor": 2
}
