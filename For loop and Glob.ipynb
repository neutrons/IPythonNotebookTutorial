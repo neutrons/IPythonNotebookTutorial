{
 "cells": [
  {
   "cell_type": "markdown",
   "metadata": {},
   "source": [
    "## Python Glob\n",
    "\n",
    "See https://docs.python.org/2/library/glob.html\n"
   ]
  },
  {
   "cell_type": "code",
   "execution_count": 20,
   "metadata": {},
   "outputs": [
    {
     "name": "stdout",
     "output_type": "stream",
     "text": [
      "f1.txt\tf2.txt\tf3.txt\tf4.txt\tf5.txt\tf6.txt\tf7.txt\tf8.txt\tf9.txt\r\n"
     ]
    }
   ],
   "source": [
    "!ls Data/Glob"
   ]
  },
  {
   "cell_type": "code",
   "execution_count": 21,
   "metadata": {},
   "outputs": [
    {
     "data": {
      "text/plain": [
       "['Data/Glob/f2.txt',\n",
       " 'Data/Glob/f5.txt',\n",
       " 'Data/Glob/f7.txt',\n",
       " 'Data/Glob/f9.txt',\n",
       " 'Data/Glob/f8.txt',\n",
       " 'Data/Glob/f6.txt',\n",
       " 'Data/Glob/f4.txt',\n",
       " 'Data/Glob/f3.txt',\n",
       " 'Data/Glob/f1.txt']"
      ]
     },
     "execution_count": 21,
     "metadata": {},
     "output_type": "execute_result"
    }
   ],
   "source": [
    "import glob\n",
    "glob.glob('Data/Glob/*.txt')"
   ]
  },
  {
   "cell_type": "code",
   "execution_count": 22,
   "metadata": {},
   "outputs": [
    {
     "data": {
      "text/plain": [
       "['Data/Glob/f2.txt',\n",
       " 'Data/Glob/f5.txt',\n",
       " 'Data/Glob/f7.txt',\n",
       " 'Data/Glob/f9.txt',\n",
       " 'Data/Glob/f8.txt',\n",
       " 'Data/Glob/f6.txt',\n",
       " 'Data/Glob/f4.txt',\n",
       " 'Data/Glob/f3.txt',\n",
       " 'Data/Glob/f1.txt']"
      ]
     },
     "execution_count": 22,
     "metadata": {},
     "output_type": "execute_result"
    }
   ],
   "source": [
    "file_list = glob.glob('Data/Glob/*.txt')\n",
    "file_list"
   ]
  },
  {
   "cell_type": "code",
   "execution_count": 25,
   "metadata": {},
   "outputs": [
    {
     "data": {
      "text/plain": [
       "['Data/Glob/f1.txt',\n",
       " 'Data/Glob/f2.txt',\n",
       " 'Data/Glob/f3.txt',\n",
       " 'Data/Glob/f4.txt',\n",
       " 'Data/Glob/f5.txt',\n",
       " 'Data/Glob/f6.txt',\n",
       " 'Data/Glob/f7.txt',\n",
       " 'Data/Glob/f8.txt',\n",
       " 'Data/Glob/f9.txt']"
      ]
     },
     "execution_count": 25,
     "metadata": {},
     "output_type": "execute_result"
    }
   ],
   "source": [
    "# Sorting\n",
    "file_list = sorted(file_list)\n",
    "file_list"
   ]
  },
  {
   "cell_type": "markdown",
   "metadata": {},
   "source": [
    "## For Loop"
   ]
  },
  {
   "cell_type": "code",
   "execution_count": 29,
   "metadata": {},
   "outputs": [
    {
     "name": "stdout",
     "output_type": "stream",
     "text": [
      "Data/Glob/f1.txt\n",
      "Data/Glob/f2.txt\n",
      "Data/Glob/f3.txt\n",
      "Data/Glob/f4.txt\n",
      "Data/Glob/f5.txt\n",
      "Data/Glob/f6.txt\n",
      "Data/Glob/f7.txt\n",
      "Data/Glob/f8.txt\n",
      "Data/Glob/f9.txt\n"
     ]
    }
   ],
   "source": [
    "\n",
    "for file in file_list:\n",
    "    print(file)"
   ]
  },
  {
   "cell_type": "markdown",
   "metadata": {},
   "source": [
    "## Python path"
   ]
  },
  {
   "cell_type": "code",
   "execution_count": 30,
   "metadata": {},
   "outputs": [
    {
     "name": "stdout",
     "output_type": "stream",
     "text": [
      "Absolute Path: /home/rhf/git/IPythonNotebookTutorial/Data/Glob/f1.txt\n",
      "Base Name:     f1.txt\n",
      "Absolute Path: /home/rhf/git/IPythonNotebookTutorial/Data/Glob/f2.txt\n",
      "Base Name:     f2.txt\n",
      "Absolute Path: /home/rhf/git/IPythonNotebookTutorial/Data/Glob/f3.txt\n",
      "Base Name:     f3.txt\n",
      "Absolute Path: /home/rhf/git/IPythonNotebookTutorial/Data/Glob/f4.txt\n",
      "Base Name:     f4.txt\n",
      "Absolute Path: /home/rhf/git/IPythonNotebookTutorial/Data/Glob/f5.txt\n",
      "Base Name:     f5.txt\n",
      "Absolute Path: /home/rhf/git/IPythonNotebookTutorial/Data/Glob/f6.txt\n",
      "Base Name:     f6.txt\n",
      "Absolute Path: /home/rhf/git/IPythonNotebookTutorial/Data/Glob/f7.txt\n",
      "Base Name:     f7.txt\n",
      "Absolute Path: /home/rhf/git/IPythonNotebookTutorial/Data/Glob/f8.txt\n",
      "Base Name:     f8.txt\n",
      "Absolute Path: /home/rhf/git/IPythonNotebookTutorial/Data/Glob/f9.txt\n",
      "Base Name:     f9.txt\n"
     ]
    }
   ],
   "source": [
    "import os.path\n",
    "\n",
    "for file in file_list:\n",
    "    print(\"Absolute Path: {}\".format(os.path.abspath(file)))\n",
    "    print(\"Base Name:     {}\".format(os.path.basename(file)))\n",
    "    "
   ]
  },
  {
   "cell_type": "markdown",
   "metadata": {},
   "source": [
    "## File contents"
   ]
  },
  {
   "cell_type": "code",
   "execution_count": 31,
   "metadata": {},
   "outputs": [
    {
     "data": {
      "text/plain": [
       "'Data/Glob/f1.txt'"
      ]
     },
     "execution_count": 31,
     "metadata": {},
     "output_type": "execute_result"
    }
   ],
   "source": [
    "f1 = file_list[0]\n",
    "f1"
   ]
  },
  {
   "cell_type": "code",
   "execution_count": 32,
   "metadata": {},
   "outputs": [
    {
     "name": "stdout",
     "output_type": "stream",
     "text": [
      "# X , Y , E , DX\r\n",
      "1\r\n",
      "0.00232478,9.66359,0.856809,0.0020133\r\n",
      "0.00458718,9.24989,0.273381,0.00192328\r\n",
      "0.00684958,42.7332,1.51659,0.00189569\r\n",
      "0.00911198,100.963,1.5609,0.00199785\r\n",
      "0.0113744,411.584,9.21496,0.00205609\r\n",
      "0.0136368,1452.51,21.7877,0.00217489\r\n",
      "0.0158992,1387.85,15.1307,0.00229348\r\n",
      "0.0181616,2138.39,25.6664,0.00239931\r\n"
     ]
    }
   ],
   "source": [
    "!head Data/Glob/f2.txt"
   ]
  },
  {
   "cell_type": "code",
   "execution_count": 40,
   "metadata": {},
   "outputs": [
    {
     "data": {
      "text/plain": [
       "array([(0.00232478, 8.22832e+00, 6.77097e-01, 0.0020133 ),\n",
       "       (0.00458718, 5.89150e+00, 1.93922e-01, 0.00192328),\n",
       "       (0.00684958, 1.25730e+01, 4.13909e-01, 0.00189569),\n",
       "       (0.00911198, 3.73161e+01, 7.68022e-01, 0.00199785),\n",
       "       (0.0113744 , 1.56672e+02, 2.59008e+00, 0.00205609),\n",
       "       (0.0136368 , 5.67555e+02, 1.17842e+01, 0.00217489),\n",
       "       (0.0158992 , 1.40189e+03, 1.61017e+01, 0.00229348),\n",
       "       (0.0181616 , 1.33420e+03, 1.34719e+01, 0.00239931),\n",
       "       (0.020424  , 1.62173e+03, 2.00042e+01, 0.00247893),\n",
       "       (0.0226864 , 1.40312e+03, 1.01434e+01, 0.00256543),\n",
       "       (0.0249488 , 1.30591e+03, 1.03458e+01, 0.00260186),\n",
       "       (0.0272112 , 7.52002e+02, 6.22791e+00, 0.00263457),\n",
       "       (0.0294736 , 5.86367e+02, 3.34320e+00, 0.00269503),\n",
       "       (0.031736  , 4.63746e+02, 2.83678e+00, 0.00273969),\n",
       "       (0.0339984 , 2.82236e+02, 1.72425e+00, 0.0027873 ),\n",
       "       (0.0362608 , 2.52291e+02, 1.15568e+00, 0.00285656),\n",
       "       (0.0385232 , 1.94139e+02, 1.03233e+00, 0.00290755),\n",
       "       (0.0407856 , 1.32505e+02, 6.23850e-01, 0.00296543),\n",
       "       (0.043048  , 1.25275e+02, 5.16059e-01, 0.0030476 ),\n",
       "       (0.0453104 , 1.03933e+02, 5.11167e-01, 0.00310267),\n",
       "       (0.0475728 , 7.45236e+01, 2.99432e-01, 0.00317061),\n",
       "       (0.0498352 , 7.13951e+01, 2.37603e-01, 0.00325667),\n",
       "       (0.0520976 , 5.80103e+01, 2.38909e-01, 0.00332773),\n",
       "       (0.05436   , 4.54162e+01, 1.42499e-01, 0.00339323),\n",
       "       (0.0566224 , 4.26769e+01, 1.37849e-01, 0.00348751),\n",
       "       (0.0588848 , 3.39084e+01, 1.14000e-01, 0.00355319),\n",
       "       (0.0611472 , 3.04780e+01, 8.58282e-02, 0.00364613),\n",
       "       (0.0634096 , 2.78833e+01, 8.75005e-02, 0.00373615),\n",
       "       (0.065672  , 2.29170e+01, 6.68278e-02, 0.00381589),\n",
       "       (0.0679344 , 2.06575e+01, 5.15695e-02, 0.00390849),\n",
       "       (0.0701968 , 1.89313e+01, 5.42510e-02, 0.00399867),\n",
       "       (0.0724592 , 1.59109e+01, 4.22886e-02, 0.00406174),\n",
       "       (0.0747216 , 1.45817e+01, 3.29170e-02, 0.00415516),\n",
       "       (0.076984  , 1.33736e+01, 3.52660e-02, 0.00423386),\n",
       "       (0.0792464 , 1.14957e+01, 2.76601e-02, 0.00430617),\n",
       "       (0.0815088 , 1.12811e+01, 2.36873e-02, 0.00443354),\n",
       "       (0.0837712 , 9.91017e+00, 2.43837e-02, 0.00445424),\n",
       "       (0.0860336 , 8.96414e+00, 1.80221e-02, 0.00459522),\n",
       "       (0.088296  , 8.29776e+00, 1.74276e-02, 0.00466863),\n",
       "       (0.0905584 , 7.84076e+00, 1.70118e-02, 0.00474494),\n",
       "       (0.0928208 , 7.19617e+00, 1.37185e-02, 0.00485222),\n",
       "       (0.0950832 , 6.71241e+00, 1.31788e-02, 0.00493926),\n",
       "       (0.0973456 , 6.32092e+00, 1.20530e-02, 0.00501939),\n",
       "       (0.099608  , 5.84345e+00, 1.04203e-02, 0.00512144),\n",
       "       (0.10187   , 5.58809e+00, 1.05965e-02, 0.00519627),\n",
       "       (0.104133  , 5.20974e+00, 1.01126e-02, 0.00532484),\n",
       "       (0.106395  , 4.70643e+00, 8.30563e-03, 0.00537297),\n",
       "       (0.108658  , 4.60372e+00, 8.73295e-03, 0.00548339),\n",
       "       (0.11092   , 4.33336e+00, 7.33537e-03, 0.00559051),\n",
       "       (0.113182  , 4.25171e+00, 6.74788e-03, 0.00569599),\n",
       "       (0.115445  , 3.75440e+00, 6.66471e-03, 0.00575616),\n",
       "       (0.117707  , 3.57895e+00, 5.60087e-03, 0.00587507),\n",
       "       (0.11997   , 3.59152e+00, 5.24790e-03, 0.00599054),\n",
       "       (0.122232  , 3.43869e+00, 6.13958e-03, 0.00606209),\n",
       "       (0.124494  , 3.30020e+00, 5.02378e-03, 0.00616088),\n",
       "       (0.126757  , 3.15643e+00, 5.34797e-03, 0.00625433),\n",
       "       (0.129019  , 3.06221e+00, 4.91215e-03, 0.00635325),\n",
       "       (0.131282  , 2.95474e+00, 4.41837e-03, 0.00647504),\n",
       "       (0.133544  , 2.75973e+00, 4.36462e-03, 0.00656997),\n",
       "       (0.135806  , 2.75132e+00, 4.13429e-03, 0.00670515),\n",
       "       (0.138069  , 2.59006e+00, 3.84002e-03, 0.00681656),\n",
       "       (0.140331  , 2.70392e+00, 4.15889e-03, 0.00695484),\n",
       "       (0.142594  , 2.40971e+00, 3.67286e-03, 0.00704784),\n",
       "       (0.144856  , 2.41678e+00, 3.35878e-03, 0.00722162),\n",
       "       (0.147118  , 2.41169e+00, 3.61040e-03, 0.00733503),\n",
       "       (0.149381  , 2.31052e+00, 3.21215e-03, 0.00746144),\n",
       "       (0.151643  , 2.30365e+00, 2.88732e-03, 0.00762406),\n",
       "       (0.153906  , 2.28111e+00, 3.14603e-03, 0.00773543),\n",
       "       (0.156168  , 2.16173e+00, 2.64020e-03, 0.00793215),\n",
       "       (0.15843   , 2.24121e+00, 2.79995e-03, 0.00809307),\n",
       "       (0.160693  , 2.00375e+00, 2.61229e-03, 0.0082353 ),\n",
       "       (0.162955  , 2.04535e+00, 2.29611e-03, 0.00838376),\n",
       "       (0.165218  , 1.97023e+00, 2.42616e-03, 0.00857472),\n",
       "       (0.16748   , 1.92842e+00, 2.28993e-03, 0.00868331),\n",
       "       (0.169742  , 2.00759e+00, 2.19525e-03, 0.00892482),\n",
       "       (0.172005  , 1.90848e+00, 2.35142e-03, 0.00904882),\n",
       "       (0.174267  , 1.93957e+00, 2.17204e-03, 0.00924326),\n",
       "       (0.17653   , 1.84568e+00, 1.91813e-03, 0.00943445),\n",
       "       (0.178792  , 1.84602e+00, 2.14060e-03, 0.00956254),\n",
       "       (0.181054  , 1.76200e+00, 1.90354e-03, 0.00980488),\n",
       "       (0.183317  , 1.75111e+00, 1.74428e-03, 0.00995011),\n",
       "       (0.185579  , 1.87683e+00, 2.09675e-03, 0.0101434 ),\n",
       "       (0.187842  , 1.73987e+00, 1.77651e-03, 0.0103764 ),\n",
       "       (0.190104  , 1.80290e+00, 1.75987e-03, 0.0105471 ),\n",
       "       (0.192366  , 1.67046e+00, 1.73862e-03, 0.0107355 ),\n",
       "       (0.194629  , 1.69074e+00, 1.61779e-03, 0.0109622 ),\n",
       "       (0.196891  , 1.66550e+00, 1.64625e-03, 0.0111471 ),\n",
       "       (0.199154  , 1.63165e+00, 1.59898e-03, 0.0113915 ),\n",
       "       (0.201416  , 1.58160e+00, 1.46371e-03, 0.0115784 ),\n",
       "       (0.203678  , 1.63511e+00, 1.60772e-03, 0.0117673 ),\n",
       "       (0.205941  , 1.63747e+00, 1.54188e-03, 0.012011  ),\n",
       "       (0.208203  , 1.55044e+00, 1.38552e-03, 0.0122274 ),\n",
       "       (0.210466  , 1.56580e+00, 1.50506e-03, 0.0124266 ),\n",
       "       (0.212728  , 1.45895e+00, 1.30108e-03, 0.0126529 ),\n",
       "       (0.21499   , 1.54536e+00, 1.32162e-03, 0.0129049 ),\n",
       "       (0.217253  , 1.51461e+00, 1.42400e-03, 0.0130589 ),\n",
       "       (0.219515  , 1.49411e+00, 1.28816e-03, 0.0133043 ),\n",
       "       (0.221778  , 1.50372e+00, 1.25136e-03, 0.0134998 ),\n",
       "       (0.22404   , 1.56236e+00, 1.42167e-03, 0.0137487 ),\n",
       "       (0.226302  , 1.44359e+00, 1.15841e-03, 0.0139386 ),\n",
       "       (0.228565  , 1.43892e+00, 1.20448e-03, 0.0141531 ),\n",
       "       (0.230827  , 1.46005e+00, 1.21956e-03, 0.0143515 ),\n",
       "       (0.23309   , 1.46053e+00, 1.17015e-03, 0.0146494 ),\n",
       "       (0.235352  , 1.45386e+00, 1.21480e-03, 0.0148436 ),\n",
       "       (0.237614  , 1.43670e+00, 1.16289e-03, 0.0150335 ),\n",
       "       (0.239877  , 1.46604e+00, 1.11884e-03, 0.0153295 ),\n",
       "       (0.242139  , 1.41836e+00, 1.15156e-03, 0.0154842 ),\n",
       "       (0.244402  , 1.43869e+00, 1.14041e-03, 0.0156994 ),\n",
       "       (0.246664  , 1.44536e+00, 1.07685e-03, 0.0160131 ),\n",
       "       (0.248926  , 1.52036e+00, 1.24142e-03, 0.0161667 ),\n",
       "       (0.251189  , 1.40447e+00, 1.04701e-03, 0.0164298 ),\n",
       "       (0.253451  , 1.45618e+00, 1.04613e-03, 0.0166609 ),\n",
       "       (0.255714  , 1.31826e+00, 1.06160e-03, 0.0167973 ),\n",
       "       (0.257976  , 1.35123e+00, 9.29192e-04, 0.0171077 ),\n",
       "       (0.260238  , 1.36036e+00, 1.01070e-03, 0.0172913 ),\n",
       "       (0.262501  , 1.33275e+00, 1.00183e-03, 0.0175239 ),\n",
       "       (0.264763  , 1.40282e+00, 9.87916e-04, 0.0178241 ),\n",
       "       (0.267026  , 1.33950e+00, 1.01891e-03, 0.0179383 ),\n",
       "       (0.269288  , 1.33759e+00, 9.71319e-04, 0.0182463 ),\n",
       "       (0.27155   , 1.37715e+00, 1.03639e-03, 0.0184218 ),\n",
       "       (0.273813  , 1.29646e+00, 1.01499e-03, 0.0186265 ),\n",
       "       (0.276075  , 1.35901e+00, 9.89784e-04, 0.0189069 ),\n",
       "       (0.278338  , 1.27646e+00, 9.79190e-04, 0.0190349 ),\n",
       "       (0.2806    , 1.29041e+00, 1.01598e-03, 0.0192846 ),\n",
       "       (0.282862  , 1.34233e+00, 9.72415e-04, 0.0195668 ),\n",
       "       (0.285125  , 1.30539e+00, 1.04033e-03, 0.0196904 ),\n",
       "       (0.287387  , 1.32256e+00, 1.10708e-03, 0.019925  ),\n",
       "       (0.28965   , 1.28919e+00, 1.00851e-03, 0.0201828 ),\n",
       "       (0.291912  , 1.29895e+00, 1.08788e-03, 0.0203732 ),\n",
       "       (0.294174  , 1.31408e+00, 1.11481e-03, 0.0206176 ),\n",
       "       (0.296437  , 1.30226e+00, 1.06193e-03, 0.0208095 ),\n",
       "       (0.298699  , 1.30589e+00, 1.17047e-03, 0.0209943 ),\n",
       "       (0.300962  , 1.29786e+00, 1.08535e-03, 0.0213227 ),\n",
       "       (0.303224  , 1.23239e+00, 1.09345e-03, 0.021438  ),\n",
       "       (0.305486  , 1.28156e+00, 1.27915e-03, 0.0215954 ),\n",
       "       (0.307749  , 1.32796e+00, 1.20706e-03, 0.021926  ),\n",
       "       (0.310011  , 1.30217e+00, 1.29243e-03, 0.0221265 ),\n",
       "       (0.312274  , 1.22154e+00, 1.31353e-03, 0.0222615 ),\n",
       "       (0.314536  , 1.23972e+00, 1.18866e-03, 0.0225737 ),\n",
       "       (0.316798  , 1.25601e+00, 1.34261e-03, 0.0227181 ),\n",
       "       (0.319061  , 1.30090e+00, 1.48065e-03, 0.0229153 ),\n",
       "       (0.321323  , 1.23908e+00, 1.47062e-03, 0.0231034 ),\n",
       "       (0.323586  , 1.28162e+00, 1.58856e-03, 0.023401  ),\n",
       "       (0.325848  , 1.24657e+00, 1.61703e-03, 0.0234885 ),\n",
       "       (0.32811   , 1.29387e+00, 1.80401e-03, 0.0237336 ),\n",
       "       (0.330373  , 1.25754e+00, 1.76106e-03, 0.0239429 ),\n",
       "       (0.332635  , 1.19356e+00, 1.73731e-03, 0.0241586 ),\n",
       "       (0.334898  , 1.26474e+00, 1.88188e-03, 0.0244496 ),\n",
       "       (0.33716   , 1.33097e+00, 2.12157e-03, 0.0245576 ),\n",
       "       (0.339422  , 1.29467e+00, 2.12446e-03, 0.0247861 ),\n",
       "       (0.341685  , 1.23477e+00, 2.14140e-03, 0.0250466 ),\n",
       "       (0.343947  , 1.28147e+00, 2.29357e-03, 0.0253031 ),\n",
       "       (0.34621   , 1.23232e+00, 2.23000e-03, 0.0254372 ),\n",
       "       (0.348472  , 1.25183e+00, 2.46401e-03, 0.0256826 ),\n",
       "       (0.350734  , 1.17120e+00, 2.33285e-03, 0.0258787 ),\n",
       "       (0.352997  , 1.27463e+00, 2.69883e-03, 0.0261788 ),\n",
       "       (0.355259  , 1.25092e+00, 2.78934e-03, 0.0263301 ),\n",
       "       (0.357522  , 1.17056e+00, 2.68148e-03, 0.0265042 ),\n",
       "       (0.359784  , 1.25435e+00, 3.12805e-03, 0.0268127 ),\n",
       "       (0.362046  , 1.18626e+00, 3.02630e-03, 0.0269865 ),\n",
       "       (0.364309  , 1.32139e+00, 3.42370e-03, 0.027279  ),\n",
       "       (0.366571  , 1.14499e+00, 3.21330e-03, 0.027425  ),\n",
       "       (0.368834  , 1.24132e+00, 3.94092e-03, 0.0277147 ),\n",
       "       (0.371096  , 1.34991e+00, 4.20847e-03, 0.027962  ),\n",
       "       (0.373358  , 1.21190e+00, 4.16068e-03, 0.0280234 ),\n",
       "       (0.375621  , 1.28882e+00, 4.61407e-03, 0.0283759 ),\n",
       "       (0.377883  , 1.17028e+00, 4.37559e-03, 0.0285256 ),\n",
       "       (0.380146  , 1.21848e+00, 5.11970e-03, 0.0286588 ),\n",
       "       (0.382408  , 1.16478e+00, 5.21820e-03, 0.0289052 ),\n",
       "       (0.38467   , 1.26369e+00, 6.23799e-03, 0.0290982 ),\n",
       "       (0.386933  , 1.16811e+00, 6.31712e-03, 0.0292588 ),\n",
       "       (0.389195  , 1.19013e+00, 6.64985e-03, 0.0295441 ),\n",
       "       (0.391458  , 1.27868e+00, 7.78585e-03, 0.029664  ),\n",
       "       (0.39372   , 1.14789e+00, 7.52957e-03, 0.0300074 ),\n",
       "       (0.395982  , 1.19087e+00, 8.64753e-03, 0.0302353 ),\n",
       "       (0.398245  , 1.23422e+00, 1.08036e-02, 0.0303397 ),\n",
       "       (0.400507  , 1.45145e+00, 1.23926e-02, 0.0307376 ),\n",
       "       (0.40277   , 1.29427e+00, 1.34012e-02, 0.030717  ),\n",
       "       (0.405032  , 1.23035e+00, 1.40164e-02, 0.0311565 ),\n",
       "       (0.407294  , 1.21974e+00, 1.39044e-02, 0.0313112 ),\n",
       "       (0.409557  , 1.00004e+00, 1.31590e-02, 0.0315002 ),\n",
       "       (0.411819  , 1.08915e+00, 1.69467e-02, 0.0316693 ),\n",
       "       (0.414082  , 1.22531e+00, 2.20794e-02, 0.0318296 ),\n",
       "       (0.416344  , 1.31332e+00, 2.49976e-02, 0.031991  ),\n",
       "       (0.418606  , 1.00532e+00, 2.29697e-02, 0.032178  ),\n",
       "       (0.420869  , 1.17157e+00, 3.34778e-02, 0.0323646 ),\n",
       "       (0.423131  , 1.54398e+00, 6.62195e-02, 0.0325359 ),\n",
       "       (0.425394  , 1.02969e+00, 5.04892e-02, 0.0326751 ),\n",
       "       (0.427656  , 8.58565e-01, 4.91425e-02, 0.0328817 ),\n",
       "       (0.429918  , 8.01629e-01, 9.18017e-02, 0.033036  ),\n",
       "       (0.432181  , 1.48946e+00, 1.70656e-01, 0.0332177 ),\n",
       "       (0.434443  , 6.87675e-01, 2.36449e-01, 0.0333237 ),\n",
       "       (0.436706  , 0.00000e+00, 0.00000e+00, 0.        ),\n",
       "       (0.438968  , 0.00000e+00, 0.00000e+00, 0.        ),\n",
       "       (0.44123   , 0.00000e+00, 0.00000e+00, 0.        ),\n",
       "       (0.443493  , 0.00000e+00, 0.00000e+00, 0.        ),\n",
       "       (0.445755  , 0.00000e+00, 0.00000e+00, 0.        ),\n",
       "       (0.448018  , 0.00000e+00, 0.00000e+00, 0.        ),\n",
       "       (0.45028   , 0.00000e+00, 0.00000e+00, 0.        ),\n",
       "       (0.452542  , 0.00000e+00, 0.00000e+00, 0.        )],\n",
       "      dtype=[('X', '<f8'), ('Y', '<f8'), ('E', '<f8'), ('DX', '<f8')])"
      ]
     },
     "execution_count": 40,
     "metadata": {},
     "output_type": "execute_result"
    }
   ],
   "source": [
    "# see https://docs.scipy.org/doc/numpy-1.14.0/reference/generated/numpy.genfromtxt.html\n",
    "import numpy as np\n",
    "data = np.genfromtxt(f1, delimiter=\",\", skip_header=2, names='X,Y,E,DX')\n",
    "data"
   ]
  },
  {
   "cell_type": "code",
   "execution_count": 41,
   "metadata": {},
   "outputs": [
    {
     "data": {
      "text/plain": [
       "array([0.00232478, 0.00458718, 0.00684958, 0.00911198, 0.0113744 ,\n",
       "       0.0136368 , 0.0158992 , 0.0181616 , 0.020424  , 0.0226864 ,\n",
       "       0.0249488 , 0.0272112 , 0.0294736 , 0.031736  , 0.0339984 ,\n",
       "       0.0362608 , 0.0385232 , 0.0407856 , 0.043048  , 0.0453104 ,\n",
       "       0.0475728 , 0.0498352 , 0.0520976 , 0.05436   , 0.0566224 ,\n",
       "       0.0588848 , 0.0611472 , 0.0634096 , 0.065672  , 0.0679344 ,\n",
       "       0.0701968 , 0.0724592 , 0.0747216 , 0.076984  , 0.0792464 ,\n",
       "       0.0815088 , 0.0837712 , 0.0860336 , 0.088296  , 0.0905584 ,\n",
       "       0.0928208 , 0.0950832 , 0.0973456 , 0.099608  , 0.10187   ,\n",
       "       0.104133  , 0.106395  , 0.108658  , 0.11092   , 0.113182  ,\n",
       "       0.115445  , 0.117707  , 0.11997   , 0.122232  , 0.124494  ,\n",
       "       0.126757  , 0.129019  , 0.131282  , 0.133544  , 0.135806  ,\n",
       "       0.138069  , 0.140331  , 0.142594  , 0.144856  , 0.147118  ,\n",
       "       0.149381  , 0.151643  , 0.153906  , 0.156168  , 0.15843   ,\n",
       "       0.160693  , 0.162955  , 0.165218  , 0.16748   , 0.169742  ,\n",
       "       0.172005  , 0.174267  , 0.17653   , 0.178792  , 0.181054  ,\n",
       "       0.183317  , 0.185579  , 0.187842  , 0.190104  , 0.192366  ,\n",
       "       0.194629  , 0.196891  , 0.199154  , 0.201416  , 0.203678  ,\n",
       "       0.205941  , 0.208203  , 0.210466  , 0.212728  , 0.21499   ,\n",
       "       0.217253  , 0.219515  , 0.221778  , 0.22404   , 0.226302  ,\n",
       "       0.228565  , 0.230827  , 0.23309   , 0.235352  , 0.237614  ,\n",
       "       0.239877  , 0.242139  , 0.244402  , 0.246664  , 0.248926  ,\n",
       "       0.251189  , 0.253451  , 0.255714  , 0.257976  , 0.260238  ,\n",
       "       0.262501  , 0.264763  , 0.267026  , 0.269288  , 0.27155   ,\n",
       "       0.273813  , 0.276075  , 0.278338  , 0.2806    , 0.282862  ,\n",
       "       0.285125  , 0.287387  , 0.28965   , 0.291912  , 0.294174  ,\n",
       "       0.296437  , 0.298699  , 0.300962  , 0.303224  , 0.305486  ,\n",
       "       0.307749  , 0.310011  , 0.312274  , 0.314536  , 0.316798  ,\n",
       "       0.319061  , 0.321323  , 0.323586  , 0.325848  , 0.32811   ,\n",
       "       0.330373  , 0.332635  , 0.334898  , 0.33716   , 0.339422  ,\n",
       "       0.341685  , 0.343947  , 0.34621   , 0.348472  , 0.350734  ,\n",
       "       0.352997  , 0.355259  , 0.357522  , 0.359784  , 0.362046  ,\n",
       "       0.364309  , 0.366571  , 0.368834  , 0.371096  , 0.373358  ,\n",
       "       0.375621  , 0.377883  , 0.380146  , 0.382408  , 0.38467   ,\n",
       "       0.386933  , 0.389195  , 0.391458  , 0.39372   , 0.395982  ,\n",
       "       0.398245  , 0.400507  , 0.40277   , 0.405032  , 0.407294  ,\n",
       "       0.409557  , 0.411819  , 0.414082  , 0.416344  , 0.418606  ,\n",
       "       0.420869  , 0.423131  , 0.425394  , 0.427656  , 0.429918  ,\n",
       "       0.432181  , 0.434443  , 0.436706  , 0.438968  , 0.44123   ,\n",
       "       0.443493  , 0.445755  , 0.448018  , 0.45028   , 0.452542  ])"
      ]
     },
     "execution_count": 41,
     "metadata": {},
     "output_type": "execute_result"
    }
   ],
   "source": [
    "data['X']\n"
   ]
  },
  {
   "cell_type": "markdown",
   "metadata": {},
   "source": [
    "# Plotting"
   ]
  },
  {
   "cell_type": "code",
   "execution_count": 52,
   "metadata": {},
   "outputs": [],
   "source": [
    "import matplotlib.pyplot as plt\n",
    "plt.rcParams[\"figure.figsize\"] = (12,8)\n",
    "%matplotlib inline"
   ]
  },
  {
   "cell_type": "code",
   "execution_count": 53,
   "metadata": {},
   "outputs": [
    {
     "data": {
      "text/plain": [
       "[<matplotlib.lines.Line2D at 0x7fba745d9be0>]"
      ]
     },
     "execution_count": 53,
     "metadata": {},
     "output_type": "execute_result"
    },
    {
     "data": {
      "image/png": "[encoded data removed]",
      "text/plain": [
       "<matplotlib.figure.Figure at 0x7fba58920f60>"
      ]
     },
     "metadata": {},
     "output_type": "display_data"
    }
   ],
   "source": [
    "# Simple case\n",
    "plt.plot(data['X'], data['Y'])"
   ]
  },
  {
   "cell_type": "code",
   "execution_count": 54,
   "metadata": {},
   "outputs": [
    {
     "data": {
      "text/plain": [
       "[<matplotlib.lines.Line2D at 0x7fba587a3550>]"
      ]
     },
     "execution_count": 54,
     "metadata": {},
     "output_type": "execute_result"
    },
    {
     "data": {
      "image/png": "[encoded data removed]",
      "text/plain": [
       "<matplotlib.figure.Figure at 0x7fba588045f8>"
      ]
     },
     "metadata": {},
     "output_type": "display_data"
    }
   ],
   "source": [
    "# Log x\n",
    "plt.semilogx(data['X'], data['Y'])"
   ]
  },
  {
   "cell_type": "code",
   "execution_count": 55,
   "metadata": {},
   "outputs": [
    {
     "data": {
      "text/plain": [
       "[<matplotlib.lines.Line2D at 0x7fba586f8f60>]"
      ]
     },
     "execution_count": 55,
     "metadata": {},
     "output_type": "execute_result"
    },
    {
     "data": {
      "image/png": "[encoded data removed]",
      "text/plain": [
       "<matplotlib.figure.Figure at 0x7fba587978d0>"
      ]
     },
     "metadata": {},
     "output_type": "display_data"
    }
   ],
   "source": [
    "# Log y\n",
    "plt.semilogy(data['X'], data['Y'])"
   ]
  },
  {
   "cell_type": "code",
   "execution_count": 56,
   "metadata": {},
   "outputs": [
    {
     "data": {
      "text/plain": [
       "[<matplotlib.lines.Line2D at 0x7fba58541c88>]"
      ]
     },
     "execution_count": 56,
     "metadata": {},
     "output_type": "execute_result"
    },
    {
     "data": {
      "image/png": "[encoded data removed]",
      "text/plain": [
       "<matplotlib.figure.Figure at 0x7fba585bbbe0>"
      ]
     },
     "metadata": {},
     "output_type": "display_data"
    }
   ],
   "source": [
    "# Log X and Log Y\n",
    "plt.loglog(data['X'], data['Y'])"
   ]
  },
  {
   "cell_type": "code",
   "execution_count": 60,
   "metadata": {},
   "outputs": [
    {
     "data": {
      "text/plain": [
       "<Container object of 3 artists>"
      ]
     },
     "execution_count": 60,
     "metadata": {},
     "output_type": "execute_result"
    },
    {
     "data": {
      "image/png": "[encoded data removed]",
      "text/plain": [
       "<matplotlib.figure.Figure at 0x7fba165e9b70>"
      ]
     },
     "metadata": {},
     "output_type": "display_data"
    }
   ],
   "source": [
    "## Error bars linear\n",
    "plt.errorbar(data['X'], data['Y'], xerr=data['DX'], yerr=data['E'])\n"
   ]
  },
  {
   "cell_type": "code",
   "execution_count": 61,
   "metadata": {},
   "outputs": [
    {
     "data": {
      "image/png": "[encoded data removed]",
      "text/plain": [
       "<matplotlib.figure.Figure at 0x7fba164f0198>"
      ]
     },
     "metadata": {},
     "output_type": "display_data"
    }
   ],
   "source": [
    "## Error bars Lox Log y\n",
    "plt.errorbar(data['X'], data['Y'], xerr=data['DX'], yerr=data['E'])\n",
    "\n",
    "ax = plt.gca()\n",
    "ax.set_xscale(\"log\", nonposx='clip')\n",
    "ax.set_yscale(\"log\", nonposy='clip')"
   ]
  },
  {
   "cell_type": "markdown",
   "metadata": {},
   "source": [
    "# All together"
   ]
  },
  {
   "cell_type": "code",
   "execution_count": 65,
   "metadata": {},
   "outputs": [
    {
     "data": {
      "text/plain": [
       "<matplotlib.legend.Legend at 0x7fba581f4a20>"
      ]
     },
     "execution_count": 65,
     "metadata": {},
     "output_type": "execute_result"
    },
    {
     "data": {
      "image/png": "[encoded data removed]",
      "text/plain": [
       "<matplotlib.figure.Figure at 0x7fba58387a58>"
      ]
     },
     "metadata": {},
     "output_type": "display_data"
    }
   ],
   "source": [
    "file_list = glob.glob('Data/Glob/*.txt')\n",
    "for file in file_list:\n",
    "    data = np.genfromtxt(file, delimiter=\",\", skip_header=2, names='X,Y,E,DX')\n",
    "    plt.semilogy(data['X'], data['Y'], label=file)\n",
    "plt.legend()\n",
    "    "
   ]
  },
  {
   "cell_type": "code",
   "execution_count": null,
   "metadata": {},
   "outputs": [],
   "source": []
  }
 ],
 "metadata": {
  "kernelspec": {
   "display_name": "Python 3",
   "language": "python",
   "name": "python3"
  },
  "language_info": {
   "codemirror_mode": {
    "name": "ipython",
    "version": 3
   },
   "file_extension": ".py",
   "mimetype": "text/x-python",
   "name": "python",
   "nbconvert_exporter": "python",
   "pygments_lexer": "ipython3",
   "version": "3.5.2"
  }
 },
 "nbformat": 4,
 "nbformat_minor": 2
}
