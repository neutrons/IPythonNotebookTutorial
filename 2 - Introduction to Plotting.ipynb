{
 "cells": [
  {
   "cell_type": "markdown",
   "metadata": {},
   "source": [
    "# Introduction to Ploting\n",
    "\n",
    "- File manipulation: `os.path`\n",
    "- Arrays, record arrays and basic statistics: `numpy`\n",
    "- Simple Plotting: `Matplotlib`\n"
   ]
  },
  {
   "cell_type": "markdown",
   "metadata": {},
   "source": [
    "## Shell commands"
   ]
  },
  {
   "cell_type": "code",
   "execution_count": 104,
   "metadata": {},
   "outputs": [
    {
     "name": "stdout",
     "output_type": "stream",
     "text": [
      "/Users/rhf/git/IPythonNotebookTutorial\r\n"
     ]
    }
   ],
   "source": [
    "# to call shell from IPython is to prepend an exclamation point to a shell command:\n",
    "!pwd"
   ]
  },
  {
   "cell_type": "code",
   "execution_count": 105,
   "metadata": {},
   "outputs": [
    {
     "name": "stdout",
     "output_type": "stream",
     "text": [
      "1 - Jupyter Notebooks Introduction.ipynb\r\n",
      "2 - Introduction to Plotting.ipynb\r\n",
      "3 - Multiple plots - Glob.ipynb\r\n",
      "\u001b[34mData\u001b[m\u001b[m\r\n",
      "Gaussian Fitting.ipynb\r\n",
      "README.md\r\n"
     ]
    }
   ],
   "source": [
    "!ls"
   ]
  },
  {
   "cell_type": "code",
   "execution_count": 106,
   "metadata": {},
   "outputs": [
    {
     "name": "stdout",
     "output_type": "stream",
     "text": [
      "f1.txt f2.txt f3.txt f4.txt f5.txt f6.txt f7.txt f8.txt f9.txt\r\n"
     ]
    }
   ],
   "source": [
    "# Data files\n",
    "!ls Data/Glob"
   ]
  },
  {
   "cell_type": "markdown",
   "metadata": {},
   "source": [
    "## Python `OS` module"
   ]
  },
  {
   "cell_type": "code",
   "execution_count": 108,
   "metadata": {},
   "outputs": [
    {
     "data": {
      "text/plain": [
       "'/Users/rhf/git/IPythonNotebookTutorial'"
      ]
     },
     "execution_count": 108,
     "metadata": {},
     "output_type": "execute_result"
    }
   ],
   "source": [
    "# The same is possible with python\n",
    "import os\n",
    "\n",
    "os.getcwd()"
   ]
  },
  {
   "cell_type": "code",
   "execution_count": 109,
   "metadata": {},
   "outputs": [
    {
     "data": {
      "text/plain": [
       "['3 - Multiple plots - Glob.ipynb',\n",
       " 'README.md',\n",
       " '.gitignore',\n",
       " '2 - Introduction to Plotting.ipynb',\n",
       " '.ipynb_checkpoints',\n",
       " 'Gaussian Fitting.ipynb',\n",
       " '.git',\n",
       " 'Data',\n",
       " '1 - Jupyter Notebooks Introduction.ipynb']"
      ]
     },
     "execution_count": 109,
     "metadata": {},
     "output_type": "execute_result"
    }
   ],
   "source": [
    "os.listdir()"
   ]
  },
  {
   "cell_type": "code",
   "execution_count": 110,
   "metadata": {},
   "outputs": [
    {
     "data": {
      "text/plain": [
       "['f6.txt',\n",
       " 'f7.txt',\n",
       " 'f5.txt',\n",
       " 'f4.txt',\n",
       " 'f1.txt',\n",
       " 'f3.txt',\n",
       " 'f2.txt',\n",
       " 'f9.txt',\n",
       " 'f8.txt']"
      ]
     },
     "execution_count": 110,
     "metadata": {},
     "output_type": "execute_result"
    }
   ],
   "source": [
    "os.listdir(\"Data/Glob\")"
   ]
  },
  {
   "cell_type": "markdown",
   "metadata": {},
   "source": [
    "## File Manipulation: `os.path` module"
   ]
  },
  {
   "cell_type": "code",
   "execution_count": 65,
   "metadata": {},
   "outputs": [],
   "source": [
    "# Let's pick one file\n",
    "filename = \"Data/Glob/f1.txt\""
   ]
  },
  {
   "cell_type": "code",
   "execution_count": 66,
   "metadata": {},
   "outputs": [
    {
     "data": {
      "text/plain": [
       "True"
      ]
     },
     "execution_count": 66,
     "metadata": {},
     "output_type": "execute_result"
    }
   ],
   "source": [
    "import os.path\n",
    "os.path.exists(filename)"
   ]
  },
  {
   "cell_type": "code",
   "execution_count": 67,
   "metadata": {},
   "outputs": [
    {
     "data": {
      "text/plain": [
       "['__all__',\n",
       " '__builtins__',\n",
       " '__cached__',\n",
       " '__doc__',\n",
       " '__file__',\n",
       " '__loader__',\n",
       " '__name__',\n",
       " '__package__',\n",
       " '__spec__',\n",
       " '_get_sep',\n",
       " '_joinrealpath',\n",
       " '_varprog',\n",
       " '_varprogb',\n",
       " 'abspath',\n",
       " 'altsep',\n",
       " 'basename',\n",
       " 'commonpath',\n",
       " 'commonprefix',\n",
       " 'curdir',\n",
       " 'defpath',\n",
       " 'devnull',\n",
       " 'dirname',\n",
       " 'exists',\n",
       " 'expanduser',\n",
       " 'expandvars',\n",
       " 'extsep',\n",
       " 'genericpath',\n",
       " 'getatime',\n",
       " 'getctime',\n",
       " 'getmtime',\n",
       " 'getsize',\n",
       " 'isabs',\n",
       " 'isdir',\n",
       " 'isfile',\n",
       " 'islink',\n",
       " 'ismount',\n",
       " 'join',\n",
       " 'lexists',\n",
       " 'normcase',\n",
       " 'normpath',\n",
       " 'os',\n",
       " 'pardir',\n",
       " 'pathsep',\n",
       " 'realpath',\n",
       " 'relpath',\n",
       " 'samefile',\n",
       " 'sameopenfile',\n",
       " 'samestat',\n",
       " 'sep',\n",
       " 'split',\n",
       " 'splitdrive',\n",
       " 'splitext',\n",
       " 'stat',\n",
       " 'supports_unicode_filenames',\n",
       " 'sys']"
      ]
     },
     "execution_count": 67,
     "metadata": {},
     "output_type": "execute_result"
    }
   ],
   "source": [
    "dir(os.path)"
   ]
  },
  {
   "cell_type": "markdown",
   "metadata": {},
   "source": [
    "### Exercise"
   ]
  },
  {
   "cell_type": "code",
   "execution_count": 68,
   "metadata": {
    "scrolled": true
   },
   "outputs": [
    {
     "data": {
      "text/plain": [
       "'f1.txt'"
      ]
     },
     "execution_count": 68,
     "metadata": {},
     "output_type": "execute_result"
    }
   ],
   "source": [
    "# Filename\n",
    "os.path.basename(filename)"
   ]
  },
  {
   "cell_type": "code",
   "execution_count": 69,
   "metadata": {},
   "outputs": [
    {
     "data": {
      "text/plain": [
       "'/Users/rhf/git/IPythonNotebookTutorial/Data/Glob/f1.txt'"
      ]
     },
     "execution_count": 69,
     "metadata": {},
     "output_type": "execute_result"
    }
   ],
   "source": [
    "# Full path\n",
    "os.path.abspath(filename)"
   ]
  },
  {
   "cell_type": "code",
   "execution_count": 70,
   "metadata": {},
   "outputs": [
    {
     "data": {
      "text/plain": [
       "'Data/Glob'"
      ]
     },
     "execution_count": 70,
     "metadata": {},
     "output_type": "execute_result"
    }
   ],
   "source": [
    "# Directory where the file is\n",
    "os.path.dirname(filename)"
   ]
  },
  {
   "cell_type": "code",
   "execution_count": 71,
   "metadata": {},
   "outputs": [
    {
     "data": {
      "text/plain": [
       "'/Users/rhf/git/IPythonNotebookTutorial/Data/Glob'"
      ]
     },
     "execution_count": 71,
     "metadata": {},
     "output_type": "execute_result"
    }
   ],
   "source": [
    "# Absolute directory where the file is\n",
    "os.path.dirname(\n",
    "    os.path.abspath(filename)\n",
    ")"
   ]
  },
  {
   "cell_type": "code",
   "execution_count": 72,
   "metadata": {},
   "outputs": [
    {
     "name": "stdout",
     "output_type": "stream",
     "text": [
      "f1.txt\n",
      "['f1', 'txt']\n",
      "txt\n"
     ]
    }
   ],
   "source": [
    "# Extension\n",
    "filename_only = os.path.basename(filename)\n",
    "print(filename_only)\n",
    "print(filename_only.split(\".\"))\n",
    "print(filename_only.split(\".\")[-1])\n"
   ]
  },
  {
   "cell_type": "markdown",
   "metadata": {},
   "source": [
    "# Numpy Arrays"
   ]
  },
  {
   "cell_type": "code",
   "execution_count": 73,
   "metadata": {},
   "outputs": [
    {
     "name": "stdout",
     "output_type": "stream",
     "text": [
      "# X , Y , E , DX\r\n",
      "1\r\n",
      "0.00232478,8.22832,0.677097,0.0020133\r\n",
      "0.00458718,5.8915,0.193922,0.00192328\r\n",
      "0.00684958,12.573,0.413909,0.00189569\r\n",
      "0.00911198,37.3161,0.768022,0.00199785\r\n",
      "0.0113744,156.672,2.59008,0.00205609\r\n",
      "0.0136368,567.555,11.7842,0.00217489\r\n",
      "0.0158992,1401.89,16.1017,0.00229348\r\n",
      "0.0181616,1334.2,13.4719,0.00239931\r\n"
     ]
    }
   ],
   "source": [
    "# Let's get back to our file\n",
    "!head Data/Glob/f1.txt"
   ]
  },
  {
   "cell_type": "markdown",
   "metadata": {},
   "source": [
    "**The file has:**\n",
    "- header: `x`, `y`, `Err(y)`, `Err(x)`\n",
    "        - This a 1D SANS I(Q) curve output by Mantid.\n",
    "- Two rows header\n"
   ]
  },
  {
   "cell_type": "markdown",
   "metadata": {},
   "source": [
    "### Reading `csv` files as `numpy` arrays"
   ]
  },
  {
   "cell_type": "code",
   "execution_count": 160,
   "metadata": {},
   "outputs": [
    {
     "data": {
      "text/plain": [
       "array([(0.00232478, 8.22832e+00, 6.77097e-01, 0.0020133 ),\n",
       "       (0.00458718, 5.89150e+00, 1.93922e-01, 0.00192328),\n",
       "       (0.00684958, 1.25730e+01, 4.13909e-01, 0.00189569),\n",
       "       (0.00911198, 3.73161e+01, 7.68022e-01, 0.00199785),\n",
       "       (0.0113744 , 1.56672e+02, 2.59008e+00, 0.00205609),\n",
       "       (0.0136368 , 5.67555e+02, 1.17842e+01, 0.00217489),\n",
       "       (0.0158992 , 1.40189e+03, 1.61017e+01, 0.00229348),\n",
       "       (0.0181616 , 1.33420e+03, 1.34719e+01, 0.00239931),\n",
       "       (0.020424  , 1.62173e+03, 2.00042e+01, 0.00247893),\n",
       "       (0.0226864 , 1.40312e+03, 1.01434e+01, 0.00256543),\n",
       "       (0.0249488 , 1.30591e+03, 1.03458e+01, 0.00260186),\n",
       "       (0.0272112 , 7.52002e+02, 6.22791e+00, 0.00263457),\n",
       "       (0.0294736 , 5.86367e+02, 3.34320e+00, 0.00269503),\n",
       "       (0.031736  , 4.63746e+02, 2.83678e+00, 0.00273969),\n",
       "       (0.0339984 , 2.82236e+02, 1.72425e+00, 0.0027873 ),\n",
       "       (0.0362608 , 2.52291e+02, 1.15568e+00, 0.00285656),\n",
       "       (0.0385232 , 1.94139e+02, 1.03233e+00, 0.00290755),\n",
       "       (0.0407856 , 1.32505e+02, 6.23850e-01, 0.00296543),\n",
       "       (0.043048  , 1.25275e+02, 5.16059e-01, 0.0030476 ),\n",
       "       (0.0453104 , 1.03933e+02, 5.11167e-01, 0.00310267),\n",
       "       (0.0475728 , 7.45236e+01, 2.99432e-01, 0.00317061),\n",
       "       (0.0498352 , 7.13951e+01, 2.37603e-01, 0.00325667),\n",
       "       (0.0520976 , 5.80103e+01, 2.38909e-01, 0.00332773),\n",
       "       (0.05436   , 4.54162e+01, 1.42499e-01, 0.00339323),\n",
       "       (0.0566224 , 4.26769e+01, 1.37849e-01, 0.00348751),\n",
       "       (0.0588848 , 3.39084e+01, 1.14000e-01, 0.00355319),\n",
       "       (0.0611472 , 3.04780e+01, 8.58282e-02, 0.00364613),\n",
       "       (0.0634096 , 2.78833e+01, 8.75005e-02, 0.00373615),\n",
       "       (0.065672  , 2.29170e+01, 6.68278e-02, 0.00381589),\n",
       "       (0.0679344 , 2.06575e+01, 5.15695e-02, 0.00390849),\n",
       "       (0.0701968 , 1.89313e+01, 5.42510e-02, 0.00399867),\n",
       "       (0.0724592 , 1.59109e+01, 4.22886e-02, 0.00406174),\n",
       "       (0.0747216 , 1.45817e+01, 3.29170e-02, 0.00415516),\n",
       "       (0.076984  , 1.33736e+01, 3.52660e-02, 0.00423386),\n",
       "       (0.0792464 , 1.14957e+01, 2.76601e-02, 0.00430617),\n",
       "       (0.0815088 , 1.12811e+01, 2.36873e-02, 0.00443354),\n",
       "       (0.0837712 , 9.91017e+00, 2.43837e-02, 0.00445424),\n",
       "       (0.0860336 , 8.96414e+00, 1.80221e-02, 0.00459522),\n",
       "       (0.088296  , 8.29776e+00, 1.74276e-02, 0.00466863),\n",
       "       (0.0905584 , 7.84076e+00, 1.70118e-02, 0.00474494),\n",
       "       (0.0928208 , 7.19617e+00, 1.37185e-02, 0.00485222),\n",
       "       (0.0950832 , 6.71241e+00, 1.31788e-02, 0.00493926),\n",
       "       (0.0973456 , 6.32092e+00, 1.20530e-02, 0.00501939),\n",
       "       (0.099608  , 5.84345e+00, 1.04203e-02, 0.00512144),\n",
       "       (0.10187   , 5.58809e+00, 1.05965e-02, 0.00519627),\n",
       "       (0.104133  , 5.20974e+00, 1.01126e-02, 0.00532484),\n",
       "       (0.106395  , 4.70643e+00, 8.30563e-03, 0.00537297),\n",
       "       (0.108658  , 4.60372e+00, 8.73295e-03, 0.00548339),\n",
       "       (0.11092   , 4.33336e+00, 7.33537e-03, 0.00559051),\n",
       "       (0.113182  , 4.25171e+00, 6.74788e-03, 0.00569599),\n",
       "       (0.115445  , 3.75440e+00, 6.66471e-03, 0.00575616),\n",
       "       (0.117707  , 3.57895e+00, 5.60087e-03, 0.00587507),\n",
       "       (0.11997   , 3.59152e+00, 5.24790e-03, 0.00599054),\n",
       "       (0.122232  , 3.43869e+00, 6.13958e-03, 0.00606209),\n",
       "       (0.124494  , 3.30020e+00, 5.02378e-03, 0.00616088),\n",
       "       (0.126757  , 3.15643e+00, 5.34797e-03, 0.00625433),\n",
       "       (0.129019  , 3.06221e+00, 4.91215e-03, 0.00635325),\n",
       "       (0.131282  , 2.95474e+00, 4.41837e-03, 0.00647504),\n",
       "       (0.133544  , 2.75973e+00, 4.36462e-03, 0.00656997),\n",
       "       (0.135806  , 2.75132e+00, 4.13429e-03, 0.00670515),\n",
       "       (0.138069  , 2.59006e+00, 3.84002e-03, 0.00681656),\n",
       "       (0.140331  , 2.70392e+00, 4.15889e-03, 0.00695484),\n",
       "       (0.142594  , 2.40971e+00, 3.67286e-03, 0.00704784),\n",
       "       (0.144856  , 2.41678e+00, 3.35878e-03, 0.00722162),\n",
       "       (0.147118  , 2.41169e+00, 3.61040e-03, 0.00733503),\n",
       "       (0.149381  , 2.31052e+00, 3.21215e-03, 0.00746144),\n",
       "       (0.151643  , 2.30365e+00, 2.88732e-03, 0.00762406),\n",
       "       (0.153906  , 2.28111e+00, 3.14603e-03, 0.00773543),\n",
       "       (0.156168  , 2.16173e+00, 2.64020e-03, 0.00793215),\n",
       "       (0.15843   , 2.24121e+00, 2.79995e-03, 0.00809307),\n",
       "       (0.160693  , 2.00375e+00, 2.61229e-03, 0.0082353 ),\n",
       "       (0.162955  , 2.04535e+00, 2.29611e-03, 0.00838376),\n",
       "       (0.165218  , 1.97023e+00, 2.42616e-03, 0.00857472),\n",
       "       (0.16748   , 1.92842e+00, 2.28993e-03, 0.00868331),\n",
       "       (0.169742  , 2.00759e+00, 2.19525e-03, 0.00892482),\n",
       "       (0.172005  , 1.90848e+00, 2.35142e-03, 0.00904882),\n",
       "       (0.174267  , 1.93957e+00, 2.17204e-03, 0.00924326),\n",
       "       (0.17653   , 1.84568e+00, 1.91813e-03, 0.00943445),\n",
       "       (0.178792  , 1.84602e+00, 2.14060e-03, 0.00956254),\n",
       "       (0.181054  , 1.76200e+00, 1.90354e-03, 0.00980488),\n",
       "       (0.183317  , 1.75111e+00, 1.74428e-03, 0.00995011),\n",
       "       (0.185579  , 1.87683e+00, 2.09675e-03, 0.0101434 ),\n",
       "       (0.187842  , 1.73987e+00, 1.77651e-03, 0.0103764 ),\n",
       "       (0.190104  , 1.80290e+00, 1.75987e-03, 0.0105471 ),\n",
       "       (0.192366  , 1.67046e+00, 1.73862e-03, 0.0107355 ),\n",
       "       (0.194629  , 1.69074e+00, 1.61779e-03, 0.0109622 ),\n",
       "       (0.196891  , 1.66550e+00, 1.64625e-03, 0.0111471 ),\n",
       "       (0.199154  , 1.63165e+00, 1.59898e-03, 0.0113915 ),\n",
       "       (0.201416  , 1.58160e+00, 1.46371e-03, 0.0115784 ),\n",
       "       (0.203678  , 1.63511e+00, 1.60772e-03, 0.0117673 ),\n",
       "       (0.205941  , 1.63747e+00, 1.54188e-03, 0.012011  ),\n",
       "       (0.208203  , 1.55044e+00, 1.38552e-03, 0.0122274 ),\n",
       "       (0.210466  , 1.56580e+00, 1.50506e-03, 0.0124266 ),\n",
       "       (0.212728  , 1.45895e+00, 1.30108e-03, 0.0126529 ),\n",
       "       (0.21499   , 1.54536e+00, 1.32162e-03, 0.0129049 ),\n",
       "       (0.217253  , 1.51461e+00, 1.42400e-03, 0.0130589 ),\n",
       "       (0.219515  , 1.49411e+00, 1.28816e-03, 0.0133043 ),\n",
       "       (0.221778  , 1.50372e+00, 1.25136e-03, 0.0134998 ),\n",
       "       (0.22404   , 1.56236e+00, 1.42167e-03, 0.0137487 ),\n",
       "       (0.226302  , 1.44359e+00, 1.15841e-03, 0.0139386 ),\n",
       "       (0.228565  , 1.43892e+00, 1.20448e-03, 0.0141531 ),\n",
       "       (0.230827  , 1.46005e+00, 1.21956e-03, 0.0143515 ),\n",
       "       (0.23309   , 1.46053e+00, 1.17015e-03, 0.0146494 ),\n",
       "       (0.235352  , 1.45386e+00, 1.21480e-03, 0.0148436 ),\n",
       "       (0.237614  , 1.43670e+00, 1.16289e-03, 0.0150335 ),\n",
       "       (0.239877  , 1.46604e+00, 1.11884e-03, 0.0153295 ),\n",
       "       (0.242139  , 1.41836e+00, 1.15156e-03, 0.0154842 ),\n",
       "       (0.244402  , 1.43869e+00, 1.14041e-03, 0.0156994 ),\n",
       "       (0.246664  , 1.44536e+00, 1.07685e-03, 0.0160131 ),\n",
       "       (0.248926  , 1.52036e+00, 1.24142e-03, 0.0161667 ),\n",
       "       (0.251189  , 1.40447e+00, 1.04701e-03, 0.0164298 ),\n",
       "       (0.253451  , 1.45618e+00, 1.04613e-03, 0.0166609 ),\n",
       "       (0.255714  , 1.31826e+00, 1.06160e-03, 0.0167973 ),\n",
       "       (0.257976  , 1.35123e+00, 9.29192e-04, 0.0171077 ),\n",
       "       (0.260238  , 1.36036e+00, 1.01070e-03, 0.0172913 ),\n",
       "       (0.262501  , 1.33275e+00, 1.00183e-03, 0.0175239 ),\n",
       "       (0.264763  , 1.40282e+00, 9.87916e-04, 0.0178241 ),\n",
       "       (0.267026  , 1.33950e+00, 1.01891e-03, 0.0179383 ),\n",
       "       (0.269288  , 1.33759e+00, 9.71319e-04, 0.0182463 ),\n",
       "       (0.27155   , 1.37715e+00, 1.03639e-03, 0.0184218 ),\n",
       "       (0.273813  , 1.29646e+00, 1.01499e-03, 0.0186265 ),\n",
       "       (0.276075  , 1.35901e+00, 9.89784e-04, 0.0189069 ),\n",
       "       (0.278338  , 1.27646e+00, 9.79190e-04, 0.0190349 ),\n",
       "       (0.2806    , 1.29041e+00, 1.01598e-03, 0.0192846 ),\n",
       "       (0.282862  , 1.34233e+00, 9.72415e-04, 0.0195668 ),\n",
       "       (0.285125  , 1.30539e+00, 1.04033e-03, 0.0196904 ),\n",
       "       (0.287387  , 1.32256e+00, 1.10708e-03, 0.019925  ),\n",
       "       (0.28965   , 1.28919e+00, 1.00851e-03, 0.0201828 ),\n",
       "       (0.291912  , 1.29895e+00, 1.08788e-03, 0.0203732 ),\n",
       "       (0.294174  , 1.31408e+00, 1.11481e-03, 0.0206176 ),\n",
       "       (0.296437  , 1.30226e+00, 1.06193e-03, 0.0208095 ),\n",
       "       (0.298699  , 1.30589e+00, 1.17047e-03, 0.0209943 ),\n",
       "       (0.300962  , 1.29786e+00, 1.08535e-03, 0.0213227 ),\n",
       "       (0.303224  , 1.23239e+00, 1.09345e-03, 0.021438  ),\n",
       "       (0.305486  , 1.28156e+00, 1.27915e-03, 0.0215954 ),\n",
       "       (0.307749  , 1.32796e+00, 1.20706e-03, 0.021926  ),\n",
       "       (0.310011  , 1.30217e+00, 1.29243e-03, 0.0221265 ),\n",
       "       (0.312274  , 1.22154e+00, 1.31353e-03, 0.0222615 ),\n",
       "       (0.314536  , 1.23972e+00, 1.18866e-03, 0.0225737 ),\n",
       "       (0.316798  , 1.25601e+00, 1.34261e-03, 0.0227181 ),\n",
       "       (0.319061  , 1.30090e+00, 1.48065e-03, 0.0229153 ),\n",
       "       (0.321323  , 1.23908e+00, 1.47062e-03, 0.0231034 ),\n",
       "       (0.323586  , 1.28162e+00, 1.58856e-03, 0.023401  ),\n",
       "       (0.325848  , 1.24657e+00, 1.61703e-03, 0.0234885 ),\n",
       "       (0.32811   , 1.29387e+00, 1.80401e-03, 0.0237336 ),\n",
       "       (0.330373  , 1.25754e+00, 1.76106e-03, 0.0239429 ),\n",
       "       (0.332635  , 1.19356e+00, 1.73731e-03, 0.0241586 ),\n",
       "       (0.334898  , 1.26474e+00, 1.88188e-03, 0.0244496 ),\n",
       "       (0.33716   , 1.33097e+00, 2.12157e-03, 0.0245576 ),\n",
       "       (0.339422  , 1.29467e+00, 2.12446e-03, 0.0247861 ),\n",
       "       (0.341685  , 1.23477e+00, 2.14140e-03, 0.0250466 ),\n",
       "       (0.343947  , 1.28147e+00, 2.29357e-03, 0.0253031 ),\n",
       "       (0.34621   , 1.23232e+00, 2.23000e-03, 0.0254372 ),\n",
       "       (0.348472  , 1.25183e+00, 2.46401e-03, 0.0256826 ),\n",
       "       (0.350734  , 1.17120e+00, 2.33285e-03, 0.0258787 ),\n",
       "       (0.352997  , 1.27463e+00, 2.69883e-03, 0.0261788 ),\n",
       "       (0.355259  , 1.25092e+00, 2.78934e-03, 0.0263301 ),\n",
       "       (0.357522  , 1.17056e+00, 2.68148e-03, 0.0265042 ),\n",
       "       (0.359784  , 1.25435e+00, 3.12805e-03, 0.0268127 ),\n",
       "       (0.362046  , 1.18626e+00, 3.02630e-03, 0.0269865 ),\n",
       "       (0.364309  , 1.32139e+00, 3.42370e-03, 0.027279  ),\n",
       "       (0.366571  , 1.14499e+00, 3.21330e-03, 0.027425  ),\n",
       "       (0.368834  , 1.24132e+00, 3.94092e-03, 0.0277147 ),\n",
       "       (0.371096  , 1.34991e+00, 4.20847e-03, 0.027962  ),\n",
       "       (0.373358  , 1.21190e+00, 4.16068e-03, 0.0280234 ),\n",
       "       (0.375621  , 1.28882e+00, 4.61407e-03, 0.0283759 ),\n",
       "       (0.377883  , 1.17028e+00, 4.37559e-03, 0.0285256 ),\n",
       "       (0.380146  , 1.21848e+00, 5.11970e-03, 0.0286588 ),\n",
       "       (0.382408  , 1.16478e+00, 5.21820e-03, 0.0289052 ),\n",
       "       (0.38467   , 1.26369e+00, 6.23799e-03, 0.0290982 ),\n",
       "       (0.386933  , 1.16811e+00, 6.31712e-03, 0.0292588 ),\n",
       "       (0.389195  , 1.19013e+00, 6.64985e-03, 0.0295441 ),\n",
       "       (0.391458  , 1.27868e+00, 7.78585e-03, 0.029664  ),\n",
       "       (0.39372   , 1.14789e+00, 7.52957e-03, 0.0300074 ),\n",
       "       (0.395982  , 1.19087e+00, 8.64753e-03, 0.0302353 ),\n",
       "       (0.398245  , 1.23422e+00, 1.08036e-02, 0.0303397 ),\n",
       "       (0.400507  , 1.45145e+00, 1.23926e-02, 0.0307376 ),\n",
       "       (0.40277   , 1.29427e+00, 1.34012e-02, 0.030717  ),\n",
       "       (0.405032  , 1.23035e+00, 1.40164e-02, 0.0311565 ),\n",
       "       (0.407294  , 1.21974e+00, 1.39044e-02, 0.0313112 ),\n",
       "       (0.409557  , 1.00004e+00, 1.31590e-02, 0.0315002 ),\n",
       "       (0.411819  , 1.08915e+00, 1.69467e-02, 0.0316693 ),\n",
       "       (0.414082  , 1.22531e+00, 2.20794e-02, 0.0318296 ),\n",
       "       (0.416344  , 1.31332e+00, 2.49976e-02, 0.031991  ),\n",
       "       (0.418606  , 1.00532e+00, 2.29697e-02, 0.032178  ),\n",
       "       (0.420869  , 1.17157e+00, 3.34778e-02, 0.0323646 ),\n",
       "       (0.423131  , 1.54398e+00, 6.62195e-02, 0.0325359 ),\n",
       "       (0.425394  , 1.02969e+00, 5.04892e-02, 0.0326751 ),\n",
       "       (0.427656  , 8.58565e-01, 4.91425e-02, 0.0328817 ),\n",
       "       (0.429918  , 8.01629e-01, 9.18017e-02, 0.033036  ),\n",
       "       (0.432181  , 1.48946e+00, 1.70656e-01, 0.0332177 ),\n",
       "       (0.434443  , 6.87675e-01, 2.36449e-01, 0.0333237 ),\n",
       "       (0.436706  , 0.00000e+00, 0.00000e+00, 0.        ),\n",
       "       (0.438968  , 0.00000e+00, 0.00000e+00, 0.        ),\n",
       "       (0.44123   , 0.00000e+00, 0.00000e+00, 0.        ),\n",
       "       (0.443493  , 0.00000e+00, 0.00000e+00, 0.        ),\n",
       "       (0.445755  , 0.00000e+00, 0.00000e+00, 0.        ),\n",
       "       (0.448018  , 0.00000e+00, 0.00000e+00, 0.        ),\n",
       "       (0.45028   , 0.00000e+00, 0.00000e+00, 0.        ),\n",
       "       (0.452542  , 0.00000e+00, 0.00000e+00, 0.        )],\n",
       "      dtype=[('X', '<f8'), ('Y', '<f8'), ('E', '<f8'), ('DX', '<f8')])"
      ]
     },
     "execution_count": 160,
     "metadata": {},
     "output_type": "execute_result"
    }
   ],
   "source": [
    "# see https://docs.scipy.org/doc/numpy-1.14.0/reference/generated/numpy.genfromtxt.html\n",
    "import numpy as np\n",
    "data = np.genfromtxt(\n",
    "    filename,\n",
    "    delimiter=\",\",\n",
    "    skip_header=2,\n",
    "    names=['X', 'Y', 'E', 'DX'],\n",
    ")\n",
    "\n",
    "# Data is a structure array\n",
    "data"
   ]
  },
  {
   "cell_type": "code",
   "execution_count": 75,
   "metadata": {},
   "outputs": [
    {
     "data": {
      "text/plain": [
       "dtype([('X', '<f8'), ('Y', '<f8'), ('E', '<f8'), ('DX', '<f8')])"
      ]
     },
     "execution_count": 75,
     "metadata": {},
     "output_type": "execute_result"
    }
   ],
   "source": [
    "# Attribute indexing\n",
    "data.dtype"
   ]
  },
  {
   "cell_type": "code",
   "execution_count": 76,
   "metadata": {},
   "outputs": [
    {
     "data": {
      "text/plain": [
       "array([0.00232478, 0.00458718, 0.00684958, 0.00911198, 0.0113744 ,\n",
       "       0.0136368 , 0.0158992 , 0.0181616 , 0.020424  , 0.0226864 ,\n",
       "       0.0249488 , 0.0272112 , 0.0294736 , 0.031736  , 0.0339984 ,\n",
       "       0.0362608 , 0.0385232 , 0.0407856 , 0.043048  , 0.0453104 ,\n",
       "       0.0475728 , 0.0498352 , 0.0520976 , 0.05436   , 0.0566224 ,\n",
       "       0.0588848 , 0.0611472 , 0.0634096 , 0.065672  , 0.0679344 ,\n",
       "       0.0701968 , 0.0724592 , 0.0747216 , 0.076984  , 0.0792464 ,\n",
       "       0.0815088 , 0.0837712 , 0.0860336 , 0.088296  , 0.0905584 ,\n",
       "       0.0928208 , 0.0950832 , 0.0973456 , 0.099608  , 0.10187   ,\n",
       "       0.104133  , 0.106395  , 0.108658  , 0.11092   , 0.113182  ,\n",
       "       0.115445  , 0.117707  , 0.11997   , 0.122232  , 0.124494  ,\n",
       "       0.126757  , 0.129019  , 0.131282  , 0.133544  , 0.135806  ,\n",
       "       0.138069  , 0.140331  , 0.142594  , 0.144856  , 0.147118  ,\n",
       "       0.149381  , 0.151643  , 0.153906  , 0.156168  , 0.15843   ,\n",
       "       0.160693  , 0.162955  , 0.165218  , 0.16748   , 0.169742  ,\n",
       "       0.172005  , 0.174267  , 0.17653   , 0.178792  , 0.181054  ,\n",
       "       0.183317  , 0.185579  , 0.187842  , 0.190104  , 0.192366  ,\n",
       "       0.194629  , 0.196891  , 0.199154  , 0.201416  , 0.203678  ,\n",
       "       0.205941  , 0.208203  , 0.210466  , 0.212728  , 0.21499   ,\n",
       "       0.217253  , 0.219515  , 0.221778  , 0.22404   , 0.226302  ,\n",
       "       0.228565  , 0.230827  , 0.23309   , 0.235352  , 0.237614  ,\n",
       "       0.239877  , 0.242139  , 0.244402  , 0.246664  , 0.248926  ,\n",
       "       0.251189  , 0.253451  , 0.255714  , 0.257976  , 0.260238  ,\n",
       "       0.262501  , 0.264763  , 0.267026  , 0.269288  , 0.27155   ,\n",
       "       0.273813  , 0.276075  , 0.278338  , 0.2806    , 0.282862  ,\n",
       "       0.285125  , 0.287387  , 0.28965   , 0.291912  , 0.294174  ,\n",
       "       0.296437  , 0.298699  , 0.300962  , 0.303224  , 0.305486  ,\n",
       "       0.307749  , 0.310011  , 0.312274  , 0.314536  , 0.316798  ,\n",
       "       0.319061  , 0.321323  , 0.323586  , 0.325848  , 0.32811   ,\n",
       "       0.330373  , 0.332635  , 0.334898  , 0.33716   , 0.339422  ,\n",
       "       0.341685  , 0.343947  , 0.34621   , 0.348472  , 0.350734  ,\n",
       "       0.352997  , 0.355259  , 0.357522  , 0.359784  , 0.362046  ,\n",
       "       0.364309  , 0.366571  , 0.368834  , 0.371096  , 0.373358  ,\n",
       "       0.375621  , 0.377883  , 0.380146  , 0.382408  , 0.38467   ,\n",
       "       0.386933  , 0.389195  , 0.391458  , 0.39372   , 0.395982  ,\n",
       "       0.398245  , 0.400507  , 0.40277   , 0.405032  , 0.407294  ,\n",
       "       0.409557  , 0.411819  , 0.414082  , 0.416344  , 0.418606  ,\n",
       "       0.420869  , 0.423131  , 0.425394  , 0.427656  , 0.429918  ,\n",
       "       0.432181  , 0.434443  , 0.436706  , 0.438968  , 0.44123   ,\n",
       "       0.443493  , 0.445755  , 0.448018  , 0.45028   , 0.452542  ])"
      ]
     },
     "execution_count": 76,
     "metadata": {},
     "output_type": "execute_result"
    }
   ],
   "source": [
    "# X is a column in the file\n",
    "data['X']"
   ]
  },
  {
   "cell_type": "code",
   "execution_count": 77,
   "metadata": {},
   "outputs": [
    {
     "data": {
      "text/plain": [
       "dtype('float64')"
      ]
     },
     "execution_count": 77,
     "metadata": {},
     "output_type": "execute_result"
    }
   ],
   "source": [
    "arr = data['X']\n",
    "arr.dtype"
   ]
  },
  {
   "cell_type": "code",
   "execution_count": 78,
   "metadata": {},
   "outputs": [
    {
     "data": {
      "text/plain": [
       "(200,)"
      ]
     },
     "execution_count": 78,
     "metadata": {},
     "output_type": "execute_result"
    }
   ],
   "source": [
    "arr.shape"
   ]
  },
  {
   "cell_type": "markdown",
   "metadata": {},
   "source": [
    "## Array indexing"
   ]
  },
  {
   "cell_type": "code",
   "execution_count": 79,
   "metadata": {},
   "outputs": [
    {
     "data": {
      "text/plain": [
       "0.00232478"
      ]
     },
     "execution_count": 79,
     "metadata": {},
     "output_type": "execute_result"
    }
   ],
   "source": [
    "arr[0]"
   ]
  },
  {
   "cell_type": "code",
   "execution_count": 80,
   "metadata": {},
   "outputs": [
    {
     "data": {
      "text/plain": [
       "0.452542"
      ]
     },
     "execution_count": 80,
     "metadata": {},
     "output_type": "execute_result"
    }
   ],
   "source": [
    "arr[-1]"
   ]
  },
  {
   "cell_type": "code",
   "execution_count": 81,
   "metadata": {},
   "outputs": [
    {
     "data": {
      "text/plain": [
       "array([0.0475728, 0.0498352, 0.0520976, 0.05436  , 0.0566224])"
      ]
     },
     "execution_count": 81,
     "metadata": {},
     "output_type": "execute_result"
    }
   ],
   "source": [
    "arr[20:25]"
   ]
  },
  {
   "cell_type": "markdown",
   "metadata": {},
   "source": [
    "## Array Methods"
   ]
  },
  {
   "cell_type": "code",
   "execution_count": 82,
   "metadata": {},
   "outputs": [
    {
     "data": {
      "text/plain": [
       "['T',\n",
       " '__abs__',\n",
       " '__add__',\n",
       " '__and__',\n",
       " '__array__',\n",
       " '__array_finalize__',\n",
       " '__array_interface__',\n",
       " '__array_prepare__',\n",
       " '__array_priority__',\n",
       " '__array_struct__',\n",
       " '__array_ufunc__',\n",
       " '__array_wrap__',\n",
       " '__bool__',\n",
       " '__class__',\n",
       " '__complex__',\n",
       " '__contains__',\n",
       " '__copy__',\n",
       " '__deepcopy__',\n",
       " '__delattr__',\n",
       " '__delitem__',\n",
       " '__dir__',\n",
       " '__divmod__',\n",
       " '__doc__',\n",
       " '__eq__',\n",
       " '__float__',\n",
       " '__floordiv__',\n",
       " '__format__',\n",
       " '__ge__',\n",
       " '__getattribute__',\n",
       " '__getitem__',\n",
       " '__gt__',\n",
       " '__hash__',\n",
       " '__iadd__',\n",
       " '__iand__',\n",
       " '__ifloordiv__',\n",
       " '__ilshift__',\n",
       " '__imatmul__',\n",
       " '__imod__',\n",
       " '__imul__',\n",
       " '__index__',\n",
       " '__init__',\n",
       " '__init_subclass__',\n",
       " '__int__',\n",
       " '__invert__',\n",
       " '__ior__',\n",
       " '__ipow__',\n",
       " '__irshift__',\n",
       " '__isub__',\n",
       " '__iter__',\n",
       " '__itruediv__',\n",
       " '__ixor__',\n",
       " '__le__',\n",
       " '__len__',\n",
       " '__lshift__',\n",
       " '__lt__',\n",
       " '__matmul__',\n",
       " '__mod__',\n",
       " '__mul__',\n",
       " '__ne__',\n",
       " '__neg__',\n",
       " '__new__',\n",
       " '__or__',\n",
       " '__pos__',\n",
       " '__pow__',\n",
       " '__radd__',\n",
       " '__rand__',\n",
       " '__rdivmod__',\n",
       " '__reduce__',\n",
       " '__reduce_ex__',\n",
       " '__repr__',\n",
       " '__rfloordiv__',\n",
       " '__rlshift__',\n",
       " '__rmatmul__',\n",
       " '__rmod__',\n",
       " '__rmul__',\n",
       " '__ror__',\n",
       " '__rpow__',\n",
       " '__rrshift__',\n",
       " '__rshift__',\n",
       " '__rsub__',\n",
       " '__rtruediv__',\n",
       " '__rxor__',\n",
       " '__setattr__',\n",
       " '__setitem__',\n",
       " '__setstate__',\n",
       " '__sizeof__',\n",
       " '__str__',\n",
       " '__sub__',\n",
       " '__subclasshook__',\n",
       " '__truediv__',\n",
       " '__xor__',\n",
       " 'all',\n",
       " 'any',\n",
       " 'argmax',\n",
       " 'argmin',\n",
       " 'argpartition',\n",
       " 'argsort',\n",
       " 'astype',\n",
       " 'base',\n",
       " 'byteswap',\n",
       " 'choose',\n",
       " 'clip',\n",
       " 'compress',\n",
       " 'conj',\n",
       " 'conjugate',\n",
       " 'copy',\n",
       " 'ctypes',\n",
       " 'cumprod',\n",
       " 'cumsum',\n",
       " 'data',\n",
       " 'diagonal',\n",
       " 'dot',\n",
       " 'dtype',\n",
       " 'dump',\n",
       " 'dumps',\n",
       " 'fill',\n",
       " 'flags',\n",
       " 'flat',\n",
       " 'flatten',\n",
       " 'getfield',\n",
       " 'imag',\n",
       " 'item',\n",
       " 'itemset',\n",
       " 'itemsize',\n",
       " 'max',\n",
       " 'mean',\n",
       " 'min',\n",
       " 'nbytes',\n",
       " 'ndim',\n",
       " 'newbyteorder',\n",
       " 'nonzero',\n",
       " 'partition',\n",
       " 'prod',\n",
       " 'ptp',\n",
       " 'put',\n",
       " 'ravel',\n",
       " 'real',\n",
       " 'repeat',\n",
       " 'reshape',\n",
       " 'resize',\n",
       " 'round',\n",
       " 'searchsorted',\n",
       " 'setfield',\n",
       " 'setflags',\n",
       " 'shape',\n",
       " 'size',\n",
       " 'sort',\n",
       " 'squeeze',\n",
       " 'std',\n",
       " 'strides',\n",
       " 'sum',\n",
       " 'swapaxes',\n",
       " 'take',\n",
       " 'tobytes',\n",
       " 'tofile',\n",
       " 'tolist',\n",
       " 'tostring',\n",
       " 'trace',\n",
       " 'transpose',\n",
       " 'var',\n",
       " 'view']"
      ]
     },
     "execution_count": 82,
     "metadata": {},
     "output_type": "execute_result"
    }
   ],
   "source": [
    "dir(arr)"
   ]
  },
  {
   "cell_type": "markdown",
   "metadata": {},
   "source": [
    "### Exercise: get some basic statistics"
   ]
  },
  {
   "cell_type": "code",
   "execution_count": 83,
   "metadata": {},
   "outputs": [
    {
     "name": "stdout",
     "output_type": "stream",
     "text": [
      "Max = 0.45, Min = 0.0023, Average = 0.23, Std Dev = 0.13\n"
     ]
    }
   ],
   "source": [
    "print(\"Max = {:.2}, Min = {:.2}, Average = {:.2}, Std Dev = {:.2}\".format(\n",
    "    arr.max(),\n",
    "    arr.min(),\n",
    "    arr.mean(),\n",
    "    arr.std(),\n",
    "))"
   ]
  },
  {
   "cell_type": "code",
   "execution_count": 84,
   "metadata": {},
   "outputs": [
    {
     "name": "stdout",
     "output_type": "stream",
     "text": [
      "Max = 1.0, Min = 0.0, Average = 0.5, Std Dev = 0.29\n"
     ]
    }
   ],
   "source": [
    "# Normalisation to 1\n",
    "arr_norm = (arr-arr.min())/(arr.max()-arr.min())\n",
    "\n",
    "print(\"Max = {:.2}, Min = {:.2}, Average = {:.2}, Std Dev = {:.2}\".format(\n",
    "    arr_norm.max(),\n",
    "    arr_norm.min(),\n",
    "    arr_norm.mean(),\n",
    "    arr_norm.std(),\n",
    "))"
   ]
  },
  {
   "cell_type": "markdown",
   "metadata": {},
   "source": [
    "# Ploting"
   ]
  },
  {
   "cell_type": "code",
   "execution_count": 85,
   "metadata": {},
   "outputs": [],
   "source": [
    "# Choose your backend (the way the plots are rendered in a notebook)\n",
    "\n",
    "%matplotlib inline\n",
    "#%matplotlib notebook\n",
    "\n",
    "# matplotlib.pyplot is a collection of command style functions that make matplotlib work like MATLAB\n",
    "import matplotlib.pyplot as plt\n",
    "\n",
    "# Choose the default figure size\n",
    "plt.rcParams[\"figure.figsize\"] = (12,8)"
   ]
  },
  {
   "cell_type": "code",
   "execution_count": 86,
   "metadata": {},
   "outputs": [
    {
     "data": {
      "text/plain": [
       "[<matplotlib.lines.Line2D at 0x117575e48>]"
      ]
     },
     "execution_count": 86,
     "metadata": {},
     "output_type": "execute_result"
    },
    {
     "data": {
      "image/png": "[encoded data removed]",
      "text/plain": [
       "<matplotlib.figure.Figure at 0x1172544e0>"
      ]
     },
     "metadata": {},
     "output_type": "display_data"
    }
   ],
   "source": [
    "# Simple case\n",
    "plt.plot(data['X'], data['Y'])"
   ]
  },
  {
   "cell_type": "code",
   "execution_count": 175,
   "metadata": {},
   "outputs": [
    {
     "data": {
      "text/plain": [
       "[<matplotlib.lines.Line2D at 0x1194f5630>]"
      ]
     },
     "execution_count": 175,
     "metadata": {},
     "output_type": "execute_result"
    },
    {
     "data": {
      "image/png": "[encoded data removed]",
      "text/plain": [
       "<matplotlib.figure.Figure at 0x1194f5e48>"
      ]
     },
     "metadata": {},
     "output_type": "display_data"
    }
   ],
   "source": [
    "# Let's label some stuff\n",
    "# Simple Labels. Part 3 introduces axes manipulation\n",
    "plt.title(\"$y = f(x)$\")\n",
    "plt.xlabel(\"Axis X\")\n",
    "plt.ylabel(\"Axis y\")\n",
    "plt.plot(data['X'], data['Y'])\n"
   ]
  },
  {
   "cell_type": "code",
   "execution_count": 87,
   "metadata": {},
   "outputs": [
    {
     "data": {
      "text/plain": [
       "[<matplotlib.lines.Line2D at 0x116a282b0>]"
      ]
     },
     "execution_count": 87,
     "metadata": {},
     "output_type": "execute_result"
    },
    {
     "data": {
      "image/png": "[encoded data removed]",
      "text/plain": [
       "<matplotlib.figure.Figure at 0x117597198>"
      ]
     },
     "metadata": {},
     "output_type": "display_data"
    }
   ],
   "source": [
    "# Different marker\n",
    "# See: https://matplotlib.org/api/markers_api.html\n",
    "plt.plot(data['X'], data['Y'], marker='o', linestyle='')"
   ]
  },
  {
   "cell_type": "code",
   "execution_count": 88,
   "metadata": {},
   "outputs": [
    {
     "data": {
      "text/plain": [
       "[<matplotlib.lines.Line2D at 0x117585470>]"
      ]
     },
     "execution_count": 88,
     "metadata": {},
     "output_type": "execute_result"
    },
    {
     "data": {
      "image/png": "[encoded data removed]",
      "text/plain": [
       "<matplotlib.figure.Figure at 0x116aa8f98>"
      ]
     },
     "metadata": {},
     "output_type": "display_data"
    }
   ],
   "source": [
    "# Log x\n",
    "plt.semilogx(data['X'], data['Y'])"
   ]
  },
  {
   "cell_type": "code",
   "execution_count": 89,
   "metadata": {},
   "outputs": [
    {
     "data": {
      "text/plain": [
       "[<matplotlib.lines.Line2D at 0x11779e0f0>]"
      ]
     },
     "execution_count": 89,
     "metadata": {},
     "output_type": "execute_result"
    },
    {
     "data": {
      "image/png": "[encoded data removed]",
      "text/plain": [
       "<matplotlib.figure.Figure at 0x117096b70>"
      ]
     },
     "metadata": {},
     "output_type": "display_data"
    }
   ],
   "source": [
    "# Log y\n",
    "plt.semilogy(data['X'], data['Y'])"
   ]
  },
  {
   "cell_type": "code",
   "execution_count": 90,
   "metadata": {},
   "outputs": [
    {
     "data": {
      "text/plain": [
       "[<matplotlib.lines.Line2D at 0x11778aa90>]"
      ]
     },
     "execution_count": 90,
     "metadata": {},
     "output_type": "execute_result"
    },
    {
     "data": {
      "image/png": "[encoded data removed]",
      "text/plain": [
       "<matplotlib.figure.Figure at 0x11779e780>"
      ]
     },
     "metadata": {},
     "output_type": "display_data"
    }
   ],
   "source": [
    "# Log X and Log Y\n",
    "plt.loglog(data['X'], data['Y'])"
   ]
  },
  {
   "cell_type": "code",
   "execution_count": 91,
   "metadata": {},
   "outputs": [
    {
     "data": {
      "text/plain": [
       "<Container object of 3 artists>"
      ]
     },
     "execution_count": 91,
     "metadata": {},
     "output_type": "execute_result"
    },
    {
     "data": {
      "image/png": "[encoded data removed]",
      "text/plain": [
       "<matplotlib.figure.Figure at 0x117ee9470>"
      ]
     },
     "metadata": {},
     "output_type": "display_data"
    }
   ],
   "source": [
    "## Error bars linear\n",
    "plt.errorbar(data['X'], data['Y'], xerr=data['DX'], yerr=data['E'])"
   ]
  },
  {
   "cell_type": "code",
   "execution_count": 92,
   "metadata": {},
   "outputs": [
    {
     "data": {
      "image/png": "[encoded data removed]",
      "text/plain": [
       "<matplotlib.figure.Figure at 0x117f21c50>"
      ]
     },
     "metadata": {},
     "output_type": "display_data"
    }
   ],
   "source": [
    "## Error bars Lox Log y\n",
    "plt.errorbar(data['X'], data['Y'], xerr=data['DX'], yerr=data['E'])\n",
    "\n",
    "ax = plt.gca()\n",
    "ax.set_xscale(\"log\", nonposx='clip')\n",
    "ax.set_yscale(\"log\", nonposy='clip')"
   ]
  },
  {
   "cell_type": "markdown",
   "metadata": {},
   "source": [
    "### Create a new `CSV` file"
   ]
  },
  {
   "cell_type": "code",
   "execution_count": 177,
   "metadata": {},
   "outputs": [
    {
     "data": {
      "text/plain": [
       "array([ 1.02352014,  1.04694018,  1.07089613,  1.09540023,  1.12046525,\n",
       "        1.14610358,  1.17232857,  1.19915363,  1.2265925 ,  1.25465922,\n",
       "        1.28336816,  1.31273402,  1.34277182,  1.37349694,  1.40492511,\n",
       "        1.43707242,  1.46995531,  1.50359063,  1.53799558,  1.57318779,\n",
       "        1.60918526,  1.64600642,  1.68367011,  1.72219562,  1.76160267,\n",
       "        1.80191142,  1.84314251,  1.88531704,  1.92845661,  1.97258329,\n",
       "        2.01771968,  2.06388886,  2.11111449,  2.15942072,  2.20883229,\n",
       "        2.25937449,  2.31107319,  2.36395485,  2.41804654,  2.47337595,\n",
       "        2.5299714 ,  2.58786186,  2.64707697,  2.70764702,  2.76959195,\n",
       "        2.83298238,  2.8977947 ,  2.96411943,  3.03193188,  3.10129573,\n",
       "        3.17227818,  3.24485284,  3.31912104,  3.39505513,  3.47272643,\n",
       "        3.5522102 ,  3.63347685,  3.71663987,  3.80166831,  3.88864201,\n",
       "        3.97764526,  4.06864492,  4.16176807,  4.25698005,  4.35437027,\n",
       "        4.4540331 ,  4.55593145,  4.66020762,  4.76682278,  4.87587707,\n",
       "        4.98747615,  5.10157849,  5.21834343,  5.3377275 ,  5.45984281,\n",
       "        5.5848077 ,  5.71257566,  5.84332509,  5.97700735,  6.11374796,\n",
       "        6.25367943,  6.39674969,  6.5431585 ,  6.69285139,  6.84596892,\n",
       "        7.00265946,  7.16286471,  7.32680836,  7.49442942,  7.66588526,\n",
       "        7.84134205,  8.02073449,  8.20431307,  8.39200947,  8.58399995,\n",
       "        8.78047055,  8.98134816,  9.18691326,  9.39708937,  9.61207384,\n",
       "        9.832075  , 10.05701097, 10.28719584, 10.52254397, 10.76327633,\n",
       "       11.00962621, 11.26150193, 11.5192552 , 11.78279009, 12.05235408,\n",
       "       12.32820837, 12.61025031, 12.89887373, 13.19397123, 13.49581989,\n",
       "       13.80471223, 14.12053329, 14.44372407, 14.7741643 , 15.11216427,\n",
       "       15.4580515 , 15.81169728, 16.17359542, 16.54361125, 16.92209222,\n",
       "       17.30940508, 17.7054057 , 18.11064705, 18.5249783 , 18.94878854,\n",
       "       19.38248843, 19.82591658, 20.27969218, 20.74364635, 21.21821477,\n",
       "       21.70385729, 22.20039319, 22.70851581, 23.22803606, 23.75944178,\n",
       "       24.3032479 , 24.85925207, 25.42823066, 26.00997192, 26.60502213,\n",
       "       27.21395791, 27.83655263, 28.47367568, 29.12508994, 29.79140711,\n",
       "       30.47327287, 31.17043346, 31.88386237, 32.61329411, 33.35941362,\n",
       "       34.12294391, 34.90360085, 35.7024745 , 36.51926757, 37.35474705,\n",
       "       38.20972254, 39.08387587, 39.97842765, 40.89304501, 41.82858678,\n",
       "       42.78595951, 43.76480694, 44.76649589, 45.79065358, 46.83824172,\n",
       "       47.91027544, 49.0063558 , 50.12801332, 51.27483059, 52.44788448,\n",
       "       53.64831171, 54.87566556, 56.13165985, 57.41582717, 58.72937338,\n",
       "       60.07357134, 61.44792081, 62.85434088, 64.29230817, 65.76317295,\n",
       "       67.26836051, 68.80731074, 70.38217253, 71.99235984, 73.63938464,\n",
       "       75.32484295, 77.04810754, 78.8115847 , 80.61461817, 82.45890104,\n",
       "       84.34622045, 86.27587406, 88.25055635, 90.26953246, 92.33469826])"
      ]
     },
     "execution_count": 177,
     "metadata": {},
     "output_type": "execute_result"
    }
   ],
   "source": [
    "# Imagine that you want to create a new plot using the same X coordinate\n",
    "y_new = np.exp(data['X']*10)\n",
    "y_new"
   ]
  },
  {
   "cell_type": "code",
   "execution_count": 178,
   "metadata": {},
   "outputs": [
    {
     "data": {
      "text/plain": [
       "[<matplotlib.lines.Line2D at 0x119517f98>]"
      ]
     },
     "execution_count": 178,
     "metadata": {},
     "output_type": "execute_result"
    },
    {
     "data": {
      "image/png": "[encoded data removed]",
      "text/plain": [
       "<matplotlib.figure.Figure at 0x1191f52e8>"
      ]
     },
     "metadata": {},
     "output_type": "display_data"
    }
   ],
   "source": [
    "plt.plot(data['X'], y_new)"
   ]
  },
  {
   "cell_type": "code",
   "execution_count": 179,
   "metadata": {},
   "outputs": [
    {
     "data": {
      "text/plain": [
       "True"
      ]
     },
     "execution_count": 179,
     "metadata": {},
     "output_type": "execute_result"
    }
   ],
   "source": [
    "# Note the size of the X and Y arrays\n",
    "data['X'].size == y_new.size"
   ]
  },
  {
   "cell_type": "code",
   "execution_count": 180,
   "metadata": {},
   "outputs": [
    {
     "data": {
      "text/plain": [
       "('X', 'Y', 'E', 'DX', 'new')"
      ]
     },
     "execution_count": 180,
     "metadata": {},
     "output_type": "execute_result"
    }
   ],
   "source": [
    "# Adding y_new to the file??\n",
    "from numpy.lib import recfunctions\n",
    "data_new = rfn.append_fields(data, 'new', y_new)\n",
    "data_new.dtype.names"
   ]
  },
  {
   "cell_type": "code",
   "execution_count": 181,
   "metadata": {},
   "outputs": [
    {
     "data": {
      "text/plain": [
       "'X , Y , E , DX , new'"
      ]
     },
     "execution_count": 181,
     "metadata": {},
     "output_type": "execute_result"
    }
   ],
   "source": [
    "'''\n",
    "Remember the original file header:\n",
    "\n",
    "# X , Y , E , DX\n",
    "1\n",
    "\n",
    "'''\n",
    "\n",
    "header = data_new.dtype.names\n",
    "header_str = \" , \".join(header)\n",
    "header_str"
   ]
  },
  {
   "cell_type": "code",
   "execution_count": 182,
   "metadata": {},
   "outputs": [
    {
     "name": "stdout",
     "output_type": "stream",
     "text": [
      "# X , Y , E , DX , new\n",
      "1\n"
     ]
    }
   ],
   "source": [
    "header_str = \"# \" + header_str + \"\\n1\"\n",
    "print(header_str)"
   ]
  },
  {
   "cell_type": "code",
   "execution_count": 183,
   "metadata": {},
   "outputs": [],
   "source": [
    "np.savetxt(\n",
    "    \"/tmp/foo.txt\",\n",
    "    data_new,\n",
    "    delimiter=\",\",\n",
    "    fmt='%.2f',\n",
    "    header=header_str,\n",
    "    comments='',\n",
    ")"
   ]
  },
  {
   "cell_type": "code",
   "execution_count": 184,
   "metadata": {},
   "outputs": [
    {
     "name": "stdout",
     "output_type": "stream",
     "text": [
      "# X , Y , E , DX , new\r\n",
      "1\r\n",
      "0.00,8.23,0.68,0.00,1.02\r\n",
      "0.00,5.89,0.19,0.00,1.05\r\n",
      "0.01,12.57,0.41,0.00,1.07\r\n",
      "0.01,37.32,0.77,0.00,1.10\r\n",
      "0.01,156.67,2.59,0.00,1.12\r\n",
      "0.01,567.55,11.78,0.00,1.15\r\n",
      "0.02,1401.89,16.10,0.00,1.17\r\n",
      "0.02,1334.20,13.47,0.00,1.20\r\n"
     ]
    }
   ],
   "source": [
    "!head /tmp/foo.txt"
   ]
  },
  {
   "cell_type": "markdown",
   "metadata": {},
   "source": [
    "# Advanced Plotting"
   ]
  },
  {
   "cell_type": "code",
   "execution_count": 194,
   "metadata": {},
   "outputs": [
    {
     "data": {
      "text/plain": [
       "Text(0,0.5,'new')"
      ]
     },
     "execution_count": 194,
     "metadata": {},
     "output_type": "execute_result"
    },
    {
     "data": {
      "image/png": "[encoded data removed]",
      "text/plain": [
       "<matplotlib.figure.Figure at 0x11a34b550>"
      ]
     },
     "metadata": {},
     "output_type": "display_data"
    }
   ],
   "source": [
    " # more flexibility\n",
    "fig, ax1 = plt.subplots()  #create figure and axes\n",
    "ax1.plot(data_new['X'], data_new['Y'], color='green')\n",
    "ax1.set_ylabel('Y', color='green')\n",
    "\n",
    "ax2 = ax1.twinx()\n",
    "ax2.plot(data_new['X'], data_new['new'], color='red')\n",
    "ax2.set_ylabel('new', color='red')"
   ]
  },
  {
   "cell_type": "code",
   "execution_count": null,
   "metadata": {},
   "outputs": [],
   "source": []
  }
 ],
 "metadata": {
  "kernelspec": {
   "display_name": "Python 3",
   "language": "python",
   "name": "python3"
  },
  "language_info": {
   "codemirror_mode": {
    "name": "ipython",
    "version": 3
   },
   "file_extension": ".py",
   "mimetype": "text/x-python",
   "name": "python",
   "nbconvert_exporter": "python",
   "pygments_lexer": "ipython3",
   "version": "3.6.4"
  }
 },
 "nbformat": 4,
 "nbformat_minor": 2
}
