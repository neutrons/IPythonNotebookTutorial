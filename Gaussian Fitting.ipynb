{
 "cells": [
  {
   "cell_type": "markdown",
   "metadata": {},
   "source": [
    "# Fitting a Triple axis scan with LMFIT"
   ]
  },
  {
   "cell_type": "markdown",
   "metadata": {},
   "source": [
    "The ! allows you to run a system command from the command line.  Let's use ls to see what is in the Data/Fitting directory."
   ]
  },
  {
   "cell_type": "code",
   "execution_count": 1,
   "metadata": {
    "collapsed": false
   },
   "outputs": [
    {
     "name": "stdout",
     "output_type": "stream",
     "text": [
      "HB1_exp0762_scan0072.dat\r\n"
     ]
    }
   ],
   "source": [
    "!ls Data/Fitting"
   ]
  },
  {
   "cell_type": "markdown",
   "metadata": {},
   "source": [
    "Let's use the system command cat to see what is in the file"
   ]
  },
  {
   "cell_type": "code",
   "execution_count": 2,
   "metadata": {
    "collapsed": false
   },
   "outputs": [
    {
     "name": "stdout",
     "output_type": "stream",
     "text": [
      "# scan = 72\r",
      "\r\n",
      "# date = 9/19/2017\r",
      "\r\n",
      "# time = 10:30:01 PM\r",
      "\r\n",
      "# proposal = 19284\r",
      "\r\n",
      "# experiment = Polarized neutron study on the UPt2Si2\r",
      "\r\n",
      "# experiment_number = 762\r",
      "\r\n",
      "# command = scan h 0 k 0.97 1.02 0.0025 l 0 e 0 preset countfile offon_mcu15\r",
      "\r\n",
      "# builtin_command = scan h 0 k 0.97 1.02 0.0025 l 0 e 0 preset countfile offon_mcu15\r",
      "\r\n",
      "# users = Garrett Granroth, Karel Prokes, Masaaki Matsuda, Jooseop Lee, Sachith Dissanayake\r",
      "\r\n",
      "# local_contact = Masaaki Matsuda\r",
      "\r\n",
      "# scan_title = (0,1,0) off/on 4.5 K\r",
      "\r\n",
      "# monochromator = Heusler\r",
      "\r\n",
      "# analyzer = Heusler\r",
      "\r\n",
      "# sense = +-+\r",
      "\r\n",
      "# collimation = 48-80-60-240\r",
      "\r\n",
      "# samplename = UPt2Si2\r",
      "\r\n",
      "# sampletype = crystal\r",
      "\r\n",
      "# samplemosaic = 30.000000\r",
      "\r\n",
      "# latticeconstants = 4.189588,4.189588,9.662000,90.000000,90.000000,90.000000\r",
      "\r\n",
      "# ubmatrix = 0.066991,0.228983,0.003071,-0.229093,0.066946,0.001089,0.000423,-0.007503,0.103447\r",
      "\r\n",
      "# mode = 0\r",
      "\r\n",
      "# plane_normal = 0.029673,0.010521,0.999490\r",
      "\r\n",
      "# ubconf = UB19Sep2017_100904PM.ini\r",
      "\r\n",
      "# preset_type = countfile\r",
      "\r\n",
      "# countfile = guide -16 parq\r",
      "\r\n",
      "# countfile = drive hguide off vguide off\r",
      "\r\n",
      "# countfile = count preset mcu 15\r",
      "\r\n",
      "# countfile = drive hguide on vguide on\r",
      "\r\n",
      "# countfile = count preset mcu 15\r",
      "\r\n",
      "# def_x = k\r",
      "\r\n",
      "# def_y = detector_1\r",
      "\r\n",
      "# col_headers = \r",
      "\r\n",
      "#   Pt.          h          k          l          e     time_1 detector_1  monitor_1      mcu_1     time_2 detector_2  monitor_2      mcu_2 focal_length         m1         m2       marc     mtrans     mfocus     fguide     hguide     vguide    tbguide     aguide     bguide     cguide         s1         s2        sgl        sgu        stl        stu   slita_bt   slita_lf   slita_rt   slita_tp         a1         a2          q         ei         ef    coldtip    tsample     temp_a\r",
      "\r\n",
      "      1    -0.0004     0.9701    -0.0000    -0.0069     15.018     40.000  22501.000     15.001     14.922    125.000  22501.000     15.001     7.9186   -43.1188    41.9676    -0.2550     0.0000   290.0035     3.0057     1.7788     1.0521     0.0035    -3.9734    -0.1441    18.1998   -32.8645   -33.1114    -1.7000     0.6045     6.0010     0.0000    15.0000    15.0000    15.0000    15.0000    20.9835    41.9564     1.4548    13.5001    13.5071     4.3153     5.2692     0.000\r",
      "\r\n",
      "      2    -0.0004     0.9727    -0.0000    -0.0069     14.842     54.000  22501.000     15.001     15.107    141.000  22501.000     15.001     7.9186   -43.1188    41.9676    -0.2550     0.0000   290.0035     3.0057     1.7788     1.0521     0.0035    -3.3216    -1.0590    19.1998   -32.9080   -33.2036    -1.7000     0.6045     6.0010     0.0000    15.0000    15.0000    15.0000    15.0000    20.9835    41.9564     1.4588    13.5001    13.5071     4.3020     5.1052     0.000\r",
      "\r\n",
      "      3    -0.0004     0.9751    -0.0000    -0.0069     14.951     46.000  22501.000     15.001     15.030    150.000  22501.000     15.001     7.9186   -43.1188    41.9676    -0.2550     0.0000   290.0035     3.0057     1.7788     1.0521     0.0035    -3.3216    -1.0590    19.2031   -32.9521   -33.2870    -1.7000     0.6045     6.0010     0.0000    15.0000    15.0000    15.0000    15.0000    20.9835    41.9564     1.4623    13.5001    13.5071     4.3024     4.9734     0.000\r",
      "\r\n",
      "      4    -0.0004     0.9777    -0.0000    -0.0069     14.908     59.000  22501.000     15.001     14.970    159.000  22501.000     15.001     7.9186   -43.1188    41.9676    -0.2550     0.0000   290.0035     3.0057     1.7788     1.0521     0.0035    -3.3147    -1.0590    19.2069   -32.9960   -33.3799    -1.7000     0.6045     6.0010     0.0000    15.0000    15.0000    15.0000    15.0000    20.9835    41.9564     1.4663    13.5001    13.5071     4.3024     5.2420     0.000\r",
      "\r\n",
      "      5    -0.0004     0.9800    -0.0000    -0.0069     14.855     65.000  22501.000     15.001     14.906    175.000  22501.000     15.001     7.9186   -43.1188    41.9676    -0.2550     0.0000   290.0035     3.0057     1.7788     1.0521     0.0035    -3.3151    -1.0723    19.2108   -33.0396   -33.4614    -1.7000     0.6045     6.0010     0.0000    15.0000    15.0000    15.0000    15.0000    20.9835    41.9564     1.4698    13.5001    13.5071     4.3089     4.8687     0.000\r",
      "\r\n",
      "      6    -0.0004     0.9827    -0.0000    -0.0069     14.911     84.000  22501.000     15.001     14.988    252.000  22501.000     15.001     7.9186   -43.1188    41.9676    -0.2550     0.0000   290.0035     3.0057     1.7791     1.0521     0.0035    -3.3082    -1.0720    19.2140   -33.0834   -33.5544    -1.7000     0.6045     6.0010     0.0000    15.0000    15.0000    15.0000    15.0000    20.9835    41.9564     1.4737    13.5001    13.5071     4.3132     4.7641     0.000\r",
      "\r\n",
      "      7    -0.0004     0.9851    -0.0000    -0.0069     14.957    113.000  22501.000     15.001     14.954    316.000  22501.000     15.001     7.9186   -43.1188    41.9676    -0.2550     0.0000   290.0035     3.0053     1.7788     1.0521     0.0035    -3.3085    -1.0720    19.2172   -33.1277   -33.6386    -1.7000     0.6045     6.0010     0.0000    15.0000    15.0000    15.0000    15.0000    20.9835    41.9564     1.4773    13.5001    13.5071     4.3015     4.5514     0.000\r",
      "\r\n",
      "      8    -0.0004     0.9876    -0.0000    -0.0069     15.003    141.000  22501.000     15.001     15.092    585.000  22501.000     15.001     7.9186   -43.1188    41.9676    -0.2550     0.0000   290.0035     3.0057     1.7788     1.0521     0.0035    -3.3017    -1.0847    19.2205   -33.1718   -33.7288    -1.7000     0.6045     6.0010     0.0000    15.0000    15.0000    15.0000    15.0000    20.9835    41.9564     1.4812    13.5001    13.5071     4.3061     4.4372     0.000\r",
      "\r\n",
      "      9    -0.0004     0.9901    -0.0000    -0.0069     14.999    200.000  22501.000     15.001     15.075    951.000  22501.000     15.001     7.9186   -43.1188    41.9676    -0.2550     0.0000   290.0035     3.0057     1.7788     1.0521     0.0035    -3.3017    -1.0843    19.2205   -33.2156   -33.8170    -1.7000     0.6045     6.0010     0.0000    15.0000    15.0000    15.0000    15.0000    20.9835    41.9564     1.4849    13.5001    13.5071     4.3151     4.6551     0.000\r",
      "\r\n",
      "     10    -0.0004     0.9926    -0.0000    -0.0069     14.998    250.000  22501.000     15.001     14.929   1539.000  22501.000     15.001     7.9186   -43.1188    41.9676    -0.2550     0.0000   290.0035     3.0057     1.7791     1.0521     0.0032    -3.2952    -1.0847    19.2205   -33.2594   -33.9032    -1.7000     0.6045     6.0010     0.0000    15.0000    15.0000    15.0000    15.0000    20.9835    41.9564     1.4886    13.5001    13.5071     4.3156     4.8553     0.000\r",
      "\r\n",
      "     11    -0.0004     0.9952    -0.0000    -0.0069     15.036    308.000  22501.000     15.001     14.958   2452.000  22501.000     15.001     7.9186   -43.1188    41.9676    -0.2550     0.0000   290.0035     3.0057     1.7788     1.0521     0.0035    -3.2952    -1.0970    19.2211   -33.3032   -33.9955    -1.7000     0.6045     6.0010     0.0000    15.0000    15.0000    15.0000    15.0000    20.9835    41.9564     1.4925    13.5001    13.5071     4.3028     4.7807     0.000\r",
      "\r\n",
      "     12    -0.0004     0.9976    -0.0000    -0.0069     14.955    353.000  22501.000     15.001     14.902   3038.000  22501.000     15.001     7.9186   -43.1188    41.9676    -0.2550     0.0000   290.0035     3.0057     1.7788     1.0521     0.0035    -3.2880    -1.0970    19.2205   -33.3477   -34.0788    -1.7000     0.6045     6.0010     0.0000    15.0000    15.0000    15.0000    15.0000    20.9835    41.9564     1.4961    13.5001    13.5071     4.3177     4.6955     0.000\r",
      "\r\n",
      "     13    -0.0004     1.0002    -0.0000    -0.0069     14.774    361.000  22501.000     15.001     14.873   3554.000  22501.000     15.001     7.9186   -43.1188    41.9676    -0.2550     0.0000   290.0035     3.0057     1.7788     1.0521     0.0035    -3.2883    -1.0970    19.2211   -33.3916   -34.1705    -1.7000     0.6045     6.0010     0.0000    15.0000    15.0000    15.0000    15.0000    20.9835    41.9564     1.5000    13.5001    13.5071     4.3203     4.6255     0.000\r",
      "\r\n",
      "     14    -0.0004     1.0026    -0.0000    -0.0069     15.044    334.000  22501.000     15.001     14.998   3611.000  22501.000     15.001     7.9186   -43.1188    41.9676    -0.2550     0.0000   290.0035     3.0057     1.7788     1.0521     0.0035    -3.2818    -1.1100    19.2211   -33.4356   -34.2555    -1.7000     0.6045     6.0010     0.0000    15.0000    15.0000    15.0000    15.0000    20.9835    41.9564     1.5036    13.5001    13.5071     4.3219     4.5359     0.000\r",
      "\r\n",
      "     15    -0.0004     1.0052    -0.0000    -0.0069     14.899    346.000  22501.000     15.001     15.149   3370.000  22501.000     15.001     7.9186   -43.1188    41.9676    -0.2550     0.0000   290.0035     3.0057     1.7791     1.0521     0.0035    -3.2815    -1.1100    19.2211   -33.4796   -34.3465    -1.7000     0.6045     6.0010     0.0000    15.0000    15.0000    15.0000    15.0000    20.9835    41.9564     1.5075    13.5001    13.5071     4.3087     4.6306     0.000\r",
      "\r\n",
      "     16    -0.0004     1.0076    -0.0000    -0.0069     14.873    318.000  22501.000     15.001     14.693   2576.000  22501.000     15.001     7.9186   -43.1188    41.9676    -0.2550     0.0000   290.0035     3.0057     1.7788     1.0521     0.0035    -3.2750    -1.1103    19.2205   -33.5234   -34.4323    -1.7000     0.6045     6.0010     0.0000    15.0000    15.0000    15.0000    15.0000    20.9835    41.9564     1.5111    13.5001    13.5071     4.3078     4.7448     0.000\r",
      "\r\n",
      "     17    -0.0004     1.0101    -0.0000    -0.0069     14.955    248.000  22501.000     15.001     14.909   1925.000  22501.000     15.001     7.9186   -43.1188    41.9676    -0.2550     0.0000   290.0035     3.0057     1.7791     1.0521     0.0035    -3.2746    -1.1227    19.2211   -33.5680   -34.5213    -1.7000     0.6045     6.0010     0.0000    15.0000    15.0000    15.0000    15.0000    20.9835    41.9564     1.5149    13.5001    13.5071     4.3109     4.6062     0.000\r",
      "\r\n",
      "     18    -0.0004     1.0127    -0.0000    -0.0069     15.021    193.000  22501.000     15.001     14.877   1235.000  22501.000     15.001     7.9186   -43.1188    41.9676    -0.2550     0.0000   290.0035     3.0057     1.7791     1.0521     0.0035    -3.2685    -1.1230    19.2211   -33.6119   -34.6105    -1.7000     0.6045     6.0010     0.0000    15.0000    15.0000    15.0000    15.0000    20.9835    41.9564     1.5187    13.5001    13.5071     4.3121     4.6649     0.000\r",
      "\r\n",
      "     19    -0.0004     1.0151    -0.0000    -0.0069     14.982    163.000  22501.000     15.001     14.980    684.000  22501.000     15.001     7.9186   -43.1188    41.9676    -0.2550     0.0000   290.0035     3.0053     1.7788     1.0521     0.0032    -3.2685    -1.1227    19.2211   -33.6560   -34.6957    -1.7000     0.6045     6.0010     0.0000    15.0000    15.0000    15.0000    15.0000    20.9835    41.9564     1.5223    13.5001    13.5071     4.3141     4.9726     0.000\r",
      "\r\n",
      "     20    -0.0004     1.0177    -0.0000    -0.0069     14.881     93.000  22501.000     15.001     14.902    386.000  22501.000     15.001     7.9186   -43.1188    41.9676    -0.2550     0.0000   290.0035     3.0057     1.7788     1.0521     0.0035    -3.2616    -1.1353    19.2211   -33.7000   -34.7876    -1.7000     0.6045     6.0010     0.0000    15.0000    15.0000    15.0000    15.0000    20.9835    41.9564     1.5263    13.5001    13.5071     4.3165     4.9570     0.000\r",
      "\r\n",
      "     21    -0.0004     1.0201    -0.0000    -0.0069     14.991     82.000  22501.000     15.001     14.964    201.000  22501.000     15.001     7.9186   -43.1188    41.9676    -0.2550     0.0000   290.0035     3.0057     1.7788     1.0521     0.0035    -3.2616    -1.1360    19.2656   -33.7437   -34.8715    -1.7000     0.6045     6.0010     0.0000    15.0000    15.0000    15.0000    15.0000    20.9835    41.9564     1.5298    13.5001    13.5071     4.3033     4.9927     0.000\r",
      "\r\n",
      "# Sum of Counts = 3851\r",
      "\r\n",
      "# Center of Mass = 0.999583+/-0.022780\r",
      "\r\n",
      "# Full Width Half-Maximum = 0.021844+/-0.008479\r",
      "\r\n",
      "# 10:42:28 PM  9/19/2017   scan completed.\r",
      "\r\n"
     ]
    }
   ],
   "source": [
    "!cat Data/Fitting/HB1_exp0762_scan0072.dat"
   ]
  },
  {
   "cell_type": "markdown",
   "metadata": {},
   "source": [
    "It is always good practice to import your libraries at the top of the file.  "
   ]
  },
  {
   "cell_type": "code",
   "execution_count": 3,
   "metadata": {
    "collapsed": false
   },
   "outputs": [],
   "source": [
    "%matplotlib inline  \n",
    "import matplotlib.pyplot as plt\n",
    "import numpy as np\n",
    "from lmfit import Model"
   ]
  },
  {
   "cell_type": "markdown",
   "metadata": {},
   "source": [
    "Now load the dats using the genfrom txt command.  Let's copy and paste the header names"
   ]
  },
  {
   "cell_type": "code",
   "execution_count": 4,
   "metadata": {
    "collapsed": false
   },
   "outputs": [
    {
     "data": {
      "text/plain": [
       "array([( 1., -0.0004, 0.9701, -0., -0.0069, 15.018,  40., 22501., 15.001, 14.922,  125., 22501., 15.001, 7.9186, -43.1188, 41.9676, -0.255, 0., 290.0035, 3.0057, 1.7788, 1.0521, 0.0035, -3.9734, -0.1441, 18.1998, -32.8645, -33.1114, -1.7, 0.6045, 6.001, 0., 15., 15., 15., 15., 20.9835, 41.9564, 1.4548, 13.5001, 13.5071, 4.3153, 5.2692, 0.),\n",
       "       ( 2., -0.0004, 0.9727, -0., -0.0069, 14.842,  54., 22501., 15.001, 15.107,  141., 22501., 15.001, 7.9186, -43.1188, 41.9676, -0.255, 0., 290.0035, 3.0057, 1.7788, 1.0521, 0.0035, -3.3216, -1.059 , 19.1998, -32.908 , -33.2036, -1.7, 0.6045, 6.001, 0., 15., 15., 15., 15., 20.9835, 41.9564, 1.4588, 13.5001, 13.5071, 4.302 , 5.1052, 0.),\n",
       "       ( 3., -0.0004, 0.9751, -0., -0.0069, 14.951,  46., 22501., 15.001, 15.03 ,  150., 22501., 15.001, 7.9186, -43.1188, 41.9676, -0.255, 0., 290.0035, 3.0057, 1.7788, 1.0521, 0.0035, -3.3216, -1.059 , 19.2031, -32.9521, -33.287 , -1.7, 0.6045, 6.001, 0., 15., 15., 15., 15., 20.9835, 41.9564, 1.4623, 13.5001, 13.5071, 4.3024, 4.9734, 0.),\n",
       "       ( 4., -0.0004, 0.9777, -0., -0.0069, 14.908,  59., 22501., 15.001, 14.97 ,  159., 22501., 15.001, 7.9186, -43.1188, 41.9676, -0.255, 0., 290.0035, 3.0057, 1.7788, 1.0521, 0.0035, -3.3147, -1.059 , 19.2069, -32.996 , -33.3799, -1.7, 0.6045, 6.001, 0., 15., 15., 15., 15., 20.9835, 41.9564, 1.4663, 13.5001, 13.5071, 4.3024, 5.242 , 0.),\n",
       "       ( 5., -0.0004, 0.98  , -0., -0.0069, 14.855,  65., 22501., 15.001, 14.906,  175., 22501., 15.001, 7.9186, -43.1188, 41.9676, -0.255, 0., 290.0035, 3.0057, 1.7788, 1.0521, 0.0035, -3.3151, -1.0723, 19.2108, -33.0396, -33.4614, -1.7, 0.6045, 6.001, 0., 15., 15., 15., 15., 20.9835, 41.9564, 1.4698, 13.5001, 13.5071, 4.3089, 4.8687, 0.),\n",
       "       ( 6., -0.0004, 0.9827, -0., -0.0069, 14.911,  84., 22501., 15.001, 14.988,  252., 22501., 15.001, 7.9186, -43.1188, 41.9676, -0.255, 0., 290.0035, 3.0057, 1.7791, 1.0521, 0.0035, -3.3082, -1.072 , 19.214 , -33.0834, -33.5544, -1.7, 0.6045, 6.001, 0., 15., 15., 15., 15., 20.9835, 41.9564, 1.4737, 13.5001, 13.5071, 4.3132, 4.7641, 0.),\n",
       "       ( 7., -0.0004, 0.9851, -0., -0.0069, 14.957, 113., 22501., 15.001, 14.954,  316., 22501., 15.001, 7.9186, -43.1188, 41.9676, -0.255, 0., 290.0035, 3.0053, 1.7788, 1.0521, 0.0035, -3.3085, -1.072 , 19.2172, -33.1277, -33.6386, -1.7, 0.6045, 6.001, 0., 15., 15., 15., 15., 20.9835, 41.9564, 1.4773, 13.5001, 13.5071, 4.3015, 4.5514, 0.),\n",
       "       ( 8., -0.0004, 0.9876, -0., -0.0069, 15.003, 141., 22501., 15.001, 15.092,  585., 22501., 15.001, 7.9186, -43.1188, 41.9676, -0.255, 0., 290.0035, 3.0057, 1.7788, 1.0521, 0.0035, -3.3017, -1.0847, 19.2205, -33.1718, -33.7288, -1.7, 0.6045, 6.001, 0., 15., 15., 15., 15., 20.9835, 41.9564, 1.4812, 13.5001, 13.5071, 4.3061, 4.4372, 0.),\n",
       "       ( 9., -0.0004, 0.9901, -0., -0.0069, 14.999, 200., 22501., 15.001, 15.075,  951., 22501., 15.001, 7.9186, -43.1188, 41.9676, -0.255, 0., 290.0035, 3.0057, 1.7788, 1.0521, 0.0035, -3.3017, -1.0843, 19.2205, -33.2156, -33.817 , -1.7, 0.6045, 6.001, 0., 15., 15., 15., 15., 20.9835, 41.9564, 1.4849, 13.5001, 13.5071, 4.3151, 4.6551, 0.),\n",
       "       (10., -0.0004, 0.9926, -0., -0.0069, 14.998, 250., 22501., 15.001, 14.929, 1539., 22501., 15.001, 7.9186, -43.1188, 41.9676, -0.255, 0., 290.0035, 3.0057, 1.7791, 1.0521, 0.0032, -3.2952, -1.0847, 19.2205, -33.2594, -33.9032, -1.7, 0.6045, 6.001, 0., 15., 15., 15., 15., 20.9835, 41.9564, 1.4886, 13.5001, 13.5071, 4.3156, 4.8553, 0.),\n",
       "       (11., -0.0004, 0.9952, -0., -0.0069, 15.036, 308., 22501., 15.001, 14.958, 2452., 22501., 15.001, 7.9186, -43.1188, 41.9676, -0.255, 0., 290.0035, 3.0057, 1.7788, 1.0521, 0.0035, -3.2952, -1.097 , 19.2211, -33.3032, -33.9955, -1.7, 0.6045, 6.001, 0., 15., 15., 15., 15., 20.9835, 41.9564, 1.4925, 13.5001, 13.5071, 4.3028, 4.7807, 0.),\n",
       "       (12., -0.0004, 0.9976, -0., -0.0069, 14.955, 353., 22501., 15.001, 14.902, 3038., 22501., 15.001, 7.9186, -43.1188, 41.9676, -0.255, 0., 290.0035, 3.0057, 1.7788, 1.0521, 0.0035, -3.288 , -1.097 , 19.2205, -33.3477, -34.0788, -1.7, 0.6045, 6.001, 0., 15., 15., 15., 15., 20.9835, 41.9564, 1.4961, 13.5001, 13.5071, 4.3177, 4.6955, 0.),\n",
       "       (13., -0.0004, 1.0002, -0., -0.0069, 14.774, 361., 22501., 15.001, 14.873, 3554., 22501., 15.001, 7.9186, -43.1188, 41.9676, -0.255, 0., 290.0035, 3.0057, 1.7788, 1.0521, 0.0035, -3.2883, -1.097 , 19.2211, -33.3916, -34.1705, -1.7, 0.6045, 6.001, 0., 15., 15., 15., 15., 20.9835, 41.9564, 1.5   , 13.5001, 13.5071, 4.3203, 4.6255, 0.),\n",
       "       (14., -0.0004, 1.0026, -0., -0.0069, 15.044, 334., 22501., 15.001, 14.998, 3611., 22501., 15.001, 7.9186, -43.1188, 41.9676, -0.255, 0., 290.0035, 3.0057, 1.7788, 1.0521, 0.0035, -3.2818, -1.11  , 19.2211, -33.4356, -34.2555, -1.7, 0.6045, 6.001, 0., 15., 15., 15., 15., 20.9835, 41.9564, 1.5036, 13.5001, 13.5071, 4.3219, 4.5359, 0.),\n",
       "       (15., -0.0004, 1.0052, -0., -0.0069, 14.899, 346., 22501., 15.001, 15.149, 3370., 22501., 15.001, 7.9186, -43.1188, 41.9676, -0.255, 0., 290.0035, 3.0057, 1.7791, 1.0521, 0.0035, -3.2815, -1.11  , 19.2211, -33.4796, -34.3465, -1.7, 0.6045, 6.001, 0., 15., 15., 15., 15., 20.9835, 41.9564, 1.5075, 13.5001, 13.5071, 4.3087, 4.6306, 0.),\n",
       "       (16., -0.0004, 1.0076, -0., -0.0069, 14.873, 318., 22501., 15.001, 14.693, 2576., 22501., 15.001, 7.9186, -43.1188, 41.9676, -0.255, 0., 290.0035, 3.0057, 1.7788, 1.0521, 0.0035, -3.275 , -1.1103, 19.2205, -33.5234, -34.4323, -1.7, 0.6045, 6.001, 0., 15., 15., 15., 15., 20.9835, 41.9564, 1.5111, 13.5001, 13.5071, 4.3078, 4.7448, 0.),\n",
       "       (17., -0.0004, 1.0101, -0., -0.0069, 14.955, 248., 22501., 15.001, 14.909, 1925., 22501., 15.001, 7.9186, -43.1188, 41.9676, -0.255, 0., 290.0035, 3.0057, 1.7791, 1.0521, 0.0035, -3.2746, -1.1227, 19.2211, -33.568 , -34.5213, -1.7, 0.6045, 6.001, 0., 15., 15., 15., 15., 20.9835, 41.9564, 1.5149, 13.5001, 13.5071, 4.3109, 4.6062, 0.),\n",
       "       (18., -0.0004, 1.0127, -0., -0.0069, 15.021, 193., 22501., 15.001, 14.877, 1235., 22501., 15.001, 7.9186, -43.1188, 41.9676, -0.255, 0., 290.0035, 3.0057, 1.7791, 1.0521, 0.0035, -3.2685, -1.123 , 19.2211, -33.6119, -34.6105, -1.7, 0.6045, 6.001, 0., 15., 15., 15., 15., 20.9835, 41.9564, 1.5187, 13.5001, 13.5071, 4.3121, 4.6649, 0.),\n",
       "       (19., -0.0004, 1.0151, -0., -0.0069, 14.982, 163., 22501., 15.001, 14.98 ,  684., 22501., 15.001, 7.9186, -43.1188, 41.9676, -0.255, 0., 290.0035, 3.0053, 1.7788, 1.0521, 0.0032, -3.2685, -1.1227, 19.2211, -33.656 , -34.6957, -1.7, 0.6045, 6.001, 0., 15., 15., 15., 15., 20.9835, 41.9564, 1.5223, 13.5001, 13.5071, 4.3141, 4.9726, 0.),\n",
       "       (20., -0.0004, 1.0177, -0., -0.0069, 14.881,  93., 22501., 15.001, 14.902,  386., 22501., 15.001, 7.9186, -43.1188, 41.9676, -0.255, 0., 290.0035, 3.0057, 1.7788, 1.0521, 0.0035, -3.2616, -1.1353, 19.2211, -33.7   , -34.7876, -1.7, 0.6045, 6.001, 0., 15., 15., 15., 15., 20.9835, 41.9564, 1.5263, 13.5001, 13.5071, 4.3165, 4.957 , 0.),\n",
       "       (21., -0.0004, 1.0201, -0., -0.0069, 14.991,  82., 22501., 15.001, 14.964,  201., 22501., 15.001, 7.9186, -43.1188, 41.9676, -0.255, 0., 290.0035, 3.0057, 1.7788, 1.0521, 0.0035, -3.2616, -1.136 , 19.2656, -33.7437, -34.8715, -1.7, 0.6045, 6.001, 0., 15., 15., 15., 15., 20.9835, 41.9564, 1.5298, 13.5001, 13.5071, 4.3033, 4.9927, 0.)],\n",
       "      dtype=[('Pt', '<f8'), ('h', '<f8'), ('k', '<f8'), ('l', '<f8'), ('e', '<f8'), ('time_1', '<f8'), ('detector_1', '<f8'), ('monitor_1', '<f8'), ('mcu_1', '<f8'), ('time_2', '<f8'), ('detector_2', '<f8'), ('monitor_2', '<f8'), ('mcu_2', '<f8'), ('focal_length', '<f8'), ('m1', '<f8'), ('m2', '<f8'), ('marc', '<f8'), ('mtrans', '<f8'), ('mfocus', '<f8'), ('fguide', '<f8'), ('hguide', '<f8'), ('vguide', '<f8'), ('tbguide', '<f8'), ('aguide', '<f8'), ('bguide', '<f8'), ('cguide', '<f8'), ('s1', '<f8'), ('s2', '<f8'), ('sgl', '<f8'), ('sgu', '<f8'), ('stl', '<f8'), ('stu', '<f8'), ('slita_bt', '<f8'), ('slita_lf', '<f8'), ('slita_rt', '<f8'), ('slita_tp', '<f8'), ('a1', '<f8'), ('a2', '<f8'), ('q', '<f8'), ('ei', '<f8'), ('ef', '<f8'), ('coldtip', '<f8'), ('tsample', '<f8'), ('temp_a', '<f8')])"
      ]
     },
     "execution_count": 4,
     "metadata": {},
     "output_type": "execute_result"
    }
   ],
   "source": [
    "# see https://docs.scipy.org/doc/numpy-1.14.0/reference/generated/numpy.genfromtxt.html\n",
    "\n",
    "headers = \"    Pt.          h          k          l          e     time_1 detector_1  monitor_1      mcu_1     time_2 detector_2  monitor_2      mcu_2 focal_length         m1         m2       marc     mtrans     mfocus     fguide     hguide     vguide    tbguide     aguide     bguide     cguide         s1         s2        sgl        sgu        stl        stu   slita_bt   slita_lf   slita_rt   slita_tp         a1         a2          q         ei         ef    coldtip    tsample     temp_a\"\n",
    "# Note that by default, any consecutive whitespaces act as delimiter. \n",
    "data = np.genfromtxt('Data/Fitting/HB1_exp0762_scan0072.dat', names=headers.split())\n",
    "data"
   ]
  },
  {
   "cell_type": "markdown",
   "metadata": {},
   "source": [
    "# Plotting\n",
    "\n",
    "Note in the metadata the default columns to plot\n",
    "\n",
    "```\n",
    "# def_x = k\n",
    "# def_y = detector_1\n",
    "```"
   ]
  },
  {
   "cell_type": "code",
   "execution_count": 5,
   "metadata": {
    "collapsed": true
   },
   "outputs": [],
   "source": [
    "\n",
    "plt.rcParams[\"figure.figsize\"] = (12,8)"
   ]
  },
  {
   "cell_type": "code",
   "execution_count": 6,
   "metadata": {
    "collapsed": false
   },
   "outputs": [
    {
     "data": {
      "text/plain": [
       "Text(0.5,0,'$k (rlu)$')"
      ]
     },
     "execution_count": 6,
     "metadata": {},
     "output_type": "execute_result"
    },
    {
     "data": {
      "image/png": "[encoded data removed]",
      "text/plain": [
       "<matplotlib.figure.Figure at 0x117306a90>"
      ]
     },
     "metadata": {},
     "output_type": "display_data"
    }
   ],
   "source": [
    "f,ax=plt.subplots()\n",
    "data_x = data['k']\n",
    "data_y = data['detector_1']\n",
    "data_err=np.sqrt(data_y)\n",
    "ax.errorbar(data_x, data_y,yerr=(data_err),fmt='bo')\n",
    "ax.set_ylabel('counts')\n",
    "ax.set_xlabel('$k (rlu)$')"
   ]
  },
  {
   "cell_type": "markdown",
   "metadata": {},
   "source": [
    "# Fitting\n"
   ]
  },
  {
   "cell_type": "markdown",
   "metadata": {},
   "source": [
    "For fitting we will use the LMFIT package.\n",
    "\n",
    "First we define a fuction.\n",
    "Note the Python Syntax is\n",
    "\n",
    "```def <function name> (<params>):\n",
    "    '''\n",
    "    <documentation string>\n",
    "    '''\n",
    "    <code>\n",
    "    return <value>```"
   ]
  },
  {
   "cell_type": "code",
   "execution_count": 7,
   "metadata": {
    "collapsed": true
   },
   "outputs": [],
   "source": [
    "def gaussian_slope(x, A, center, fwhm, m, b):\n",
    "    '''\n",
    "    Gaussian with fwhm and a a linear background\n",
    "    '''\n",
    "    g=A * np.exp(-4 * np.log(2) * (x - center)**2 / fwhm**2)\n",
    "    return g+m*x+b"
   ]
  },
  {
   "cell_type": "code",
   "execution_count": 8,
   "metadata": {
    "collapsed": false
   },
   "outputs": [
    {
     "data": {
      "text/plain": [
       "[<matplotlib.lines.Line2D at 0x117d08780>]"
      ]
     },
     "execution_count": 8,
     "metadata": {},
     "output_type": "execute_result"
    },
    {
     "data": {
      "image/png": "[encoded data removed]",
      "text/plain": [
       "<matplotlib.figure.Figure at 0x1173de9b0>"
      ]
     },
     "metadata": {},
     "output_type": "display_data"
    }
   ],
   "source": [
    "# Let's plot this function to see what it looks like\n",
    "x = np.arange(0, 100, 0.5) # From 0 to 100 with 0.5 step\n",
    "y = gaussian_slope(x, 60, 50, 20,0,0)\n",
    "plt.plot(x,y)"
   ]
  },
  {
   "cell_type": "markdown",
   "metadata": {},
   "source": [
    "## LMFit\n",
    "\n",
    "Non-Linear Least-Squares Minimization and Curve-Fitting\n",
    "\n",
    "Very powerful that has many options. \n",
    "\n",
    "We will do a simple gaussian fit.\n",
    "\n",
    "See: See: https://lmfit.github.io"
   ]
  },
  {
   "cell_type": "markdown",
   "metadata": {},
   "source": [
    "First we need to declare the Model.  By Declaring the Model LMFIT does some nice things for us.\n",
    "\n",
    "1) it assumes the first parameter is the independent variable\n",
    "\n",
    "2) it assumes the rest of the parameters are parameters and it takes care of keeping track of the parameter names"
   ]
  },
  {
   "cell_type": "code",
   "execution_count": 9,
   "metadata": {
    "collapsed": false
   },
   "outputs": [],
   "source": [
    "\n",
    "gmodel = Model(gaussian_slope)"
   ]
  },
  {
   "cell_type": "markdown",
   "metadata": {},
   "source": [
    "type gmodel. ```<tab>``` to see what methods are available on gmodel"
   ]
  },
  {
   "cell_type": "code",
   "execution_count": 10,
   "metadata": {
    "collapsed": false
   },
   "outputs": [
    {
     "ename": "SyntaxError",
     "evalue": "invalid syntax (<ipython-input-10-15075805e989>, line 1)",
     "output_type": "error",
     "traceback": [
      "\u001b[0;36m  File \u001b[0;32m\"<ipython-input-10-15075805e989>\"\u001b[0;36m, line \u001b[0;32m1\u001b[0m\n\u001b[0;31m    gmodel.\u001b[0m\n\u001b[0m           ^\u001b[0m\n\u001b[0;31mSyntaxError\u001b[0m\u001b[0;31m:\u001b[0m invalid syntax\n"
     ]
    }
   ],
   "source": [
    "gmodel."
   ]
  },
  {
   "cell_type": "code",
   "execution_count": 11,
   "metadata": {
    "collapsed": false
   },
   "outputs": [
    {
     "name": "stdout",
     "output_type": "stream",
     "text": [
      "['A', 'center', 'fwhm', 'm', 'b']\n",
      "['x']\n"
     ]
    }
   ],
   "source": [
    "# Nice things\n",
    "print(gmodel.param_names)\n",
    "print(gmodel.independent_vars)"
   ]
  },
  {
   "cell_type": "markdown",
   "metadata": {},
   "source": [
    "To do the fit use the gmodel.fit method.  press ```<shift>+<tab>``` when the cursor is inside the parenthesis to see more info. Since we have weights, we will use them. Return the results of the fit into result"
   ]
  },
  {
   "cell_type": "code",
   "execution_count": 12,
   "metadata": {
    "collapsed": false
   },
   "outputs": [],
   "source": [
    "# Fitting\n",
    "result = gmodel.fit(data_y, x=data_x, A=3500, center=1, fwhm=0.02,m=0,b=50,weights=1./(data_err)**2)\n"
   ]
  },
  {
   "cell_type": "markdown",
   "metadata": {},
   "source": [
    "type result. ```<tab>``` to see the methods available for the results. A nice overview is given if you print(result.fit_report())"
   ]
  },
  {
   "cell_type": "code",
   "execution_count": null,
   "metadata": {
    "collapsed": true
   },
   "outputs": [],
   "source": [
    "result."
   ]
  },
  {
   "cell_type": "code",
   "execution_count": 13,
   "metadata": {
    "collapsed": false
   },
   "outputs": [
    {
     "name": "stdout",
     "output_type": "stream",
     "text": [
      "[[Model]]\n",
      "    Model(gaussian_slope)\n",
      "[[Fit Statistics]]\n",
      "    # function evals   = 33\n",
      "    # data points      = 21\n",
      "    # variables        = 5\n",
      "    chi-square         = 0.093\n",
      "    reduced chi-square = 0.006\n",
      "    Akaike info crit   = -103.900\n",
      "    Bayesian info crit = -98.678\n",
      "[[Variables]]\n",
      "    A:        328.176419 +/- 12.15983 (3.71%) (init= 3500)\n",
      "    center:   1.00136944 +/- 0.000367 (0.04%) (init= 1)\n",
      "    fwhm:     0.02187793 +/- 0.000988 (4.52%) (init= 0.02)\n",
      "    m:       -160.019946 +/- 294.7933 (184.22%) (init= 0)\n",
      "    b:        198.346762 +/- 285.9407 (144.16%) (init= 50)\n",
      "[[Correlations]] (unreported correlations are <  0.100)\n",
      "    C(m, b)                      = -1.000 \n",
      "    C(fwhm, m)                   = -0.853 \n",
      "    C(fwhm, b)                   =  0.851 \n",
      "    C(center, b)                 =  0.836 \n",
      "    C(center, m)                 = -0.835 \n",
      "    C(center, fwhm)              =  0.712 \n",
      "    C(A, b)                      =  0.469 \n",
      "    C(A, m)                      = -0.469 \n",
      "    C(A, center)                 =  0.365 \n",
      "    C(A, fwhm)                   =  0.149 \n",
      "\n"
     ]
    }
   ],
   "source": [
    "print(result.fit_report())"
   ]
  },
  {
   "cell_type": "markdown",
   "metadata": {},
   "source": [
    "Now let's make a plot of the fit results, the data and the difference curve.\n",
    "This time subplot will produce an axis handle that is an array of two items one for data and the fit and one for the residuals."
   ]
  },
  {
   "cell_type": "code",
   "execution_count": 14,
   "metadata": {
    "collapsed": false
   },
   "outputs": [
    {
     "data": {
      "text/plain": [
       "Text(0.5,0,'$k (rlu)$')"
      ]
     },
     "execution_count": 14,
     "metadata": {},
     "output_type": "execute_result"
    },
    {
     "data": {
      "image/png": "[encoded data removed]",
      "text/plain": [
       "<matplotlib.figure.Figure at 0x1173de0f0>"
      ]
     },
     "metadata": {},
     "output_type": "display_data"
    }
   ],
   "source": [
    "f2,ax2=plt.subplots(nrows=2,ncols=1,sharex=True)\n",
    "ax2[0].errorbar(data_x,data_y,yerr=data_err,fmt='bo',label=\"Raw\")\n",
    "ax2[0].plot(data_x, result.best_fit, 'r-',label=\"Fit\")\n",
    "ax2[0].legend()\n",
    "#ax2[1].plot(data_x,result.residual)\n",
    "ax2[1].plot(data_x,data_y-result.best_fit)\n",
    "ax2[1].set_xlabel('$k (rlu)$')"
   ]
  },
  {
   "cell_type": "code",
   "execution_count": 15,
   "metadata": {
    "collapsed": false
   },
   "outputs": [
    {
     "data": {
      "text/plain": [
       "array([<matplotlib.axes._subplots.AxesSubplot object at 0x117d155c0>,\n",
       "       <matplotlib.axes._subplots.AxesSubplot object at 0x117d3db70>],\n",
       "      dtype=object)"
      ]
     },
     "execution_count": 15,
     "metadata": {},
     "output_type": "execute_result"
    }
   ],
   "source": [
    "ax2"
   ]
  },
  {
   "cell_type": "markdown",
   "metadata": {},
   "source": [
    "To save my nice figure I use."
   ]
  },
  {
   "cell_type": "code",
   "execution_count": 16,
   "metadata": {
    "collapsed": true
   },
   "outputs": [],
   "source": [
    "f2.savefig('test.pdf')"
   ]
  },
  {
   "cell_type": "code",
   "execution_count": null,
   "metadata": {
    "collapsed": true
   },
   "outputs": [],
   "source": []
  }
 ],
 "metadata": {
  "kernelspec": {
   "display_name": "Python 3",
   "language": "python",
   "name": "python3"
  },
  "language_info": {
   "codemirror_mode": {
    "name": "ipython",
    "version": 3
   },
   "file_extension": ".py",
   "mimetype": "text/x-python",
   "name": "python",
   "nbconvert_exporter": "python",
   "pygments_lexer": "ipython3",
   "version": "3.5.2"
  }
 },
 "nbformat": 4,
 "nbformat_minor": 2
}
