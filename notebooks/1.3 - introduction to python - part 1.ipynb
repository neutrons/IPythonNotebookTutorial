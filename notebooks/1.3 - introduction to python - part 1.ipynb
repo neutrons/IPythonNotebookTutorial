{
 "cells": [
  {
   "cell_type": "markdown",
   "metadata": {},
   "source": [
    "# Python allows you to do anything! "
   ]
  },
  {
   "cell_type": "markdown",
   "metadata": {},
   "source": [
    "Python comes with a lot of tool boxes (also called librairies), such as the [python standard library](https://docs.python.org/3/library/) or other librairies developed by the millions of python users.\n",
    "Those tool boxes allow you to do any math, work with files, network, plots, UI... anything! If you need a tool, there is a good chance that someone already implemented it for you."
   ]
  },
  {
   "cell_type": "markdown",
   "metadata": {},
   "source": [
    "Having all possibile tools already up and running with python would take a lot of memory, would slow down the computer, would give you some name conflicts nightmares. This is why python come by default with a minimum set of tools. It's then up to you to choose the one you want to add to your session"
   ]
  },
  {
   "cell_type": "markdown",
   "metadata": {},
   "source": [
    "# Exercise 1 "
   ]
  },
  {
   "cell_type": "markdown",
   "metadata": {},
   "source": [
    "For example the [**os**](https://docs.python.org/3/library/os.html) library allows you to work with files, and so much more.\n",
    "\n",
    "But by default is not part of the basic set of tools already installed. \n",
    "How can we know?\n",
    "\n",
    "In the next cell, type **os**, then a \".\" to get access to all the inside tools of this library and hit **TAB**\n",
    "\n",
    "What is going on?"
   ]
  },
  {
   "cell_type": "code",
   "execution_count": 1,
   "metadata": {},
   "outputs": [
    {
     "ename": "SyntaxError",
     "evalue": "invalid syntax (<ipython-input-1-2da6925099fa>, line 1)",
     "output_type": "error",
     "traceback": [
      "\u001b[0;36m  File \u001b[0;32m\"<ipython-input-1-2da6925099fa>\"\u001b[0;36m, line \u001b[0;32m1\u001b[0m\n\u001b[0;31m    os.\u001b[0m\n\u001b[0m       ^\u001b[0m\n\u001b[0;31mSyntaxError\u001b[0m\u001b[0;31m:\u001b[0m invalid syntax\n"
     ]
    }
   ],
   "source": []
  },
  {
   "cell_type": "markdown",
   "metadata": {},
   "source": [
    "Nothing !\n",
    "\n",
    "Reason is that **os** has not been installed (or imported) into your notebook."
   ]
  },
  {
   "cell_type": "markdown",
   "metadata": {},
   "source": [
    "# Short Break/reminder\n",
    "\n",
    "Avoid the toolbar/menu as much as you can, they will slow you down. For this, there are a few shortcuts that will save your life\n",
    "\n",
    "In **commnand mode**\n",
    "\n",
    "- **b** will add a cell below your current cell\n",
    "- **a** will add a cell above your current cell\n",
    "- **x** will remove your current cell"
   ]
  },
  {
   "cell_type": "markdown",
   "metadata": {
    "run_control": {
     "frozen": false,
     "read_only": false
    }
   },
   "source": [
    "# import "
   ]
  },
  {
   "cell_type": "markdown",
   "metadata": {
    "run_control": {
     "frozen": false,
     "read_only": false
    }
   },
   "source": [
    "To use any of the tool boxes, called library, them, you simply need to **import** them in your notebook using the **import** command\n",
    "\n",
    "ex: to import a library called **my_library**\n",
    "\n",
    "> import my_library\n",
    "\n",
    "Let's fix the first exercise by importing the **os** library."
   ]
  },
  {
   "cell_type": "markdown",
   "metadata": {},
   "source": [
    "# Exercise 2\n",
    "\n",
    "* Import the **os** library\n",
    "* Type **os.** and hit TAB and see what happens this time"
   ]
  },
  {
   "cell_type": "code",
   "execution_count": 2,
   "metadata": {
    "run_control": {
     "frozen": false,
     "read_only": false
    }
   },
   "outputs": [],
   "source": []
  },
  {
   "cell_type": "markdown",
   "metadata": {},
   "source": [
    "# What does it do? How to use it?"
   ]
  },
  {
   "cell_type": "markdown",
   "metadata": {},
   "source": [
    "There are many ways to learn the features of a library and how to call the various methods. Let's try to figure out what the **path** method of **os** does\n",
    "\n",
    "You can access a short documentation of this method by adding 1 '?' in front of the method\n",
    "> ?os.path"
   ]
  },
  {
   "cell_type": "markdown",
   "metadata": {},
   "source": [
    "### Try here "
   ]
  },
  {
   "cell_type": "code",
   "execution_count": 4,
   "metadata": {},
   "outputs": [],
   "source": []
  },
  {
   "cell_type": "markdown",
   "metadata": {},
   "source": [
    "Or a more complete documentation with code, by adding 2 '?'"
   ]
  },
  {
   "cell_type": "markdown",
   "metadata": {},
   "source": [
    "### Try here"
   ]
  },
  {
   "cell_type": "code",
   "execution_count": 4,
   "metadata": {},
   "outputs": [],
   "source": []
  },
  {
   "cell_type": "markdown",
   "metadata": {},
   "source": [
    "3rd way (the one I use all the time) by using google and by searching for: **python os**"
   ]
  },
  {
   "cell_type": "markdown",
   "metadata": {},
   "source": [
    "4th way, use of **SHIFT + TAB** on a command (more about this later)"
   ]
  },
  {
   "cell_type": "markdown",
   "metadata": {},
   "source": [
    "### Exercise"
   ]
  },
  {
   "cell_type": "markdown",
   "metadata": {},
   "source": [
    "In your browser, in the adress bar, just type **python os** and the first link we probably be the right one\n",
    "(https://docs.python.org/3/library/os.html)\n",
    "\n",
    "Then look for the command to use to figure out the character used by the operating system to separate pathname components \n",
    "\n",
    "answer should be '/' as you are working on a linux machine.\n"
   ]
  },
  {
   "cell_type": "code",
   "execution_count": 5,
   "metadata": {
    "run_control": {
     "frozen": false,
     "read_only": false
    }
   },
   "outputs": [],
   "source": []
  },
  {
   "cell_type": "code",
   "execution_count": null,
   "metadata": {},
   "outputs": [],
   "source": []
  }
 ],
 "metadata": {
  "kernelspec": {
   "display_name": "Python 3",
   "language": "python",
   "name": "python3"
  },
  "language_info": {
   "codemirror_mode": {
    "name": "ipython",
    "version": 3
   },
   "file_extension": ".py",
   "mimetype": "text/x-python",
   "name": "python",
   "nbconvert_exporter": "python",
   "pygments_lexer": "ipython3",
   "version": "3.6.7"
  },
  "toc": {
   "colors": {
    "hover_highlight": "#DAA520",
    "running_highlight": "#FF0000",
    "selected_highlight": "#FFD700"
   },
   "moveMenuLeft": true,
   "nav_menu": {
    "height": "12px",
    "width": "252px"
   },
   "navigate_menu": true,
   "number_sections": true,
   "sideBar": true,
   "threshold": 4,
   "toc_cell": false,
   "toc_section_display": "block",
   "toc_window_display": false
  }
 },
 "nbformat": 4,
 "nbformat_minor": 2
}
