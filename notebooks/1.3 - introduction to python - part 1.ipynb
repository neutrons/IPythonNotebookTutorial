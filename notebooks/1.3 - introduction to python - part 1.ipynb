{
 "cells": [
  {
   "cell_type": "markdown",
   "metadata": {},
   "source": [
    "# Why are you here?\n",
    "\n",
    "Maybe for [this](http://pypl.github.io/PYPL.html)"
   ]
  },
  {
   "cell_type": "markdown",
   "metadata": {},
   "source": [
    "# Python allows you to do anything! "
   ]
  },
  {
   "cell_type": "markdown",
   "metadata": {},
   "source": [
    "Python comes with a lot of tool boxes (also called librairies), such as the [python standard library](https://docs.python.org/3/library/) or other librairies developed by the millions of python users.\n",
    "Those tool boxes allow you to do any math, work with files, network, plots, UI... anything! If you need a tool, there is a good chance that someone already implemented it for you."
   ]
  },
  {
   "cell_type": "markdown",
   "metadata": {},
   "source": [
    "Having all possibile tools already up and running with python would take a lot of memory, would slow down the computer, would give you some name conflicts nightmares. This is why python come by default with a minimum set of tools. It's then up to you to choose the one you want to add to your session"
   ]
  },
  {
   "cell_type": "markdown",
   "metadata": {},
   "source": [
    "# Exercise 1 "
   ]
  },
  {
   "cell_type": "markdown",
   "metadata": {},
   "source": [
    "For example the [**numpy**](http://www.numpy.org/) library allows you to work with arrays just like Matlab does.\n",
    "\n",
    "But by default is not part of the basic set of tools already installed. \n",
    "How can we know?\n",
    "\n",
    "In the next cell, type **numpy**, then a **.** to get access to all the inside tools of this library and hit **TAB**\n",
    "\n",
    "What is going on?"
   ]
  },
  {
   "cell_type": "code",
   "execution_count": null,
   "metadata": {},
   "outputs": [],
   "source": []
  },
  {
   "cell_type": "markdown",
   "metadata": {},
   "source": [
    "Nothing !\n",
    "\n",
    "Reason is that **numpy** has not been installed (or imported) into your notebook."
   ]
  },
  {
   "cell_type": "markdown",
   "metadata": {
    "run_control": {
     "frozen": false,
     "read_only": false
    }
   },
   "source": [
    "# import "
   ]
  },
  {
   "cell_type": "markdown",
   "metadata": {
    "run_control": {
     "frozen": false,
     "read_only": false
    }
   },
   "source": [
    "To use any of the tool boxes, called library, them, you simply need to **import** them in your notebook using the **import** command\n",
    "\n",
    "ex: to import a library called **my_library**\n",
    "\n",
    "> import my_library\n",
    "\n",
    "Let's fix the first exercise by importing the **numpy** library."
   ]
  },
  {
   "cell_type": "markdown",
   "metadata": {},
   "source": [
    "# Exercise 2\n",
    "\n",
    "* Import the **numpy** library\n",
    "* Type **numpy.** and hit TAB and see what happens this time"
   ]
  },
  {
   "cell_type": "code",
   "execution_count": null,
   "metadata": {
    "run_control": {
     "frozen": false,
     "read_only": false
    }
   },
   "outputs": [],
   "source": []
  },
  {
   "cell_type": "code",
   "execution_count": null,
   "metadata": {},
   "outputs": [],
   "source": []
  },
  {
   "cell_type": "markdown",
   "metadata": {},
   "source": [
    "# What does it do? How to use it?"
   ]
  },
  {
   "cell_type": "markdown",
   "metadata": {},
   "source": [
    "There are many ways to learn the features of a library and how to call the various methods. \n",
    "\n",
    "You can access a short documentation of this method by adding **1 '?'** in front of the method\n",
    "```\n",
    "> ?numpy\n",
    "```\n",
    "or\n",
    "```\n",
    "> numpy?\n",
    "```\n",
    "\n",
    "or using **SHIFT + TAB**\n",
    "\n"
   ]
  },
  {
   "cell_type": "code",
   "execution_count": null,
   "metadata": {},
   "outputs": [],
   "source": []
  },
  {
   "cell_type": "markdown",
   "metadata": {},
   "source": [
    "For a more complete documentation, use **2 '?'**\n",
    "```\n",
    "> ??numpy\n",
    "```\n",
    "or\n",
    "```\n",
    "> numpy??\n",
    "```\n",
    "\n",
    "or using **SHIFT + TAB** and **SHIFT + TAB**"
   ]
  },
  {
   "cell_type": "code",
   "execution_count": null,
   "metadata": {},
   "outputs": [],
   "source": []
  },
  {
   "cell_type": "markdown",
   "metadata": {},
   "source": [
    "Let's learn how to create a array of integer from 0 to 10. (NB: Google is your friend)"
   ]
  },
  {
   "cell_type": "markdown",
   "metadata": {},
   "source": [
    "### Try here "
   ]
  },
  {
   "cell_type": "code",
   "execution_count": null,
   "metadata": {},
   "outputs": [],
   "source": []
  },
  {
   "cell_type": "markdown",
   "metadata": {},
   "source": [
    "### Exercise\n",
    "\n",
    "display the value of Pi using numpy"
   ]
  },
  {
   "cell_type": "code",
   "execution_count": null,
   "metadata": {
    "run_control": {
     "frozen": false,
     "read_only": false
    }
   },
   "outputs": [],
   "source": []
  }
 ],
 "metadata": {
  "kernelspec": {
   "display_name": "Python 3",
   "language": "python",
   "name": "python3"
  },
  "language_info": {
   "codemirror_mode": {
    "name": "ipython",
    "version": 3
   },
   "file_extension": ".py",
   "mimetype": "text/x-python",
   "name": "python",
   "nbconvert_exporter": "python",
   "pygments_lexer": "ipython3",
   "version": "3.6.4"
  },
  "toc": {
   "colors": {
    "hover_highlight": "#DAA520",
    "running_highlight": "#FF0000",
    "selected_highlight": "#FFD700"
   },
   "moveMenuLeft": true,
   "nav_menu": {
    "height": "12px",
    "width": "252px"
   },
   "navigate_menu": true,
   "number_sections": true,
   "sideBar": true,
   "threshold": 4,
   "toc_cell": false,
   "toc_section_display": "block",
   "toc_window_display": false
  }
 },
 "nbformat": 4,
 "nbformat_minor": 2
}
