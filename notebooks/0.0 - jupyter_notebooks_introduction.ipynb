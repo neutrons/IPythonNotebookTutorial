{
 "cells": [
  {
   "cell_type": "markdown",
   "metadata": {},
   "source": [
    "**ATTENTION** This step will only be necessary if you decide to install the jupyter notebook on your own computer."
   ]
  },
  {
   "cell_type": "markdown",
   "metadata": {},
   "source": [
    "# Introduction"
   ]
  },
  {
   "cell_type": "markdown",
   "metadata": {},
   "source": [
    "The [**Jupyter Notebook**](https://jupyter.org/) is a web application that allows you to easily share documents that contains\n",
    " * live code (python, R, Julia, javascript, matlab....)\n",
    " * equations (Latex...)\n",
    " * visualizations (Matplotlib, plotly, ...)\n",
    " * text (Markup language)"
   ]
  },
  {
   "cell_type": "markdown",
   "metadata": {},
   "source": [
    "# Installation "
   ]
  },
  {
   "cell_type": "markdown",
   "metadata": {},
   "source": [
    "Best and easier way to install jupyter is by using [**anaconda**](https://www.anaconda.com/download/#macos) installer. Anaconda will install automatically jupyter for you. \n",
    "\n"
   ]
  },
  {
   "cell_type": "markdown",
   "metadata": {},
   "source": [
    "# Start Jupyter notebook server "
   ]
  },
  {
   "cell_type": "markdown",
   "metadata": {},
   "source": [
    "Double click **Anaconda** program to start it and then **click** **Jupyter noteobook** to launch the notebooks. \n",
    "\n",
    "<img src=\"../Data/static/introduction/jupyter_via_anaconda.gif\" >"
   ]
  },
  {
   "cell_type": "code",
   "execution_count": null,
   "metadata": {},
   "outputs": [],
   "source": []
  }
 ],
 "metadata": {
  "kernelspec": {
   "display_name": "Python 3",
   "language": "python",
   "name": "python3"
  },
  "language_info": {
   "codemirror_mode": {
    "name": "ipython",
    "version": 3
   },
   "file_extension": ".py",
   "mimetype": "text/x-python",
   "name": "python",
   "nbconvert_exporter": "python",
   "pygments_lexer": "ipython3",
   "version": "3.6.7"
  }
 },
 "nbformat": 4,
 "nbformat_minor": 2
}
