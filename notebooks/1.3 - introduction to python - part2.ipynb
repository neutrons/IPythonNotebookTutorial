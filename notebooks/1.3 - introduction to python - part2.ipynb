{
 "cells": [
  {
   "cell_type": "markdown",
   "metadata": {
    "run_control": {
     "frozen": false,
     "read_only": false
    }
   },
   "source": [
    "# Print "
   ]
  },
  {
   "cell_type": "markdown",
   "metadata": {},
   "source": [
    "To display, or print, your data on the screen, we use **print**"
   ]
  },
  {
   "cell_type": "markdown",
   "metadata": {
    "run_control": {
     "frozen": false,
     "read_only": false
    }
   },
   "source": [
    "## basic format "
   ]
  },
  {
   "cell_type": "markdown",
   "metadata": {
    "run_control": {
     "frozen": false,
     "read_only": false
    }
   },
   "source": [
    "### Exercise\n",
    "\n",
    "Print the variables **a** and **b**"
   ]
  },
  {
   "cell_type": "code",
   "execution_count": 31,
   "metadata": {},
   "outputs": [
    {
     "name": "stdout",
     "output_type": "stream",
     "text": [
      "This is a text\n",
      "35\n"
     ]
    }
   ],
   "source": [
    "a = \"This is a text\"\n",
    "b = 35\n",
    "\n",
    "# your answer here\n",
    "print(a)\n",
    "print(b)"
   ]
  },
  {
   "cell_type": "markdown",
   "metadata": {},
   "source": [
    "NB: Did you notice that you did not have to import anything to use **print**. Guess why?"
   ]
  },
  {
   "cell_type": "markdown",
   "metadata": {
    "run_control": {
     "frozen": false,
     "read_only": false
    }
   },
   "source": [
    "## configure format \n",
    "\n",
    "but the print function can do so much more. For example you can tell him not to return to the beginning of next line when done, or to format the variables the way you want it."
   ]
  },
  {
   "cell_type": "markdown",
   "metadata": {
    "run_control": {
     "frozen": false,
     "read_only": false
    }
   },
   "source": [
    "### Exercise"
   ]
  },
  {
   "cell_type": "markdown",
   "metadata": {
    "run_control": {
     "frozen": false,
     "read_only": false
    }
   },
   "source": [
    "If there is only one skill you need to take from this training is learn to use **google search** to find how to use a python command. Use this skill to  display the following statement.\n",
    "\n",
    "<img src='../Data/static/python_introduction/format_exercise.png' />\n",
    "\n",
    "Tips: look at **format** (https://pyformat.info/)\n"
   ]
  },
  {
   "cell_type": "code",
   "execution_count": 11,
   "metadata": {
    "run_control": {
     "frozen": false,
     "read_only": false
    }
   },
   "outputs": [
    {
     "name": "stdout",
     "output_type": "stream",
     "text": [
      "var1:         10\n",
      "var2: 1.234\n",
      "var1: 10 and var2: 1.234\n"
     ]
    }
   ],
   "source": [
    "# your turn\n",
    "var1 = 10\n",
    "var2 = 1.23356785\n",
    "\n",
    "# you code here\n",
    "print(\"var1: {:10}\".format(var1))\n",
    "print(\"var2: {:.4}\".format(var2))\n",
    "print(\"var1: {} and var2: {:.4}\".format(var1, var2))\n"
   ]
  },
  {
   "cell_type": "markdown",
   "metadata": {
    "run_control": {
     "frozen": false,
     "read_only": false
    }
   },
   "source": [
    "You want to learn more, check this tutorial about [print format](https://pyformat.info/)"
   ]
  },
  {
   "cell_type": "markdown",
   "metadata": {
    "run_control": {
     "frozen": false,
     "read_only": false
    }
   },
   "source": [
    "# Arrays  "
   ]
  },
  {
   "cell_type": "markdown",
   "metadata": {},
   "source": [
    "You can create a simple 1D array using **[ ] **"
   ]
  },
  {
   "cell_type": "code",
   "execution_count": 15,
   "metadata": {},
   "outputs": [],
   "source": [
    "my_array = [1,2,3,4]"
   ]
  },
  {
   "cell_type": "markdown",
   "metadata": {},
   "source": [
    "What is it really ?"
   ]
  },
  {
   "cell_type": "code",
   "execution_count": 17,
   "metadata": {
    "scrolled": true
   },
   "outputs": [
    {
     "data": {
      "text/plain": [
       "list"
      ]
     },
     "execution_count": 17,
     "metadata": {},
     "output_type": "execute_result"
    }
   ],
   "source": [
    "type(my_array)"
   ]
  },
  {
   "cell_type": "markdown",
   "metadata": {},
   "source": [
    "If you look at google, you will find that **list** are great, but not idea when working with data we need to manipulate. For this, we are going to import our first major library called **numpy**"
   ]
  },
  {
   "cell_type": "markdown",
   "metadata": {},
   "source": [
    "### Exercise\n",
    "\n",
    "Let's import **numpy** into our notebook"
   ]
  },
  {
   "cell_type": "code",
   "execution_count": 18,
   "metadata": {},
   "outputs": [],
   "source": [
    "import numpy"
   ]
  },
  {
   "cell_type": "markdown",
   "metadata": {
    "run_control": {
     "frozen": false,
     "read_only": false
    }
   },
   "source": [
    "## Our first numpy array"
   ]
  },
  {
   "cell_type": "code",
   "execution_count": 19,
   "metadata": {
    "run_control": {
     "frozen": false,
     "read_only": false
    }
   },
   "outputs": [],
   "source": [
    "my_first_real_array = numpy.array([1,2,3,4])"
   ]
  },
  {
   "cell_type": "code",
   "execution_count": 20,
   "metadata": {},
   "outputs": [
    {
     "data": {
      "text/plain": [
       "numpy.ndarray"
      ]
     },
     "execution_count": 20,
     "metadata": {},
     "output_type": "execute_result"
    }
   ],
   "source": [
    "type(my_first_real_array)"
   ]
  },
  {
   "cell_type": "markdown",
   "metadata": {},
   "source": [
    "The big difference is that numpy comes with a tons of features that will save your life. Array manipulation, min, max, std, .... have no secret for numpy.\n",
    "\n",
    "**Tip:** Whenever you can, use those librairies because:\n",
    " * they will run must faster than anything you can write yourself\n",
    " * they have been tested by millions of users\n",
    " * they are very well documented\n",
    " * they have 99% of what you will ever need"
   ]
  },
  {
   "cell_type": "markdown",
   "metadata": {
    "run_control": {
     "frozen": false,
     "read_only": false
    }
   },
   "source": [
    "### Exercise \n",
    "\n",
    "Display the maximum, minimum and mean value of the following array\n",
    "\n",
    "**Tip**: Google is your friend"
   ]
  },
  {
   "cell_type": "code",
   "execution_count": 29,
   "metadata": {
    "run_control": {
     "frozen": false,
     "read_only": false
    }
   },
   "outputs": [
    {
     "name": "stdout",
     "output_type": "stream",
     "text": [
      "method 1\n",
      "minimum is -1.0\n",
      "maximum is 100.0\n",
      "mean is 27.91\n",
      "\n",
      "method 2\n",
      "minimum is -1.0\n",
      "maximum is 100.0\n",
      "mean is 27.91\n"
     ]
    }
   ],
   "source": [
    "my_array = numpy.array([1.23, 4.34, 10.0, -1, 30.3, 50.50, 100])\n",
    "\n",
    "# your code here\n",
    "\n",
    "print(\"method 1\")\n",
    "print(\"minimum is {}\".format(my_array.min()))\n",
    "print(\"maximum is {}\".format(my_array.max()))\n",
    "print(\"mean is {}\".format(my_array.mean()))\n",
    "\n",
    "#or\n",
    "\n",
    "print()\n",
    "print(\"method 2\")\n",
    "print(\"minimum is {}\".format(numpy.min(my_array)))\n",
    "print(\"maximum is {}\".format(numpy.max(my_array)))\n",
    "print(\"mean is {}\".format(numpy.mean(my_array)))"
   ]
  },
  {
   "cell_type": "markdown",
   "metadata": {},
   "source": [
    "# Programers are lazy !"
   ]
  },
  {
   "cell_type": "markdown",
   "metadata": {},
   "source": [
    "We don't want to have to type **numpy** everytime we want to create an array. Python provides a feature that allows you to rename a library you import"
   ]
  },
  {
   "cell_type": "code",
   "execution_count": 24,
   "metadata": {},
   "outputs": [],
   "source": [
    "import numpy as np"
   ]
  },
  {
   "cell_type": "markdown",
   "metadata": {},
   "source": [
    "Remember the use of **TAB** to find all the methods provided by numpy?\n",
    "\n",
    "Try it here"
   ]
  },
  {
   "cell_type": "code",
   "execution_count": null,
   "metadata": {},
   "outputs": [],
   "source": [
    "np."
   ]
  },
  {
   "cell_type": "markdown",
   "metadata": {
    "run_control": {
     "frozen": false,
     "read_only": false
    }
   },
   "source": [
    "### Indexing"
   ]
  },
  {
   "cell_type": "markdown",
   "metadata": {
    "run_control": {
     "frozen": false,
     "read_only": false
    }
   },
   "source": [
    "You can reach data in your array using indexing (first value is at index 0) \n",
    "\n",
    "Please note that to use indexing, we use **brackets [ ] ** in python"
   ]
  },
  {
   "cell_type": "code",
   "execution_count": 32,
   "metadata": {
    "run_control": {
     "frozen": false,
     "read_only": false
    }
   },
   "outputs": [
    {
     "data": {
      "text/plain": [
       "1.23"
      ]
     },
     "execution_count": 32,
     "metadata": {},
     "output_type": "execute_result"
    }
   ],
   "source": [
    "my_array[0]"
   ]
  },
  {
   "cell_type": "markdown",
   "metadata": {
    "run_control": {
     "frozen": false,
     "read_only": false
    }
   },
   "source": [
    "### Ranges "
   ]
  },
  {
   "cell_type": "markdown",
   "metadata": {
    "collapsed": true,
    "run_control": {
     "frozen": false,
     "read_only": false
    }
   },
   "source": [
    "## Exercise \n",
    "\n",
    "google search to the rescue\n",
    "\n",
    "Using what you have learned so far, and google search, do the following\n",
    "\n",
    " * create a numpy array of integer from 0 to 100 (tip, numpy as a method that does that)\n",
    " * extract the first 10\n",
    " * calculate the sum of those 10 elements"
   ]
  },
  {
   "cell_type": "code",
   "execution_count": 40,
   "metadata": {
    "run_control": {
     "frozen": false,
     "read_only": false
    }
   },
   "outputs": [
    {
     "name": "stdout",
     "output_type": "stream",
     "text": [
      "45\n"
     ]
    }
   ],
   "source": [
    "# create a numpy array of integer from 0 to 100 [0,1,2,3,...] (tip, numpy as a method that does that)\n",
    "int_array = np.arange(101)\n",
    "# print(int_array)\n",
    "\n",
    "# extract the first 10\n",
    "first_10_elements = int_array[:10]\n",
    "# print(first_10_elements)\n",
    "\n",
    "# calculate the sum of those 10 elements\n",
    "print(np.sum(first_10_elements))"
   ]
  },
  {
   "cell_type": "markdown",
   "metadata": {
    "run_control": {
     "frozen": false,
     "read_only": false
    }
   },
   "source": [
    "# function "
   ]
  },
  {
   "cell_type": "markdown",
   "metadata": {
    "run_control": {
     "frozen": false,
     "read_only": false
    }
   },
   "source": [
    "function are used to centralized the work that needs to be repeated many times.\n",
    "\n",
    "You can define a function this way\n",
    "\n",
    "```python\n",
    "def add(var1, var2, var3):\n",
    "    result = var1 + var2 + var3\n",
    "    return result\n",
    "\n",
    ">>>print(add(5, 6, 7))\n",
    "18\n",
    "```\n",
    "\n",
    "you can also provide default value to arguments if you do not want to pass those arguments all the time\n",
    "\n",
    "```python\n",
    "def magic_add(var1, var2, var3=10):\n",
    "    result = var1 + var2 + var3\n",
    "    return result\n",
    "\n",
    ">>> print(magic_add(5,6))\n",
    "21\n",
    ">>> print(magic_add(5,6,1))\n",
    "12\n",
    "```\n",
    "\n"
   ]
  },
  {
   "cell_type": "markdown",
   "metadata": {},
   "source": [
    "To learn more and play with functions, I recommend this [tutorial page](https://www.datacamp.com/community/tutorials/functions-python-tutorial?utm_source=adwords_ppc&utm_campaignid=1565261270&utm_adgroupid=67750485268&utm_device=c&utm_keyword=&utm_matchtype=b&utm_network=g&utm_adpostion=1t1&utm_creative=295208661514&utm_targetid=dsa-473406571355&utm_loc_interest_ms=&utm_loc_physical_ms=9013463&gclid=CjwKCAiA7vTiBRAqEiwA4NTO6-0B8XuolsNc9HWaXiLt4Ptw9s3AvyNM5USfR90QIeNhwKfLCLM4dhoChXcQAvD_BwE)"
   ]
  },
  {
   "cell_type": "markdown",
   "metadata": {
    "run_control": {
     "frozen": false,
     "read_only": false
    }
   },
   "source": [
    "## Exercise\n",
    "\n"
   ]
  },
  {
   "cell_type": "markdown",
   "metadata": {
    "run_control": {
     "frozen": false,
     "read_only": false
    }
   },
   "source": [
    "We are going to use function and numpy to print the sin of 2x, 3x, 4x and 5x with x going from 0 to 10\n",
    "\n",
    "* locate the **sin** function (thank you numpy) and how to use it\n",
    "TIP: remember the 3 ways to find help ?\n",
    "\n",
    "* define a function that takes as input\n",
    "    - an array\n",
    "    - a coefficient\n",
    "   and returns the sin(coefficient * array)\n",
    "   \n",
    "   \n",
    "* define your array and makes the calls\n"
   ]
  },
  {
   "cell_type": "code",
   "execution_count": 48,
   "metadata": {
    "run_control": {
     "frozen": false,
     "read_only": false
    }
   },
   "outputs": [
    {
     "name": "stdout",
     "output_type": "stream",
     "text": [
      "[ 0.          0.90929743 -0.7568025  -0.2794155   0.98935825 -0.54402111\n",
      " -0.53657292  0.99060736 -0.28790332 -0.75098725  0.91294525]\n",
      "[ 0.          0.14112001 -0.2794155   0.41211849 -0.53657292  0.65028784\n",
      " -0.75098725  0.83665564 -0.90557836  0.95637593 -0.98803162]\n",
      "[ 0.         -0.7568025   0.98935825 -0.53657292 -0.28790332  0.91294525\n",
      " -0.90557836  0.27090579  0.55142668 -0.99177885  0.74511316]\n",
      "[ 0.         -0.95892427 -0.54402111  0.65028784  0.91294525 -0.13235175\n",
      " -0.98803162 -0.42818267  0.74511316  0.85090352 -0.26237485]\n"
     ]
    }
   ],
   "source": [
    "#locate the **sin** function (thank you numpy) and how to use it\n",
    "\n",
    "# ?np.sin\n",
    "# ??np.sin\n",
    "# google \n",
    "\n",
    "# define a function that takes as input\n",
    "#     - an array\n",
    "#     - a coefficient\n",
    "#    and returns the sin(coefficient * array)\n",
    "def coeff_sin(my_array, coefficient=2):   \n",
    "    return np.sin(coefficient * my_array)\n",
    "    \n",
    "\n",
    "#define your array and makes the calls\n",
    "my_array = np.arange(11)\n",
    "print(coeff_sin(my_array))\n",
    "print(coeff_sin(my_array, coefficient=3))\n",
    "print(coeff_sin(my_array, coefficient=4))\n",
    "print(coeff_sin(my_array, coefficient=5))"
   ]
  },
  {
   "cell_type": "markdown",
   "metadata": {
    "run_control": {
     "frozen": false,
     "read_only": false
    }
   },
   "source": [
    "# Loops "
   ]
  },
  {
   "cell_type": "markdown",
   "metadata": {
    "run_control": {
     "frozen": false,
     "read_only": false
    }
   },
   "source": [
    "There are different types of loops but 80% of the time you will use the **for loop**"
   ]
  },
  {
   "cell_type": "code",
   "execution_count": null,
   "metadata": {
    "run_control": {
     "frozen": false,
     "read_only": false
    }
   },
   "outputs": [],
   "source": []
  },
  {
   "cell_type": "markdown",
   "metadata": {
    "run_control": {
     "frozen": false,
     "read_only": false
    }
   },
   "source": [
    "# if statement "
   ]
  },
  {
   "cell_type": "code",
   "execution_count": null,
   "metadata": {
    "run_control": {
     "frozen": false,
     "read_only": false
    }
   },
   "outputs": [],
   "source": []
  },
  {
   "cell_type": "markdown",
   "metadata": {
    "collapsed": true,
    "run_control": {
     "frozen": false,
     "read_only": false
    }
   },
   "source": [
    "# Error "
   ]
  },
  {
   "cell_type": "markdown",
   "metadata": {
    "run_control": {
     "frozen": false,
     "read_only": false
    }
   },
   "source": [
    "**Error** raise by python are here to help you, DO NOT BE AFRAID OF THEM"
   ]
  },
  {
   "cell_type": "code",
   "execution_count": null,
   "metadata": {
    "run_control": {
     "frozen": false,
     "read_only": false
    }
   },
   "outputs": [],
   "source": []
  }
 ],
 "metadata": {
  "kernelspec": {
   "display_name": "Python 3",
   "language": "python",
   "name": "python3"
  },
  "language_info": {
   "codemirror_mode": {
    "name": "ipython",
    "version": 3
   },
   "file_extension": ".py",
   "mimetype": "text/x-python",
   "name": "python",
   "nbconvert_exporter": "python",
   "pygments_lexer": "ipython3",
   "version": "3.6.4"
  },
  "toc": {
   "colors": {
    "hover_highlight": "#DAA520",
    "running_highlight": "#FF0000",
    "selected_highlight": "#FFD700"
   },
   "moveMenuLeft": true,
   "nav_menu": {
    "height": "12px",
    "width": "252px"
   },
   "navigate_menu": true,
   "number_sections": true,
   "sideBar": true,
   "threshold": 4,
   "toc_cell": false,
   "toc_section_display": "block",
   "toc_window_display": false
  }
 },
 "nbformat": 4,
 "nbformat_minor": 2
}
