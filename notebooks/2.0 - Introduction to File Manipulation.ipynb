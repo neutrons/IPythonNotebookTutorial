{
 "cells": [
  {
   "cell_type": "markdown",
   "metadata": {},
   "source": [
    "# Introduction to OS and ASCII + XML File Manipulation\n",
    "\n",
    "- Operating system interaction: `os`\n",
    "- File manipulation: `os.path`\n",
    "- File Open / Close / Read"
   ]
  },
  {
   "cell_type": "markdown",
   "metadata": {},
   "source": [
    "## Linux shell commands"
   ]
  },
  {
   "cell_type": "markdown",
   "metadata": {},
   "source": [
    "- To call shell from a Notebook is to prepend an exclamation point to a shell command\n",
    "- This is not python standard! Just Jupyter notebooks!\n",
    "- Note the scope of the operation: Only cell wise!\n",
    "\n",
    "**NB**: This is only avaible in the notebooks, not in python scripts!"
   ]
  },
  {
   "cell_type": "code",
   "execution_count": 1,
   "metadata": {},
   "outputs": [
    {
     "name": "stdout",
     "output_type": "stream",
     "text": [
      "/Users/rhf/git/IPythonNotebookTutorial/notebooks\r\n"
     ]
    }
   ],
   "source": [
    "# Current Directory\n",
    "!pwd"
   ]
  },
  {
   "cell_type": "code",
   "execution_count": 2,
   "metadata": {},
   "outputs": [],
   "source": [
    "# Let's change our directory\n",
    "!cd .."
   ]
  },
  {
   "cell_type": "code",
   "execution_count": 3,
   "metadata": {},
   "outputs": [
    {
     "name": "stdout",
     "output_type": "stream",
     "text": [
      "/Users/rhf/git/IPythonNotebookTutorial/notebooks\r\n"
     ]
    }
   ],
   "source": [
    "# Current Directory\n",
    "!pwd"
   ]
  },
  {
   "cell_type": "code",
   "execution_count": 4,
   "metadata": {},
   "outputs": [
    {
     "name": "stdout",
     "output_type": "stream",
     "text": [
      "/Users/rhf/git/IPythonNotebookTutorial/notebooks\n",
      "---------------------------------------------------------\n",
      "0.0 - jupyter_notebooks_introduction.ipynb\n",
      "1.0 - jupyter dashboard.ipynb\n",
      "1.1 - jupyter not a book.ipynb\n",
      "1.2 - markdown syntax.ipynb\n",
      "1.3 - introduction to python - part 1.ipynb\n",
      "1.3 - introduction to python - part2.ipynb\n",
      "2.0 - Introduction to File Manipulation.ipynb\n",
      "2.1 - Introduction to Plotting.ipynb\n",
      "3 - Multiple plots - Glob.ipynb\n",
      "4 - 2D Imaging - FITS.ipynb\n",
      "4 - 2D Imaging - TIFF.ipynb\n",
      "5 - Gaussian Fitting.ipynb\n",
      "6 - HDF files.ipynb\n",
      "7 - widgets.ipynb\n",
      "\u001b[35mData\u001b[m\u001b[m\n",
      "Mantid.ipynb\n",
      "hdfview.png\n"
     ]
    }
   ],
   "source": [
    "# We can chain Linux commands\n",
    "!pwd\n",
    "!echo \"---------------------------------------------------------\"\n",
    "!ls"
   ]
  },
  {
   "cell_type": "markdown",
   "metadata": {},
   "source": [
    "## Python `OS` module"
   ]
  },
  {
   "cell_type": "markdown",
   "metadata": {},
   "source": [
    "- In python files (scrpts) the `!` does not work.\n",
    "- Use the `os` module"
   ]
  },
  {
   "cell_type": "code",
   "execution_count": 5,
   "metadata": {},
   "outputs": [],
   "source": [
    "# import the module\n",
    "import os"
   ]
  },
  {
   "cell_type": "code",
   "execution_count": 6,
   "metadata": {},
   "outputs": [
    {
     "data": {
      "text/plain": [
       "'/Users/rhf/git/IPythonNotebookTutorial/notebooks'"
      ]
     },
     "execution_count": 6,
     "metadata": {},
     "output_type": "execute_result"
    }
   ],
   "source": [
    "# Current Directory\n",
    "os.getcwd()"
   ]
  },
  {
   "cell_type": "code",
   "execution_count": 7,
   "metadata": {},
   "outputs": [],
   "source": [
    "# Let's change our directory\n",
    "os.chdir('..')"
   ]
  },
  {
   "cell_type": "markdown",
   "metadata": {},
   "source": [
    "- the scope of `os` it's not the cell but the notebook"
   ]
  },
  {
   "cell_type": "code",
   "execution_count": 8,
   "metadata": {},
   "outputs": [
    {
     "data": {
      "text/plain": [
       "'/Users/rhf/git/IPythonNotebookTutorial'"
      ]
     },
     "execution_count": 8,
     "metadata": {},
     "output_type": "execute_result"
    }
   ],
   "source": [
    "# Current Directory\n",
    "os.getcwd()"
   ]
  },
  {
   "cell_type": "code",
   "execution_count": 9,
   "metadata": {},
   "outputs": [],
   "source": [
    "# Let's get back to our directory\n",
    "os.chdir('notebooks')"
   ]
  },
  {
   "cell_type": "code",
   "execution_count": 10,
   "metadata": {},
   "outputs": [
    {
     "data": {
      "text/plain": [
       "['5 - Gaussian Fitting.ipynb',\n",
       " '6 - HDF files.ipynb',\n",
       " '1.1 - jupyter not a book.ipynb',\n",
       " '2.0 - Introduction to File Manipulation.ipynb',\n",
       " '0.0 - jupyter_notebooks_introduction.ipynb',\n",
       " '4 - 2D Imaging - TIFF.ipynb',\n",
       " 'Mantid.ipynb',\n",
       " '3 - Multiple plots - Glob.ipynb',\n",
       " '7 - widgets.ipynb',\n",
       " '2.1 - Introduction to Plotting.ipynb',\n",
       " '1.2 - markdown syntax.ipynb',\n",
       " '1.3 - introduction to python - part 1.ipynb',\n",
       " '4 - 2D Imaging - FITS.ipynb',\n",
       " '.ipynb_checkpoints',\n",
       " 'hdfview.png',\n",
       " '1.3 - introduction to python - part2.ipynb',\n",
       " '1.0 - jupyter dashboard.ipynb',\n",
       " 'Data']"
      ]
     },
     "execution_count": 10,
     "metadata": {},
     "output_type": "execute_result"
    }
   ],
   "source": [
    "# Let's list the contents of `notebooks`\n",
    "os.listdir()"
   ]
  },
  {
   "cell_type": "markdown",
   "metadata": {},
   "source": [
    "## File Manipulation: `os.path` module"
   ]
  },
  {
   "cell_type": "code",
   "execution_count": 11,
   "metadata": {},
   "outputs": [],
   "source": [
    "# let's import our module\n",
    "import os.path"
   ]
  },
  {
   "cell_type": "code",
   "execution_count": 12,
   "metadata": {},
   "outputs": [
    {
     "data": {
      "text/plain": [
       "['__all__',\n",
       " '__builtins__',\n",
       " '__cached__',\n",
       " '__doc__',\n",
       " '__file__',\n",
       " '__loader__',\n",
       " '__name__',\n",
       " '__package__',\n",
       " '__spec__',\n",
       " '_get_sep',\n",
       " '_joinrealpath',\n",
       " '_varprog',\n",
       " '_varprogb',\n",
       " 'abspath',\n",
       " 'altsep',\n",
       " 'basename',\n",
       " 'commonpath',\n",
       " 'commonprefix',\n",
       " 'curdir',\n",
       " 'defpath',\n",
       " 'devnull',\n",
       " 'dirname',\n",
       " 'exists',\n",
       " 'expanduser',\n",
       " 'expandvars',\n",
       " 'extsep',\n",
       " 'genericpath',\n",
       " 'getatime',\n",
       " 'getctime',\n",
       " 'getmtime',\n",
       " 'getsize',\n",
       " 'isabs',\n",
       " 'isdir',\n",
       " 'isfile',\n",
       " 'islink',\n",
       " 'ismount',\n",
       " 'join',\n",
       " 'lexists',\n",
       " 'normcase',\n",
       " 'normpath',\n",
       " 'os',\n",
       " 'pardir',\n",
       " 'pathsep',\n",
       " 'realpath',\n",
       " 'relpath',\n",
       " 'samefile',\n",
       " 'sameopenfile',\n",
       " 'samestat',\n",
       " 'sep',\n",
       " 'split',\n",
       " 'splitdrive',\n",
       " 'splitext',\n",
       " 'stat',\n",
       " 'supports_unicode_filenames',\n",
       " 'sys']"
      ]
     },
     "execution_count": 12,
     "metadata": {},
     "output_type": "execute_result"
    }
   ],
   "source": [
    "# show what is available in os.path: <tab> or dir(...)\n",
    "dir(os.path)"
   ]
  },
  {
   "cell_type": "markdown",
   "metadata": {},
   "source": [
    "There are plenty of methods available in the `os.path` module.\n",
    "\n",
    "**For this example, let's use:**\n",
    "\n",
    "```\n",
    " 'abspath',\n",
    " 'basename',\n",
    " 'dirname',\n",
    " 'exists',\n",
    " 'getsize',\n",
    "  'isdir',\n",
    " 'isfile',\n",
    " 'sep',\n",
    " 'split',\n",
    " 'splitext',\n",
    "```"
   ]
  },
  {
   "cell_type": "code",
   "execution_count": 13,
   "metadata": {},
   "outputs": [
    {
     "data": {
      "text/plain": [
       "'Data/Glob/f1.txt'"
      ]
     },
     "execution_count": 13,
     "metadata": {},
     "output_type": "execute_result"
    }
   ],
   "source": [
    "# Let's pick one file\n",
    "file_path = \"Data/Glob/f1.txt\"\n",
    "file_path"
   ]
  },
  {
   "cell_type": "code",
   "execution_count": 14,
   "metadata": {},
   "outputs": [
    {
     "data": {
      "text/plain": [
       "'Data/Glob/f1.txt'"
      ]
     },
     "execution_count": 14,
     "metadata": {},
     "output_type": "execute_result"
    }
   ],
   "source": [
    "# Alternativelly we can use `os.path.join`.\n",
    "file_path = os.path.join(\"Data\", \"Glob\", \"f1.txt\")\n",
    "file_path"
   ]
  },
  {
   "cell_type": "code",
   "execution_count": 15,
   "metadata": {},
   "outputs": [
    {
     "data": {
      "text/plain": [
       "'/'"
      ]
     },
     "execution_count": 15,
     "metadata": {},
     "output_type": "execute_result"
    }
   ],
   "source": [
    "# Path separator: It's different in Windows\n",
    "os.path.sep"
   ]
  },
  {
   "cell_type": "code",
   "execution_count": 16,
   "metadata": {},
   "outputs": [
    {
     "data": {
      "text/plain": [
       "False"
      ]
     },
     "execution_count": 16,
     "metadata": {},
     "output_type": "execute_result"
    }
   ],
   "source": [
    "# Check if the file exists\n",
    "os.path.exists(file_path)"
   ]
  },
  {
   "cell_type": "code",
   "execution_count": 17,
   "metadata": {},
   "outputs": [
    {
     "data": {
      "text/plain": [
       "'/Users/rhf/git/IPythonNotebookTutorial/notebooks'"
      ]
     },
     "execution_count": 17,
     "metadata": {},
     "output_type": "execute_result"
    }
   ],
   "source": [
    "# Where are we?\n",
    "os.getcwd()"
   ]
  },
  {
   "cell_type": "code",
   "execution_count": 18,
   "metadata": {},
   "outputs": [
    {
     "data": {
      "text/plain": [
       "'../Data/Glob/f1.txt'"
      ]
     },
     "execution_count": 18,
     "metadata": {},
     "output_type": "execute_result"
    }
   ],
   "source": [
    "# Let's change the path\n",
    "file_path = os.path.join(\"..\", \"Data\", \"Glob\", \"f1.txt\")\n",
    "file_path"
   ]
  },
  {
   "cell_type": "code",
   "execution_count": 19,
   "metadata": {},
   "outputs": [
    {
     "data": {
      "text/plain": [
       "True"
      ]
     },
     "execution_count": 19,
     "metadata": {},
     "output_type": "execute_result"
    }
   ],
   "source": [
    "# Check if the file exists again!!\n",
    "os.path.exists(file_path)"
   ]
  },
  {
   "cell_type": "code",
   "execution_count": 20,
   "metadata": {},
   "outputs": [
    {
     "data": {
      "text/plain": [
       "False"
      ]
     },
     "execution_count": 20,
     "metadata": {},
     "output_type": "execute_result"
    }
   ],
   "source": [
    "# Is it a directory?\n",
    "os.path.isdir(file_path)"
   ]
  },
  {
   "cell_type": "code",
   "execution_count": 21,
   "metadata": {},
   "outputs": [
    {
     "data": {
      "text/plain": [
       "True"
      ]
     },
     "execution_count": 21,
     "metadata": {},
     "output_type": "execute_result"
    }
   ],
   "source": [
    "# Is it a file?\n",
    "os.path.isfile(file_path)"
   ]
  },
  {
   "cell_type": "code",
   "execution_count": 22,
   "metadata": {},
   "outputs": [
    {
     "name": "stdout",
     "output_type": "stream",
     "text": [
      "7375 B 7.2021484375 KB\n"
     ]
    }
   ],
   "source": [
    "# What's its size? \n",
    "file_size_bytes = os.path.getsize(file_path)\n",
    "file_size_kbytes = file_size_bytes / 1024\n",
    "print(file_size_bytes, \"B\", file_size_kbytes, \"KB\")"
   ]
  },
  {
   "cell_type": "code",
   "execution_count": 23,
   "metadata": {},
   "outputs": [
    {
     "data": {
      "text/plain": [
       "'f1.txt'"
      ]
     },
     "execution_count": 23,
     "metadata": {},
     "output_type": "execute_result"
    }
   ],
   "source": [
    "# Get File name\n",
    "os.path.basename(file_path)"
   ]
  },
  {
   "cell_type": "code",
   "execution_count": 24,
   "metadata": {},
   "outputs": [
    {
     "data": {
      "text/plain": [
       "'/Users/rhf/git/IPythonNotebookTutorial/Data/Glob/f1.txt'"
      ]
     },
     "execution_count": 24,
     "metadata": {},
     "output_type": "execute_result"
    }
   ],
   "source": [
    "# Get Full path\n",
    "os.path.abspath(file_path)"
   ]
  },
  {
   "cell_type": "code",
   "execution_count": 25,
   "metadata": {},
   "outputs": [
    {
     "data": {
      "text/plain": [
       "'../Data/Glob'"
      ]
     },
     "execution_count": 25,
     "metadata": {},
     "output_type": "execute_result"
    }
   ],
   "source": [
    "# Get the firectory where the file is\n",
    "os.path.dirname(file_path)"
   ]
  },
  {
   "cell_type": "code",
   "execution_count": 26,
   "metadata": {},
   "outputs": [
    {
     "data": {
      "text/plain": [
       "'/Users/rhf/git/IPythonNotebookTutorial/Data/Glob'"
      ]
     },
     "execution_count": 26,
     "metadata": {},
     "output_type": "execute_result"
    }
   ],
   "source": [
    "# We were expecting something different????\n",
    "# Absolute directory where the file is\n",
    "os.path.dirname(\n",
    "    os.path.abspath(file_path)\n",
    ")"
   ]
  },
  {
   "cell_type": "markdown",
   "metadata": {},
   "source": [
    "### Exercise\n",
    "\n",
    "```\n",
    "/SNS/lustre/EXAMPLES/IPythonNotebookTutorial/Data/Glob/f1.txt\n",
    "                                                       ------ 1\n",
    "------------------------------------------------------------- 2\n",
    "                                            -----------       3\n",
    "-------------------------------------------------------       4                                                    \n",
    "```\n",
    "\n",
    "1. Get only the file name of file_path\n",
    "2. Get the full path of file_path\n",
    "3. Get the directory where the file_path is\n",
    "4. Absolute directory where file_path is"
   ]
  },
  {
   "cell_type": "code",
   "execution_count": 27,
   "metadata": {
    "scrolled": true
   },
   "outputs": [],
   "source": [
    "# 1. File name\n"
   ]
  },
  {
   "cell_type": "code",
   "execution_count": 28,
   "metadata": {},
   "outputs": [],
   "source": [
    "# 2. Full path\n"
   ]
  },
  {
   "cell_type": "code",
   "execution_count": 29,
   "metadata": {},
   "outputs": [],
   "source": [
    "# 3. Relative directory where the file is\n"
   ]
  },
  {
   "cell_type": "code",
   "execution_count": 30,
   "metadata": {},
   "outputs": [],
   "source": [
    "# 4. Absolute directory where the file is\n"
   ]
  },
  {
   "cell_type": "code",
   "execution_count": 31,
   "metadata": {},
   "outputs": [],
   "source": [
    "# Bonus: Check if it is a file\n"
   ]
  },
  {
   "cell_type": "markdown",
   "metadata": {},
   "source": [
    "How to get the **file extension**:"
   ]
  },
  {
   "cell_type": "code",
   "execution_count": 32,
   "metadata": {},
   "outputs": [
    {
     "name": "stdout",
     "output_type": "stream",
     "text": [
      "prefix = ../Data/Glob/f1; suffix = .txt; suffix without '.' = txt.\n"
     ]
    }
   ],
   "source": [
    "# Using: os.path.splitext\n",
    "prefix, suffix = os.path.splitext(file_path)\n",
    "print(\"prefix = {}; suffix = {}; suffix without '.' = {}.\".format(prefix, suffix, suffix[1:]))"
   ]
  },
  {
   "cell_type": "code",
   "execution_count": 33,
   "metadata": {},
   "outputs": [
    {
     "name": "stdout",
     "output_type": "stream",
     "text": [
      "f1.txt\n",
      "['f1', 'txt']\n",
      "txt\n"
     ]
    }
   ],
   "source": [
    "# Using: string ssplit\n",
    "filename_only = os.path.basename(file_path)\n",
    "print(filename_only)\n",
    "print(filename_only.split(\".\"))\n",
    "print(filename_only.split(\".\")[-1])"
   ]
  },
  {
   "cell_type": "markdown",
   "metadata": {},
   "source": [
    "# ASCII File Management"
   ]
  },
  {
   "cell_type": "code",
   "execution_count": 34,
   "metadata": {},
   "outputs": [
    {
     "data": {
      "text/plain": [
       "'../Data/Glob/f1.txt'"
      ]
     },
     "execution_count": 34,
     "metadata": {},
     "output_type": "execute_result"
    }
   ],
   "source": [
    "# Let's get a file\n",
    "file_path = os.path.join(\"..\", \"Data\", \"Glob\", \"f1.txt\")\n",
    "file_path"
   ]
  },
  {
   "cell_type": "code",
   "execution_count": 35,
   "metadata": {},
   "outputs": [
    {
     "name": "stdout",
     "output_type": "stream",
     "text": [
      "# X , Y , E , DX\r\n",
      "1\r\n",
      "0.00232478,8.22832,0.677097,0.0020133\r\n",
      "0.00458718,5.8915,0.193922,0.00192328\r\n",
      "0.00684958,12.573,0.413909,0.00189569\r\n",
      "0.00911198,37.3161,0.768022,0.00199785\r\n",
      "0.0113744,156.672,2.59008,0.00205609\r\n",
      "0.0136368,567.555,11.7842,0.00217489\r\n",
      "0.0158992,1401.89,16.1017,0.00229348\r\n",
      "0.0181616,1334.2,13.4719,0.00239931\r\n"
     ]
    }
   ],
   "source": [
    "!head $file_path"
   ]
  },
  {
   "cell_type": "markdown",
   "metadata": {},
   "source": [
    "```\n",
    "file_object  = open(“filename”, “mode”)\n",
    "```\n",
    "\n",
    "Where:\n",
    "\n",
    "`file_object` is the variable to add the file object. \n",
    "\n",
    "`mode` is: \n",
    "\n",
    "* `r` – Read mode which is used when the file is only being read \n",
    "* `w` – Write mode which is used to edit and write new information to the file (any existing files with the same name will be erased when this mode is activated) \n",
    "* `a` – Appending mode, which is used to add new data to the end of the file; that is new information is automatically amended to the end \n"
   ]
  },
  {
   "cell_type": "code",
   "execution_count": 36,
   "metadata": {},
   "outputs": [],
   "source": [
    "# Open file, read file, close file\n",
    "fh = open(file_path, \"r\")\n",
    "lines = fh.readlines()\n",
    "fh.close()"
   ]
  },
  {
   "cell_type": "code",
   "execution_count": 37,
   "metadata": {},
   "outputs": [
    {
     "data": {
      "text/plain": [
       "['# X , Y , E , DX\\n',\n",
       " '1\\n',\n",
       " '0.00232478,8.22832,0.677097,0.0020133\\n',\n",
       " '0.00458718,5.8915,0.193922,0.00192328\\n',\n",
       " '0.00684958,12.573,0.413909,0.00189569\\n',\n",
       " '0.00911198,37.3161,0.768022,0.00199785\\n',\n",
       " '0.0113744,156.672,2.59008,0.00205609\\n',\n",
       " '0.0136368,567.555,11.7842,0.00217489\\n',\n",
       " '0.0158992,1401.89,16.1017,0.00229348\\n',\n",
       " '0.0181616,1334.2,13.4719,0.00239931\\n']"
      ]
     },
     "execution_count": 37,
     "metadata": {},
     "output_type": "execute_result"
    }
   ],
   "source": [
    "# What do we have in `lines`?\n",
    "lines[:10]"
   ]
  },
  {
   "cell_type": "code",
   "execution_count": 38,
   "metadata": {},
   "outputs": [
    {
     "data": {
      "text/plain": [
       "['# X , Y , E , DX\\n',\n",
       " '0.00232478,8.22832,0.677097,0.0020133\\n',\n",
       " '0.00458718,5.8915,0.193922,0.00192328\\n',\n",
       " '0.00684958,12.573,0.413909,0.00189569\\n',\n",
       " '0.00911198,37.3161,0.768022,0.00199785\\n',\n",
       " '0.0113744,156.672,2.59008,0.00205609\\n',\n",
       " '0.0136368,567.555,11.7842,0.00217489\\n',\n",
       " '0.0158992,1401.89,16.1017,0.00229348\\n',\n",
       " '0.0181616,1334.2,13.4719,0.00239931\\n',\n",
       " '0.020424,1621.73,20.0042,0.00247893\\n']"
      ]
     },
     "execution_count": 38,
     "metadata": {},
     "output_type": "execute_result"
    }
   ],
   "source": [
    "# get rid of the `1` after the header (position 1 in the list)\n",
    "del lines[1]\n",
    "lines[:10]"
   ]
  },
  {
   "cell_type": "code",
   "execution_count": 39,
   "metadata": {},
   "outputs": [
    {
     "data": {
      "text/plain": [
       "['X, Y, E(Y), Dx\\n',\n",
       " '0.00232478,8.22832,0.677097,0.0020133\\n',\n",
       " '0.00458718,5.8915,0.193922,0.00192328\\n',\n",
       " '0.00684958,12.573,0.413909,0.00189569\\n',\n",
       " '0.00911198,37.3161,0.768022,0.00199785\\n',\n",
       " '0.0113744,156.672,2.59008,0.00205609\\n',\n",
       " '0.0136368,567.555,11.7842,0.00217489\\n',\n",
       " '0.0158992,1401.89,16.1017,0.00229348\\n',\n",
       " '0.0181616,1334.2,13.4719,0.00239931\\n',\n",
       " '0.020424,1621.73,20.0042,0.00247893\\n']"
      ]
     },
     "execution_count": 39,
     "metadata": {},
     "output_type": "execute_result"
    }
   ],
   "source": [
    "# Change the header to `X, Y, E(Y), Dx`. Don't forget the new line!!\n",
    "lines[0] = 'X, Y, E(Y), Dx\\n'\n",
    "lines[:10]\n"
   ]
  },
  {
   "cell_type": "code",
   "execution_count": 40,
   "metadata": {},
   "outputs": [],
   "source": [
    "# Save the file with a new name (put your name on the file!!!)\n",
    "my_file_path = '/tmp/file_1234.txt'\n",
    "fh = open(my_file_path, \"w\")\n",
    "fh.writelines(lines)\n",
    "fh.close()"
   ]
  },
  {
   "cell_type": "code",
   "execution_count": 41,
   "metadata": {},
   "outputs": [
    {
     "name": "stdout",
     "output_type": "stream",
     "text": [
      "X, Y, E(Y), Dx\r\n",
      "0.00232478,8.22832,0.677097,0.0020133\r\n",
      "0.00458718,5.8915,0.193922,0.00192328\r\n",
      "0.00684958,12.573,0.413909,0.00189569\r\n",
      "0.00911198,37.3161,0.768022,0.00199785\r\n",
      "0.0113744,156.672,2.59008,0.00205609\r\n",
      "0.0136368,567.555,11.7842,0.00217489\r\n",
      "0.0158992,1401.89,16.1017,0.00229348\r\n",
      "0.0181616,1334.2,13.4719,0.00239931\r\n",
      "0.020424,1621.73,20.0042,0.00247893\r\n"
     ]
    }
   ],
   "source": [
    "# visualize its contents to make sure everything is OK\n",
    "!head $my_file_path"
   ]
  },
  {
   "cell_type": "markdown",
   "metadata": {},
   "source": [
    "### Exercise\n",
    "\n",
    "- Remove the header of the file and save it.\n",
    "\n",
    "In the end it should look something like:\n",
    "```\n",
    "0.00232478,8.22832,0.677097,0.0020133\n",
    "0.00458718,5.8915,0.193922,0.00192328\n",
    "0.00684958,12.573,0.413909,0.00189569\n",
    "(...)\n",
    "```"
   ]
  },
  {
   "cell_type": "markdown",
   "metadata": {},
   "source": [
    "# XML File management\n",
    "\n",
    "## The ElementTree XML API\n",
    "\n",
    "The Element type is a flexible container object, designed to store hierarchical data structures in memory. The type can be described as a cross between a list and a dictionary.\n"
   ]
  },
  {
   "cell_type": "code",
   "execution_count": 42,
   "metadata": {},
   "outputs": [],
   "source": [
    "# Let's import it \n",
    "import xml.etree.ElementTree as ET"
   ]
  },
  {
   "cell_type": "code",
   "execution_count": 43,
   "metadata": {},
   "outputs": [
    {
     "data": {
      "text/plain": [
       "'/Users/rhf/git/IPythonNotebookTutorial/notebooks'"
      ]
     },
     "execution_count": 43,
     "metadata": {},
     "output_type": "execute_result"
    }
   ],
   "source": [
    "# Let's see where we are:\n",
    "os.getcwd()"
   ]
  },
  {
   "cell_type": "code",
   "execution_count": 44,
   "metadata": {},
   "outputs": [],
   "source": [
    "file_name = \"../Data/XML/f1.xml\""
   ]
  },
  {
   "cell_type": "code",
   "execution_count": 45,
   "metadata": {},
   "outputs": [
    {
     "data": {
      "text/plain": [
       "True"
      ]
     },
     "execution_count": 45,
     "metadata": {},
     "output_type": "execute_result"
    }
   ],
   "source": [
    "# does the file exists?\n",
    "os.path.isfile(file_name)"
   ]
  },
  {
   "cell_type": "code",
   "execution_count": 46,
   "metadata": {},
   "outputs": [
    {
     "name": "stdout",
     "output_type": "stream",
     "text": [
      "<?xml version=\"1.0\" encoding=\"UTF-8\"?>\r\n",
      "<?xml-stylesheet type=\"text/xsl\" href=\"sansstyle.xsl\"?>\r\n",
      "<SPICErack SPICE_version=\"1.7\" filename=\"CG2_exp206_scan0021_0001.xml\" start_time=\"2017-06-13 23:21:26\" end_time=\"2017-06-14 01:22:10\">\r\n",
      "  <Header>\r\n",
      "    <Instrument>CG2</Instrument>\r\n",
      "    <Start_Time>2017-06-13 23:21:26</Start_Time>\r\n",
      "    <End_Time>2017-06-14 01:22:10</End_Time>\r\n",
      "    <Experiment_Title>Beamline calibration activities</Experiment_Title>\r\n",
      "    <Experiment_number type=\"INT32\">206</Experiment_number>\r\n",
      "    <IPTS_number>828</IPTS_number>\r\n",
      "    <Cycle_Number>473</Cycle_Number>\r\n",
      "    <Command>scan n=@(__active_setup.frame_count)-1 preset time @(__active_setup.scan_time)</Command>\r\n",
      "    <Users>Lakeisha Walker, Shuo Qian, Daisuke Sawada, Yuri Melnichenko, William Heller, Lowell Crow, Gary Lynn, George Wignall, Lilin He, Volker Urban, Ryan Oliver, Durgesh Rai, Hugh O'Neill, Ken Littrell, Katherine Bailey, Sai Venkatesh Pingali, Lisa Debeer-Schmitt</Users>\r\n",
      "    <Local_Contact>LDS, KMB</Local_Contact>\r\n",
      "    <Scan_Number type=\"INT32\">21</Scan_Number>\r\n",
      "    <Scan_Point_Number type=\"INT32\">1</Scan_Point_Number>\r\n",
      "    <Scan_Title>H20(IC: Flood_6m  S: Flood_off_400  P:[])</Scan_Title>\r\n",
      "    <Sample_Name>H20</Sample_Name>\r\n",
      "    <Sample_ID> 31242</Sample_ID>\r\n",
      "    <Sample_Changer>Flat changer</Sample_Changer>\r\n"
     ]
    }
   ],
   "source": [
    "#Let's have a look at the file:\n",
    "\n",
    "!head -20 $file_name"
   ]
  },
  {
   "cell_type": "markdown",
   "metadata": {},
   "source": [
    "Let's get the tag `root`:\n",
    "```\n",
    "<root> \n",
    "    <tag1>xxxx</tag1>\n",
    "</root>\n",
    "```"
   ]
  },
  {
   "cell_type": "code",
   "execution_count": 47,
   "metadata": {},
   "outputs": [],
   "source": [
    "# Let's initilize it and get the `root` node = SPICErack\n",
    "tree = ET.parse(file_name)\n",
    "root = tree.getroot()"
   ]
  },
  {
   "cell_type": "code",
   "execution_count": 48,
   "metadata": {},
   "outputs": [
    {
     "data": {
      "text/plain": [
       "'SPICErack'"
      ]
     },
     "execution_count": 48,
     "metadata": {},
     "output_type": "execute_result"
    }
   ],
   "source": [
    "# Make sure the root is  SPICErack\n",
    "root.tag"
   ]
  },
  {
   "cell_type": "code",
   "execution_count": 49,
   "metadata": {},
   "outputs": [
    {
     "data": {
      "text/plain": [
       "{'SPICE_version': '1.7',\n",
       " 'filename': 'CG2_exp206_scan0021_0001.xml',\n",
       " 'start_time': '2017-06-13 23:21:26',\n",
       " 'end_time': '2017-06-14 01:22:10'}"
      ]
     },
     "execution_count": 49,
     "metadata": {},
     "output_type": "execute_result"
    }
   ],
   "source": [
    "# Show all attributes of root\n",
    "root.attrib"
   ]
  },
  {
   "cell_type": "code",
   "execution_count": 50,
   "metadata": {},
   "outputs": [
    {
     "data": {
      "text/plain": [
       "'CG2_exp206_scan0021_0001.xml'"
      ]
     },
     "execution_count": 50,
     "metadata": {},
     "output_type": "execute_result"
    }
   ],
   "source": [
    "# root.attrib is a dictionary: we can read / modify it by the key value\n",
    "root.attrib['filename']"
   ]
  },
  {
   "cell_type": "markdown",
   "metadata": {},
   "source": [
    "## Pseudo-Exercise\n",
    "\n",
    "Update the file:\n",
    "\n",
    "1. In `SPICErack/Header/Users` remove the `-` in `Lisa Debeer-Schmitt`.\n",
    "2. Add an attribute `type=\"STRING\"` to `SPICErack/Header/Users`\n",
    "\n"
   ]
  },
  {
   "cell_type": "code",
   "execution_count": 51,
   "metadata": {},
   "outputs": [
    {
     "data": {
      "text/plain": [
       "\"Lakeisha Walker, Shuo Qian, Daisuke Sawada, Yuri Melnichenko, William Heller, Lowell Crow, Gary Lynn, George Wignall, Lilin He, Volker Urban, Ryan Oliver, Durgesh Rai, Hugh O'Neill, Ken Littrell, Katherine Bailey, Sai Venkatesh Pingali, Lisa Debeer-Schmitt\""
      ]
     },
     "execution_count": 51,
     "metadata": {},
     "output_type": "execute_result"
    }
   ],
   "source": [
    "# Get the user list: xpath = Header/Users\n",
    "element = root.find('Header/Users')\n",
    "element.text"
   ]
  },
  {
   "cell_type": "code",
   "execution_count": 52,
   "metadata": {},
   "outputs": [
    {
     "data": {
      "text/plain": [
       "['Lakeisha Walker',\n",
       " ' Shuo Qian',\n",
       " ' Daisuke Sawada',\n",
       " ' Yuri Melnichenko',\n",
       " ' William Heller',\n",
       " ' Lowell Crow',\n",
       " ' Gary Lynn',\n",
       " ' George Wignall',\n",
       " ' Lilin He',\n",
       " ' Volker Urban',\n",
       " ' Ryan Oliver',\n",
       " ' Durgesh Rai',\n",
       " \" Hugh O'Neill\",\n",
       " ' Ken Littrell',\n",
       " ' Katherine Bailey',\n",
       " ' Sai Venkatesh Pingali',\n",
       " ' Lisa Debeer-Schmitt']"
      ]
     },
     "execution_count": 52,
     "metadata": {},
     "output_type": "execute_result"
    }
   ],
   "source": [
    "# Let's get the names to a list\n",
    "names_str = element.text\n",
    "names_list = names_str.split(\",\")\n",
    "names_list"
   ]
  },
  {
   "cell_type": "code",
   "execution_count": 53,
   "metadata": {},
   "outputs": [
    {
     "data": {
      "text/plain": [
       "['Lakeisha Walker',\n",
       " 'Shuo Qian',\n",
       " 'Daisuke Sawada',\n",
       " 'Yuri Melnichenko',\n",
       " 'William Heller',\n",
       " 'Lowell Crow',\n",
       " 'Gary Lynn',\n",
       " 'George Wignall',\n",
       " 'Lilin He',\n",
       " 'Volker Urban',\n",
       " 'Ryan Oliver',\n",
       " 'Durgesh Rai',\n",
       " \"Hugh O'Neill\",\n",
       " 'Ken Littrell',\n",
       " 'Katherine Bailey',\n",
       " 'Sai Venkatesh Pingali',\n",
       " 'Lisa Debeer-Schmitt']"
      ]
     },
     "execution_count": 53,
     "metadata": {},
     "output_type": "execute_result"
    }
   ],
   "source": [
    "# Are the names well formatted?\n",
    "names_list = [name.strip() for name in names_list]\n",
    "names_list"
   ]
  },
  {
   "cell_type": "code",
   "execution_count": 54,
   "metadata": {},
   "outputs": [
    {
     "data": {
      "text/plain": [
       "'Lisa Debeer Schmitt'"
      ]
     },
     "execution_count": 54,
     "metadata": {},
     "output_type": "execute_result"
    }
   ],
   "source": [
    "# Let's remove the `-` from Lisa\n",
    "lisa = names_list[-1]\n",
    "lisa\n",
    "lisa = lisa.replace(\"-\", \" \")\n",
    "lisa"
   ]
  },
  {
   "cell_type": "code",
   "execution_count": 55,
   "metadata": {},
   "outputs": [
    {
     "data": {
      "text/plain": [
       "['Lakeisha Walker',\n",
       " 'Shuo Qian',\n",
       " 'Daisuke Sawada',\n",
       " 'Yuri Melnichenko',\n",
       " 'William Heller',\n",
       " 'Lowell Crow',\n",
       " 'Gary Lynn',\n",
       " 'George Wignall',\n",
       " 'Lilin He',\n",
       " 'Volker Urban',\n",
       " 'Ryan Oliver',\n",
       " 'Durgesh Rai',\n",
       " \"Hugh O'Neill\",\n",
       " 'Ken Littrell',\n",
       " 'Katherine Bailey',\n",
       " 'Sai Venkatesh Pingali',\n",
       " 'Lisa Debeer Schmitt']"
      ]
     },
     "execution_count": 55,
     "metadata": {},
     "output_type": "execute_result"
    }
   ],
   "source": [
    "# Let's update the list of names\n",
    "names_list[-1] = lisa\n",
    "names_list"
   ]
  },
  {
   "cell_type": "code",
   "execution_count": 56,
   "metadata": {},
   "outputs": [
    {
     "data": {
      "text/plain": [
       "\"Lakeisha Walker, Shuo Qian, Daisuke Sawada, Yuri Melnichenko, William Heller, Lowell Crow, Gary Lynn, George Wignall, Lilin He, Volker Urban, Ryan Oliver, Durgesh Rai, Hugh O'Neill, Ken Littrell, Katherine Bailey, Sai Venkatesh Pingali, Lisa Debeer Schmitt\""
      ]
     },
     "execution_count": 56,
     "metadata": {},
     "output_type": "execute_result"
    }
   ],
   "source": [
    "# Get the list into a string with ',' separation of the names\n",
    "names_str = \", \".join(names_list)\n",
    "names_str"
   ]
  },
  {
   "cell_type": "code",
   "execution_count": 57,
   "metadata": {},
   "outputs": [
    {
     "data": {
      "text/plain": [
       "\"Lakeisha Walker, Shuo Qian, Daisuke Sawada, Yuri Melnichenko, William Heller, Lowell Crow, Gary Lynn, George Wignall, Lilin He, Volker Urban, Ryan Oliver, Durgesh Rai, Hugh O'Neill, Ken Littrell, Katherine Bailey, Sai Venkatesh Pingali, Lisa Debeer Schmitt\""
      ]
     },
     "execution_count": 57,
     "metadata": {},
     "output_type": "execute_result"
    }
   ],
   "source": [
    "# Let's update the file in memory\n",
    "element.text = names_str\n",
    "element.text"
   ]
  },
  {
   "cell_type": "code",
   "execution_count": 58,
   "metadata": {},
   "outputs": [
    {
     "data": {
      "text/plain": [
       "{}"
      ]
     },
     "execution_count": 58,
     "metadata": {},
     "output_type": "execute_result"
    }
   ],
   "source": [
    "# Let's Add the attribute\n",
    "element.attrib"
   ]
  },
  {
   "cell_type": "code",
   "execution_count": 59,
   "metadata": {},
   "outputs": [
    {
     "data": {
      "text/plain": [
       "{'type': 'STRING'}"
      ]
     },
     "execution_count": 59,
     "metadata": {},
     "output_type": "execute_result"
    }
   ],
   "source": [
    "element.attrib[\"type\"]=\"STRING\"\n",
    "element.attrib"
   ]
  },
  {
   "cell_type": "code",
   "execution_count": 60,
   "metadata": {},
   "outputs": [],
   "source": [
    "# Let's save our XML Tree as a new file\n",
    "new_file_path = '/tmp/file_xml_1234.xml'\n",
    "fh = open(new_file_path, 'w')\n",
    "tree.write(fh, encoding='unicode')\n",
    "fh.close()"
   ]
  },
  {
   "cell_type": "code",
   "execution_count": 61,
   "metadata": {},
   "outputs": [
    {
     "name": "stdout",
     "output_type": "stream",
     "text": [
      "<SPICErack SPICE_version=\"1.7\" end_time=\"2017-06-14 01:22:10\" filename=\"CG2_exp206_scan0021_0001.xml\" start_time=\"2017-06-13 23:21:26\">\r\n",
      "  <Header>\r\n",
      "    <Instrument>CG2</Instrument>\r\n",
      "    <Start_Time>2017-06-13 23:21:26</Start_Time>\r\n",
      "    <End_Time>2017-06-14 01:22:10</End_Time>\r\n",
      "    <Experiment_Title>Beamline calibration activities</Experiment_Title>\r\n",
      "    <Experiment_number type=\"INT32\">206</Experiment_number>\r\n",
      "    <IPTS_number>828</IPTS_number>\r\n",
      "    <Cycle_Number>473</Cycle_Number>\r\n",
      "    <Command>scan n=@(__active_setup.frame_count)-1 preset time @(__active_setup.scan_time)</Command>\r\n",
      "    <Users type=\"STRING\">Lakeisha Walker, Shuo Qian, Daisuke Sawada, Yuri Melnichenko, William Heller, Lowell Crow, Gary Lynn, George Wignall, Lilin He, Volker Urban, Ryan Oliver, Durgesh Rai, Hugh O'Neill, Ken Littrell, Katherine Bailey, Sai Venkatesh Pingali, Lisa Debeer Schmitt</Users>\r\n",
      "    <Local_Contact>LDS, KMB</Local_Contact>\r\n",
      "    <Scan_Number type=\"INT32\">21</Scan_Number>\r\n",
      "    <Scan_Point_Number type=\"INT32\">1</Scan_Point_Number>\r\n",
      "    <Scan_Title>H20(IC: Flood_6m  S: Flood_off_400  P:[])</Scan_Title>\r\n",
      "    <Sample_Name>H20</Sample_Name>\r\n",
      "    <Sample_ID> 31242</Sample_ID>\r\n",
      "    <Sample_Changer>Flat changer</Sample_Changer>\r\n",
      "    <Sample_Changer_Position type=\"INT32\">4</Sample_Changer_Position>\r\n",
      "    <Sample_Thickness type=\"FLOAT32\" units=\"cm\">1.000000</Sample_Thickness>\r\n"
     ]
    }
   ],
   "source": [
    "# visualize the content\n",
    "!head -20 $new_file_path"
   ]
  },
  {
   "cell_type": "markdown",
   "metadata": {},
   "source": [
    "## Advanced - Do it at home?\n",
    "\n",
    "- Plot the detector using `imshow` of `matplotlib`.\n",
    "- Note that the detector data is in `<root tag>/Data/Detector`.\n",
    "- NB: `imshow` needs a `numpy.array` of the type `float/double`.\n"
   ]
  },
  {
   "cell_type": "code",
   "execution_count": 83,
   "metadata": {},
   "outputs": [],
   "source": [
    "import matplotlib.pyplot as plt \n",
    "import numpy as np"
   ]
  },
  {
   "cell_type": "code",
   "execution_count": 128,
   "metadata": {},
   "outputs": [
    {
     "data": {
      "text/plain": [
       "'\\n347\\t579\\t1158\\t1295\\t1730\\t2178\\t2391\\t2468\\t2437\\t2396\\t2402\\t2397\\t2432\\t2382\\t2389\\t2395\\t2402\\t2328\\t2454\\t2400\\t2360\\t2390\\t2391\\t2256\\t2302\\t2391\\t2324\\t2413\\t2305\\t2472\\t2387\\t2413\\t2312\\t2448\\t2361\\t2299\\t2428\\t2241\\t2345\\t2308\\t2346\\t2361\\t2480\\t2343\\t2391\\t2390\\t2414\\t2404\\t2427\\t2352\\t2267\\t2435\\t2318\\t2417\\t2422\\t2365\\t2367\\t2411\\t2412\\t2414\\t2374\\t2439\\t2451\\t2424\\t2376\\t2331\\t2399\\t2372\\t2412\\t2397\\t2512\\t2377\\t2400\\t2494\\t2370\\t2333\\t2364\\t2405\\t2419\\t2375\\t2398\\t2303\\t2497\\t2405\\t2353\\t2481\\t2314\\t2415\\t2399\\t2410\\t2465\\t2426\\t2439\\t2445\\t2379\\t2476\\t2359\\t2444\\t2459\\t2500\\t2385\\t2493\\t2392\\t2418\\t2390\\t2504\\t2380\\t2346\\t2416\\t2399\\t2363\\t2341\\t2471\\t2415\\t2420\\t2357\\t2378\\t2455\\t2377\\t2363\\t2381\\t2339\\t2414\\t2473\\t2389\\t2419\\t2410\\t2504\\t2501\\t2351\\t2505\\t2433\\t2413\\t2468\\t2434\\t2329\\t2305\\t2381\\t2424\\t2350\\t2394\\t2353\\t2424\\t2430\\t2323\\t2428\\t2495\\t2460\\t2427\\t2408\\t2512\\t2457\\t2231\\t2361\\t2365\\t2404\\t2405\\t2423\\t2358\\t2319\\t2461\\t2389\\t2290\\t2360\\t2376\\t2415\\t2389\\t2487\\t2418\\t2319\\t2441\\t2388\\t2317\\t2359\\t2450\\t2491\\t2448\\t2365\\t2328\\t2328\\t2405\\t2370\\t2421\\t2356\\t2452\\t2317\\t2388\\t2392\\t2408\\t2383\\t2402\\t2348\\t2366\\t2411\\t2481\\t2429\\t2405\\t2341\\t2435\\t2318\\t2'"
      ]
     },
     "execution_count": 128,
     "metadata": {},
     "output_type": "execute_result"
    }
   ],
   "source": [
    "# Using Xpath let's get the Detector data\n",
    "detector = root.find('Data/Detector')\n",
    "# Show only the first 1000 characters\n",
    "detector.text[:1000]"
   ]
  },
  {
   "cell_type": "code",
   "execution_count": 129,
   "metadata": {},
   "outputs": [
    {
     "data": {
      "text/plain": [
       "['',\n",
       " '347\\t579\\t1158\\t1295\\t1730\\t2178\\t2391\\t2468\\t2437\\t2396\\t2402\\t2397\\t2432\\t2382\\t2389\\t2395\\t2402\\t2328\\t2454\\t2400\\t2360\\t2390\\t2391\\t2256\\t2302\\t2391\\t2324\\t2413\\t2305\\t2472\\t2387\\t2413\\t2312\\t2448\\t2361\\t2299\\t2428\\t2241\\t2345\\t2308\\t2346\\t2361\\t2480\\t2343\\t2391\\t2390\\t2414\\t2404\\t2427\\t2352\\t2267\\t2435\\t2318\\t2417\\t2422\\t2365\\t2367\\t2411\\t2412\\t2414\\t2374\\t2439\\t2451\\t2424\\t2376\\t2331\\t2399\\t2372\\t2412\\t2397\\t2512\\t2377\\t2400\\t2494\\t2370\\t2333\\t2364\\t2405\\t2419\\t2375\\t2398\\t2303\\t2497\\t2405\\t2353\\t2481\\t2314\\t2415\\t2399\\t2410\\t2465\\t2426\\t2439\\t2445\\t2379\\t2476\\t2359\\t2444\\t2459\\t2500\\t2385\\t2493\\t2392\\t2418\\t2390\\t2504\\t2380\\t2346\\t2416\\t2399\\t2363\\t2341\\t2471\\t2415\\t2420\\t2357\\t2378\\t2455\\t2377\\t2363\\t2381\\t2339\\t2414\\t2473\\t2389\\t2419\\t2410\\t2504\\t2501\\t2351\\t2505\\t2433\\t2413\\t2468\\t2434\\t2329\\t2305\\t2381\\t2424\\t2350\\t2394\\t2353\\t2424\\t2430\\t2323\\t2428\\t2495\\t2460\\t2427\\t2408\\t2512\\t2457\\t2231\\t2361\\t2365\\t2404\\t2405\\t2423\\t2358\\t2319\\t2461\\t2389\\t2290\\t2360\\t2376\\t2415\\t2389\\t2487\\t2418\\t2319\\t2441\\t2388\\t2317\\t2359\\t2450\\t2491\\t2448\\t2365\\t2328\\t2328\\t2405\\t2370\\t2421\\t2356\\t2452\\t2317\\t2388\\t2392\\t2408\\t2383\\t2402\\t2348\\t2366\\t2411\\t2481\\t2429\\t2405\\t2341\\t2435\\t2318\\t2383\\t2396\\t2266\\t2408\\t2506\\t2402\\t2353\\t2399\\t2502\\t2423\\t2410\\t2326\\t2424\\t2296\\t2389\\t2358\\t2454\\t2412\\t2340\\t2338\\t2341\\t2329\\t2331\\t2349\\t2361\\t2290\\t2383\\t2440\\t2297\\t2419\\t2355\\t2275\\t2249\\t2398\\t2381\\t2382\\t2395\\t2389\\t2280\\t2339\\t2392\\t2335\\t2381\\t2325\\t2218\\t2309\\t2277\\t2395\\t2366\\t2344\\t2151\\t1832\\t1567\\t1291\\t865\\t1306']"
      ]
     },
     "execution_count": 129,
     "metadata": {},
     "output_type": "execute_result"
    }
   ],
   "source": [
    "# Let's first split the text by `\\n`. It is a column of the detector every line in the XML tag.\n",
    "columns = detector.text.split('\\n')\n",
    "columns[0:2]"
   ]
  },
  {
   "cell_type": "code",
   "execution_count": 131,
   "metadata": {},
   "outputs": [
    {
     "data": {
      "text/plain": [
       "'347\\t579\\t1158\\t1295\\t1730\\t2178\\t2391\\t2468\\t2437\\t2396\\t2402\\t2397\\t2432\\t2382\\t2389\\t2395\\t2402\\t2328\\t2454\\t2400\\t2360\\t2390\\t2391\\t2256\\t2302\\t2391\\t2324\\t2413\\t2305\\t2472\\t2387\\t2413\\t2312\\t2448\\t2361\\t2299\\t2428\\t2241\\t2345\\t2308\\t2346\\t2361\\t2480\\t2343\\t2391\\t2390\\t2414\\t2404\\t2427\\t2352\\t2267\\t2435\\t2318\\t2417\\t2422\\t2365\\t2367\\t2411\\t2412\\t2414\\t2374\\t2439\\t2451\\t2424\\t2376\\t2331\\t2399\\t2372\\t2412\\t2397\\t2512\\t2377\\t2400\\t2494\\t2370\\t2333\\t2364\\t2405\\t2419\\t2375\\t2398\\t2303\\t2497\\t2405\\t2353\\t2481\\t2314\\t2415\\t2399\\t2410\\t2465\\t2426\\t2439\\t2445\\t2379\\t2476\\t2359\\t2444\\t2459\\t2500\\t2385\\t2493\\t2392\\t2418\\t2390\\t2504\\t2380\\t2346\\t2416\\t2399\\t2363\\t2341\\t2471\\t2415\\t2420\\t2357\\t2378\\t2455\\t2377\\t2363\\t2381\\t2339\\t2414\\t2473\\t2389\\t2419\\t2410\\t2504\\t2501\\t2351\\t2505\\t2433\\t2413\\t2468\\t2434\\t2329\\t2305\\t2381\\t2424\\t2350\\t2394\\t2353\\t2424\\t2430\\t2323\\t2428\\t2495\\t2460\\t2427\\t2408\\t2512\\t2457\\t2231\\t2361\\t2365\\t2404\\t2405\\t2423\\t2358\\t2319\\t2461\\t2389\\t2290\\t2360\\t2376\\t2415\\t2389\\t2487\\t2418\\t2319\\t2441\\t2388\\t2317\\t2359\\t2450\\t2491\\t2448\\t2365\\t2328\\t2328\\t2405\\t2370\\t2421\\t2356\\t2452\\t2317\\t2388\\t2392\\t2408\\t2383\\t2402\\t2348\\t2366\\t2411\\t2481\\t2429\\t2405\\t2341\\t2435\\t2318\\t2383\\t2396\\t2266\\t2408\\t2506\\t2402\\t2353\\t2399\\t2502\\t2423\\t2410\\t2326\\t2424\\t2296\\t2389\\t2358\\t2454\\t2412\\t2340\\t2338\\t2341\\t2329\\t2331\\t2349\\t2361\\t2290\\t2383\\t2440\\t2297\\t2419\\t2355\\t2275\\t2249\\t2398\\t2381\\t2382\\t2395\\t2389\\t2280\\t2339\\t2392\\t2335\\t2381\\t2325\\t2218\\t2309\\t2277\\t2395\\t2366\\t2344\\t2151\\t1832\\t1567\\t1291\\t865\\t1306'"
      ]
     },
     "execution_count": 131,
     "metadata": {},
     "output_type": "execute_result"
    }
   ],
   "source": [
    "# Remove empty collumns. There's a '\\n' at the beginning and end of the Tag.text\n",
    "# Let's get rid of it!\n",
    "columns = [column for column in columns if column != '']\n",
    "columns[0]"
   ]
  },
  {
   "cell_type": "code",
   "execution_count": 135,
   "metadata": {},
   "outputs": [
    {
     "data": {
      "text/plain": [
       "array(['347', '579', '1158', '1295', '1730', '2178', '2391', '2468',\n",
       "       '2437', '2396', '2402', '2397', '2432', '2382', '2389', '2395',\n",
       "       '2402', '2328', '2454', '2400', '2360', '2390', '2391', '2256',\n",
       "       '2302', '2391', '2324', '2413', '2305', '2472', '2387', '2413',\n",
       "       '2312', '2448', '2361', '2299', '2428', '2241', '2345', '2308',\n",
       "       '2346', '2361', '2480', '2343', '2391', '2390', '2414', '2404',\n",
       "       '2427', '2352', '2267', '2435', '2318', '2417', '2422', '2365',\n",
       "       '2367', '2411', '2412', '2414', '2374', '2439', '2451', '2424',\n",
       "       '2376', '2331', '2399', '2372', '2412', '2397', '2512', '2377',\n",
       "       '2400', '2494', '2370', '2333', '2364', '2405', '2419', '2375',\n",
       "       '2398', '2303', '2497', '2405', '2353', '2481', '2314', '2415',\n",
       "       '2399', '2410', '2465', '2426', '2439', '2445', '2379', '2476',\n",
       "       '2359', '2444', '2459', '2500', '2385', '2493', '2392', '2418',\n",
       "       '2390', '2504', '2380', '2346', '2416', '2399', '2363', '2341',\n",
       "       '2471', '2415', '2420', '2357', '2378', '2455', '2377', '2363',\n",
       "       '2381', '2339', '2414', '2473', '2389', '2419', '2410', '2504',\n",
       "       '2501', '2351', '2505', '2433', '2413', '2468', '2434', '2329',\n",
       "       '2305', '2381', '2424', '2350', '2394', '2353', '2424', '2430',\n",
       "       '2323', '2428', '2495', '2460', '2427', '2408', '2512', '2457',\n",
       "       '2231', '2361', '2365', '2404', '2405', '2423', '2358', '2319',\n",
       "       '2461', '2389', '2290', '2360', '2376', '2415', '2389', '2487',\n",
       "       '2418', '2319', '2441', '2388', '2317', '2359', '2450', '2491',\n",
       "       '2448', '2365', '2328', '2328', '2405', '2370', '2421', '2356',\n",
       "       '2452', '2317', '2388', '2392', '2408', '2383', '2402', '2348',\n",
       "       '2366', '2411', '2481', '2429', '2405', '2341', '2435', '2318',\n",
       "       '2383', '2396', '2266', '2408', '2506', '2402', '2353', '2399',\n",
       "       '2502', '2423', '2410', '2326', '2424', '2296', '2389', '2358',\n",
       "       '2454', '2412', '2340', '2338', '2341', '2329', '2331', '2349',\n",
       "       '2361', '2290', '2383', '2440', '2297', '2419', '2355', '2275',\n",
       "       '2249', '2398', '2381', '2382', '2395', '2389', '2280', '2339',\n",
       "       '2392', '2335', '2381', '2325', '2218', '2309', '2277', '2395',\n",
       "       '2366', '2344', '2151', '1832', '1567', '1291', '865', '1306'],\n",
       "      dtype='<U4')"
      ]
     },
     "execution_count": 135,
     "metadata": {},
     "output_type": "execute_result"
    }
   ],
   "source": [
    "# Every row in the text still has a `\\t` separating the count in every pixel\n",
    "colummns_ready = np.array([column.split('\\t') for column in columns])\n",
    "colummns_ready[0]"
   ]
  },
  {
   "cell_type": "code",
   "execution_count": 136,
   "metadata": {
    "scrolled": true
   },
   "outputs": [
    {
     "data": {
      "text/plain": [
       "dtype('<U4')"
      ]
     },
     "execution_count": 136,
     "metadata": {},
     "output_type": "execute_result"
    }
   ],
   "source": [
    "# The type is string (`U` = unicode)\n",
    "colummns_ready.dtype"
   ]
  },
  {
   "cell_type": "code",
   "execution_count": 137,
   "metadata": {},
   "outputs": [],
   "source": [
    "# Let's convert the type to float\n",
    "colummns_ready = colummns_ready.astype(float)"
   ]
  },
  {
   "cell_type": "code",
   "execution_count": 138,
   "metadata": {},
   "outputs": [
    {
     "data": {
      "text/plain": [
       "(192, 256)"
      ]
     },
     "execution_count": 138,
     "metadata": {},
     "output_type": "execute_result"
    }
   ],
   "source": [
    "# Let's make sure de shape is what we expect: 192 tubes, 256 pixels in every tube\n",
    "colummns_ready.shape"
   ]
  },
  {
   "cell_type": "code",
   "execution_count": 122,
   "metadata": {},
   "outputs": [
    {
     "data": {
      "text/plain": [
       "<matplotlib.image.AxesImage at 0x11fdf0ef0>"
      ]
     },
     "execution_count": 122,
     "metadata": {},
     "output_type": "execute_result"
    },
    {
     "data": {
      "image/png": "[encoded data removed]",
      "text/plain": [
       "<matplotlib.figure.Figure at 0x11ec2aef0>"
      ]
     },
     "metadata": {
      "needs_background": "light"
     },
     "output_type": "display_data"
    }
   ],
   "source": [
    "# Let's plot it\n",
    "plt.imshow(colummns_ready)"
   ]
  },
  {
   "cell_type": "code",
   "execution_count": 104,
   "metadata": {},
   "outputs": [
    {
     "data": {
      "text/plain": [
       "<matplotlib.image.AxesImage at 0x11f364320>"
      ]
     },
     "execution_count": 104,
     "metadata": {},
     "output_type": "execute_result"
    },
    {
     "data": {
      "image/png": "[encoded data removed]",
      "text/plain": [
       "<matplotlib.figure.Figure at 0x11f3e6390>"
      ]
     },
     "metadata": {
      "needs_background": "light"
     },
     "output_type": "display_data"
    }
   ],
   "source": [
    "# Let's get the tubes vertically aligned\n",
    "plt.imshow(np.rot90(colummns_ready))"
   ]
  },
  {
   "cell_type": "code",
   "execution_count": 105,
   "metadata": {},
   "outputs": [
    {
     "data": {
      "text/plain": [
       "<matplotlib.image.AxesImage at 0x11fa493c8>"
      ]
     },
     "execution_count": 105,
     "metadata": {},
     "output_type": "execute_result"
    },
    {
     "data": {
      "image/png": "[encoded data removed]",
      "text/plain": [
       "<matplotlib.figure.Figure at 0x11ec14550>"
      ]
     },
     "metadata": {
      "needs_background": "light"
     },
     "output_type": "display_data"
    }
   ],
   "source": [
    "# Let's flip in X! (Not sure if this is needed)\n",
    "plt.imshow(np.flip(np.rot90(colummns_ready)))"
   ]
  },
  {
   "cell_type": "code",
   "execution_count": null,
   "metadata": {},
   "outputs": [],
   "source": []
  }
 ],
 "metadata": {
  "kernelspec": {
   "display_name": "Python 3",
   "language": "python",
   "name": "python3"
  },
  "language_info": {
   "codemirror_mode": {
    "name": "ipython",
    "version": 3
   },
   "file_extension": ".py",
   "mimetype": "text/x-python",
   "name": "python",
   "nbconvert_exporter": "python",
   "pygments_lexer": "ipython3",
   "version": "3.6.5"
  }
 },
 "nbformat": 4,
 "nbformat_minor": 2
}
