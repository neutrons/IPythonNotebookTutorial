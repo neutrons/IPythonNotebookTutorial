{
 "cells": [
  {
   "cell_type": "markdown",
   "metadata": {},
   "source": [
    "# Introduction to OS and ASCII + XML File Manipulation\n",
    "\n",
    "- Operating system interaction: `os`\n",
    "- File manipulation: `os.path`\n",
    "- File Open / Close / Read"
   ]
  },
  {
   "cell_type": "markdown",
   "metadata": {},
   "source": [
    "## Linux shell commands"
   ]
  },
  {
   "cell_type": "markdown",
   "metadata": {},
   "source": [
    "- To call shell from a Notebook is to prepend an exclamation point to a shell command\n",
    "- This is not python standard! Just Jupyter notebooks!\n",
    "- Note the scope of the operation: Only cell wise!\n",
    "\n",
    "**NB**: This is only avaible in the notebooks, not in python scripts!"
   ]
  },
  {
   "cell_type": "code",
   "execution_count": 1,
   "metadata": {},
   "outputs": [
    {
     "name": "stdout",
     "output_type": "stream",
     "text": [
      "/Users/rhf/git/IPythonNotebookTutorial/notebooks\r\n"
     ]
    }
   ],
   "source": [
    "# Current Directory\n",
    "!pwd"
   ]
  },
  {
   "cell_type": "code",
   "execution_count": 2,
   "metadata": {},
   "outputs": [],
   "source": [
    "# Let's change our directory\n",
    "!cd .."
   ]
  },
  {
   "cell_type": "code",
   "execution_count": 3,
   "metadata": {},
   "outputs": [
    {
     "name": "stdout",
     "output_type": "stream",
     "text": [
      "/Users/rhf/git/IPythonNotebookTutorial/notebooks\r\n"
     ]
    }
   ],
   "source": [
    "# Current Directory\n",
    "!pwd"
   ]
  },
  {
   "cell_type": "markdown",
   "metadata": {},
   "source": [
    "Note that the scope of the Linux commands started by `!` is the **cell** and not the entire notebook!\n",
    "\n",
    "More about this in the `os` module,"
   ]
  },
  {
   "cell_type": "code",
   "execution_count": 1,
   "metadata": {},
   "outputs": [
    {
     "name": "stdout",
     "output_type": "stream",
     "text": [
      "/Users/rhf/git/IPythonNotebookTutorial/notebooks\n",
      "---------------------------------------------------------\n",
      "0.0 - jupyter_notebooks_introduction.ipynb\n",
      "1.0 - jupyter dashboard.ipynb\n",
      "1.1 - jupyter not a book.ipynb\n",
      "1.2 - markdown syntax.ipynb\n",
      "1.3 - introduction to python - part 1.ipynb\n",
      "1.3 - introduction to python - part2.ipynb\n",
      "2.0 - Introduction to File Manipulation.ipynb\n",
      "2.1 - Introduction to Plotting.ipynb\n",
      "3 - Multiple plots - Glob.ipynb\n",
      "4 - 2D Imaging - FITS.ipynb\n",
      "4 - 2D Imaging - TIFF.ipynb\n",
      "5 - Gaussian Fitting.ipynb\n",
      "6 - HDF files.ipynb\n",
      "7 - widgets.ipynb\n",
      "\u001b[35mData\u001b[m\u001b[m\n",
      "Mantid.ipynb\n",
      "hdfview.png\n"
     ]
    }
   ],
   "source": [
    "# We can chain Linux commands\n",
    "!pwd\n",
    "!echo \"---------------------------------------------------------\"\n",
    "!ls"
   ]
  },
  {
   "cell_type": "markdown",
   "metadata": {},
   "source": [
    "## Python `OS` module"
   ]
  },
  {
   "cell_type": "markdown",
   "metadata": {},
   "source": [
    "- In python files (scrpts) the `!` does not work.\n",
    "- Use the `os` module instead."
   ]
  },
  {
   "cell_type": "code",
   "execution_count": 2,
   "metadata": {},
   "outputs": [],
   "source": [
    "# import the module\n",
    "import os"
   ]
  },
  {
   "cell_type": "code",
   "execution_count": 3,
   "metadata": {},
   "outputs": [
    {
     "data": {
      "text/plain": [
       "'/Users/rhf/git/IPythonNotebookTutorial/notebooks'"
      ]
     },
     "execution_count": 3,
     "metadata": {},
     "output_type": "execute_result"
    }
   ],
   "source": [
    "# Current Directory\n",
    "os.getcwd()"
   ]
  },
  {
   "cell_type": "code",
   "execution_count": 4,
   "metadata": {},
   "outputs": [],
   "source": [
    "# Let's change our directory\n",
    "os.chdir('..')"
   ]
  },
  {
   "cell_type": "markdown",
   "metadata": {},
   "source": [
    "- the scope of `os` it's not the cell but the notebook"
   ]
  },
  {
   "cell_type": "code",
   "execution_count": 5,
   "metadata": {},
   "outputs": [
    {
     "data": {
      "text/plain": [
       "'/Users/rhf/git/IPythonNotebookTutorial'"
      ]
     },
     "execution_count": 5,
     "metadata": {},
     "output_type": "execute_result"
    }
   ],
   "source": [
    "# Current Directory\n",
    "os.getcwd()"
   ]
  },
  {
   "cell_type": "code",
   "execution_count": 6,
   "metadata": {},
   "outputs": [],
   "source": [
    "# Let's get back to our directory\n",
    "os.chdir('notebooks')"
   ]
  },
  {
   "cell_type": "code",
   "execution_count": 7,
   "metadata": {},
   "outputs": [
    {
     "data": {
      "text/plain": [
       "['5 - Gaussian Fitting.ipynb',\n",
       " '6 - HDF files.ipynb',\n",
       " '1.1 - jupyter not a book.ipynb',\n",
       " '2.0 - Introduction to File Manipulation.ipynb',\n",
       " '0.0 - jupyter_notebooks_introduction.ipynb',\n",
       " '4 - 2D Imaging - TIFF.ipynb',\n",
       " 'Mantid.ipynb',\n",
       " '3 - Multiple plots - Glob.ipynb',\n",
       " '7 - widgets.ipynb',\n",
       " '2.1 - Introduction to Plotting.ipynb',\n",
       " '1.2 - markdown syntax.ipynb',\n",
       " '1.3 - introduction to python - part 1.ipynb',\n",
       " '4 - 2D Imaging - FITS.ipynb',\n",
       " '.ipynb_checkpoints',\n",
       " 'hdfview.png',\n",
       " '1.3 - introduction to python - part2.ipynb',\n",
       " '1.0 - jupyter dashboard.ipynb',\n",
       " 'Data']"
      ]
     },
     "execution_count": 7,
     "metadata": {},
     "output_type": "execute_result"
    }
   ],
   "source": [
    "# Let's list the contents of `notebooks`\n",
    "os.listdir()"
   ]
  },
  {
   "cell_type": "markdown",
   "metadata": {},
   "source": [
    "## File Manipulation: `os.path` module"
   ]
  },
  {
   "cell_type": "code",
   "execution_count": 14,
   "metadata": {
    "scrolled": true
   },
   "outputs": [
    {
     "data": {
      "text/plain": [
       "['__all__',\n",
       " '__builtins__',\n",
       " '__cached__',\n",
       " '__doc__',\n",
       " '__file__',\n",
       " '__loader__',\n",
       " '__name__',\n",
       " '__package__',\n",
       " '__spec__',\n",
       " '_get_sep',\n",
       " '_joinrealpath',\n",
       " '_varprog',\n",
       " '_varprogb',\n",
       " 'abspath',\n",
       " 'altsep',\n",
       " 'basename',\n",
       " 'commonpath',\n",
       " 'commonprefix',\n",
       " 'curdir',\n",
       " 'defpath',\n",
       " 'devnull',\n",
       " 'dirname',\n",
       " 'exists',\n",
       " 'expanduser',\n",
       " 'expandvars',\n",
       " 'extsep',\n",
       " 'genericpath',\n",
       " 'getatime',\n",
       " 'getctime',\n",
       " 'getmtime',\n",
       " 'getsize',\n",
       " 'isabs',\n",
       " 'isdir',\n",
       " 'isfile',\n",
       " 'islink',\n",
       " 'ismount',\n",
       " 'join',\n",
       " 'lexists',\n",
       " 'normcase',\n",
       " 'normpath',\n",
       " 'os',\n",
       " 'pardir',\n",
       " 'pathsep',\n",
       " 'realpath',\n",
       " 'relpath',\n",
       " 'samefile',\n",
       " 'sameopenfile',\n",
       " 'samestat',\n",
       " 'sep',\n",
       " 'split',\n",
       " 'splitdrive',\n",
       " 'splitext',\n",
       " 'stat',\n",
       " 'supports_unicode_filenames',\n",
       " 'sys']"
      ]
     },
     "execution_count": 14,
     "metadata": {},
     "output_type": "execute_result"
    }
   ],
   "source": [
    "# show what is available in os.path: <tab> or dir(...)\n",
    "dir(os.path)"
   ]
  },
  {
   "cell_type": "markdown",
   "metadata": {},
   "source": [
    "There are plenty of methods available in the `os.path` module.\n",
    "\n",
    "**For this example, let's use:**\n",
    "\n",
    "```\n",
    " 'abspath',\n",
    " 'basename',\n",
    " 'dirname',\n",
    " 'exists',\n",
    " 'getsize',\n",
    "  'isdir',\n",
    " 'isfile',\n",
    " 'sep',\n",
    " 'splitext',\n",
    "```"
   ]
  },
  {
   "cell_type": "code",
   "execution_count": 15,
   "metadata": {},
   "outputs": [
    {
     "data": {
      "text/plain": [
       "'Data/Glob/f1.txt'"
      ]
     },
     "execution_count": 15,
     "metadata": {},
     "output_type": "execute_result"
    }
   ],
   "source": [
    "# Let's pick one file\n",
    "file_path = \"Data/Glob/f1.txt\"\n",
    "file_path"
   ]
  },
  {
   "cell_type": "code",
   "execution_count": 16,
   "metadata": {},
   "outputs": [
    {
     "data": {
      "text/plain": [
       "'Data/Glob/f1.txt'"
      ]
     },
     "execution_count": 16,
     "metadata": {},
     "output_type": "execute_result"
    }
   ],
   "source": [
    "# Alternatively we can use `os.path.join`.\n",
    "file_path = os.path.join(\"Data\", \"Glob\", \"f1.txt\")\n",
    "file_path"
   ]
  },
  {
   "cell_type": "code",
   "execution_count": 17,
   "metadata": {},
   "outputs": [
    {
     "data": {
      "text/plain": [
       "'/'"
      ]
     },
     "execution_count": 17,
     "metadata": {},
     "output_type": "execute_result"
    }
   ],
   "source": [
    "# Path separator: It's different in Windows\n",
    "os.path.sep"
   ]
  },
  {
   "cell_type": "code",
   "execution_count": 18,
   "metadata": {},
   "outputs": [
    {
     "data": {
      "text/plain": [
       "False"
      ]
     },
     "execution_count": 18,
     "metadata": {},
     "output_type": "execute_result"
    }
   ],
   "source": [
    "# Check if the file exists\n",
    "os.path.exists(file_path)"
   ]
  },
  {
   "cell_type": "code",
   "execution_count": 19,
   "metadata": {},
   "outputs": [
    {
     "data": {
      "text/plain": [
       "'/Users/rhf/git/IPythonNotebookTutorial/notebooks'"
      ]
     },
     "execution_count": 19,
     "metadata": {},
     "output_type": "execute_result"
    }
   ],
   "source": [
    "# Where are we?\n",
    "os.getcwd()"
   ]
  },
  {
   "cell_type": "code",
   "execution_count": 20,
   "metadata": {},
   "outputs": [
    {
     "data": {
      "text/plain": [
       "'../Data/Glob/f1.txt'"
      ]
     },
     "execution_count": 20,
     "metadata": {},
     "output_type": "execute_result"
    }
   ],
   "source": [
    "# Let's change the path\n",
    "file_path = os.path.join(\"..\", \"Data\", \"Glob\", \"f1.txt\")\n",
    "file_path"
   ]
  },
  {
   "cell_type": "code",
   "execution_count": 21,
   "metadata": {},
   "outputs": [
    {
     "data": {
      "text/plain": [
       "True"
      ]
     },
     "execution_count": 21,
     "metadata": {},
     "output_type": "execute_result"
    }
   ],
   "source": [
    "# Check if the file exists again!!\n",
    "os.path.exists(file_path)"
   ]
  },
  {
   "cell_type": "code",
   "execution_count": 22,
   "metadata": {},
   "outputs": [
    {
     "data": {
      "text/plain": [
       "False"
      ]
     },
     "execution_count": 22,
     "metadata": {},
     "output_type": "execute_result"
    }
   ],
   "source": [
    "# Is it a directory?\n",
    "os.path.isdir(file_path)"
   ]
  },
  {
   "cell_type": "code",
   "execution_count": 23,
   "metadata": {},
   "outputs": [
    {
     "data": {
      "text/plain": [
       "True"
      ]
     },
     "execution_count": 23,
     "metadata": {},
     "output_type": "execute_result"
    }
   ],
   "source": [
    "# Is it a file?\n",
    "os.path.isfile(file_path)"
   ]
  },
  {
   "cell_type": "code",
   "execution_count": 32,
   "metadata": {},
   "outputs": [
    {
     "name": "stdout",
     "output_type": "stream",
     "text": [
      "../Data/Glob/f1.txt 7375 Bytes 7.2021484375 KBytes\n"
     ]
    }
   ],
   "source": [
    "# What's its size? \n",
    "file_size_bytes = os.path.getsize(file_path)\n",
    "file_size_kbytes = file_size_bytes / 1024\n",
    "print(file_path, file_size_bytes, \"Bytes\", file_size_kbytes, \"KBytes\")"
   ]
  },
  {
   "cell_type": "code",
   "execution_count": 33,
   "metadata": {},
   "outputs": [
    {
     "data": {
      "text/plain": [
       "'f1.txt'"
      ]
     },
     "execution_count": 33,
     "metadata": {},
     "output_type": "execute_result"
    }
   ],
   "source": [
    "# Get File name\n",
    "os.path.basename(file_path)"
   ]
  },
  {
   "cell_type": "code",
   "execution_count": 34,
   "metadata": {},
   "outputs": [
    {
     "data": {
      "text/plain": [
       "'/Users/rhf/git/IPythonNotebookTutorial/Data/Glob/f1.txt'"
      ]
     },
     "execution_count": 34,
     "metadata": {},
     "output_type": "execute_result"
    }
   ],
   "source": [
    "# Get Full path\n",
    "os.path.abspath(file_path)"
   ]
  },
  {
   "cell_type": "code",
   "execution_count": 35,
   "metadata": {},
   "outputs": [
    {
     "data": {
      "text/plain": [
       "'../Data/Glob'"
      ]
     },
     "execution_count": 35,
     "metadata": {},
     "output_type": "execute_result"
    }
   ],
   "source": [
    "# Get the firectory where the file is\n",
    "os.path.dirname(file_path)"
   ]
  },
  {
   "cell_type": "code",
   "execution_count": 36,
   "metadata": {},
   "outputs": [
    {
     "data": {
      "text/plain": [
       "'/Users/rhf/git/IPythonNotebookTutorial/Data/Glob'"
      ]
     },
     "execution_count": 36,
     "metadata": {},
     "output_type": "execute_result"
    }
   ],
   "source": [
    "# We were expecting something different????\n",
    "# Absolute directory where the file is\n",
    "os.path.dirname(\n",
    "    os.path.abspath(file_path)\n",
    ")"
   ]
  },
  {
   "cell_type": "markdown",
   "metadata": {},
   "source": [
    "### Exercise\n",
    "\n",
    "```\n",
    "/SNS/lustre/EXAMPLES/IPythonNotebookTutorial/Data/Glob/f1.txt\n",
    "                                                       ------ 1\n",
    "------------------------------------------------------------- 2\n",
    "                                            -----------       3\n",
    "-------------------------------------------------------       4                                                    \n",
    "```\n",
    "\n",
    "1. Get only the file name of file_path\n",
    "2. Get the full path of file_path\n",
    "3. Get the directory where the file_path is\n",
    "4. Absolute directory where file_path is"
   ]
  },
  {
   "cell_type": "code",
   "execution_count": 42,
   "metadata": {},
   "outputs": [],
   "source": [
    "file_path = \"../Data/Glob/f1.txt\""
   ]
  },
  {
   "cell_type": "code",
   "execution_count": 43,
   "metadata": {
    "scrolled": true
   },
   "outputs": [
    {
     "data": {
      "text/plain": [
       "'f1.txt'"
      ]
     },
     "execution_count": 43,
     "metadata": {},
     "output_type": "execute_result"
    }
   ],
   "source": [
    "# 1. File name\n",
    "os.path.basename(file_path)"
   ]
  },
  {
   "cell_type": "code",
   "execution_count": 44,
   "metadata": {},
   "outputs": [
    {
     "data": {
      "text/plain": [
       "'/Users/rhf/git/IPythonNotebookTutorial/Data/Glob/f1.txt'"
      ]
     },
     "execution_count": 44,
     "metadata": {},
     "output_type": "execute_result"
    }
   ],
   "source": [
    "# 2. Full path\n",
    "os.path.abspath(file_path)"
   ]
  },
  {
   "cell_type": "code",
   "execution_count": 45,
   "metadata": {},
   "outputs": [
    {
     "data": {
      "text/plain": [
       "'../Data/Glob'"
      ]
     },
     "execution_count": 45,
     "metadata": {},
     "output_type": "execute_result"
    }
   ],
   "source": [
    "# 3. Relative directory where the file is\n",
    "os.path.dirname(file_path)"
   ]
  },
  {
   "cell_type": "code",
   "execution_count": 46,
   "metadata": {},
   "outputs": [
    {
     "data": {
      "text/plain": [
       "'/Users/rhf/git/IPythonNotebookTutorial/Data/Glob'"
      ]
     },
     "execution_count": 46,
     "metadata": {},
     "output_type": "execute_result"
    }
   ],
   "source": [
    "# 4. Absolute directory where the file is\n",
    "os.path.dirname(\n",
    "    os.path.abspath(file_path)\n",
    ")"
   ]
  },
  {
   "cell_type": "code",
   "execution_count": 47,
   "metadata": {},
   "outputs": [
    {
     "data": {
      "text/plain": [
       "True"
      ]
     },
     "execution_count": 47,
     "metadata": {},
     "output_type": "execute_result"
    }
   ],
   "source": [
    "# 5. Check if it is a file\n",
    "os.path.isfile(file_path)"
   ]
  },
  {
   "cell_type": "markdown",
   "metadata": {},
   "source": [
    "How to get the **file extension**:"
   ]
  },
  {
   "cell_type": "code",
   "execution_count": 48,
   "metadata": {},
   "outputs": [
    {
     "data": {
      "text/plain": [
       "('../Data/Glob/f1', '.txt')"
      ]
     },
     "execution_count": 48,
     "metadata": {},
     "output_type": "execute_result"
    }
   ],
   "source": [
    "# `os.path.splitext` returns a tuple\n",
    "os.path.splitext(file_path)"
   ]
  },
  {
   "cell_type": "markdown",
   "metadata": {},
   "source": [
    "### List vs Tuple\n",
    "\n",
    "- This is a tuple `(1, 2, 3)`\n",
    "- This is a list/array `[1, 2, 3]`\n",
    "\n",
    "# TODO!!!!"
   ]
  },
  {
   "cell_type": "code",
   "execution_count": 52,
   "metadata": {},
   "outputs": [
    {
     "data": {
      "text/plain": [
       "list"
      ]
     },
     "execution_count": 52,
     "metadata": {},
     "output_type": "execute_result"
    }
   ],
   "source": [
    "l = [1, 2, 3]\n",
    "type(l)"
   ]
  },
  {
   "cell_type": "code",
   "execution_count": 54,
   "metadata": {},
   "outputs": [
    {
     "data": {
      "text/plain": [
       "[1, 3]"
      ]
     },
     "execution_count": 54,
     "metadata": {},
     "output_type": "execute_result"
    }
   ],
   "source": [
    "del l[1]\n",
    "l"
   ]
  },
  {
   "cell_type": "code",
   "execution_count": 51,
   "metadata": {},
   "outputs": [
    {
     "data": {
      "text/plain": [
       "tuple"
      ]
     },
     "execution_count": 51,
     "metadata": {},
     "output_type": "execute_result"
    }
   ],
   "source": [
    "t = (1, 2, 3)\n",
    "type(t)"
   ]
  },
  {
   "cell_type": "code",
   "execution_count": 55,
   "metadata": {},
   "outputs": [
    {
     "ename": "TypeError",
     "evalue": "'tuple' object doesn't support item deletion",
     "output_type": "error",
     "traceback": [
      "\u001b[0;31m---------------------------------------------------------------------------\u001b[0m",
      "\u001b[0;31mTypeError\u001b[0m                                 Traceback (most recent call last)",
      "\u001b[0;32m<ipython-input-55-786b379d407f>\u001b[0m in \u001b[0;36m<module>\u001b[0;34m\u001b[0m\n\u001b[0;32m----> 1\u001b[0;31m \u001b[0;32mdel\u001b[0m \u001b[0mt\u001b[0m\u001b[0;34m[\u001b[0m\u001b[0;36m1\u001b[0m\u001b[0;34m]\u001b[0m\u001b[0;34m\u001b[0m\u001b[0m\n\u001b[0m\u001b[1;32m      2\u001b[0m \u001b[0ml\u001b[0m\u001b[0;34m\u001b[0m\u001b[0m\n",
      "\u001b[0;31mTypeError\u001b[0m: 'tuple' object doesn't support item deletion"
     ]
    }
   ],
   "source": [
    "del t[1]\n",
    "l"
   ]
  },
  {
   "cell_type": "code",
   "execution_count": 58,
   "metadata": {},
   "outputs": [
    {
     "ename": "TypeError",
     "evalue": "'tuple' object does not support item assignment",
     "output_type": "error",
     "traceback": [
      "\u001b[0;31m---------------------------------------------------------------------------\u001b[0m",
      "\u001b[0;31mTypeError\u001b[0m                                 Traceback (most recent call last)",
      "\u001b[0;32m<ipython-input-58-87b0f225887f>\u001b[0m in \u001b[0;36m<module>\u001b[0;34m\u001b[0m\n\u001b[0;32m----> 1\u001b[0;31m \u001b[0mt\u001b[0m\u001b[0;34m[\u001b[0m\u001b[0;36m1\u001b[0m\u001b[0;34m]\u001b[0m \u001b[0;34m=\u001b[0m \u001b[0;36m4\u001b[0m\u001b[0;34m\u001b[0m\u001b[0m\n\u001b[0m",
      "\u001b[0;31mTypeError\u001b[0m: 'tuple' object does not support item assignment"
     ]
    }
   ],
   "source": [
    "t[1] = 4"
   ]
  },
  {
   "cell_type": "code",
   "execution_count": 32,
   "metadata": {},
   "outputs": [
    {
     "name": "stdout",
     "output_type": "stream",
     "text": [
      "prefix = ../Data/Glob/f1; suffix = .txt; suffix without '.' = txt.\n"
     ]
    }
   ],
   "source": [
    "# Using: os.path.splitext\n",
    "prefix, suffix = os.path.splitext(file_path)\n",
    "print(\"prefix = {}; suffix = {}; suffix without '.' = {}.\".format(prefix, suffix, suffix[1:]))"
   ]
  },
  {
   "cell_type": "code",
   "execution_count": 33,
   "metadata": {},
   "outputs": [
    {
     "name": "stdout",
     "output_type": "stream",
     "text": [
      "f1.txt\n",
      "['f1', 'txt']\n",
      "txt\n"
     ]
    }
   ],
   "source": [
    "# Using: string ssplit\n",
    "filename_only = os.path.basename(file_path)\n",
    "print(filename_only)\n",
    "print(filename_only.split(\".\"))\n",
    "print(filename_only.split(\".\")[-1])"
   ]
  },
  {
   "cell_type": "markdown",
   "metadata": {},
   "source": [
    "# ASCII File Management"
   ]
  },
  {
   "cell_type": "code",
   "execution_count": 34,
   "metadata": {},
   "outputs": [
    {
     "data": {
      "text/plain": [
       "'../Data/Glob/f1.txt'"
      ]
     },
     "execution_count": 34,
     "metadata": {},
     "output_type": "execute_result"
    }
   ],
   "source": [
    "# Let's get a file\n",
    "file_path = os.path.join(\"..\", \"Data\", \"Glob\", \"f1.txt\")\n",
    "file_path"
   ]
  },
  {
   "cell_type": "code",
   "execution_count": 57,
   "metadata": {},
   "outputs": [
    {
     "name": "stdout",
     "output_type": "stream",
     "text": [
      "# X , Y , E , DX\r\n",
      "1\r\n",
      "0.00232478,8.22832,0.677097,0.0020133\r\n",
      "0.00458718,5.8915,0.193922,0.00192328\r\n",
      "0.00684958,12.573,0.413909,0.00189569\r\n",
      "0.00911198,37.3161,0.768022,0.00199785\r\n",
      "0.0113744,156.672,2.59008,0.00205609\r\n",
      "0.0136368,567.555,11.7842,0.00217489\r\n",
      "0.0158992,1401.89,16.1017,0.00229348\r\n",
      "0.0181616,1334.2,13.4719,0.00239931\r\n"
     ]
    }
   ],
   "source": [
    "# Let's see the contents of the file with a Linux command. Try to use the variable `file_path` defined above :)\n",
    "!head $file_path"
   ]
  },
  {
   "cell_type": "markdown",
   "metadata": {},
   "source": [
    "<hr/>\n",
    "\n",
    "**Reading the file contents:**\n",
    "\n",
    "\n",
    "```\n",
    "file_object  = open(“filename”, “mode”)\n",
    "```\n",
    "\n",
    "Where:\n",
    "\n",
    "`file_object` is the variable to add the file object. \n",
    "\n",
    "`mode` is: \n",
    "\n",
    "* `r` – Read mode which is used when the file is only being read \n",
    "* `w` – Write mode which is used to edit and write new information to the file (any existing files with the same name will be erased when this mode is activated) \n",
    "* `a` – Appending mode, which is used to add new data to the end of the file; that is new information is automatically amended to the end \n"
   ]
  },
  {
   "cell_type": "code",
   "execution_count": 36,
   "metadata": {},
   "outputs": [],
   "source": [
    "# Open file, read file, close file\n",
    "fh = open(file_path, \"r\")\n",
    "lines = fh.readlines()\n",
    "fh.close()"
   ]
  },
  {
   "cell_type": "code",
   "execution_count": 37,
   "metadata": {},
   "outputs": [
    {
     "data": {
      "text/plain": [
       "['# X , Y , E , DX\\n',\n",
       " '1\\n',\n",
       " '0.00232478,8.22832,0.677097,0.0020133\\n',\n",
       " '0.00458718,5.8915,0.193922,0.00192328\\n',\n",
       " '0.00684958,12.573,0.413909,0.00189569\\n',\n",
       " '0.00911198,37.3161,0.768022,0.00199785\\n',\n",
       " '0.0113744,156.672,2.59008,0.00205609\\n',\n",
       " '0.0136368,567.555,11.7842,0.00217489\\n',\n",
       " '0.0158992,1401.89,16.1017,0.00229348\\n',\n",
       " '0.0181616,1334.2,13.4719,0.00239931\\n']"
      ]
     },
     "execution_count": 37,
     "metadata": {},
     "output_type": "execute_result"
    }
   ],
   "source": [
    "# What do we have in `lines`?\n",
    "lines[:10]"
   ]
  },
  {
   "cell_type": "code",
   "execution_count": 38,
   "metadata": {},
   "outputs": [
    {
     "data": {
      "text/plain": [
       "['# X , Y , E , DX\\n',\n",
       " '0.00232478,8.22832,0.677097,0.0020133\\n',\n",
       " '0.00458718,5.8915,0.193922,0.00192328\\n',\n",
       " '0.00684958,12.573,0.413909,0.00189569\\n',\n",
       " '0.00911198,37.3161,0.768022,0.00199785\\n',\n",
       " '0.0113744,156.672,2.59008,0.00205609\\n',\n",
       " '0.0136368,567.555,11.7842,0.00217489\\n',\n",
       " '0.0158992,1401.89,16.1017,0.00229348\\n',\n",
       " '0.0181616,1334.2,13.4719,0.00239931\\n',\n",
       " '0.020424,1621.73,20.0042,0.00247893\\n']"
      ]
     },
     "execution_count": 38,
     "metadata": {},
     "output_type": "execute_result"
    }
   ],
   "source": [
    "# get rid of the `1` after the header (position 1 in the list)\n",
    "del lines[1]\n",
    "lines[:10]"
   ]
  },
  {
   "cell_type": "code",
   "execution_count": 39,
   "metadata": {},
   "outputs": [
    {
     "data": {
      "text/plain": [
       "['X, Y, E(Y), Dx\\n',\n",
       " '0.00232478,8.22832,0.677097,0.0020133\\n',\n",
       " '0.00458718,5.8915,0.193922,0.00192328\\n',\n",
       " '0.00684958,12.573,0.413909,0.00189569\\n',\n",
       " '0.00911198,37.3161,0.768022,0.00199785\\n',\n",
       " '0.0113744,156.672,2.59008,0.00205609\\n',\n",
       " '0.0136368,567.555,11.7842,0.00217489\\n',\n",
       " '0.0158992,1401.89,16.1017,0.00229348\\n',\n",
       " '0.0181616,1334.2,13.4719,0.00239931\\n',\n",
       " '0.020424,1621.73,20.0042,0.00247893\\n']"
      ]
     },
     "execution_count": 39,
     "metadata": {},
     "output_type": "execute_result"
    }
   ],
   "source": [
    "# Change the header to `X, Y, E(Y), Dx`. Don't forget the new line!!\n",
    "lines[0] = 'X, Y, E(Y), Dx\\n'\n",
    "lines[:10]\n"
   ]
  },
  {
   "cell_type": "code",
   "execution_count": 40,
   "metadata": {},
   "outputs": [],
   "source": [
    "# Save the file with a new name (put your name on the file!!!)\n",
    "my_file_path = '/tmp/file_1234.txt'\n",
    "fh = open(my_file_path, \"w\")\n",
    "fh.writelines(lines)\n",
    "fh.close()"
   ]
  },
  {
   "cell_type": "code",
   "execution_count": 41,
   "metadata": {},
   "outputs": [
    {
     "name": "stdout",
     "output_type": "stream",
     "text": [
      "X, Y, E(Y), Dx\r\n",
      "0.00232478,8.22832,0.677097,0.0020133\r\n",
      "0.00458718,5.8915,0.193922,0.00192328\r\n",
      "0.00684958,12.573,0.413909,0.00189569\r\n",
      "0.00911198,37.3161,0.768022,0.00199785\r\n",
      "0.0113744,156.672,2.59008,0.00205609\r\n",
      "0.0136368,567.555,11.7842,0.00217489\r\n",
      "0.0158992,1401.89,16.1017,0.00229348\r\n",
      "0.0181616,1334.2,13.4719,0.00239931\r\n",
      "0.020424,1621.73,20.0042,0.00247893\r\n"
     ]
    }
   ],
   "source": [
    "# visualize its contents to make sure everything is OK\n",
    "!head $my_file_path"
   ]
  },
  {
   "cell_type": "markdown",
   "metadata": {},
   "source": [
    "### Exercise\n",
    "\n",
    "- Remove the header of the file and save it.\n",
    "\n",
    "In the end it should look something like:\n",
    "```\n",
    "0.00232478,8.22832,0.677097,0.0020133\n",
    "0.00458718,5.8915,0.193922,0.00192328\n",
    "0.00684958,12.573,0.413909,0.00189569\n",
    "(...)\n",
    "```"
   ]
  },
  {
   "cell_type": "markdown",
   "metadata": {},
   "source": [
    "<hr/>\n",
    "\n",
    "# XML File management\n",
    "\n",
    "## The ElementTree XML API\n",
    "\n",
    "The Element type is a flexible container object, designed to store hierarchical data structures in memory. The type can be described as a cross between a list and a dictionary.\n"
   ]
  },
  {
   "cell_type": "code",
   "execution_count": 42,
   "metadata": {},
   "outputs": [],
   "source": [
    "# Let's import it \n",
    "import xml.etree.ElementTree as ET"
   ]
  },
  {
   "cell_type": "code",
   "execution_count": 43,
   "metadata": {},
   "outputs": [
    {
     "data": {
      "text/plain": [
       "'/Users/rhf/git/IPythonNotebookTutorial/notebooks'"
      ]
     },
     "execution_count": 43,
     "metadata": {},
     "output_type": "execute_result"
    }
   ],
   "source": [
    "# Let's see where we are:\n",
    "os.getcwd()"
   ]
  },
  {
   "cell_type": "code",
   "execution_count": 44,
   "metadata": {},
   "outputs": [],
   "source": [
    "file_name = \"../Data/XML/f1.xml\""
   ]
  },
  {
   "cell_type": "code",
   "execution_count": 45,
   "metadata": {},
   "outputs": [
    {
     "data": {
      "text/plain": [
       "True"
      ]
     },
     "execution_count": 45,
     "metadata": {},
     "output_type": "execute_result"
    }
   ],
   "source": [
    "# does the file exists?\n",
    "os.path.isfile(file_name)"
   ]
  },
  {
   "cell_type": "code",
   "execution_count": 46,
   "metadata": {},
   "outputs": [
    {
     "name": "stdout",
     "output_type": "stream",
     "text": [
      "<?xml version=\"1.0\" encoding=\"UTF-8\"?>\r\n",
      "<?xml-stylesheet type=\"text/xsl\" href=\"sansstyle.xsl\"?>\r\n",
      "<SPICErack SPICE_version=\"1.7\" filename=\"CG2_exp206_scan0021_0001.xml\" start_time=\"2017-06-13 23:21:26\" end_time=\"2017-06-14 01:22:10\">\r\n",
      "  <Header>\r\n",
      "    <Instrument>CG2</Instrument>\r\n",
      "    <Start_Time>2017-06-13 23:21:26</Start_Time>\r\n",
      "    <End_Time>2017-06-14 01:22:10</End_Time>\r\n",
      "    <Experiment_Title>Beamline calibration activities</Experiment_Title>\r\n",
      "    <Experiment_number type=\"INT32\">206</Experiment_number>\r\n",
      "    <IPTS_number>828</IPTS_number>\r\n",
      "    <Cycle_Number>473</Cycle_Number>\r\n",
      "    <Command>scan n=@(__active_setup.frame_count)-1 preset time @(__active_setup.scan_time)</Command>\r\n",
      "    <Users>Lakeisha Walker, Shuo Qian, Daisuke Sawada, Yuri Melnichenko, William Heller, Lowell Crow, Gary Lynn, George Wignall, Lilin He, Volker Urban, Ryan Oliver, Durgesh Rai, Hugh O'Neill, Ken Littrell, Katherine Bailey, Sai Venkatesh Pingali, Lisa Debeer-Schmitt</Users>\r\n",
      "    <Local_Contact>LDS, KMB</Local_Contact>\r\n",
      "    <Scan_Number type=\"INT32\">21</Scan_Number>\r\n",
      "    <Scan_Point_Number type=\"INT32\">1</Scan_Point_Number>\r\n",
      "    <Scan_Title>H20(IC: Flood_6m  S: Flood_off_400  P:[])</Scan_Title>\r\n",
      "    <Sample_Name>H20</Sample_Name>\r\n",
      "    <Sample_ID> 31242</Sample_ID>\r\n",
      "    <Sample_Changer>Flat changer</Sample_Changer>\r\n"
     ]
    }
   ],
   "source": [
    "#Let's have a look at the file:\n",
    "\n",
    "!head -20 $file_name"
   ]
  },
  {
   "cell_type": "markdown",
   "metadata": {},
   "source": [
    "<hr/>\n",
    "\n",
    "Let's get the tag `root`:\n",
    "```\n",
    "<root> \n",
    "    <tag1>xxxx</tag1>\n",
    "</root>\n",
    "```"
   ]
  },
  {
   "cell_type": "code",
   "execution_count": 47,
   "metadata": {},
   "outputs": [],
   "source": [
    "# Let's initilize it and get the `root` node = SPICErack\n",
    "tree = ET.parse(file_name)\n",
    "root = tree.getroot()"
   ]
  },
  {
   "cell_type": "code",
   "execution_count": 48,
   "metadata": {},
   "outputs": [
    {
     "data": {
      "text/plain": [
       "'SPICErack'"
      ]
     },
     "execution_count": 48,
     "metadata": {},
     "output_type": "execute_result"
    }
   ],
   "source": [
    "# Make sure the root is  SPICErack\n",
    "root.tag"
   ]
  },
  {
   "cell_type": "code",
   "execution_count": 49,
   "metadata": {},
   "outputs": [
    {
     "data": {
      "text/plain": [
       "{'SPICE_version': '1.7',\n",
       " 'filename': 'CG2_exp206_scan0021_0001.xml',\n",
       " 'start_time': '2017-06-13 23:21:26',\n",
       " 'end_time': '2017-06-14 01:22:10'}"
      ]
     },
     "execution_count": 49,
     "metadata": {},
     "output_type": "execute_result"
    }
   ],
   "source": [
    "# Show all attributes of root\n",
    "root.attrib"
   ]
  },
  {
   "cell_type": "code",
   "execution_count": 50,
   "metadata": {},
   "outputs": [
    {
     "data": {
      "text/plain": [
       "'CG2_exp206_scan0021_0001.xml'"
      ]
     },
     "execution_count": 50,
     "metadata": {},
     "output_type": "execute_result"
    }
   ],
   "source": [
    "# root.attrib is a dictionary: we can read / modify it by the key value\n",
    "root.attrib['filename']"
   ]
  },
  {
   "cell_type": "markdown",
   "metadata": {},
   "source": [
    "## Pseudo-Exercise\n",
    "\n",
    "Update the file:\n",
    "\n",
    "1. In `SPICErack/Header/Users` remove the `-` in `Lisa Debeer-Schmitt`.\n",
    "2. Add an attribute `type=\"STRING\"` to `SPICErack/Header/Users`\n",
    "\n"
   ]
  },
  {
   "cell_type": "code",
   "execution_count": 51,
   "metadata": {},
   "outputs": [
    {
     "data": {
      "text/plain": [
       "\"Lakeisha Walker, Shuo Qian, Daisuke Sawada, Yuri Melnichenko, William Heller, Lowell Crow, Gary Lynn, George Wignall, Lilin He, Volker Urban, Ryan Oliver, Durgesh Rai, Hugh O'Neill, Ken Littrell, Katherine Bailey, Sai Venkatesh Pingali, Lisa Debeer-Schmitt\""
      ]
     },
     "execution_count": 51,
     "metadata": {},
     "output_type": "execute_result"
    }
   ],
   "source": [
    "# Get the user list: xpath = Header/Users\n",
    "element = root.find('Header/Users')\n",
    "element.text"
   ]
  },
  {
   "cell_type": "code",
   "execution_count": 52,
   "metadata": {},
   "outputs": [
    {
     "data": {
      "text/plain": [
       "['Lakeisha Walker',\n",
       " ' Shuo Qian',\n",
       " ' Daisuke Sawada',\n",
       " ' Yuri Melnichenko',\n",
       " ' William Heller',\n",
       " ' Lowell Crow',\n",
       " ' Gary Lynn',\n",
       " ' George Wignall',\n",
       " ' Lilin He',\n",
       " ' Volker Urban',\n",
       " ' Ryan Oliver',\n",
       " ' Durgesh Rai',\n",
       " \" Hugh O'Neill\",\n",
       " ' Ken Littrell',\n",
       " ' Katherine Bailey',\n",
       " ' Sai Venkatesh Pingali',\n",
       " ' Lisa Debeer-Schmitt']"
      ]
     },
     "execution_count": 52,
     "metadata": {},
     "output_type": "execute_result"
    }
   ],
   "source": [
    "# Let's get the names to a list\n",
    "names_str = element.text\n",
    "names_list = names_str.split(\",\")\n",
    "names_list"
   ]
  },
  {
   "cell_type": "code",
   "execution_count": 53,
   "metadata": {},
   "outputs": [
    {
     "data": {
      "text/plain": [
       "['Lakeisha Walker',\n",
       " 'Shuo Qian',\n",
       " 'Daisuke Sawada',\n",
       " 'Yuri Melnichenko',\n",
       " 'William Heller',\n",
       " 'Lowell Crow',\n",
       " 'Gary Lynn',\n",
       " 'George Wignall',\n",
       " 'Lilin He',\n",
       " 'Volker Urban',\n",
       " 'Ryan Oliver',\n",
       " 'Durgesh Rai',\n",
       " \"Hugh O'Neill\",\n",
       " 'Ken Littrell',\n",
       " 'Katherine Bailey',\n",
       " 'Sai Venkatesh Pingali',\n",
       " 'Lisa Debeer-Schmitt']"
      ]
     },
     "execution_count": 53,
     "metadata": {},
     "output_type": "execute_result"
    }
   ],
   "source": [
    "# Are the names well formatted?\n",
    "names_list = [name.strip() for name in names_list]\n",
    "names_list"
   ]
  },
  {
   "cell_type": "code",
   "execution_count": 54,
   "metadata": {},
   "outputs": [
    {
     "data": {
      "text/plain": [
       "'Lisa Debeer Schmitt'"
      ]
     },
     "execution_count": 54,
     "metadata": {},
     "output_type": "execute_result"
    }
   ],
   "source": [
    "# Let's remove the `-` from Lisa\n",
    "lisa = names_list[-1]\n",
    "lisa\n",
    "lisa = lisa.replace(\"-\", \" \")\n",
    "lisa"
   ]
  },
  {
   "cell_type": "code",
   "execution_count": 55,
   "metadata": {},
   "outputs": [
    {
     "data": {
      "text/plain": [
       "['Lakeisha Walker',\n",
       " 'Shuo Qian',\n",
       " 'Daisuke Sawada',\n",
       " 'Yuri Melnichenko',\n",
       " 'William Heller',\n",
       " 'Lowell Crow',\n",
       " 'Gary Lynn',\n",
       " 'George Wignall',\n",
       " 'Lilin He',\n",
       " 'Volker Urban',\n",
       " 'Ryan Oliver',\n",
       " 'Durgesh Rai',\n",
       " \"Hugh O'Neill\",\n",
       " 'Ken Littrell',\n",
       " 'Katherine Bailey',\n",
       " 'Sai Venkatesh Pingali',\n",
       " 'Lisa Debeer Schmitt']"
      ]
     },
     "execution_count": 55,
     "metadata": {},
     "output_type": "execute_result"
    }
   ],
   "source": [
    "# Let's update the list of names\n",
    "names_list[-1] = lisa\n",
    "names_list"
   ]
  },
  {
   "cell_type": "code",
   "execution_count": 56,
   "metadata": {},
   "outputs": [
    {
     "data": {
      "text/plain": [
       "\"Lakeisha Walker, Shuo Qian, Daisuke Sawada, Yuri Melnichenko, William Heller, Lowell Crow, Gary Lynn, George Wignall, Lilin He, Volker Urban, Ryan Oliver, Durgesh Rai, Hugh O'Neill, Ken Littrell, Katherine Bailey, Sai Venkatesh Pingali, Lisa Debeer Schmitt\""
      ]
     },
     "execution_count": 56,
     "metadata": {},
     "output_type": "execute_result"
    }
   ],
   "source": [
    "# Get the list into a string with ',' separation of the names\n",
    "names_str = \", \".join(names_list)\n",
    "names_str"
   ]
  },
  {
   "cell_type": "code",
   "execution_count": 57,
   "metadata": {},
   "outputs": [
    {
     "data": {
      "text/plain": [
       "\"Lakeisha Walker, Shuo Qian, Daisuke Sawada, Yuri Melnichenko, William Heller, Lowell Crow, Gary Lynn, George Wignall, Lilin He, Volker Urban, Ryan Oliver, Durgesh Rai, Hugh O'Neill, Ken Littrell, Katherine Bailey, Sai Venkatesh Pingali, Lisa Debeer Schmitt\""
      ]
     },
     "execution_count": 57,
     "metadata": {},
     "output_type": "execute_result"
    }
   ],
   "source": [
    "# Let's update the file in memory\n",
    "element.text = names_str\n",
    "element.text"
   ]
  },
  {
   "cell_type": "code",
   "execution_count": 58,
   "metadata": {},
   "outputs": [
    {
     "data": {
      "text/plain": [
       "{}"
      ]
     },
     "execution_count": 58,
     "metadata": {},
     "output_type": "execute_result"
    }
   ],
   "source": [
    "# Let's Add the attribute\n",
    "element.attrib"
   ]
  },
  {
   "cell_type": "code",
   "execution_count": 59,
   "metadata": {},
   "outputs": [
    {
     "data": {
      "text/plain": [
       "{'type': 'STRING'}"
      ]
     },
     "execution_count": 59,
     "metadata": {},
     "output_type": "execute_result"
    }
   ],
   "source": [
    "element.attrib[\"type\"]=\"STRING\"\n",
    "element.attrib"
   ]
  },
  {
   "cell_type": "code",
   "execution_count": 60,
   "metadata": {},
   "outputs": [],
   "source": [
    "# Let's save our XML Tree as a new file\n",
    "new_file_path = '/tmp/file_xml_1234.xml'\n",
    "fh = open(new_file_path, 'w')\n",
    "tree.write(fh, encoding='unicode')\n",
    "fh.close()"
   ]
  },
  {
   "cell_type": "code",
   "execution_count": 61,
   "metadata": {},
   "outputs": [
    {
     "name": "stdout",
     "output_type": "stream",
     "text": [
      "<SPICErack SPICE_version=\"1.7\" end_time=\"2017-06-14 01:22:10\" filename=\"CG2_exp206_scan0021_0001.xml\" start_time=\"2017-06-13 23:21:26\">\r\n",
      "  <Header>\r\n",
      "    <Instrument>CG2</Instrument>\r\n",
      "    <Start_Time>2017-06-13 23:21:26</Start_Time>\r\n",
      "    <End_Time>2017-06-14 01:22:10</End_Time>\r\n",
      "    <Experiment_Title>Beamline calibration activities</Experiment_Title>\r\n",
      "    <Experiment_number type=\"INT32\">206</Experiment_number>\r\n",
      "    <IPTS_number>828</IPTS_number>\r\n",
      "    <Cycle_Number>473</Cycle_Number>\r\n",
      "    <Command>scan n=@(__active_setup.frame_count)-1 preset time @(__active_setup.scan_time)</Command>\r\n",
      "    <Users type=\"STRING\">Lakeisha Walker, Shuo Qian, Daisuke Sawada, Yuri Melnichenko, William Heller, Lowell Crow, Gary Lynn, George Wignall, Lilin He, Volker Urban, Ryan Oliver, Durgesh Rai, Hugh O'Neill, Ken Littrell, Katherine Bailey, Sai Venkatesh Pingali, Lisa Debeer Schmitt</Users>\r\n",
      "    <Local_Contact>LDS, KMB</Local_Contact>\r\n",
      "    <Scan_Number type=\"INT32\">21</Scan_Number>\r\n",
      "    <Scan_Point_Number type=\"INT32\">1</Scan_Point_Number>\r\n",
      "    <Scan_Title>H20(IC: Flood_6m  S: Flood_off_400  P:[])</Scan_Title>\r\n",
      "    <Sample_Name>H20</Sample_Name>\r\n",
      "    <Sample_ID> 31242</Sample_ID>\r\n",
      "    <Sample_Changer>Flat changer</Sample_Changer>\r\n",
      "    <Sample_Changer_Position type=\"INT32\">4</Sample_Changer_Position>\r\n",
      "    <Sample_Thickness type=\"FLOAT32\" units=\"cm\">1.000000</Sample_Thickness>\r\n"
     ]
    }
   ],
   "source": [
    "# visualize the content\n",
    "!head -20 $new_file_path"
   ]
  },
  {
   "cell_type": "code",
   "execution_count": null,
   "metadata": {},
   "outputs": [],
   "source": []
  }
 ],
 "metadata": {
  "kernelspec": {
   "display_name": "Python 3",
   "language": "python",
   "name": "python3"
  },
  "language_info": {
   "codemirror_mode": {
    "name": "ipython",
    "version": 3
   },
   "file_extension": ".py",
   "mimetype": "text/x-python",
   "name": "python",
   "nbconvert_exporter": "python",
   "pygments_lexer": "ipython3",
   "version": "3.6.5"
  }
 },
 "nbformat": 4,
 "nbformat_minor": 2
}
