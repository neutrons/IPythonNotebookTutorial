{
 "cells": [
  {
   "cell_type": "markdown",
   "metadata": {
    "run_control": {
     "frozen": false,
     "read_only": false
    }
   },
   "source": [
    "# Jupyter Notebook "
   ]
  },
  {
   "cell_type": "markdown",
   "metadata": {
    "run_control": {
     "frozen": false,
     "read_only": false
    }
   },
   "source": [
    "Welcome to your (maybe first ever) notebook. This user interface (UI) allows you to edit, run python code but also add comments (like the one you are reading right now).\n",
    "\n",
    "The notebook can be divided into 3 parts:\n",
    "    \n",
    "<img src='../Data/static/jupyter_notebooks/presentation_of_notebook.png' /> \n",
    "    \n",
    "    "
   ]
  },
  {
   "cell_type": "markdown",
   "metadata": {
    "run_control": {
     "frozen": false,
     "read_only": false
    }
   },
   "source": [
    "## Menu "
   ]
  },
  {
   "cell_type": "markdown",
   "metadata": {
    "run_control": {
     "frozen": false,
     "read_only": false
    }
   },
   "source": [
    "This is where you can\n",
    "\n",
    " * create a new notebook\n",
    " * rename a notebook\n",
    " * move, merge, remove cells\n",
    " * etc...\n",
    " \n",
    "You can get a quick interactive tour of the **Menu** by clicking \n",
    "\n",
    " **Help > User Interactive Tour**\n",
    " \n",
    "<img src='../Data/static/jupyter_notebooks/help_user_interface.gif' />\n",
    " \n",
    " \n",
    " "
   ]
  },
  {
   "cell_type": "markdown",
   "metadata": {
    "collapsed": true,
    "run_control": {
     "frozen": false,
     "read_only": false
    }
   },
   "source": [
    "### Exercise 3"
   ]
  },
  {
   "cell_type": "markdown",
   "metadata": {
    "run_control": {
     "frozen": false,
     "read_only": false
    }
   },
   "source": [
    "Using only the **Menu** do the following\n",
    "\n",
    " * **rename** notebook into **1.1_jupyter_notebook**\n",
    " * make a **copy** of the notebook and accept default name (1.1_jupyter_not_a_book-Copy1)"
   ]
  },
  {
   "cell_type": "markdown",
   "metadata": {
    "run_control": {
     "frozen": false,
     "read_only": false
    }
   },
   "source": [
    "## Toolbar "
   ]
  },
  {
   "cell_type": "markdown",
   "metadata": {
    "run_control": {
     "frozen": false,
     "read_only": false
    }
   },
   "source": [
    "The toolbar provides a quicker way to reach some of the options used most of the time. We will use those widgets once we know how to work with the **cells** "
   ]
  },
  {
   "cell_type": "markdown",
   "metadata": {
    "run_control": {
     "frozen": false,
     "read_only": false
    }
   },
   "source": [
    "## Notebook Area and Cells "
   ]
  },
  {
   "cell_type": "markdown",
   "metadata": {
    "run_control": {
     "frozen": false,
     "read_only": false
    }
   },
   "source": [
    "This is where you will edit and run your code. \n",
    "\n",
    "The cells have **2** modes, the **edit mode** and the **command mode**"
   ]
  },
  {
   "cell_type": "markdown",
   "metadata": {
    "run_control": {
     "frozen": false,
     "read_only": false
    }
   },
   "source": [
    "### Edit Mode "
   ]
  },
  {
   "cell_type": "markdown",
   "metadata": {
    "run_control": {
     "frozen": false,
     "read_only": false
    }
   },
   "source": [
    "Edit mode is indicated by a green cell border\n",
    "\n",
    "<img src='../Data/static/jupyter_notebooks/edit_mode.png' />\n",
    "\n",
    "When a cell is in **edit mode**, you can type into the cell like a normal cell editor."
   ]
  },
  {
   "cell_type": "markdown",
   "metadata": {
    "run_control": {
     "frozen": false,
     "read_only": false
    }
   },
   "source": [
    "<div class='alert alert-success'>\n",
    "**Enter the edit mode** by pressing **ENTER** or using the mouse to **double click** inside the cell.\n",
    "</div>"
   ]
  },
  {
   "cell_type": "markdown",
   "metadata": {
    "run_control": {
     "frozen": false,
     "read_only": false
    }
   },
   "source": [
    "### Command Mode"
   ]
  },
  {
   "cell_type": "markdown",
   "metadata": {
    "run_control": {
     "frozen": false,
     "read_only": false
    }
   },
   "source": [
    "This mode is indicated by a blue cell border\n",
    "\n",
    "<img src='../Data/static/jupyter_notebooks/command_mode.png' />"
   ]
  },
  {
   "cell_type": "markdown",
   "metadata": {
    "run_control": {
     "frozen": false,
     "read_only": false
    }
   },
   "source": [
    "In this mode, you can work on the cell as a whole, like moving it, merging cells, etc."
   ]
  },
  {
   "cell_type": "markdown",
   "metadata": {
    "run_control": {
     "frozen": false,
     "read_only": false
    }
   },
   "source": [
    "<div class='alert alert-success'>\n",
    "**Enter the command mode** by pressing **ESCAPE** in the cell.\n",
    "</div>"
   ]
  },
  {
   "cell_type": "markdown",
   "metadata": {
    "run_control": {
     "frozen": false,
     "read_only": false
    }
   },
   "source": [
    "### Exercise 4 "
   ]
  },
  {
   "cell_type": "markdown",
   "metadata": {
    "run_control": {
     "frozen": false,
     "read_only": false
    }
   },
   "source": [
    "Switcht this cell to **edit mode** to remove the last part of the cell. Once you are done, switch the cell back to **command mode**.\n",
    "\n",
    "```\n",
    " adf dfd fdf dfd af daf df dasf d af daf adsf\n",
    " dfdafda fd f dsf df da fda f daf dsfd f df ad\n",
    " adfd f fdff  fe re r er g g fgf f gdf dfdfd\n",
    "```\n"
   ]
  },
  {
   "cell_type": "markdown",
   "metadata": {
    "run_control": {
     "frozen": false,
     "read_only": false
    }
   },
   "source": [
    "## Running a Cell "
   ]
  },
  {
   "cell_type": "markdown",
   "metadata": {
    "run_control": {
     "frozen": false,
     "read_only": false
    }
   },
   "source": [
    "To execute the contain of a cell, select the cell and then use any of the following method:\n",
    " * **Cell > Run Cells**\n",
    " * click **Play** icon in the tool bar\n",
    " * **SHIFT + ENTER **  (the one I recommend)"
   ]
  },
  {
   "cell_type": "markdown",
   "metadata": {},
   "source": [
    "## Exercise 5 \n",
    "\n",
    "Try executing the following cells using these methods"
   ]
  },
  {
   "cell_type": "code",
   "execution_count": null,
   "metadata": {},
   "outputs": [],
   "source": [
    "print(\"Hello world!\")"
   ]
  },
  {
   "cell_type": "code",
   "execution_count": null,
   "metadata": {},
   "outputs": [],
   "source": [
    "print(5**2)"
   ]
  },
  {
   "cell_type": "markdown",
   "metadata": {
    "run_control": {
     "frozen": false,
     "read_only": false
    }
   },
   "source": [
    "## Exercise 6\n",
    "\n",
    "Let's work on our cell skills. using the **edit menu**\n",
    "\n",
    " * sort the cells\n",
    " * remove duplicate cells\n",
    " * insert a cell (to add a #4)"
   ]
  },
  {
   "cell_type": "markdown",
   "metadata": {
    "run_control": {
     "frozen": false,
     "read_only": false
    }
   },
   "source": [
    "This is cell #3"
   ]
  },
  {
   "cell_type": "markdown",
   "metadata": {
    "run_control": {
     "frozen": false,
     "read_only": false
    }
   },
   "source": [
    "This is cell #2"
   ]
  },
  {
   "cell_type": "markdown",
   "metadata": {
    "run_control": {
     "frozen": false,
     "read_only": false
    }
   },
   "source": [
    "This is cell #1"
   ]
  },
  {
   "cell_type": "markdown",
   "metadata": {
    "run_control": {
     "frozen": false,
     "read_only": false
    }
   },
   "source": [
    "This is cell #2"
   ]
  },
  {
   "cell_type": "markdown",
   "metadata": {
    "run_control": {
     "frozen": false,
     "read_only": false
    }
   },
   "source": [
    "This is cell #5"
   ]
  },
  {
   "cell_type": "markdown",
   "metadata": {
    "collapsed": true,
    "run_control": {
     "frozen": false,
     "read_only": false
    }
   },
   "source": [
    "## Python cell vs Markdown cell "
   ]
  },
  {
   "cell_type": "markdown",
   "metadata": {
    "run_control": {
     "frozen": false,
     "read_only": false
    }
   },
   "source": [
    "Executing the cell will translate its content. If the content is python, it will run the code. But if you just want to display some information, documentation, such has the text you are reading right now, you need to tell jupyter that this cell is not a python code, but it's a **markdown** cell. "
   ]
  },
  {
   "cell_type": "markdown",
   "metadata": {
    "run_control": {
     "frozen": false,
     "read_only": false
    }
   },
   "source": [
    "Try to execute the two following cells"
   ]
  },
  {
   "cell_type": "code",
   "execution_count": null,
   "metadata": {
    "run_control": {
     "frozen": false,
     "read_only": false
    }
   },
   "outputs": [],
   "source": [
    "# this is python\n",
    "print(\"I'm python!\")"
   ]
  },
  {
   "cell_type": "code",
   "execution_count": null,
   "metadata": {
    "run_control": {
     "frozen": false,
     "read_only": false
    }
   },
   "outputs": [],
   "source": [
    "This is not python\n",
    "\n",
    "I'm just a text to tell what is going on here!"
   ]
  },
  {
   "cell_type": "markdown",
   "metadata": {
    "run_control": {
     "frozen": false,
     "read_only": false
    }
   },
   "source": [
    "As you can see, jupyter did not like the second cell. It's because you need to tell jupyter that this cell is a markdown cell. You do this by:\n",
    " - have the cell in command mode + **m**\n",
    " or\n",
    " - click the cell and select **markdown** from the toolbar\n",
    " \n",
    "<img src='../Data/static/jupyter_notebooks/cell_in_markdown.gif' />\n",
    " \n",
    " \n",
    "To turn it back into a python cell (default cell):\n",
    "\n",
    " - have the cell in command mode + **y**\n",
    " or\n",
    " - click the cell and select **code** from the toolbar\n",
    " \n",
    "<img src='../Data/static/jupyter_notebooks/cell_in_code.gif' />\n",
    " \n",
    " "
   ]
  },
  {
   "cell_type": "markdown",
   "metadata": {
    "collapsed": true,
    "run_control": {
     "frozen": false,
     "read_only": false
    }
   },
   "source": [
    "## Exercise 7"
   ]
  },
  {
   "cell_type": "markdown",
   "metadata": {
    "run_control": {
     "frozen": false,
     "read_only": false
    }
   },
   "source": [
    "Check the mode of the following cells and change it if necessary to make jupyter happy when executing them."
   ]
  },
  {
   "cell_type": "markdown",
   "metadata": {
    "run_control": {
     "frozen": false,
     "read_only": false
    }
   },
   "source": [
    "# I'm a python script\n",
    "a = 10\n",
    "b = 20\n",
    "print(a+b)"
   ]
  },
  {
   "cell_type": "code",
   "execution_count": null,
   "metadata": {
    "run_control": {
     "frozen": false,
     "read_only": false
    }
   },
   "outputs": [],
   "source": [
    "##### and I'm a language\n",
    "\n",
    "if you want to learn more about the markdown syntax, click me [markdown_syntax](1.2_markdown_syntax.ipynb)\n"
   ]
  },
  {
   "cell_type": "code",
   "execution_count": null,
   "metadata": {
    "run_control": {
     "frozen": false,
     "read_only": false
    }
   },
   "outputs": [],
   "source": [
    "# you should leave me alone\n",
    "print(\"I told you I was a python script\")"
   ]
  }
 ],
 "metadata": {
  "kernelspec": {
   "display_name": "Python 3",
   "language": "python",
   "name": "python3"
  },
  "language_info": {
   "codemirror_mode": {
    "name": "ipython",
    "version": 3
   },
   "file_extension": ".py",
   "mimetype": "text/x-python",
   "name": "python",
   "nbconvert_exporter": "python",
   "pygments_lexer": "ipython3",
   "version": "3.6.4"
  },
  "toc": {
   "colors": {
    "hover_highlight": "#DAA520",
    "running_highlight": "#FF0000",
    "selected_highlight": "#FFD700"
   },
   "moveMenuLeft": true,
   "nav_menu": {
    "height": "48px",
    "width": "252px"
   },
   "navigate_menu": true,
   "number_sections": true,
   "sideBar": true,
   "threshold": 4,
   "toc_cell": false,
   "toc_section_display": "block",
   "toc_window_display": false
  }
 },
 "nbformat": 4,
 "nbformat_minor": 2
}
