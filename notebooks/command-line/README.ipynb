{
 "cells": [
  {
   "cell_type": "markdown",
   "metadata": {},
   "source": [
    "# Run python from command line\n",
    "\n",
    "[Source code](https://github.com/neutrons/IPythonNotebookTutorial/blob/master/notebooks/command-line/)\n",
    "\n",
    "This tutorial will be run on [thinlinc connections to analysis.sns.gov](https://analysis.sns.gov).\n",
    "\n",
    "## What is terminal or command line interface?\n",
    "\n",
    "* a text based interface to the system\n",
    "* no graphics (unless ...)\n",
    "* type command, expect output or error message\n",
    "* [Unix shell tutorial](https://swcarpentry.github.io/shell-novice/)\n",
    "\n",
    "## Why use terminal?\n",
    "\n",
    "* easy to repeat the procedure in contrast to mouse clicks\n",
    "* easy to track what has been done \n",
    "* automation!\n",
    "* speed (much less resources required)\n",
    "* when GUI fails, you may still have command line access\n",
    "* some systems don't have GUI"
   ]
  },
  {
   "cell_type": "markdown",
   "metadata": {},
   "source": [
    "## Tools\n",
    "\n",
    "* Terminal\n",
    "* gedit\n",
    "\n",
    "## Working directory\n",
    "\n",
    "```\n",
    "$ cd ~/notebooks/IPythonNotebookTutorials-notebooks/command-line\n",
    "$ ls\n",
    "```"
   ]
  },
  {
   "cell_type": "markdown",
   "metadata": {},
   "source": [
    "## Run Python interactively\n",
    "\n",
    "* Normal python interpreter: type python commands and expect results\n",
    "  - start\n",
    "  - print\n",
    "  - numpy\n",
    "  - end\n",
    "* IPython\n",
    "  - start\n",
    "  - shell command\n",
    "  - tab complete\n",
    "  - end\n",
    "\n",
    "## Simple python scripts\n",
    "\n",
    "Simple script\n",
    "\n",
    "* plot_gaussian1.py\n",
    "\n",
    "Script with argument using sys.argv\n",
    "\n",
    "* plot_gaussian2.py\n",
    "\n",
    "## Autoreduction script\n",
    "\n",
    "* reduce_SEQ_2016.11.22_11.25.28.py"
   ]
  },
  {
   "cell_type": "markdown",
   "metadata": {},
   "source": [
    "## Extra\n",
    "\n",
    "### Batch reduction scripts\n",
    "\n",
    "* batch_red1.py\n",
    "* batch_red2.py\n",
    "\n",
    "\n",
    "### Simple shell commands\n",
    "\n",
    "* pwd: display current directory\n",
    "* cd: change directory\n",
    "* mkdir: create directory\n",
    "* ls: list entries in a directory\n",
    "* rmdir: remove a directory\n",
    "* pushd/popd: change directory\n",
    "* touch: create empty file\n",
    "* cp: copy file/directory\n",
    "* mv: move file/directory\n",
    "* less: view a file with pagenation\n",
    "* cat: stream a file\n",
    "* rm: remove file/directory\n",
    "* exit: exit terminal\n",
    "\n",
    "### Path environment variables\n",
    "\n",
    "* PATH: where are executables\n",
    "* PYTHONPATH: where are python libraries\n",
    "* LD_LIBRARY_PATH: where are shared binary libraries"
   ]
  },
  {
   "cell_type": "code",
   "execution_count": null,
   "metadata": {},
   "outputs": [],
   "source": []
  }
 ],
 "metadata": {
  "kernelspec": {
   "display_name": "Python 3",
   "language": "python",
   "name": "python3"
  },
  "language_info": {
   "codemirror_mode": {
    "name": "ipython",
    "version": 3
   },
   "file_extension": ".py",
   "mimetype": "text/x-python",
   "name": "python",
   "nbconvert_exporter": "python",
   "pygments_lexer": "ipython3",
   "version": "3.6.2"
  },
  "toc": {
   "base_numbering": 1,
   "nav_menu": {},
   "number_sections": true,
   "sideBar": true,
   "skip_h1_title": false,
   "title_cell": "Table of Contents",
   "title_sidebar": "Contents",
   "toc_cell": false,
   "toc_position": {},
   "toc_section_display": true,
   "toc_window_display": true
  }
 },
 "nbformat": 4,
 "nbformat_minor": 2
}
